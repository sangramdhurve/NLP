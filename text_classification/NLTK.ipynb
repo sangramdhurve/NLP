{
 "cells": [
  {
   "cell_type": "code",
   "execution_count": 1,
   "id": "f11d09c3",
   "metadata": {},
   "outputs": [],
   "source": [
    "import re\n",
    "import nltk\n",
    "import string\n",
    "import numpy as np\n",
    "import pandas as pd\n",
    "\n",
    "from typing import List, Dict\n",
    "from nltk import word_tokenize\n",
    "from nltk.corpus import stopwords\n",
    "from gensim.models import Word2Vec\n",
    "from sklearn.cluster import KMeans"
   ]
  },
  {
   "cell_type": "code",
   "execution_count": 2,
   "id": "163f620b",
   "metadata": {},
   "outputs": [],
   "source": [
    "stop_words = set(stopwords.words(\"english\"))"
   ]
  },
  {
   "cell_type": "code",
   "execution_count": 3,
   "id": "7e945ba8",
   "metadata": {},
   "outputs": [],
   "source": [
    "# pd.set_option('display.max_colwidth', None)\n",
    "# pd.set_option('display.max_rows', None)"
   ]
  },
  {
   "cell_type": "code",
   "execution_count": 4,
   "id": "9778e0ab",
   "metadata": {},
   "outputs": [
    {
     "name": "stdout",
     "output_type": "stream",
     "text": [
      "(200000, 2)\n"
     ]
    },
    {
     "data": {
      "text/html": [
       "<div>\n",
       "<style scoped>\n",
       "    .dataframe tbody tr th:only-of-type {\n",
       "        vertical-align: middle;\n",
       "    }\n",
       "\n",
       "    .dataframe tbody tr th {\n",
       "        vertical-align: top;\n",
       "    }\n",
       "\n",
       "    .dataframe thead th {\n",
       "        text-align: right;\n",
       "    }\n",
       "</style>\n",
       "<table border=\"1\" class=\"dataframe\">\n",
       "  <thead>\n",
       "    <tr style=\"text-align: right;\">\n",
       "      <th></th>\n",
       "      <th>text</th>\n",
       "      <th>label</th>\n",
       "    </tr>\n",
       "  </thead>\n",
       "  <tbody>\n",
       "    <tr>\n",
       "      <th>0</th>\n",
       "      <td>#AI Robo-Advisers and the Future of Financial ...</td>\n",
       "      <td>1</td>\n",
       "    </tr>\n",
       "    <tr>\n",
       "      <th>1</th>\n",
       "      <td>Hackers causing havoc on Mexican banking syste...</td>\n",
       "      <td>1</td>\n",
       "    </tr>\n",
       "    <tr>\n",
       "      <th>2</th>\n",
       "      <td>CVE-2019-13127 An issue was discovered in mxGr...</td>\n",
       "      <td>1</td>\n",
       "    </tr>\n",
       "    <tr>\n",
       "      <th>3</th>\n",
       "      <td>How to protect your online identity #labourcyb...</td>\n",
       "      <td>1</td>\n",
       "    </tr>\n",
       "    <tr>\n",
       "      <th>4</th>\n",
       "      <td>Forensic Acquisition - Shadow Cyber Sec  https...</td>\n",
       "      <td>1</td>\n",
       "    </tr>\n",
       "    <tr>\n",
       "      <th>...</th>\n",
       "      <td>...</td>\n",
       "      <td>...</td>\n",
       "    </tr>\n",
       "    <tr>\n",
       "      <th>550</th>\n",
       "      <td>The CyberWarrior Wisdom of Master OTW #wisdom ...</td>\n",
       "      <td>1</td>\n",
       "    </tr>\n",
       "    <tr>\n",
       "      <th>551</th>\n",
       "      <td>Healthcare Cybersecurity Starts, Ends with Emp...</td>\n",
       "      <td>1</td>\n",
       "    </tr>\n",
       "    <tr>\n",
       "      <th>552</th>\n",
       "      <td>I just pwned Ophiuchi in Hack The Box! https:/...</td>\n",
       "      <td>1</td>\n",
       "    </tr>\n",
       "    <tr>\n",
       "      <th>553</th>\n",
       "      <td>Curso gratuito de Kali GNU Linux y Workshop #C...</td>\n",
       "      <td>1</td>\n",
       "    </tr>\n",
       "    <tr>\n",
       "      <th>554</th>\n",
       "      <td>How hackers can use AI to hide their malware a...</td>\n",
       "      <td>1</td>\n",
       "    </tr>\n",
       "  </tbody>\n",
       "</table>\n",
       "<p>555 rows × 2 columns</p>\n",
       "</div>"
      ],
      "text/plain": [
       "                                                  text label\n",
       "0    #AI Robo-Advisers and the Future of Financial ...     1\n",
       "1    Hackers causing havoc on Mexican banking syste...     1\n",
       "2    CVE-2019-13127 An issue was discovered in mxGr...     1\n",
       "3    How to protect your online identity #labourcyb...     1\n",
       "4    Forensic Acquisition - Shadow Cyber Sec  https...     1\n",
       "..                                                 ...   ...\n",
       "550  The CyberWarrior Wisdom of Master OTW #wisdom ...     1\n",
       "551  Healthcare Cybersecurity Starts, Ends with Emp...     1\n",
       "552  I just pwned Ophiuchi in Hack The Box! https:/...     1\n",
       "553  Curso gratuito de Kali GNU Linux y Workshop #C...     1\n",
       "554  How hackers can use AI to hide their malware a...     1\n",
       "\n",
       "[555 rows x 2 columns]"
      ]
     },
     "execution_count": 4,
     "metadata": {},
     "output_type": "execute_result"
    }
   ],
   "source": [
    "#read the dataset with name \"cyber.csv\" and store it in a variable df\n",
    "cyber = pd.read_csv(\"/home/sangramdh/jupyter/NLP/text_classification/data/cybersecurity_tweets.csv\", usecols=['text','label'])\n",
    "\n",
    "#print the shape of dataframe\n",
    "print(cyber.shape)\n",
    "\n",
    "#print top 5 rows\n",
    "cyber.head(555)"
   ]
  },
  {
   "cell_type": "code",
   "execution_count": 5,
   "id": "3e5f0e2d",
   "metadata": {},
   "outputs": [
    {
     "name": "stdout",
     "output_type": "stream",
     "text": [
      "(200000, 2)\n"
     ]
    },
    {
     "data": {
      "text/html": [
       "<div>\n",
       "<style scoped>\n",
       "    .dataframe tbody tr th:only-of-type {\n",
       "        vertical-align: middle;\n",
       "    }\n",
       "\n",
       "    .dataframe tbody tr th {\n",
       "        vertical-align: top;\n",
       "    }\n",
       "\n",
       "    .dataframe thead th {\n",
       "        text-align: right;\n",
       "    }\n",
       "</style>\n",
       "<table border=\"1\" class=\"dataframe\">\n",
       "  <thead>\n",
       "    <tr style=\"text-align: right;\">\n",
       "      <th></th>\n",
       "      <th>text</th>\n",
       "      <th>label</th>\n",
       "    </tr>\n",
       "  </thead>\n",
       "  <tbody>\n",
       "    <tr>\n",
       "      <th>0</th>\n",
       "      <td>Samsung Galaxy Tab Active Pro review: Rugged, ...</td>\n",
       "      <td>0</td>\n",
       "    </tr>\n",
       "    <tr>\n",
       "      <th>1</th>\n",
       "      <td>Malware on Target - Pages 4 and 5 #fnaf  See a...</td>\n",
       "      <td>0</td>\n",
       "    </tr>\n",
       "    <tr>\n",
       "      <th>2</th>\n",
       "      <td>A curated list of amazingly awesome OSINT: htt...</td>\n",
       "      <td>0</td>\n",
       "    </tr>\n",
       "    <tr>\n",
       "      <th>3</th>\n",
       "      <td>Thank you for tipping for Zero-day tokens for ...</td>\n",
       "      <td>0</td>\n",
       "    </tr>\n",
       "    <tr>\n",
       "      <th>4</th>\n",
       "      <td>From making sure they don't fall for phishing ...</td>\n",
       "      <td>0</td>\n",
       "    </tr>\n",
       "  </tbody>\n",
       "</table>\n",
       "</div>"
      ],
      "text/plain": [
       "                                                text label\n",
       "0  Samsung Galaxy Tab Active Pro review: Rugged, ...     0\n",
       "1  Malware on Target - Pages 4 and 5 #fnaf  See a...     0\n",
       "2  A curated list of amazingly awesome OSINT: htt...     0\n",
       "3  Thank you for tipping for Zero-day tokens for ...     0\n",
       "4  From making sure they don't fall for phishing ...     0"
      ]
     },
     "execution_count": 5,
     "metadata": {},
     "output_type": "execute_result"
    }
   ],
   "source": [
    "#read the dataset with name \"non_cyber.csv\" and store it in a variable df\n",
    "non_cyber = pd.read_csv(\"/home/sangramdh/jupyter/NLP/text_classification/data/not_cybersecurity_tweets.csv\", usecols=['text', 'label'])\n",
    "\n",
    "#print the shape of dataframe\n",
    "print(non_cyber.shape)\n",
    "\n",
    "#print top 5 rows\n",
    "non_cyber.head()"
   ]
  },
  {
   "cell_type": "markdown",
   "id": "3ea79679",
   "metadata": {},
   "source": [
    "### Check uniques values in \"label\" column"
   ]
  },
  {
   "cell_type": "code",
   "execution_count": 6,
   "id": "bb1b9f1c",
   "metadata": {},
   "outputs": [
    {
     "data": {
      "text/plain": [
       "array(['1', ' #CyberSecurity for Power Systems',\n",
       "       ' A New Wake Up Call https://t.co/yBYOsLGIfi #cybersecurity',\n",
       "       ' https://t.co/BenGo8OxLk',\n",
       "       ' Nursing Essays Criminology English Ecology Literature Law Algebra History Excel Homework #MachineLearning  #DataScience #tech #100DaysOfCode #Python #Cybersecurity #BigData #AI  #DeepLearning #ArtificialIntelligence #NLP #Brands  Dm @GraceyEssays https://t.co/jTjW07Uuym',\n",
       "       ' Access Requests #GDPR #cybersecurity #security via https://t.co/zeb5hNqb8q https://t.co/20xnomxaZK',\n",
       "       'quot',\n",
       "       'Répartition DR  Biden s’entretiendra avec d’autres leaders mondiaux sur les attaques de ransomware. Réunion pour créer une alliance ...   https://t.co/hFe0SwwViK #French https://t.co/3biiMPjKOt',\n",
       "       ' entenda como a ameaça ransomware age –\\xa0Tilt https://t.co/LwI0Tuhf0N',\n",
       "       ' Tile Trackers & Amazon',\n",
       "       ' Microsoft Is Exposed | #microsoft | #hacking |\\xa0#cybersecurity https://t.co/Mo2L56BjVH',\n",
       "       ' capturing all the data flowing to and from your computer.  #infosec #CyberSecurity  #software #networksecurity  #datasecurity',\n",
       "       ' 66% of universities had no basic email security protection',\n",
       "       ' https://t.co/Lt9D1PJOZN #Cyber #CyberSecurity #Backtotheoffice #Webinar https://t.co/Ooh53eyOEX',\n",
       "       ' the health care sector has been hit especially hard (Becky Sullivan/NPR) https://t.co/hhnmBTjlIk #TechNews #TechTips https://t.co/vuvx5W3kSV',\n",
       "       ' the health care sector has been hit especially hard (@becsully / NPR)  https://t.co/zcYkMujF0S https://t.co/7FY2dbyDBn',\n",
       "       ' the health care sector has been hit especially hard (Becky\\xa0Sullivan/NPR) https://t.co/Bm5IjYcjJI',\n",
       "       ' https://t.co/QekW2gELCQ  #Cybersecurity #Riskmanagement #cybercrime #cyberbreach #cyb… https://t.co/FxsbFp6y3C',\n",
       "       ' https://t.co/d3yfOwNEHF  #Cybersecurity #Riskmanagement #cybercrime #cyberbreach #cybersecurity #risk https://t.co/SLqIBEvp1a',\n",
       "       'Ransomware Text Message.txt @BleepinComputer @LawrenceAbrams @demonslay335 Sample VT https://t.co/hARntF1Vey https://t.co/4TmuW6Thxg',\n",
       "       ' Yelisey Boguslavskiy write:  Add your highlights: https://t.co/5UINMw6Yid  #privacy #tech #pri...',\n",
       "       ' #Math #Essay due  #Paper pay  #Someone help  #Cybersecurity  #Do my homework  #essaypay   #Fall classes  #Math  #pay assignment  #Anatomy  #Statistics  #essay write  #Math   #OnlineClasses  #psychology Assignment due @GradeAwritersUS',\n",
       "       ' cops say email hacked. Cyber thieves withdrew Rs 52 lakh from the current and overdraft bank account of a private firm dealing in supply of medical equipment and instruments. https://t.co/rTzhmmHtyc #Cybersecurity #India',\n",
       "       ' https://t.co/OETatn9Ec7 For more info on IAG visit us @ https://t.co/DncwduIfyG  #IAM #cybersecurity #identitytools #ISSQUARED #ORSUS #webinar #AI #IAG #EIAG #Datasecurity https://t.co/Xlu4FqFRfa',\n",
       "       ' many Belarus Railway services appear offline (Dan Goodin/Ars Technica) https://t.co/9QFJBO44sg #TechNews #TechTips https://t.co/oPhPDkvxnj',\n",
       "       ' the health care sector has been hit especially hard (Becky\\xa0Sullivan/NPR) https://t.co/NDD2wUprse',\n",
       "       ' no Internet access',\n",
       "       ' Ny Attorney General Reveals More Than 1.1m Compromised Accounts Discovered https://t.co/GPr5sg4fx0 #Cybersecurity  #Innovation #Fintech #Startups #AI #ML #DigitalTransformation',\n",
       "       ' More Skilled Humans Needed... https://t.co/kuEJKP0cvs',\n",
       "       ' the health care sector has been hit especially hard (Becky Sullivan/NPR) https://t.co/lYCJEH172m',\n",
       "       ' many Belarus Railway services appear offline (Dan Goodin/Ars\\xa0Technica) https://t.co/gZRgcsOQoR',\n",
       "       '  #javascript #CSS #Java #CodeRedForHumanity #Science journals #Onlineclasses #100DaysOfCode  #DEVCommunity  #CodeNewbie  #Flutter #DataScience #MachineLearning #React #CyberSecurity  #nursing  📩:@as_writers https://t.co/nVmyDvjrUK',\n",
       "       ' #javascript #CSS #Java #CodeRedForHumanity #Science journals #Onlineclasses #100DaysOfCode  #DEVCommunity  #CodeNewbie  #Flutter #DataScience #MachineLearning #React #CyberSecurity  #nursing  📩:@brook_writers https://t.co/gBj4Tn3CqI',\n",
       "       '-) For Real. RansomWare is now the play of the day. #RansomWare #DarkSide #Malware #CyberAttack #CyberSecurity #FireEye #Mandiant #hackers',\n",
       "       ' they know who they are. https://t.co/hbGFbJxYQA',\n",
       "       ' source code for BotenaGo malware capable of exploiting #IoT vulnerabilities',\n",
       "       ' many Belarus Railway services appear offline (Dan Goodin/Ars\\xa0Technica) https://t.co/sjnqg3KOgQ',\n",
       "       ' making it a great target!  @Sumsubcom #gotcha #humans #vulnerability #CyberSecurityAwareness #CyberSecurity #Security #SCAM #ScamAlert #dating #LOVE',\n",
       "       ' from initial access to payload deployment. #infosec #Cybersecurity #DFIR #cybercrime #CISO #malware https://t.co/t89FAAHCVe',\n",
       "       ' just longer than everything else that might notice it’s gone. -OSSTMM  #OSSTMM #infosec #cybersecurity',\n",
       "       ' many Belarus Railway services appear offline (Dan Goodin/Ars\\xa0Technica) https://t.co/58c1BSPEOP',\n",
       "       's cybersecurity order will affect companies https://t.co/AthF0urs5M',\n",
       "       ' Brian Ozden’s ‘Who You Gonna Call When They Come For You……And They Will’ #cybersecurity',\n",
       "       \" looking forward to hearing from Irish & International experts on Ireland's cybersecurity in the context of #HSEcyberattack   Pat Larkin @wardsolutions\",\n",
       "       ' @NASA Perseverance Mars landing',\n",
       "       ' win streak now at\\xa04 https://t.co/euWx4QceYJ',\n",
       "       \" Extension: .decrypt (including victim's ID and developers' email)\",\n",
       "       ' Indian Tricolour showed on TV | #cybersecurity |\\xa0#cyberattack https://t.co/OeR00idZg6',\n",
       "       ' Moves to 20-3 On The Year | #students | #parents | #sextrafficing | #childsaftey | #cybersecurity |\\xa0#hacker https://t.co/bYeGTCWWJb',\n",
       "       \" what's the big deal in Password Management? #cybersecurity #datasecurity #automation  It is exasperating to change your password every Thirty (30) days. Some password policy even requires a16 complex Alph…https://t.co/6DhPA7RL9Y https://t.co/CF3YW6tQ3r\",\n",
       "       ')',\n",
       "       't found virus or malware. ... C:Program FilesMalwarebytesAnti-MalwareMBAMService.exe  #cybernews #thecybernewsfeed  https://t.co/5jjTQGezUD',\n",
       "       ' Senate passes the Cannabidiol and Marihuana Research Expansion Act',\n",
       "       ' many Belarus Railway services appear offline (Dan Goodin/Ars Technica) https://t.co/3oOeDtXVcb',\n",
       "       ' Chinese-Made TCL / Alcatel Phones Distributed To Georgia Poll Managers Secretly Connected Election To Internet - https://t.co/K4Kuz7QrCh',\n",
       "       ' actress thanks Maharashtra Cyber Police for recovering it in record time | Bollywood Bubble https://t.co/Jnkdc0pr91 #cybersecurity #infosec #computerscience',\n",
       "       ') share ko lang.',\n",
       "       ' Access Requests #GDPR #cybersecurity #security via https://t.co/pwflzXGpiN https://t.co/o2chGKUTDh',\n",
       "       ' a New Wake-Up Call | #malware |\\xa0#ransomware https://t.co/wCJWwrFzDW',\n",
       "       ' Likely to Fuel More Disruptive Cyber Attacks #cybercrime #cybersecurity #cyberattack https://t.co/FikaagGHcd via @TheHackersNews',\n",
       "       \" guess the other. Let's see your correct answer now!  #tuesdayvibe #QuestionOfTheDay #apache #questionschallenge #CloudComputing #cybersecurity #coding #programming #cloud https://t.co/1CsFqksgzb\",\n",
       "       's invasion of Ukraine https://t.co/k7i1uBKBsd a través de @Malwarebytes',\n",
       "       ') #Network #Linux #cybersecurity #Pentesting  #infosec #CTF  #Docker #Python #hacktheplanet  #web #tryhackme #Root https://t.co/qVpdQPrAf1',\n",
       "       ' Harting earned a product innovation award',\n",
       "       ' find out how in our FAQ and watch the video at: https://t.co/78Z95QOolP #recruitment #careers #THELIST https://t.co/bJ2SB8awhv',\n",
       "       '&nbsp',\n",
       "       ' Chinese-Made TCL / Alcatel Phones Distributed To Georgia Poll Managers Secretly Connected Election To Internet - The American Report https://t.co/LvosdntvfD',\n",
       "       't enough skilled cybersecurity professionals to combat the attack landscape alert by alert\\xa0...  #cybernews #thecybernewsfeed  https://t.co/WV5IzWzR8V',\n",
       "       ' it’s intended to be destructive and render targeted devices inoperable. https://t.co/MZ5D6acMDo',\n",
       "       ' PF confirma. https://t.co/XyAPahCgiP',\n",
       "       ' An attack which is a nightmare of WordPress developers https://t.co/JbmmYjD96h  #WordPress #cybersecurity #WebSecurity',\n",
       "       '  esp Conti and others into a sleep mode. SHut them down.  Wreak havoc on the web',\n",
       "       ' Hacking Cloudflare websites https://t.co/XoNGNlu1RG https://t.co/BmLx1YtSKb',\n",
       "       ' being proactive is 2nd only to being #CyberAware #CyberResilience #Security #IT #ITSolutions',\n",
       "       ' TechVets Partnership: Training UK Veterans in Cybersecurity #cybersecurity',\n",
       "       ' (2) insurance coverage that\\xa0... https://t.co/WXcN3jH9vx EXETLOS',\n",
       "       ' Pinky Doodle Poodle” on #Vimeo https://t.co/STey7X7TvT',\n",
       "       ' read more trends here https://t.co/JX1QE9k5m3 @helpnetsecurity #cybersecurity https://t.co/DGpyZvHh15',\n",
       "       ' PF confirma - Olhar Digital https://t.co/sb6wowOjR8 #Anonymous #ministério da saúde #ransomware via @OlharDigital',\n",
       "       's administration responded to the rise in attacks by enacting an executive order for cybersecurity.  #cybernews #thecybernewsfeed  https://t.co/EgpWCh7ZqK',\n",
       "       ' the malware looks like ransomware but lacks a ransom recovery mechanism (Microsoft Security Blog) https://t.co/e1FSUYoIyj',\n",
       "       ' prevent the software that encrypts files from being installed and executed PROACTIVELY using @NISTcyber C-SCRM and SBOM  https://t.co/ojurQOFs47',\n",
       "       ' the malware looks like ransomware but lacks a ransom recovery mechanism (Microsoft Security\\xa0Blog) https://t.co/xVnYhTxlxv',\n",
       "       ' the malware looks like ransomware but lacks a ransom recovery mechanism (Microsoft Security\\xa0Blog) https://t.co/KQ6VZxBQd6',\n",
       "       ' https://t.co/QekW2gELCQ  #Cybersecurity #Riskmanagement #cybercrime #… https://t.co/JKyvUnWKg7',\n",
       "       ' Babuk Evolves https://t.co/9H5Cfqsnyv',\n",
       "       ') https://t.co/g4RYg5tczb',\n",
       "       ' Nursing Essays History Excel Ecology Literature Law Algebra  We mantra on timely delivery and no plagiaris #MachineLearning  #DataScience #tech #100DaysOfCode #Python #Cybersecurity #BigData #AI #DeepLearning #NLP #Brands #Flutter #Javascript',\n",
       "       ' The Channel Has Changed: Is Your Marketing Caught Up',\n",
       "       ' the malware looks like ransomware but lacks a ransom recovery mechanism (Microsoft Security Blog) https://t.co/XfKxLVlkB7',\n",
       "       ' Access Requests #GDPR #cybersecurity #security  https://t.co/rNUyp5FPuV',\n",
       "       ' the health care sector has been hit especially hard (Becky Sullivan/NPR) - https://t.co/Ftibc1SXKK',\n",
       "       ' a journey expanding to serve the evolving needs of customers 👏👏 proud to belong !  #NBE #national_bank_of_egypt  #nationalbankofegypt #cybersecurity #digitalacceleration #informationsecurity   #digitaltra…https://t.co/VG7jnwJQAZ',\n",
       "       ' the malware looks like ransomware but lacks a ransom recovery mechanism (Microsoft Security\\xa0Blog) https://t.co/SXyJjmTpXR',\n",
       "       ' Minister promised punishment. https://t.co/miMgtqb2gd https://t.co/xGlJQEXg3V',\n",
       "       ' The Wise Listen  https://t.co/Ae44tidBxs https://t.co/ZuA1aekVZb',\n",
       "       ' experts suggest it could help reduce the angst of cybersecurity training. https://t.co/YlaarATEiU',\n",
       "       ' Brand Relationships Daily is out! https://t.co/8mf1bVggJF Stories via @IgorNaming @ChelseaKrost @ShellyKramer #cybersecurity #branding',\n",
       "       ' Dream or Reality?  https://t.co/E2mszEdDTC  #cybersecurity #datasecurity #ransomware #phishing #ethicalhacking #cybersecuritytraining #cybersecurityawareness #malware #informationsecurity #infosec #poland #tunisia #singapore',\n",
       "       ' emphasize public safety not affected https://t.co/Ggv1RWlNHT',\n",
       "       ' Transparent #cybersecurity',\n",
       "       ' the malware looks like ransomware but lacks a ransom recovery mechanism (Microsoft Security\\xa0Blog) https://t.co/rIfRjd6RFi',\n",
       "       ' the malware looks like ransomware but lacks a ransom recovery mechanism https://t.co/dZuoTGdoTc',\n",
       "       ' newer cybersecurity guidelines ... - Adotas https://t.co/hiK7qCsVDF https://t.co/lXXFxsUKkb',\n",
       "       '(or\\xa0SQLi)  often referenced as the most common type of attack on websites.  https://t.co/Ar6evbYGEP  #CyberSecurity #infosec #SQL #injection #ethicalhacking #linux #opensource #education #computerscience #developer #programming #learntocode #webdev https://t.co/rK8Q4kAV1o',\n",
       "       \")  Part of the lab's purpose is to show how adding capabilities can stop ransomware in it's tracks! https://t.co/znsjD7wa5g\",\n",
       "       ' the malware looks like ransomware but lacks a ransom recovery mechanism (Microsoft Security Blog)    https://t.co/gA9CZHiRLt',\n",
       "       ' #Python #100DaysOfCode  #AI #Analytics  #infosec  #BigData #Coding  #DataScience #JavaScript  #MachineLearning  #NodeJS  #Programming  #Tech #VR  #WomenWhoCode  #cybersecurity #coding  #hacker  WhatsApp',\n",
       "       ' $CTEK Regional Multi-Service Health System Signs New Six-Figure Agreement with CynergisTek for Cybersecurity Services      https://t.co/LpOOHWK534      #MWN #Stocks @Tickeron @RJ_RAGE_ZX_1987  $FNGD $MRVL $CFVI $AABB  via @MarketWN',\n",
       "       ' the malware looks like ransomware but lacks a ransom recovery mechanism (Microsoft Security Blog)   https://t.co/gA9CZHiRLt',\n",
       "       ' the Snatch ransomware gang claims responsibility',\n",
       "       ' Customer Data - https://t.co/OpuMnnI7RA #cybersecurity #cloud #network #news #hacking #darkweb #uk #us #israel #security #cybersec',\n",
       "       ' 2) willingness to evaluate vendors at varying levels of maturity',\n",
       "       '-',\n",
       "       ' What That Means for Cybersecurity #Cybersecurity #security via https://t.co/KDUhFaFE1M https://t.co/euAIb67OaZ',\n",
       "       ' generalmente pagado mediante... - https://t.co/08YQ4M0l6n  #DelitosInformáticos #EEUU #PiratasInformáticos',\n",
       "       ' #CyberSecurity #CyberAttack #InformationSecurity #InfoSec https://t.co/q4jjLBwOck',\n",
       "       ' Sues Russian Hackers https://t.co/lvcEsR0P5w #cybersecurity',\n",
       "       ' Madhav Bhatt’s ‘Red Team Engagements: How To Train Your Blue Team To  #cybersecurity',\n",
       "       ' Joint global Sodinokibi/REvil ransomware op leads to key arrests',\n",
       "       ' Research News is out! https://t.co/9UFgKEKYWI Stories via @FrDsign #cybersecurity #security',\n",
       "       ' Microsoft Offers Potentially Dangerous Fix | ITsecurity #cybersecurity',\n",
       "       ' have we learned anything\\xa0useful? https://t.co/QVm0kfe4MX',\n",
       "       ' Ravehearts - #Radio #Listen Tune In https://t.co/aKdcd2qfjU #PeaceNotWar https://t.co/xQljqG4wUc',\n",
       "       ' 5 Pilot loyalists to join Gehlot Cabinet in Rajasthan | #cybersecurity |\\xa0#cyberattack https://t.co/vObDqrv5Yw',\n",
       "       ' $SOLS Cybersecurity Juggernaut Appoints Chele Rider as Director of Indigenous Relations      https://t.co/phL04lhwEt      #MWN #Stocks @MITickWatcher @BillTenn11  $WRN:CC $WRN $GZIC $TLRY  via @MarketWN',\n",
       "       ' Congress needs to fill the gaps https://t.co/A2xJacjhb8 #tech #digital #data #privacy',\n",
       "       ' this often leads employees to develop https://t.co/uUEIdHYK6P #digitization #advice #digital',\n",
       "       ' the Magniber #ransomware group starts exploiting Internet Explorer vulnerabilities and #TrickBot tries to make #Emotet a thing again. Read more in this week’s Threat Intelligence Brief: https://t.co/l10W01fRZa https://t.co/A4bRyx1X8C',\n",
       "       ' the malware looks like ransomware but lacks a ransom recovery mechanism (Microsoft Security\\xa0Blog) https://t.co/Te2iGz7jLC',\n",
       "       ' 5 Pilot loyalists to join Gehlot Cabinet in Rajasthan | #cybersecurity |\\xa0#cyberattack https://t.co/y7B4FjMeaf',\n",
       "       ' Hackers Target IoT https://t.co/5L6D4nE8P4',\n",
       "       ' Apache Releases 2.17 Fixing DoS #infosec #infosecurity #cybersecurity #threatintel #threatintelligence #hacking #cybernews #cyberattack #threathunting  #cloudsecurity #cloudcomputing #malware #ransomware #devops #dfir https://t.co/Hu1tkKH4cQ',\n",
       "       \" l'Agenzia per la #Cybersicurezza Nazionale invita a innalzare livelli di protezione▶️https://t.co/A6f0nxYr5D @versya_it #cybersecurity #awareness https://t.co/p00MkNZ1fF\",\n",
       "       ' many Belarus Railway services appear offline (Dan Goodin/Ars\\xa0Technica) https://t.co/BB3tmnbZJZ',\n",
       "       ' DarkSide Gang Gets The Spotlight - https://t.co/XDPXKkGeQO',\n",
       "       ' the health care sector has been hit especially hard https://t.co/A3llQqIwK2',\n",
       "       ' here’s what that means https://t.co/oXDts59CT7 via @lancasteronline',\n",
       "       ' O2 saw Open RAN trial success',\n",
       "       ' so what chance does small business have? Excitingly Lots! SMEs now have access to free and affordable cyber training through Police run Resilience Centres ‘Only 31% of employees are trained against ransomware attacks ‘ #BRIM  https://t.co/3xFl1etQfg',\n",
       "       'mini-Pakistan#39',\n",
       "       ' the woman was arrested in Miami on February 6 (Catalin Cimpanu/The Record) https://t.co/xigDzZi91D',\n",
       "       ' 5 Pilot loyalists to join Gehlot Cabinet in Rajasthan | #cybersecurity | #cyberattack | #cybersecurity |\\xa0#hacker https://t.co/VhwtDKnHgX',\n",
       "       ' flights delayed  https://t.co/LKEmLZGGyb https://t.co/UD3HoaWubt',\n",
       "       ' frenzy goes to #Silver  #finance #money #business #crypto #iot #india #blockchain #btc #entrepreneur #investment #bitcoin #wealth #forex #invest #investing #digitalidentity #biometrics #crypto #security #cybersecurity #authentication #wal…https://t.co/x0d8vg0jRQ',\n",
       "       ' systems slowly coming back online - News Radio KMAN https://t.co/f1hnk5pviP',\n",
       "       \" this is what makes your brand such a valuable asset and why #ThreatIntelligence is key 🗝️.  Here's how threat intelligence protects your brand.  https://t.co/71ivsR47CK #BrandProtection #Cybersecurity\",\n",
       "       ' the harsh truth of the world we live in is that at some point you’ll be targeted by Cyber Scammers. #BuildFuture #DigitalTransformation #CyberSecurity https://t.co/XWjviBdUWA',\n",
       "       '  #javascript #CSS #Java #CodeRedForHumanity #Science journals #Onlineclasses #100DaysOfCode  #DEVCommunity  #CodeNewbie  #Flutter #DataScience #MachineLearning #React #CyberSecurity  #nursing 📩:@brook_writers Molly holly',\n",
       "       ' outlook rises on heightened security awareness in wake of SolarWinds a..  - https://t.co/0nU903TmO9 #cybersecurity #cloud',\n",
       "       ' Brand Relationships Daily is out! https://t.co/tpFtltm0zL Stories via @Plannersphere20 #branding #cybersecurity',\n",
       "       'm not sure if my network is infected with malware maybe worm or root kit as much as I&#039',\n",
       "       ' Babuk “Goes Dark” https://t.co/CbJuR7wHcF',\n",
       "       ' Recording Posted on YouTube - GlobeNewswire https://t.co/93faGX1WR2',\n",
       "       ' PF confirma - Olhar Digital https://t.co/ksExHnp8i0 #Anonymous #ministério da saúde #ransomware via @OlharDigital',\n",
       "       ' Data Obtained May Help Hackers Better Target Firm’s Customers  https://t.co/4XNLtLguHJ',\n",
       "       ' Swiss Hacktivist Charged for Fraud https://t.co/Sw76BEzjOW via @Thehackernews https://t.co/rAKZarIzrG',\n",
       "       ' U.S. officials meet with tech leaders to discuss #cybersecurity. 🔎 #RegTech https://t.co/muvGLEKazj',\n",
       "       ' a cyber war | #cybersecurity |\\xa0#cyberattack https://t.co/27uOZTkYsF',\n",
       "       ' the malware looks like ransomware but lacks a ransom recovery mechanism (Microsoft Security\\xa0Blog) https://t.co/f10kP8GDBq',\n",
       "       ' Surge In Social @CryptoCSinc https://t.co/XoEFQClXu0 #cybercrime #cybersecurity #hackers #rssfeed',\n",
       "       \" DOE's Nuclear Bomb Facility Jolts FY22 Funding https://t.co/GyMNGcSzzP  #CyberSecurityNews #Cyber #CyberSecurity #CyberAttacks #CyberWar #APT #SecurityBreach #Ma… https://t.co/NpVoNGqE1d\",\n",
       "       ' the health care sector has been hit especially hard (Becky\\xa0Sullivan/NPR) https://t.co/ArmtRYYBE8',\n",
       "       '  #web3 #DigitalID #digitalidentity #blockchain #crypto #CyberSecurity   https://t.co/XqwHbbDNYW',\n",
       "       ' generalmente pagado mediante... - https://t.co/FWjWAlTRMn  #DelitosInformáticos #EEUU #PiratasInformáticos',\n",
       "       ' Analysts Laud Cybersecurity Firm’s Results Shares of #darkweb @CryptoCSinc https://t.co/Ij8zIuOqxb #cybercrime',\n",
       "       ' 1.71 million users at risk #cybersecurity',\n",
       "       ' call us today for a comprehensive security audit! Read more from the article here: https://t.co/qtc13iCrC5 https://t.co/vXYnizvZK1',\n",
       "       's Pegasus\\xa0...  #cybernews #thecybernewsfeed  https://t.co/Dmsp2hQ1E0',\n",
       "       ' the health care sector has been hit especially hard (Becky Sullivan/NPR) https://t.co/KXV1otO7JI',\n",
       "       ' IT cell checks spread  . .  Follow us @ProaxisScitech  . . #hackers #cyber #internetfraud #data #cybercriminals #cybercrime #evidence #crime #investigation #hackinggroup #malware #malicious #phishing #remoteaccess #forensics #proaxissolutions https://t.co/MrLkR1Cwxu',\n",
       "       ' VS Code) https://t.co/ZTWzILStJh #infosec #cybersecurity #malware #cyber #security',\n",
       "       ' he says “we’re not certain” who is behind the attack (Trevor Hunnicutt/Reuters) https://t.co/Qbmzui4wS6',\n",
       "       ' and to line their own pockets at the expense of others',\n",
       "       ' what to expect in 2022 and beyond  Join the conversation 👉 https://t.co/3lbmDdRDtE  *Sponsored by @ArcherIRM  [@icebergnetworks]   #CyberSecurity #riskmanagement https://t.co/1PW9PishU7',\n",
       "       'We absolutely do not care about you&#8221',\n",
       "       '  #javascript #CSS #Java #CodeRedForHumanity #Science journals #Onlineclasses #100DaysOfCode  #DEVCommunity  #CodeNewbie  #Flutter #DataScience #MachineLearning #React #CyberSecurity  #nursing  📩:@brook_writers  #cryptocurrencies https://t.co/MyZ1Q8issh',\n",
       "       ' Extension: .dqws Ransom note: _readme.txt https://t.co/mGkf8hOBW8',\n",
       "       ' more than Rs 57 crores demanded as Ransom.  #northeasttoday #NortheastTodaymagazine #OilIndiaLimited #cyberattack #ITsystems #ransomware #Duliajan  https://t.co/ordI89Felt',\n",
       "       '  #javascript #CSS #Java #CodeRedForHumanity #Science journals #Onlineclasses #100DaysOfCode  #DEVCommunity  #CodeNewbie  #Flutter #DataScience #MachineLearning #React #CyberSecurity  #nursing  📩:@brian_help #cryptocurrencies https://t.co/mrOcPi7xGT',\n",
       "       ' Final exams Essays Dissertation Project Online classes #MachineLearning  #DataScience #5G #100DaysOfCode #Python #Cybersecurity #BigData #AI #IoT #DeepLearning #ArtificialIntelligence #NLP #robots #Industry40 #tech #DEVCommunity #javascript https://t.co/HUJBh1xc1F',\n",
       "       ' Relation to Layered Security Approach #cybersecurity',\n",
       "       '- https://t.co/A1pVOU26cR',\n",
       "       ' the health care sector has been hit especially hard (Becky\\xa0Sullivan/NPR) https://t.co/WSnAVfu359',\n",
       "       ' flights impacted | India Business News https://t.co/pURkVRzH1q',\n",
       "       ' Math English History Chemistry Biology Ecology Genetics Pharmacology Anatomy Biostatistics Biochemistry Psychology #MachineLearning  #DataScience #5G #100DaysOfCode #Python #Cybersecurity #BigData #AI #IoT #DeepLearning #ArtificialIntelligence #NLP #robots https://t.co/TCFsd53BHM',\n",
       "       ')   #Work #cybersecurity https://t.co/tqEk71I4k3',\n",
       "       ' I will have all of the NIST knowledge. 😂😭   #CyberSecurity #CybersecurityNews #infosec #infosecurity #cybercrime',\n",
       "       ' tracking their location and much more https://t.co/7Gyibij4xA #CyberSecurity #infosec #malware #Android',\n",
       "       ' patient data stolen - https://t.co/2FVxtRyJ9O',\n",
       "       ' Make a transaction and give it extra gas to access api end points basically.',\n",
       "       '  https://t.co/17V5euj3cF  #CEHv10 #training #certification #ECCouncil #Cybersecurity',\n",
       "       ' Extension: .japan',\n",
       "       ' experts suggest it could help reduce the angst of cybersecurity training. https://t.co/WtEst2SDx2 https://t.co/LcZBQUn8Qx',\n",
       "       ' Fuel Shortage & Rationing For HOW LONG?! https://t.co/pEqQQnS52g via @BitChute',\n",
       "       \" from there the ransomware encrypts the host's files while running “hidden” within the provided disk image https://t.co/f6rYl5576Z\",\n",
       "       ' Hacktivista suizo acusado de fraude https://t.co/US7ck6ffp3 a través de @TheHackersNews',\n",
       "       ' the true technology enabled Network of all networks.  Secure with us: https://t.co/gfTJ9Sm68k  #RNSBytes #CyberSecurity https://t.co/i4lTBg1m2u',\n",
       "       \" Ronnie O'Sullivan complains about security #infosec #infosecurity #cybersecurity #threatintel #thre… follow @medeepakjain #medeepakjain #aws #azure #hosting #devops #cloudservices\",\n",
       "       ' Cybersecurity Experts Scramble to Respond #Cybersecurity #ransomware #security via https://t.co/zeb5hNqb8q https://t.co/c5A9BCCq0Q',\n",
       "       ' the health care sector has been hit especially hard (Becky\\xa0Sullivan/NPR) https://t.co/UYOMn59IXe',\n",
       "       'T Free Msg: You know you shouldn’t click … so we ..  - https://t.co/ygblUNeL9d #cybersecurity #cloud #network #news #hacking #darkweb #uk #us #israel #security #cybersec #@womanknowcyber https://t.co/IWsvHiRehe',\n",
       "       ' https://t.co/QekW2gELCQ  #Cybersecurity #Riskmanagement #cybercrime #cyberbreach #cy… https://t.co/eDfWVzrWi6',\n",
       "       ' the health care sector has been hit especially hard (Becky Sullivan/NPR) https://t.co/HHjUu87wAa',\n",
       "       ' the health care sector has been hit especially hard (Becky Sullivan/NPR) #Technology #TFB https://t.co/CN6Vws0ujU Follow us for more..',\n",
       "       ' o maior desde WannaCry https://t.co/351UZvsZIy via @defesafoco',\n",
       "       's RouterOS  https://t.co/aksCKVbviI  Vulnerability Alert Subscriptions: https://t.co/hrQhy5uz4x',\n",
       "       ' soon to be released: Data Cybersecurity Controls - first public consultation. https://t.co/fYVF2UXi0J',\n",
       "       'stay ahe...  Add your highlights: https://t.co/QC8nQoGl4g  #Privacy #privacyte...',\n",
       "       ' the health care sector has been hit especially hard (Becky\\xa0Sullivan/NPR) https://t.co/hqZZmVR2xt',\n",
       "       ' the health care sector has been hit especially hard (Becky\\xa0Sullivan/NPR) https://t.co/WI4NnhiiQ1',\n",
       "       ' B2B focus much beyond #darkweb @CryptoCSinc https://t.co/XJcxBhROZe #cybercrime',\n",
       "       ' carrier will invest in cybersecurity to ‘transform our approach’ https://t.co/aoOZOe3P9d',\n",
       "       \"Agriculture est sorti de presse! https://t.co/6BSX8STLak Les unes d'aujourd'hui via @bleuherault #cybersecurity #icrier\",\n",
       "       ' attackers actively exploiting Realtek SDK flaws',\n",
       "       ' 7 killed in separate rain-related incidents in Nainital | #cybersecurity |\\xa0#cyberattack https://t.co/ufOO6W3Jpp',\n",
       "       '  https://t.co/Y4lHyc9ONj  #experience #oscp #offensivesecurity #offsec #certificate #hackthebox #hacking #recommendations #cybersecurity #pentest #bugbounty #examprep #tipsforsuccess #maytheforcebewithyou',\n",
       "       ' AlgoSec’s latest release  https://t.co/5VFu7wQ0Jj  Get ready. Want to learn more or take it for a test drive?  #spectrami #Algosec #cybersecurity # #networksecurity #newyearnewrelease https://t.co/RwDXuQHSMU',\n",
       "       ' update immediately https://t.co/Pc9HTCZ2W0 (https://t.co/AAThgn1Y02)',\n",
       "       ' What they Are and How You Can Beat Them https://t.co/3BlTBcDSpS Via @geektime #YoYo #YoYoDDos #DDoS #cyberattack #cybercrime #CloudScaling #ciso #cio #sco #sysadmin',\n",
       "       ' they must move beyond a #compliance-centric approach to #cybersecurity. But what role should compliance play? https://t.co/wifkEcj092',\n",
       "       ' prepare to fail.     #Cyberthreats #Cybercrime #Ransomware #Malware #DataBreach #SecurityBreach #Hackers #MoneyLaundering #Business #SupplyChains #DataSecurity #ITSecurity https://t.co/5XokbLS3ma',\n",
       "       ' टारगेटेड अटैक भी संभव  https://t.co/Gw6Cq49tR6 https://t.co/AJUXijjpb7',\n",
       "       ' attackers pin blame on cybersecurity consultant | The Week) has been published on https://t.co/TkfHjrMMbf',\n",
       "       ' F-35 changes ahead?',\n",
       "       ' but I did learn something amazing... https://t.co/IuM9XYy5NA',\n",
       "       ' and 67.2% of his followers are BOTNET accounts!  @Twitter your platform appears to be using FOREIGN INFLUENCE to steer American policy... https://t.co/5aWk8ElqKd',\n",
       "       ' #EdwardSnowden Says Stop Using It | #CyberSecurity https://t.co/aQ0vAliUTg',\n",
       "       ' the malware looks like ransomware but lacks a ransom recovery mechanism (Microsoft Security\\xa0Blog) https://t.co/gz2XEdcPqB',\n",
       "       '\\xa0resulting to #ransomware attacks. Douglas Brockett @StorageCraft talks about #dataprotection\\xa0and what you can do! https://t.co/BZvZWOIV1I',\n",
       "       's Badhatch backdoor malware that enhances its persistence on victim&#039',\n",
       "       ' the health care sector has been hit especially hard (Becky Sullivan/NPR) https://t.co/17OgPko6P4',\n",
       "       ' 2. Strengthening responses to ransomware attacks by ensuring support is available to victims',\n",
       "       ' Sues Russian Hackers https://t.co/A3kdztA5GZ',\n",
       "       ' 1 Year]: Enroll\\xa0Now! https://t.co/uMS4XobnGw',\n",
       "       ' the woman was arrested in Miami on February 6 (Catalin Cimpanu/The Record) https://t.co/USfiQinXk2',\n",
       "       ' enormous sources of power are being deployed by India’s adversaries’ | #cybersecurity |\\xa0#cyberattack https://t.co/ftWOG09VzV',\n",
       "       ' the health care sector has been hit especially hard (Becky Sullivan/NPR) #tech #mobile',\n",
       "       ')  #DFIR #InfoSec #CyberSecurity #Forensics #OSINT #SIEM #PCAP #Reversing #InfoSec',\n",
       "       ' the rootkit malware was observed communicating with Chinese IPs (Ax Sharma/BleepingComputer) https://t.co/PCN4dWOMtg',\n",
       "       ' Brand Relationships Daily is out! https://t.co/P9hZwgLoSh Stories via @JedRecord @deniseleeyohn #branding #cybersecurity',\n",
       "       ' Hackers Threaten to Leak\\xa0Data https://t.co/Ew25PswmQM',\n",
       "       ' here’s how to stay s #infosec #infosecurity #cybersecurity #threatintel #threatintelligence #hacking #cybernews #cyberattack #threathunting  #cloudsecurity #cloudcomputing #malware #ransomware #devops #dfir https://t.co/Hu1tkKH4cQ',\n",
       "       ' or The Whale: Chapter 1 - Loomings https://t.co/JojjDvdTFo    #innovation #devops #programming #cloudcomputing #cloud #aws #developer #linux #tech #python #coding #azure #software #iot #cybersecurity #it #javascript #java #css',\n",
       "       ' en el caso concreto de este tipo de\\xa0ransomware\\xa0--que suele atacar a víctimas con gran capacidad económica--\\xa0a través de un chat facilitado por los propios ciberdelincuentes.\\xa0  https://t.co/ANg63xySpu https://t.co/RiYc7e6412',\n",
       "       ' तुमचा डेटा कधीच नाही होणार चोरी!   #AndroidTipsAndTricks #CyberSecurity #Mobile #MobileNews #Samrtphone   https://t.co/MzxT4tRapz',\n",
       "       ' @kaspersky  witnesses the #threat actor developing #supplychain #attack capabilities ~ https://t.co/P8RzpthsjO https://t.co/yG6tRrp7aJ',\n",
       "       \" Facebook targets 'Stop the Steal' https://t.co/ceERnNHxhi #cybersecurity\",\n",
       "       ' here are tips to address them: https://t.co/G5Y0GTINeG #cybersecurity',\n",
       "       \" it's also increasingly being linked to data exfiltration https://t.co/TMfhNerQ8S\",\n",
       "       ' Wins 7 Lakh Air Miles | #cybersecurity |\\xa0#cyberattack https://t.co/WUF6oUoD8n',\n",
       "       ' Recording Posted on YouTube https://t.co/OEugCLZxv3',\n",
       "       ' cyber security incident response management system and knowledge bas [cropped]  Find out more on https://t.co/fKHtB5KoQS',\n",
       "       ' Informationen und Angriffe immer weiter steigen (und verstörender werden) - einmal ein Überblick über die Aufgaben/Ansätze des BKA  https://t.co/RHmfNoUkVB https://t.co/E4Uf0XNrHT',\n",
       "       'Kohli’s long innings key VarunC n Bumrah m🤝  If avg.slow track n Pak chasing Babar n Rizwan key Need to lookout for Shaheen with new bal  🪙:opt to Chase  Backing India to win it   #T20WorldCup #IndvPak #TeamIndia #WT20',\n",
       "       ' the malware looks like ransomware but lacks a ransom recovery mechanism (Microsoft Security Blog) https://t.co/jBAv5LMj0J',\n",
       "       ' Cybersecurity Assessment Solution  https://t.co/pxHgF7sqp5',\n",
       "       ' Report Suggests Overhaul of Terror https://t.co/WeeMhtb96J via @csoonline',\n",
       "       ' Strategy',\n",
       "       ' a Machine-Driven RSS Bot by Ramsey Elbasheer https://t.co/RZtl0RGESS',\n",
       "       ' NCPCR summons DCP.” #Operations #Economy #CyberSecurity #Business #hackers #data #read #Security https://t.co/wHNtSpz5Rs',\n",
       "       ' Nursing Essays Criminology English Ecology Literature Law Algebra History Excel Homework #MachineLearning  #DataScience #tech #100DaysOfCode #Python #Cybersecurity #BigData #AI  #DeepLearning #ArtificialIntelligence #NLP #Brands  Dm @writters_pro',\n",
       "       ' security teams\\xa0are https://t.co/cTTYutyUo1',\n",
       "       's Home May Not Be Allowed in White House via @WestJournalism https://t.co/n07KbSPUKr',\n",
       "       ' here’s how to stay\\xa0safe https://t.co/SrLauzqsNi',\n",
       "       ' https://t.co/QekW2gELCQ  #Cybersecurity #Riskmanagement #cybercrime #… https://t.co/0eLDrm9tNN',\n",
       "       ' how foreign material #inspection impacts your #packaging #liability and more this week on @FoodSafetyTech https://t.co/3OkTbXV4BI #foodsafety #foodfraud #pathogens #risk #cybersecurity',\n",
       "       ' https://t.co/QekW2gELCQ  #Cybersecurity #Riskmanagement #cybercrime #cyberbreach #cybersecur… https://t.co/6w9wKH1Afl',\n",
       "       ' Day 24 Tip #24/31 by @CDR_Ayam CYBERSECURITY TIPS against CYBER SOCIAL ENGINEERING ATTACK. (Shoulder Surfing) #IoT #cybercrime #BeCyberSmart  #AI #IoT #infosec #cybersecurity #CybersecurityAwarenessMonth #becyberaware #becybersafe https://t.co/MGGWkJXWf6',\n",
       "       ' https://t.co/iyCDr1oYpc  #law #naturallaw #humanlaw #crime #lawyer #familylaw #legal #cybersecurity #privacy #news #infosec #intellectualproperty #fraud #lawyers #ethics #philosophy',\n",
       "       ' Compliance Requirements Remain Elusive https://t.co/8aM41vvL6w #Cybersecurity',\n",
       "       ' this is why it is essential for your firewall to be effective. Having a firewall gives you a sense of security. 🔒  Click https://t.co/olePykddOY . . . #connectds #digital #cybersecurity #data https://t.co/6UP29MTQXH',\n",
       "       ' the rootkit malware was observed communicating with Chinese IPs #microsoft #netfilter https://t.co/Z7D1UbobwM',\n",
       "       's Pegasus\\xa0...  #cybernews #thecybernewsfeed  https://t.co/OMag24YhCZ',\n",
       "       ' will return funds. (Coin Telegraph) #Blockchain #CyberSecurity https://t.co/pUegjRH4bB https://t.co/43rFgWPk1D',\n",
       "       ' company denies any #breach  #dataleak #personaldata #sensitivedata #databreach #dataprivacy #cyberattacks #cybercrime #cybersecurity   https://t.co/teIvp04RgP',\n",
       "       'https://t.co/sC5eUx7pxu  . #cybersecurity #100DaysOfCode #nodej…',\n",
       "       ' security teams\\xa0are https://t.co/0Jcb7jOv8L',\n",
       "       ' cybersecurity experts call ‘data leak’ a Bitcoin scam https://t.co/KdduOofDX3 #ScamFraud',\n",
       "       ' mopping up after the costly attacks that follow phishing  BEC &amp',\n",
       "       ' कशी कराल त्याची तक्रार? #Facebook #cybersecurity #CyberFrauds  https://t.co/Sw5gobqwDt',\n",
       "       ' Day 24 Tip #24/31 by @CDR_Ayam CYBERSECURITY TIPS against CYBER SOCIAL ENGINEERING ATTACK. (Shoulder Surfing) #BreastCancerAwarenessMonth #BeCyberSmart #cybersecurity #BreastCancerAwareness #CybersecurityAwarenessMonth #becyberaware',\n",
       "       ' The Dark Side\\xa0Returns https://t.co/Ow3KGhoGYu',\n",
       "       '  cybersecurity threats growing as revealed by theft resource centre and HP wolf security https://t.co/0SxVZQ2Ft3',\n",
       "       ' Math English History Chemistry Biology Ecology Genetics Pharmacology Anatomy Biostatistics Biochemistry Psychology #MachineLearning  #DataScience #5G #100DaysOfCode #Python #Cybersecurity #BigData #AI #IoT #DeepLearning #ArtificialIntelligence #NLP #robots https://t.co/2rQig3Yrwf',\n",
       "       ' Research News is out! https://t.co/TTxQj47UHE #cybersecurity #security',\n",
       "       ' it is imperative that they put these at the forefront of their strategical decisions.  When did you last have a cyber security checkup? https://t.co/S8qO6CHjFV',\n",
       "       's Jim Cramer Is Pouring His Bitcoin Over Chinese Mining Concerns and Ransomware Concerns https://t.co/kN3cvtCKro #trademoneta #crypto #bitcoin https://t.co/eGgSSHHBk3',\n",
       "       ' an initiative of  @narcoticsbureau in collaboration with #CyberPeace☮️ and stand a chance to win prize money upto Rs 6.5 lakh.💰  #CyberSecurity #Hackathon',\n",
       "       'dr sec by @clintgibler  #bugbountytips #appsec #cybersecurity',\n",
       "       'https://t.co/vVBmHxRzkZ for detailed info. #Crypto #privacy #cybersecurity #Hacking #Security https://t.co/SHD1D5zuF9',\n",
       "       ' how to determine which will best fit your enterprise? 👀 Check out the Framework Overload podcast (25 mins) featuring #ISACA cyber pros: https://t.co/TNaU0cO3pp https://t.co/LJTloyz4zK',\n",
       "       ' #cybersecurity https://t.co/RfyZchFZSI via @business',\n",
       "       'DR: A 2-Account Bundle of Lifetime Subscriptions to Sticky Password Premium is on sale as of Jan. 30 for… https://t.co/Dr7sfZpqE0  | https://t.co/9AaTTqXITl   | https://t.co/eKi4cP5ni2 https://t.co/bdu7FZH11L',\n",
       "       ' Final exams Essays Dissertation Project Online classes #MachineLearning  #DataScience #5G #100DaysOfCode #Python #Cybersecurity #BigData #AI #IoT #DeepLearning #ArtificialIntelligence #NLP #robots #Industry40 #tech #DEVCommunity #javascript  Dm',\n",
       "       ' A council... https://t.co/8NJzd1brLY https://t.co/AYXGZhsNr0',\n",
       "       ' vacuna contra el ransomware y otros malware https://t.co/hf5iCltsAO https://t.co/PFhmxnRX7b',\n",
       "       ' a New Wake-Up Call. (Forbes) #CyberSecurity  https://t.co/3ispTZxI4H https://t.co/MMUs5aFHZi',\n",
       "       ' Babuk\\xa0Evolves https://t.co/Mo3UQMG9yt',\n",
       "       ' impose cost. #CyberSecurity @CISAgov @CISAJen https://t.co/HTt8t0rHMG',\n",
       "       ' Math English History Chemistry Biology Ecology Genetics Pharmacology Anatomy Biostatistics Biochemistry Psychology #MachineLearning  #DataScience #5G #100DaysOfCode #Python #Cybersecurity #BigData #AI #IoT #DeepLearning #ArtificialIntelligence #NLP',\n",
       "       ' Antitrust Bills Target Big Tech',\n",
       "       ' Extension: .MS https://t.co/PsDQ2b2LpT @JakubKroustek @demonslay335 @Amigo_A_ @LawrenceAbrams  **********************************',\n",
       "       ' make sure you stay secure by reviewing and following these important & easy tech-tips: https://t.co/kkoT9CnXZg  #techtips #thanksgiving #cybersecurity https://t.co/SvPEKvN1Y5',\n",
       "       ' hackers threaten to expose personal data of LGBTQ people  https://t.co/2pALJr302A  #cybersecurity #infosec',\n",
       "       'T launches SASE with Cisco Meraki to enable #cybersecurity',\n",
       "       ' residents advised to keep windows closed | #cybersecurity | #cyberattack | #cybersecurity |\\xa0#hacker https://t.co/2HBkZhRISK',\n",
       "       ' and other thoughts from @kevinneal2001. Read or watch the interview. https://t.co/Q0SaCDqUiG @P3iDtech https://t.co/5OadSsOmZ4',\n",
       "       ' and performing periodic scans. ... employees to report extortion payments as a result of ransomware attacks within 24 hours… https://t.co/v0DpbF34LR',\n",
       "       ') https://t.co/DUBw1BSSnt  . #Ransomware #Malware #InfoSec #DataSecurity #CyberSecurity #backup',\n",
       "       ' Math English History Chemistry Biology Ecology Genetics Pharmacology Anatomy Biostatistics Biochemistry Psychology #MachineLearning  #DataScience #5G #100DaysOfCode #Python #Cybersecurity #BigData #AI #IoT #DeepLearning #ArtificialIntelligence #NLP #robots',\n",
       "       's never-ending cybersecurity failures https://t.co/rE5RuLcxvG #devopsish',\n",
       "       ' while buying valuable time for IT teams to comprehensively patch applications? Get in touch with @BlockArmour at info@blockarmour.com. #cybersecurity #log4shell #cve202145046 #cve202144228 https://t.co/dvcMBlBNzO',\n",
       "       '3  https://t.co/wsYEaymm1n #hackthebox #htb #cybersecurity',\n",
       "       ' experts suggest it could help reduce the angst of cybersecurity training. https://t.co/e9874eE9D4 https://t.co/rADCL2h8M6',\n",
       "       ' Cloudfare – IoT World Today - IoT World Today https://t.co/yG7ZejAWI3 #IoT #internetofthings #cybersecurity',\n",
       "       \" investire nelle imprese che supportano la digitalizzazione dell'economia -  #infrastrutture #digital #cloud #cybersecurity #tech https://t.co/DLc8B46GtJ\",\n",
       "       ' Final exams Essays Dissertation Project Online classes #MachineLearning  #DataScience #5G #100DaysOfCode #Python #Cybersecurity #BigData #AI #IoT #DeepLearning #ArtificialIntelligence #NLP #robots #Industry40 #tech #DEVCommunity #javascript',\n",
       "       'attesa', ' @DHCWales buys @bettercareIT #OpenEHR platform',\n",
       "       's most advanced cybersecurity package #smallbiz https://t.co/9jyrkdvOlw',\n",
       "       ' https://t.co/QekW2gELCQ  #Cybersecurity #Riskmanagement #cybercrime #cyberbreach #cybersecur… https://t.co/aNbzWmLW8F',\n",
       "       ' #Essay due #Paper pay #Someone help #Cybersecurity #Do my homework #essaypay #Fall classes #pay assignment #Anatomy #Statistics #essay write #Math #OnlineClasses  #psychology Assignment due DM ASAP @Your_tutorsUSA https://t.co/ccycAKvt6k',\n",
       "       ' https://t.co/QekW2gELCQ  #Cybersecurity #Riskmanagement #cybercrime #cyberbreach #cybersecurity #risk https://t.co/TVKewS6JeR',\n",
       "       ' $CTEK Regional Multi-Service Health System Signs New Six-Figure Agreement with CynergisTek for Cybersecurity Services      https://t.co/Z7WUh7KtCA      #MWN #Stocks @Tickeron @RJ_RAGE_ZX_1987  $FNGD $CFVI $MRVL $AABB  via @MarketWN',\n",
       "       ' the malware looks like ransomware but lacks a ransom recovery mechanism (Microsoft Security Blog)    Microsoft Security Blog: Microsoft identifies a destructive malwa… https://t.co/KTKxKsGZQg',\n",
       "       ' #securityawareness #cybersafety #cybersecurity  https://t.co/Y8vh8hmmmW',\n",
       "       ' ahora Palma de Mallorca https://t.co/miweNpMnpf',\n",
       "       ' ransomware is relatively low risk with high reward potential https://t.co/KpXTzOkABH',\n",
       "       ' Policy Updates https://t.co/zhpbpqaSeX',\n",
       "       ' residents advised to keep windows closed | #cybersecurity |\\xa0#cyberattack https://t.co/6Uzw0byUJu',\n",
       "       ' increase in speed ⚡️  Are you ready for #Accelerate22? Join us next month for limitless opportunities to hear the latest on #cybersecurity trends and innovations from @Fortinet executives and experts. https://t.co/pcTLyKdQwL https://t.co/GQyYSGHGTp',\n",
       "       ' Eric Goldstein Quoted - ExecutiveGov https://t.co/2QjY3mlO5G',\n",
       "       ' residents advised to keep windows closed | #cybersecurity |\\xa0#cyberattack https://t.co/GMuOmVxifB',\n",
       "       ' lexicon you need in 2022 to be cyber aware with @R3sp_Cyb3r   #NewYear #cybersecurity  https://t.co/AAbsjJpeRQ https://t.co/7tVtPzZ9Pu',\n",
       "       ' credo che ci sia un problema di agenda digitale. #CyberSecurity  https://t.co/JqmKVachLd',\n",
       "       ' Math Chemistry Biology Ecology Genetics Pharmacology Biostatistics Biochemistry Psychology #MachineLearning  #DataScience #5G #100DaysOfCode #Python #Cybersecurity #BigData #AI #IoT #DeepLearning #ArtificialIntelligence #NLP #robots https://t.co/UBOd2bhilA https://t.co/HSRm95qsZ9',\n",
       "       'つД｀)  息抜きにバンドリ始めました←推しは左側 https://t.co/a036BfuJEp',\n",
       "       ' #Hackers Threaten to Leak Data https://t.co/tpAQHOFXkk #TheHackerNews',\n",
       "       '#news { printf{#AI #PatriotsUnite #trending #AnimalRights #Honor #bot}  } #JS #forex #javascript #bot #AI  #CodeNewbie #women #flutter #OpenSource #NFTs #python #Web3 #cybersecurity #cod #100DaysOfCode #feelspecial #WomenWhoCode #Blockchain #Robotic #info #feel #codi',\n",
       "       ' dazu trägt unter anderem auch der extreme Anstieg von #Ransomware-Infektionen bei: https://t.co/wHinQIY5q4 #Kaspersky #ITSec https://t.co/xUfjGVQxiJ',\n",
       "       '  - How cyber-criminals have pivoted their attacks',\n",
       "       ' it is written in .NET and STILL contains malware.  https://t.co/IuAOZ9lvbd #Pentesting #Malware #CyberSecurity #Infosec https://t.co/UClIYXaukd',\n",
       "       ' Data Obtained May Help Hackers Better Target Firm’s Customers | #malware | #ransomware |\\xa0#hacking https://t.co/89ogq6bLq0',\n",
       "       \")  I'll write an article soon https://t.co/w71HYAcOr1 #programming #school #computerscience #bash #linux #cybersecurity https://t.co/EpPUqSoVzX\",\n",
       "       ' Analyze #security #cybersecurity https://t.co/Fbqq5PKjVn',\n",
       "       ' 4 foreign nationals among 10 arrested.” #Operations #Economy #CyberSecurity #Business #hackers #data #read #Security https://t.co/FAS3IDZD35',\n",
       "       ' Data Obtained May Help Hackers Better Target Firm’s Customers | #malware | #ransomware |\\xa0#hacking https://t.co/6XXHMs3nhw',\n",
       "       ' Biden taps Rostin Behnam as acting #CFTC chair',\n",
       "       ' Chaos ransomware family',\n",
       "       ' a highly evasive and adaptive .NET #infostealer. Via @CISecurity. #infosec #Cybersecurity #DFIR #cybercrime #CISO #IOC https://t.co/fgmTn6tgnh',\n",
       "       ' ensuring your business stays protected from cyber threats. Find out more about these servies in our latest blog   https://t.co/bVyZE58PEp',\n",
       "       ' Biden urges companies to strengthen cyber-defenses - and more https://t.co/2p3bFAjB9N #corpgov #GRC #ESG #Kohls #diversity #SEC #climatechange #cybersecurity #Starbucks #Disney #Toshiba',\n",
       "       ' Payout Option in\\xa0Cryptocurrency https://t.co/XbdY0PqlJb',\n",
       "       ' Detecting the SUPERNOVA Webshell Trojan https://t.co/GS3B53WGdS',\n",
       "       's comprehensive cybersecurity software is half-price - https://t.co/a9VTHNj0rT https://t.co/kEduUtEUGF',\n",
       "       ' the future of Payments security .. #payments #technology #innovation #digital #security #data #cybersecurity #ArtificialIntelligence #finance #100DaysOfCode #AI https://t.co/Cp8BUHJt40',\n",
       "       ' Babuk “Goes Dark” - Security Boulevard https://t.co/5PM95ubAkR',\n",
       "       ' Research News is out! https://t.co/ktrDzP9lKK #cybersecurity #security',\n",
       "       \" Windows S...  https://t.co/foy373dLBH  Don't wait vulnerability scanning results: https://t.co/oh1APvMMnd\",\n",
       "       ' Is Acquisition Coming?  https://t.co/NufUzr1Rxr  #cybersecurity #infosec #security',\n",
       "       ' update your browser immediately!  https://t.co/ofpIGzfsYB',\n",
       "       ' FBI Names REvil Behind The Attack https://t.co/XUu7z5QO12',\n",
       "       ' Extension: .ssoi',\n",
       "       'A Roundup: 36 Deals Announced in May 2022 #cybersecurity',\n",
       "       ') https://t.co/JMxCLotP9G',\n",
       "       ' this one is about me.  #cybersecurity #security #fortlewis #departmentofdefense #army  YouTube: https://t.co/1VXmZMxRBd',\n",
       "       ' The Dark Side Returns | McAfee Blogs #blackmatter #mar https://t.co/P7EtDbayFZ',\n",
       "       ' security teams are | TechRadar https://t.co/K92HAMA8sy', 'amp',\n",
       "       ' special thanks to @OLDCCgov! https://t.co/te1rMWEdmv #cyber #TeamKentucky #CyberSecurity',\n",
       "       ' Baby Formula Shortage',\n",
       "       ' Research News is out! https://t.co/SrRH3WC13r #cybersecurity #security',\n",
       "       ' this one is about me.  #cybersecurity #security #fortlewis #departmentofdefense #army  YouTube: https://t.co/dKCzCk5yfe',\n",
       "       ' https://t.co/QekW2gELCQ  #Cybersecurity #Riskmanagement #cybercrime #cyberbreach #cybers… https://t.co/2IQ624OKTz',\n",
       "       ' Brand Relationships Daily is out! https://t.co/wNMqE1K1fQ Stories via @TonyZambito @prophetstrategy #cybersecurity #branding',\n",
       "       ' Extension: .ygvb',\n",
       "       ' Chinese-Made TCL / Alcatel Phones Distributed To Georgia Poll Managers Secretly Connected Election To Internet https://t.co/TzRNr6gSon',\n",
       "       ' claim free fantom tokens!💯 join here!👇👇👇  https://t.co/SHrINLkGj2',\n",
       "       ' Final exams Essays Dissertation Project Online classes #MachineLearning  #DataScience #5G #100DaysOfCode #Python #Cybersecurity #BigData #AI #IoT #DeepLearning #ArtificialIntelligence… https://t.co/1EH2ODR1Qd',\n",
       "       ' Apache Releases 2.17 Fixing DoS  #cybersecurity #infosec #hacker #cyberattack #phishing #cybercrime #malware #ransomware   https://t.co/AxczFs4V3o',\n",
       "       ' security heightened | #emailsecurity | #phishing |\\xa0#ransomware https://t.co/Pey3Rg506K',\n",
       "       ' the 2021 version identified at least 223.\\xa0  https://t.co/pAnhP8y21v @DerekDoesTech @SCMagazine #Revil #cybersecurity #cyberattacks https://t.co/NCRFZOGGyn',\n",
       "       ' security heightened | #emailsecurity | #phishing |\\xa0#ransomware https://t.co/svkZOtFRz7',\n",
       "       ' bankers group call for vigilance against cyber crimes: 12 said it will soon reimburse clients of losses due to cybersecurity ... 9615 to stem the rapid growth of cyber-related crimes in the banking\\xa0... https://t.co/J5Knmjoacg EXETLOS',\n",
       "       '-) #future #project #guam #div25 #cybersecurity #nft #comingsoon',\n",
       "       ' the other follows Jupiter around the sun. They could be some of the oldest objects in the solar system.',\n",
       "       ' the malware looks like ransomware but lacks a ransom recovery mechanism (Microsoft Security\\xa0Blog) https://t.co/3n3gcWnMNk',\n",
       "       ' Authorization https://t.co/fSaFWIMPB5 #cyber #cyberSecurity',\n",
       "       ' the malware looks like ransomware but lacks a ransom recovery mechanism (Microsoft Security Blog) https://t.co/evIRYwH2Ny',\n",
       "       ' only recently discovered data theft #hacking #cybersecurity https://t.co/Icagcaxbif',\n",
       "       \" On remarquera que cela fait beaucoup d'entreprise basé a New york qui sont aux prises des gangs de ransomware https://t.co/RsQK0Q4OXl\",\n",
       "       ' #EndImpunity  & #protectjournalists  https://t.co/tB56qU7Qaf #Days #media #news #CyberAttack #cybercrime #cybersecuritynews #cybersecurity #online #digital #CrimesAgainstHumanity #TruthMatters #Secure https://t.co/Uyz9eyR39V',\n",
       "       ' Research News is out! https://t.co/vY6QXnrdfp Stories via @GRSReddy #cybersecurity #security',\n",
       "       ' Co-create reality to create balance of cause & effect  #NFT #Artlaw #Bigdata #MachineLearning #AI #artificialintelligence #IoT #flutter #javascript #Serverless  #WomenWhoCode #CyberSecurity #RStats',\n",
       "       ' medical details of thousands of people are leaked https://t.co/JV3GmodalL https://t.co/Bke6htxVWK',\n",
       "       ' PENTESTING WEBSITES TO PRACTICE YOUR HACKING &amp',\n",
       "       ' Maryland Man Charged With Stealing Trade Secrets From New Jersey Pharmaceutical Company',\n",
       "       ' SonicWall’s latest — and unimaginable — #ransomware data broadcast from Time Square in New York City. Keep up with the latest cyberthreat data with SonicWall: https://t.co/TG3OQRBIqj #KnowTheThreats https://t.co/yGUjW7d6hb',\n",
       "       ' A New Wake Up Call   https://t.co/BVNERFIS47 @ChuckDBrooks   #InformationSecurity #Privacy #Phishing #Ransomware #Cloud #Cybersecurity #Infosec #Cyberattacks #Hacking #IoT #Security https://t.co/YadS3HEKY1',\n",
       "       ' county copes with #Ransomware incident. (ZDNet) #CyberSecurity https://t.co/UkkObKvVhU https://t.co/NdbwGqFx90',\n",
       "       ' Une des filliales de @Airbus a 8 jours pour payer la rançon ',\n",
       "       's local network. The French cybersecurity agency ANSSI investigated such a\\xa0...  #cybernews #thecybernewsfeed  https://t.co/8JXfzPwEwo',\n",
       "       ' CLOP Gang Members Arrested - Security Boulevard https://t.co/rY3aryxWoo https://t.co/195O3WYyEi',\n",
       "       ' Latest Analysis Released https://t.co/K22Atdndhg https://t.co/y8ypUyZSTI',\n",
       "       ' Compliance - https://t.co/GK1A9TRSfQ #cybersecurity #cloud #network #news #hacking #darkweb #uk #us #israel #security #cybersec',\n",
       "       \" here's how to stay safe https://t.co/LMXFB3cArn عبر @IntegoSecurity\",\n",
       "       'Flubot&#8217',\n",
       "       ' not negotiating with Conti #hacking #cybersecurity https://t.co/ZvqbG3tdBc',\n",
       "       ' the malware looks like ransomware but lacks a ransom recovery mechanism (Microsoft Security Blog)  https://t.co/y6RtHhmDuC https://t.co/JUXD9ydmFi',\n",
       "       ' the Wise listen  https://t.co/Ae44tidBxs    #otwwisdom',\n",
       "       ' Jeff Haas’ Little Bobby Comic – ‘WEEK 380’ #cybersecurity',\n",
       "       ' Research News is out! https://t.co/nMkDcF81j3 Stories via @ConnectedPlatfo #cybersecurity #security',\n",
       "       ' the malware looks like ransomware but lacks a ransom recovery mechanism (Microsoft Security Blog) https://t.co/bsxfqOFzGA',\n",
       "       ' Time Will Tell What Will Bloom https://t.co/02oOm1cB50 #Cybersecurity',\n",
       "       ' AWS continued to reign over the cloud market',\n",
       "       ' the malware looks like ransomware but lacks a ransom recovery mechanism (Microsoft Security\\xa0Blog) https://t.co/PX2X4dr9e8',\n",
       "       ' #ransomware #cyberpandemie',\n",
       "       ' the malware looks like ransomware but lacks a ransom recovery mechanism (Microsoft Security\\xa0Blog) https://t.co/OE325J3FhT',\n",
       "       ' the malware looks like ransomware but lacks a ransom recovery mechanism (Microsoft Security\\xa0Blog) https://t.co/uS61dbCPoH',\n",
       "       ' new law will require companies to report cyber-attacks - and more https://t.co/I7oT1HWO7H #corpgov #GRC #ESG #SEC #Shell #Starbucks #sanctions #boarddiversity #cybersecurity #Zendesk #FinCEN',\n",
       "       ' security teams are https://t.co/TxRVhnO5oZ',\n",
       "       ' security teams\\xa0are https://t.co/tUsxG7ZeeM',\n",
       "       ' no shifts interrupted in Normal #TechNews #CyberSecurity #vulnerabilities #cyber #infosec #tech #technology  https://t.co/hkXjWcnkO7',\n",
       "       ' how foreign material #inspection impacts your #packaging #liability and more on @FoodSafetyTech https://t.co/s2qn00K2lv #foodsafety #foodfraud #pathogens #risk #cybersecurity',\n",
       "       ' Attendees will learn how to:  ✔️Shift left ✔️Run a SAST Scan ✔️Review artifacts ✔️Add container scanning ✔️Run a full scan project  Save a spot: https://t.co/NmeDIXZ6Jc https://t.co/xlYIaSIXR9',\n",
       "       ' Knoxville TN USA - Manager IT Security - The Manager will manage and execute the Cybersecurity risk: The Manager will manage and execute the Cybersecurity risk and compliance program along with the Internal IT operations. JOBS WORK #TENNESSEE https://t.co/eCPYDmagB0',\n",
       "       ' Essays Exams Assignments Online classes and exams Dissertations Courses  WE GUARANTEE THE BEST RESULTS  #MachineLearning #5G #DataScience #tech #100DaysOfCode #Python #Cybersecurity #BigData #AI #IoT #DeepLearning #ArtificialIntelligence https://t.co/pacFLbDTiI',\n",
       "       '  #javascript #CSS #Java #CodeRedForHumanity #Science journals #Onlineclasses #100DaysOfCode  #DEVCommunity  #CodeNewbie  #Flutter #DataScience #MachineLearning #React #CyberSecurity  #nursing  📩:@brook_writers Kanye',\n",
       "       ' the malware looks like ransomware but lacks a ransom recovery mechanism (Microsoft Security Blog) https://t.co/jIvU3wMBMF',\n",
       "       ' Time Will Tell What Will Bloom https://t.co/AwcLwtmc0O | by @carltonfields',\n",
       "       ' XSS Forum Bans Ransomware https://t.co/L3RDTVdHAs #bugbounty #bugbounties',\n",
       "       's Home May Not Be Allowed in White House via @WestJournalism https://t.co/Mz4E1XcZNe',\n",
       "       ' Research News is out! https://t.co/q50sY76VGU Stories via @s0ul555 #cybersecurity #security',\n",
       "       ' the malware looks like ransomware but lacks a ransom recovery mechanism (Microsoft Security Blog) - https://t.co/kDdWDDElEx',\n",
       "       ' TikTok Resumes',\n",
       "       ' participating in a workshop delivered by Christine Tonkin - Member for Churchlands aimed at shaping procurement frameworks with the WA Government to support homegrown cyber solutions. @AustCyberWA https://t.co/sIFM1CLLFk',\n",
       "       ' Time Will Tell What Will Bloom - JD Supra https://t.co/h55m6slhnI',\n",
       "       ' 11AM PT: https://t.co/HopT48VkZm #GovTech #DataLoss https://t.co/lItRMDw5Yg',\n",
       "       ' repeats own salvo | #cybersecurity |\\xa0#cyberattack https://t.co/ygesH3YbR0',\n",
       "       'GB of your internal data. There is some proofs. times #Publish D... #ransomware #leaks #infosec #databreach #cyberattack. More @:https://t.co/rGiYua654U',\n",
       "       ' Malware in Linux-Based Multi-Cloud Environments https://t.co/E3wGVXRSjO #cybersecurity #threatintelligence #cybernews',\n",
       "       ' the malware looks like ransomware but lacks a ransom recovery mechanism (Microsoft Security Blog) https://t.co/B7LbLpwuqy #technology',\n",
       "       ' sign up for FREE now! | #CyberSecurityAwareness #CyberSecurity #CyberAttack #Hacking2021 #CyberSecMonth #cybersecuritytips #CybersecurityNews #phishing #virus https://t.co/RWAnnFqh6r',\n",
       "       ' Time Will Tell What Will Bloom https://t.co/GsdUVZYrFb | by @carltonfields',\n",
       "       ' @DaveMarcus',\n",
       "       ' this is only exacerbated by the number of #remote workers caused by the pandemic. Discover @Frost_Sullivan @alpabshah key findings: https://t.co/XOJ1iYLUSD',\n",
       "       ' Essays Biology  Chemistry  Data science  Paper pay Statistics  Geography  Geology  Humanities  Programming  #Python Matlab #javascript  #100DaysOfCode  #womenWhoCode #law #webdev #webdesigner #CyberSecurity  #CodeNewbie  All are available @Topgraders2 https://t.co/LUZsC6LTdk',\n",
       "       ' 7 killed in separate rain-related incidents in Nainital | #cybersecurity | #cyberattack #earegun  !1 New UpdateClick here for latest updates Dr Reddy’s gets FDA nod for generic Revlimid',\n",
       "       \" don't worry I got you... 👇\",\n",
       "       ' and a new sophisticated Linux #malware allows for malicious operations to occur and operate without detection in this week’s @FortiGuardLabs Threat Intelligence Brief: https://t.co/TSB6OhZZg2 https://t.co/NoaS9MMtZq',\n",
       "       ' Research News is out! https://t.co/1VtknS2IHt #cybersecurity #security',\n",
       "       ' https://t.co/kri8SPisbl https://t.co/66dDGzUVYT',\n",
       "       ' security teams are ID\\xa0theft https://t.co/s5QGHOjROl',\n",
       "       ' Biology Nursing Genetics Psychology English Py Biochem Cybersecurity THESIS Econometric Python Technology Information tech Political science Thesis/Dissertation Management Economics Lab report Final exam Dm @CristinaEssays',\n",
       "       ' FBI Names REvil Behind The Attack: Days after the meat producer giant JBS Foods suffered a ransomware attack',\n",
       "       ' updates on the recent MS Exchange and F5 vulnerability exploits',\n",
       "       ' REvil and Conti Dominate [TR: The list of protections in this article aligns with my book and thoughts on the topic. Better than other articles I’ve seen lately.] https://t.co/SteH8gCMqD',\n",
       "       ' Building Confidence to Empower Your Team',\n",
       "       ' sometimes with really serious consequences. https://t.co/LTuVJqwS0S',\n",
       "       ' also mentioned that flights landing at airports which have restrictions on night operations got cancelled.   https://t.co/LmT3G4pOav',\n",
       "       ' @SBAgov released an updated #EIDL fact sheet',\n",
       "       ' update now  #hacker #hacking #cybersecurity #hackers #linu... https://t.co/4VsisEvVRc',\n",
       "       ' ✓nursing ✓essays ✓chemistry ✓finance ✓physics ✓biology ✓chemistry ✓algebra ✓calculus ✓homework ✓essay pay ✓essays  Assignment due  #javascript #Python #BigData #cybersecurity #programming Dm @GraceyExams https://t.co/AGsGCSSG7M',\n",
       "       ' https://t.co/QekW2gELCQ  #Cybersecurity #Riskmanagement #cybercrime #cyberbreach … https://t.co/9ttrLzf7Tc',\n",
       "       ' security teams are ID\\xa0theft https://t.co/K4KF9e0A7g',\n",
       "       ' Lapsus$ Behind the Attack   https://t.co/K34hoDJ415 https://t.co/bwdly0Kl0i',\n",
       "       ' 100 Million Connected Devices Susceptible to Remote Hijacking - https://t.co/aPJdUMFJLW #IoT #Security  CC:@Ronald_vanLoon https://t.co/LdvkGJIinn',\n",
       "       ' 49% a #cybersecurity failure',\n",
       "       ' UAE to Merge All Government’s Digital Payment Systems https://t.co/h7qyIzK5Im https://t.co/d7Tih734Ps',\n",
       "       \" it's also about protecting and neutralizing attacks from bad actors inside the castle's walls and external to the castle's moat. https://t.co/YgEIi4HNHq\",\n",
       "       ' it’s the hook that gets your customer to buy 📈🌟  #hclswlobp #nocode #javascript #github #nodejs #cybersecurity #devsecops #100DaysOfCode #datascience #ai #bot #iot #machinelearning #Python #flutter #CX https://t.co/wUaNFnjRq9',\n",
       "       ' Ransomware Affected 72% Of Organisations In Past Year',\n",
       "       ' security teams are ID\\xa0theft https://t.co/pWUFoA4cxG',\n",
       "       ' the health care sector has been hit especially hard (Becky\\xa0Sullivan/NPR) https://t.co/GoMIhyUYzf',\n",
       "       ' security teams are ID\\xa0theft https://t.co/wMpz4phwNc',\n",
       "       ' the health care sector has been hit especially hard (Becky\\xa0Sullivan/NPR) https://t.co/4FrwgqJvjl',\n",
       "       '  https://t.co/lCB6G0vFp2 #Vision2learn #Upskill #Reskill #Freeonlinecourses #DadJokes #Jokes #CyberSecurity https://t.co/4nnZ0EYqER',\n",
       "       '#039',\n",
       "       ' https://t.co/QMq68I0KXd  #Cybersecurity #Riskmanagement #cybercrime #cyberbreach #cybersecurity #risk https://t.co/A33KT1rexo',\n",
       "       '  #javascript #CSS #Java #CodeRedForHumanity #Science journals #Onlineclasses #100DaysOfCode  #DEVCommunity  #CodeNewbie  #Flutter #DataScience #MachineLearning #React #CyberSecurity  #nursing  📩:@brook_writers #ValentinesDay2022',\n",
       "       ' security teams are https://t.co/1K36TOWueq',\n",
       "       '  #javascript #CSS #Java #CodeRedForHumanity #Science journals #Onlineclasses #100DaysOfCode  #DEVCommunity  #CodeNewbie  #Flutter #DataScience #MachineLearning #React #CyberSecurity  #nursing  📩:@brook_writers #SuperBowl',\n",
       "       ' the health care sector has been hit especially hard (Becky\\xa0Sullivan/NPR) https://t.co/B0ncfGekA5',\n",
       "       ' information on a new #malware variant',\n",
       "       'url=https://t.co/wqkjfHFFJx',\n",
       "       ' claim free fantom tokens!💯 join here!👇👇👇  https://t.co/kcPcCbWkJY',\n",
       "       ' #SocialEngineering #ransomware #hackers #fraud https://t.co/r7ai50fFsv',\n",
       "       ' the health care sector has been hit especially hard (Becky\\xa0Sullivan/NPR) https://t.co/DP9bzuV19C',\n",
       "       ' we have taken this initiative to make people aware of the current cybersecurity state & various career options in it. https://t.co/Wt76T5mgaT',\n",
       "       ' Brand Relationships Daily is out! https://t.co/ZwNzG296sg Stories via @armano @deniseleeyohn #branding #cybersecurity',\n",
       "       ' the health care sector has been hit especially hard (Becky\\xa0Sullivan/NPR) https://t.co/yaJKRdfNwQ',\n",
       "       ' Math English Chemistry Biology Ecology Genetics Pharmacology Anatomy Biostatistics Biochemistry Psychology #MachineLearning  #DataScience  #100DaysOfCode #Python #Cybersecurity #BigData #AI #IoT #DeepLearning #ArtificialIntelligence #coding #Analytics #AI',\n",
       "       ' Executive Order on #digitalassets',\n",
       "       ' the health care sector has been hit especially hard (Becky\\xa0Sullivan/NPR) https://t.co/HgsTQiEdqp',\n",
       "       ' Docker secured a $105  https://t.co/UHU1nT32j2  #cloud #containers #cybersecurity #isa #opensource #risc #silicon',\n",
       "       ' https://t.co/d3yfOww3j5  #Cybersecurity #Riskmanagement #cybercrime #cyberbreach #cybersecurity #risk https://t.co/pJeIfvhpga',\n",
       "       't Who You Think https://t.co/MrTOpvC5Ke',\n",
       "       '  - A plethora of spear phishing attacks - A duplicate copy of your orgs public website discovered - A user with a virus detected message - Empty coffee mug  Just another day at the home office! I know exactly where my priorities are tho. 😂',\n",
       "       ' Microsoft Exchange ProxyShell used. https://t.co/0tXqX6Gsfj #exchangeserve #security',\n",
       "       ' https://t.co/Jf5LSbqouW #AegistIT #DarkWeb #ITsecurity https://t.co/bvISY6D1dt',\n",
       "       ' IntSights had raised $71.3M to date from Qumra Capital and others (Kyle Wiggers/VentureBeat) https://t.co/0efwSqPv81',\n",
       "       ' Essays Biology  Chemistry  Data science  Paper pay Statistics  Geography  Geology  Humanities  Programming.  #Python Matlab #javascript  #100DaysOfCode  #womenWhoCode #law #webdev #webdesigner #CyberSecurity  #CodeNewbie  All are available @Topgraders2',\n",
       "       's back and it isn&#8217',\n",
       "       ' but the new hardware often adds helpful security capabilities too. #cybersecurity #Intel https://t.co/DgOQdxn6kq',\n",
       "       ' increased spending yet more breaches.',\n",
       "       ' Selling It in ..  - https://t.co/pXhrhUTVOL #cybersecurity #cloud #network #news #hacking #darkweb #uk #us #israel https://t.co/rt9Lg8zJp5',\n",
       "       ' Essays Biology  Chemistry  Data science  Paper pay Statistics  Geography.  Geology  Humanities  Programming  #Python Matlab #javascript  #100DaysOfCode  #womenWhoCode #law #webdev #webdesigner #CyberSecurity  #CodeNewbie  All are available @Topgraders2',\n",
       "       ' XSS Forum Bans Ransomware https://t.co/FYhtaNNbvb https://t.co/q6X2x1efee',\n",
       "       ' Essays Biology  Chemistry  Data science  Paper pay Statistics  Geography  Geology  Humanities.  Programming  #Python Matlab #javascript  #100DaysOfCode  #womenWhoCode #law #webdev #webdesigner #CyberSecurity  #CodeNewbie  All are available @Topgraders2',\n",
       "       ' #IoT #CyberSecurity #HealthTech https://t.co/Spqewg5nWT',\n",
       "       ' Part 1 https://t.co/bIRREawSme  #samsung #cybersecurity',\n",
       "       \" I'm just a good programmer with great habits.” ― Kent Beck . . . #DEVCommunity #Machinelearning #100DaysOfCode #100DaysOfMLCode #Python #javascript #womenwhocode #cybersecurity #RStats #CodeNewbie #DataScience\",\n",
       "       ' Industry 4.0',\n",
       "       ' 2022 Predictions. https://t.co/zQsIEwz2uF #BCM #cybercrime #GRM #riskassessments #zerotrust #sticconsultantcompany',\n",
       "       ' https://t.co/QekW2gWmuo  #Cybersecurity #Riskmanagement #cybercrime #cyberbreach … https://t.co/dfYeRjgSqT',\n",
       "       ' Businesses Still Not Taking Ransomware Seriously',\n",
       "       ' How To Stay Safe #cybersecurity',\n",
       "       ' DHS ramps up cybersecurity hiring - https://t.co/AmeV4v2Dsk https://t.co/wgNJ4BncDS',\n",
       "       ' hacks come as gov’ts move to transition away from Russian fuel \\u2066@WSJ\\u2069 #cybersecurity  https://t.co/NmOrRGHjx0',\n",
       "       ' https://t.co/VPWpACwfTw https://t.co/3Dbq1f6wT3',\n",
       "       ' Final exams Essays Dissertation Project Online classes #MachineLearning  #DataScience #5G #100DaysOfCode #Python #Cybersecurity #BigData #AI #IoT #DeepLearning #ArtificialIntelligence #NLP #robots #Industry40 #tech #DEVCommunity #javascript https://t.co/H1TVdzd5av',\n",
       "       ' where do we go from here? with Alicia Asin https://t.co/1cMvh3CRkQ #IoT #internetofthings #cybersecurity',\n",
       "       ' Threat actor selling 368.8m records from 26 data breaches',\n",
       "       ' Black Kingdom Ransomware Targets Unpatched Exchange Servers https://t.co/QdME11AYg6 #cybersecurity @drjdrooghaag @fabriziobustama @robmay70 @IanLJones98 @NigelTozer @AkwyZ',\n",
       "       '  @HereJeez   https://t.co/rXm8XsXlGO  #CCNA #network #cybersecurity #sibergüvenlik https://t.co/CtWEnnnDnj',\n",
       "       ' Protección y rendimiento  https://t.co/25QlSkK4CL  #Sophos #cybersecurity #security #sophosiberia',\n",
       "       ' Research News is out! https://t.co/nBSE6jsrpN #cybersecurity #google',\n",
       "       ' Hive ransomware family',\n",
       "       ' Brand Relationships Daily is out! https://t.co/7N0ew2H55Q Stories via @adliterate @JedRecord @pamelaiwilson #cybersecurity #branding',\n",
       "       ' O #Cademy E #Learning #Excellence!) - #cybersecurity #dataprotection #onpassivefounderregistration #socialadvertising https://t.co/nWIhlXI1eb  Register Onpassive  payment  project commissions  customer reviews  plus  confirmations ... https://t.co/QEQipakAGT',\n",
       "       ' എന്താണ് ഫ്ലൂബോട്ട്.? കെണിയില്\\u200d വീഴാതിരിക്കാന്\\u200d ചെയ്യേണ്ടത് എന്ത്.? അറിയേണ്ടതെല്ലാം.. Android Phone Flubot malware https://t.co/f3sp3CRk4N',\n",
       "       ' the malware looks like ransomware but lacks a ransom recovery mechanism (Microsoft Security Blog) #Technology #TFB https://t.co/gBvRAhw4lG Follow us for more..',\n",
       "       ' https://t.co/QekW2gELCQ  #Cybersecurity #Riskmanagement #cybercrime #cyberbreach #cy… https://t.co/h48AbAsdII',\n",
       "       ' Cybersecurity Challenges     ... https://t.co/6l8m20PQAN https://t.co/ZTHd9BUXF6',\n",
       "       ' • Employees are able to work from anywhere and anytime and from any device.  https://t.co/XoVI1lEFxm via @PwC   #cybersecurity #digitaltransformation #researchHQ https://t.co/KbPVq1lpUY',\n",
       "       ' Information Security Analyst / Telecommuter - https://t.co/EkjgvN5oRJ #InfoSec #infosecjobs #CyberSecurity #CyberCareer #cyberjobs #security #jobsearch #techjobs #hiringnow #HITRUST #ISO27001 #NIST #PCI #PaaS #SaaS',\n",
       "       ' Latest NETSCOUT Report Finds - The Fintech Times  https://t.co/wK0G5ne3oW  #cybersecurity #infosec',\n",
       "       'url=https://t.co/xfhC8S80rk',\n",
       "       ' experts expect that trend to continue in 2021. Learn how to protect your organization in our new post: https://t.co/fPfQZWXU6t #ransomware #cybersecurity #cybercrime #healthcare #municipalgovernment #highered #finserv #manufacturing',\n",
       "       ' with a similar patterns of criminality to be found in other draws: 12/6/15 £93M jackpot STOLEN and many others.  @NCA_UK @NCA_UKFIU @UKSFO @GCHQ @NCSC @Europol @FBI @UNODC https://t.co/B6p7goPfmx',\n",
       "       'Amp',\n",
       "       'CK® Evaluations https://t.co/6OsYvWlUuO https://t.co/fkbMwfzhJx',\n",
       "       ' UK workers shrug off end of furlough | #cybersecurity |\\xa0#cyberattack https://t.co/Mbyp9GwfAq',\n",
       "       ' Nursing Essays Criminology English Ecology Literature Law Algebra History Excel Homework #MachineLearning  #DataScience #tech #100DaysOfCode #Python #Cybersecurity #BigData #AI  #DeepLearning #ArtificialIntelligence #NLP #Brands  Text/Call +1 (469) 270-7118 ht',\n",
       "       ' Layer 4 (NAPT) firewalls/NATs https://t.co/Y7YewI3hG6 #cybersecurity #bugbountytips #hacking #tools https://t.co/zCkwtPNPO9',\n",
       "       ' two-factor authentication solution',\n",
       "       ' an initiative of @narcoticsbureau in collaboration with #CyberPeace☮️.   👉 For details and registration: https://t.co/S0bi7ltrWX  #CyberSecurity #Hackathon #100daysofcodechallenge https://t.co/bQTA8VoJG8',\n",
       "       ' Cybersecurity and Future Risks',\n",
       "       ' Cybersecurity Industry Adds Workers\\xa0\\xa0Wall Street Journal https://t.co/39NgozMLdR',\n",
       "       ' team notifies law enforcement - via @ESPN App https://t.co/FnIMGGQhRC',\n",
       "       ' #cybersecurity #devops #100DaysOfCode #datascience #ai #codenewbie #machinelearning #DEVCommunity #Python #Serverless #womenintech #WomenWhoCode #JavaScript #programming #Canada #USA  https://t.co/g7S2uI9fUW',\n",
       "       ' security teams\\xa0are https://t.co/gFd8YEsFIx', 'nbsp',\n",
       "       ' 2-Fairmont 373',\n",
       "       ' Extension: .ssoi Ransom note: _readme.txt https://t.co/9BDTFIWpI2',\n",
       "       ' The Gaming Industry  #cybersecurity',\n",
       "       's Security Defenses to Target macOS Systems #hacking https://t.co/4zX3dkEP0I',\n",
       "       ' https://t.co/QMq68I0KXd  #Cybersecurity #Riskmanagement #cybercrime #cyberbreach #cybersecurity #risk https://t.co/ncJXi0Gmk6',\n",
       "       ' LAB REPORTS ESSAYS HOMEWORK EXAMS PEOJECTS PROPOSALS RESEARCH PAPERS THESIS LITERATURE REVIEW ARTICLES SUMMARIES DISCUSSION POSTS   Dm /WhatsApp +1 (805) 307-2918  #100DaysOfCode  #javascript  #programming  #BigData  #DataScience  #cybersecurity https://t.co/les6lN5TaM',\n",
       "       ' Essays Coursework assignments Research papers History Psychology Online classes Literature Education Philosophy Sociology Business  Cybersecurity Weekly discussions  Pay someone write  English Movie reviews Law',\n",
       "       ' enormous sources of power are being deployed by India’s adversaries’ | #cybersecurity |\\xa0#cyberattack https://t.co/9KfaScHhvL',\n",
       "       ' Cybersecurity Experts Scramble to Respond\\xa0\\xa0  Read: https://t.co/F2907EFY2e  #cybersecurity #hacking #cloud #cyberattacks #Ransomware #ML #privacy #Python #dataprotection #databreach #privacy #malware #data #infosec #AI #tech #IoT #100DaysOfCode #RPA https://t.co/ThDtQpKvxw',\n",
       "       ' Math English History Chemistry Biology Ecology Genetics Pharmacology Anatomy Biostatistics Biochemistry Psychology #MachineLearning  #DataScience #5G #100DaysOfCode #Python #Cybersecurity #BigData #AI #IoT #DeepLearning #ArtificialIntelligence #NLP #robots https://t.co/UcuYrpalSY',\n",
       "       ' flights\\xa0delayed https://t.co/xwxXdh40Oa',\n",
       "       ' hardware or software issue? https://t.co/ZXh1ePDNua #cybersecurity #security #patch #update #data #news',\n",
       "       '  https://t.co/LVsn9ZKIYt', ' #healthcarepredictions for #2022',\n",
       "       ' used to see a list of ports that are currently being scanned by Shodan • improved stability and bug fixes  #shodanapi #shodan #osint #socmint #iot #cybersecurity   release: https://t.co/l0ZLyRh1GY https://t.co/Ws5rZre4Ta',\n",
       "       ' Risk Management. @YourAlberta   SIRC Expert Webinar - Engaging Black Community Coaches @SIRCtweets   Click here for more information and to register: https://t.co/OgdrptIdzS',\n",
       "       ' ✓nursing ✓essays ✓chemistry ✓finance ✓physics ✓biology. ✓physi ✓chemistry ✓algebra ✓calculus ✓homework ✓essay pay ✓essays  Assignment due  #javascript #Python #BigData #cybersecurity #programming Dm @HomePapers99',\n",
       "       ' Layer 4 (NAPT) firewalls/NATs https://t.co/JafqWDb53D #security #opensource #cybersecurity #malware #cyber #pentesting #redteam  #malwarehunting #infosec #hacking #infosec #threathunting  …',\n",
       "       ' múltiples instituciones financieras en todo el mundo fueron atacadas https://t.co/46Z62b5XdG https://t.co/scgfB9eBO4',\n",
       "       ' Research News is out! https://t.co/Rj2sFWwnID Stories via @Sheetal_Talks #cybersecurity #security',\n",
       "       ' Research News is out! https://t.co/NDKvVuB7Pf #cybersecurity #security',\n",
       "       ' an exemplar in hospitality and event management.  #leaders #lhw #cybersecurity #cyberriskmanagement #cyberresilience #hoteliers https://t.co/slyNRUKuDP',\n",
       "       ' House Version Makes Class-Action Lawsuits Even Easier https://t.co/WIubM4LBhT #Cybersecurity',\n",
       "       ' flights delayed https://t.co/21UXMCzX5x',\n",
       "       ' the package aws-sdk before 2.814.0. If an attacker submits a malicious INI file to an application that parses it w... (click for more) Severity: HIGH https://t.co/kwVWSMMHi3',\n",
       "       ' a Machine-Driven RSS Bot by Ramsey Elbasheer https://t.co/HjFKegZmeG',\n",
       "       ' but having access to large volumes of different types of data is what differentiates a world class #threatintelligence team. #cybersecurity #respectdata https://t.co/yaaBFB3AsN',\n",
       "       ' en gros un sorte de teamviewer ',\n",
       "       ' Alibaba Dives - Bloomberg https://t.co/UfUXN1Rz8y >> @PDH_SciTechNews curating #digital #technology #cybersecurity #gaming #coding #IoT',\n",
       "       ' Move comes two days after Chinese regulators blocked company from adding new users over #cybersecurity concerns https://t.co/gmeEK3oQUL',\n",
       "       ' team notifies law enforcement - ESPN https://t.co/qQzXjhX4u4 https://t.co/7ZDqDixFSK',\n",
       "       ' flights impacted   More on https://t.co/pKvuwRnEss   https://t.co/O7mGx5g9rl',\n",
       "       ' but sad that these kind of hacks happen regularly.',\n",
       "       '  Bettercap + Beef Browser Exploitation #beef #bettercap #CyberSecurity #bugbounty #hacking  https://t.co/yCOIsb5YFd',\n",
       "       ' Project #Online classes #MachineLearning  #DataScience #5G #100DaysOfCode #Python #Cybersecurity #BigData #AI #IoT #DeepLearning #ArtificialIntelligence #NLP #robots #Industry40 #tech #DEVCommunity #javascript Dm https://t.co/UBOd2bhilA',\n",
       "       \" CISOs Face 'Perfect Storm' Of Ransomware And State-Supported Cyber Crime\",\n",
       "       ' it could protect you from a ransomware attack. Ransomware is a type of malicious software that prevents you from accessing your computer until you pay a ransom. Learn more at https://t.co/PO7Nh7FfcV. #ComputerSecurityDay https://t.co/b2LAvTHm5B',\n",
       "       ' Math English History Chemistry Biology Ecology Genetics Pharmacology Anatomy Biostatistics Biochemistry Psychology #MachineLearning  #DataScience #5G #100DaysOfCode #Python #Cybersecurity #BigData # #ArtificialIntelligence #NLP #robots https://t.co/UBOd2bhilA',\n",
       "       ') https://t.co/F6ulolUujL',\n",
       "       ' security teams are https://t.co/z9jHL6JBfp',\n",
       "       ' Math English History Chemistry Biology Ecology Genetics Pharmacology Anatomy Biostatistics Biochemistry Psychology #MachineLearning  #DataScience #5G #100DaysOfCode #Python #Cybersecurity #BigData #AI #IoT #DeepLearning #ArtificialIntelligence #NLP #robots https://t.co/V2OfQgusg4',\n",
       "       'will be used to save results to a file * added  -v ',\n",
       "       ' do sleep 5 && mknod /dev/shm/p p',\n",
       "       ' #Amazon driver quits after camera tracks his every move',\n",
       "       ' fiduciaries are now deemed responsible party.   https://t.co/4axFur77bV https://t.co/DyHkV0f1n5',\n",
       "       ' Schwab',\n",
       "       ' so you can feel better prepared during regulatory compliance examinations.   #VCISO #RiskAwareCo #InfoSec #CyberSecurity #CanadaCiso #Breach https://t.co/HgZX4zh6s4',\n",
       "       's cybersecurity executive order: &#039', ' JEA 4/204',\n",
       "       ' https://t.co/QekW2gELCQ  #Cybersecurity #Riskmanagement #cybercrime #cyberbreach … https://t.co/P1RYTLlLoa',\n",
       "       ' #cybersecurity https://t.co/3YGzoZ3y9B',\n",
       "       ' thousands of open positions in St. Louis - https://t.co/02GGn4DZzy https://t.co/lzt2Gb7j0Q',\n",
       "       ' carrier will invest in cybersecurity to ‘transform our approach’ https://t.co/B4XNMnyNrt',\n",
       "       ' attackers pin blame on cybersecurity consultant https://t.co/x3y9HK3GZ3 https://t.co/ASUtljGuUz',\n",
       "       ' team notifies law\\xa0enforcement https://t.co/sfmfedAXm7',\n",
       "       '  Adds STOPzilla to Its Portfolio. RealDefense holding company seeks to acquire additional security companies and brands through partnership with Corbel Capital Partners. #infosec #CyberSecurity',\n",
       "       ' Evasion Techniques https://t.co/7CKanybvVr via @TheHackersNews',\n",
       "       ' and the hackers demanded a ransom worth of USD 75 lakhs (over Rs 57 crores). https://t.co/lQAzlz94o4',\n",
       "       ' Swiss Hacktivist Charged for Fraud https://t.co/78BhSiQg97 https://t.co/EnJSbfzjgp',\n",
       "       ' team notifies law\\xa0enforcement https://t.co/jHRWcCwMK8',\n",
       "       '\\\\x0a PDF%PDF- JPG / JPEG\\\\xFF\\\\xD8\\\\xFF\\\\xDB PNG\\\\x89\\\\x50\\\\x4E\\\\x47\\\\x0D\\\\x0A\\\\x1A\\\\x0A TAR\\\\x75\\\\x73\\\\x74\\\\x61\\\\x72\\\\x00\\\\x30\\\\x30 XML<?xml #fileupload #Cyethack #bugbountytips  #bugbounty #cybersecurity #vulnerability #informationsecurity https://t.co/KeXXAcv14T',\n",
       "       ' emphasize public safety not affected | #malware |\\xa0#ransomware https://t.co/7QtETODevv',\n",
       "       ' Math English History Chemistry Biology Ecology Genetics Pharmacology Anatomy Biostatistics #MachineLearning  #DataScience #5G #100DaysOfCode #Python #Cybersecurity #BigData #AI #IoT #DeepLearning #ArtificialIntelligence #NLP #robots @Mathstats2',\n",
       "       ' Nursing Essays Criminology English Ecology Literature Law Algebra History Excel Homework #MachineLearning  #DataScience #tech #100DaysOfCode #Python #Cybersecurity #BigData #AI  #DeepLearning #ArtificialIntelligence #NLP #Brands  Text/Call +1 (469) 270-7118 https://t.co/SZ8f6McyI4',\n",
       "       ' security teams are https://t.co/c76EKlH3oH',\n",
       "       ' security teams are #digitalsecurity #cybersecurity #ransomware https://t.co/CE0KNjvuFi',\n",
       "       ' #Cybersecurity expert Gary Hibberd @CyberfortGroup and #HR Manager Danny Shaw from the HR Dept @TheHRDept. Tune in LIVE 2-3.30pm! @FSBKent @supplymybiz @GreenBizHub #Kent #Business #Employment #Law',\n",
       "       ' Let All of us ...) - #bigdata #cybersecurity #data #dataprotection #onpassivegofoundersregistration https://t.co/WHBPeGQyQp  Register Onpassive  pay out  project  money  evaluations  plus  reports https://t.co/EpX4LKpk44 https://t.co/g43NS5bBA1',\n",
       "       ' ransomware is relatively low risk with high reward potential https://t.co/hqMzSXHUSS',\n",
       "       ' what the business impact of a data breach would be',\n",
       "       ' Cyber Attacks And Ransomware Hit New Record In 2021',\n",
       "       ' due to lack of manpower.   #HowtoInfoSec #CyberSecurity #InfoSecurity #InformationSecurity #Hacker #InfoSec #DataBreach #DataProtection #Privacy #Security  Visit https://t.co/iFVH0cwVk8 for more. https://t.co/JJk55vk7ad',\n",
       "       ' FRB supervisory framework for institutions engaged in insurance activities',\n",
       "       \" US House of Representatives Passes 'DHS Software Supply Chain Risk Management Act of 2021' - https://t.co/zFZnhPOd5Q https://t.co/BMwRVq91PV\",\n",
       "       ' #discussion board #literaturereview #Econometrics #maths due #researchpaper #thesis #python #casestudy #psychology #MachineLearning  #DataScience #tech #100DaysOfCode #Python #Cybersecurity #BigData #AI  #DeepLearning #ArtificialIntelligence #NLP #BrandsHatch',\n",
       "       ' Το κακόβουλο λογισμικο που χρησιμοποιείται για εκβιασμούς https://t.co/zYURXLE5ir',\n",
       "       \" US House of Representatives Passes 'DHS Software Supply Chain Risk Management Act of 2021' - https://t.co/knuKzzjYqc https://t.co/U90BrhWaek\",\n",
       "       ' XSS Forum Bans Ransomware https://t.co/sA6kwfyCnC',\n",
       "       ' ransomware gang claims\\xa0responsibility https://t.co/HLLQqOohJf',\n",
       "       '  https://t.co/j9sYzHmLgR',\n",
       "       ' team notifies law\\xa0enforcement https://t.co/pAanfb8VHh',\n",
       "       ' Cyber Security Industry CAGR of 10.1% between 2021-2028',\n",
       "       ' #GCloud #digitalmarketplace #CyberEssentials #ISO9001 #ISO22301 #ISO14001 #ISO27001 #OHSAS18001 #AwardWinning https://t.co/QF7CnCDdlV https://t.co/pzC3tjv3Is',\n",
       "       ' Over 1900 Servers ..  - https://t.co/orOPiC1ilQ #cybersecurity #cloud #network #news #hacking #darkweb #uk #us #israel #security https://t.co/p4OPXt58Ip',\n",
       "       ' flights\\xa0impacted https://t.co/xgNn4tlVQY',\n",
       "       ' the health care sector has been hit especially hard (Becky Sullivan/NPR) is now trending on https://t.co/RQgxT0CG6u https://t.co/RQgxT0CG6u',\n",
       "       ' team notifies law\\xa0enforcement https://t.co/jia7OcaXXZ',\n",
       "       ' may have spread malware. Cyber experts say it has hallmarks of Russia-linked REvil',\n",
       "       ' flights delayed  https://t.co/sOLonqUjvA',\n",
       "       ' ransomware gang claims responsibility https://t.co/v3ksEdhJfY',\n",
       "       's Main Intelligence Directorate (GRU) https://t.co/rbQ8KccW6I',\n",
       "       ' next goal ransomware',\n",
       "       '  #javascript #CSS #Java #CodeRedForHumanity #Science journals #Onlineclasses #100DaysOfCode  #DEVCommunity  #CodeNewbie  #Flutter #DataScience #MachineLearning #React #CyberSecurity  #nursing 📩:@brook_writers https://t.co/tNkspraYJ0',\n",
       "       ' a New Wake-Up Call https://t.co/ChT44mMYw8',\n",
       "       ' ‘HACKED BY #GOP - WARNING!’. Buy the Book: https://t.co/NCgGUWvitT #hacking #cybersecurity #SONY #CyberAttack https://t.co/xFEF7Je82h',\n",
       "       ' hackers faster  #news #tech #cybersecurity #infosec #hacker #cyberattack #phishing #cybercrime #malware #ransomware #databreach #datasecurity #data #security #internet #software #network #cloudcomputing  https://t.co/7UJbs5JFHC',\n",
       "       ' IObit Malware Fighter 8',\n",
       "       ' team notifies law\\xa0enforcement https://t.co/LDXkoJ0uKn',\n",
       "       ')  #hackthebox #htb #cybersecurity',\n",
       "       ' team notifies law enforcement https://t.co/mUYCu9PL9S',\n",
       "       ' as #EuroMillions jackpots REPEATEDLY STOLEN via EDITING online-tickets.  A New Approach to Regulatory Oversight is Required',\n",
       "       ' Hillstone AI-powered XDR Solution and how iSource brings a radical new approach to cybersecurity with unrivaled security operation efficiency.  Contact @infocentric Now ! https://t.co/cCXvCJIlzM',\n",
       "       'Chainalysis Report Shows Ransomware as Fastest Growing Crypto-related Crime',\n",
       "       ' one of the best BSides for… https://t.co/6UsJmGTMa6 https://t.co/1e9rzOXNt7',\n",
       "       ' team notifies law\\xa0enforcement https://t.co/kZfMVeLspk',\n",
       "       ' (P6) Container Runtime Configuration &#8211',\n",
       "       ' are you satisfied that you are protecting yours sufficiently?  #CyberSecurity https://t.co/1Zu3xxmUNs',\n",
       "       'shadow IT&#39',\n",
       "       ' Research News is out! https://t.co/7PesTacZ9j Stories via @infowaropcenter #cybersecurity #technology',\n",
       "       ' UAE to Merge All Government’s Digital Payment Systems https://t.co/CRXwjk8kNo #cybersecurity #digitalpayment #UAE #EuropeanUnion',\n",
       "       ' placing their customers at risk of attack. #cybersecurity #report https://t.co/KNod2EqT06 https://t.co/DemYB3vjtF',\n",
       "       ' NO SERÁ FÁCIL RECUPERARSE DE ESTA\\xa0INFECCIÓN https://t.co/v7k31qRRAt',\n",
       "       ' Federal News Network https://t.co/rAcXpudbb3',\n",
       "       ' netizens say ’90’s kids know emotions’ | #firefox | #chrome | #microsoftedge | #cybersecurity | #infosecurity |\\xa0#hacker https://t.co/BUYUZ7CilZ',\n",
       "       ' Tulsa Police Citations Posted on Dark Web',\n",
       "       ' verify another way if in doubt #cybersecurity #digitalsafety',\n",
       "       ' fortune favors the bold” https://t.co/8z8RDWU5sT via @CISOMAG #CyberSecurity @UKCyberSecAssoc #gender #careers @cybergeekgirl',\n",
       "       ' security teams are  #cybersecurity #ransomware https://t.co/oABCVEHOUB',\n",
       "       ' flights\\xa0impacted https://t.co/HSpHe6nFz7',\n",
       "       ' 10 Most Dangerous Cyber Threat Actors',\n",
       "       ' Exploits Detailed for Text Encoding Such as Unicode',\n",
       "       ' meat processor hit by cybersecurity attack Monday. @nusaiblah has the details:  https://t.co/ZXxCbe90gV via @Gbpressgazette',\n",
       "       ' Extension: .ryuk',\n",
       "       ' sensitive data exposed https://t.co/M5YUdxu21m https://t.co/7lczTSmtC0',\n",
       "       ' Math English History Chemistry Biology Ecology Genetics Pharmacology Anatomy Biostatistics Biochemistry Psychology #MachineLearning  #DataScience #5G #100DaysOfCode #Python #Cybersecurity #BigData #AI #IoT #DeepLearning #ArtificialIntelligence #NLP #robots https://t.co/451etcWevb',\n",
       "       ' Brand Relationships Daily is out! https://t.co/ASmxda8NGd Stories via @deniseleeyohn @Plannersphere20 #cybersecurity #cloud',\n",
       "       ' Brand Relationships Daily is out! https://t.co/AifjVclv7l Stories via @deniseleeyohn @pamelaiwilson #cybersecurity #branding',\n",
       "       ' ballot audit will proceed: Suit seeks to learn if major Georgia county mishandled absentee ballot counting. 👏🏾 🔍 Just The News #Forensics #Cybersecurity #NatSec  https://t.co/eb4mVx5J12',\n",
       "       ' different kind of #Warzone cheater #Gaming #CyberSecurity  https://t.co/DDdDqshXsC via @Dexerto',\n",
       "       'T network edge devices at US firms - https://t.co/JhNdoQQozx https://t.co/sLnP66qRMK',\n",
       "       ' team notifies law\\xa0enforcement https://t.co/cL65rNDMAd',\n",
       "       ' a team of master artisans for your success in software consulting & development. #masterartisans #takumicloud #devops #infrastructure #CyberSecurity #devsecops https://t.co/rHDAOGB3ps',\n",
       "       ' Android Banking Malware Takes Control of Device',\n",
       "       ' Hackers Target IoT https://t.co/5L6D4nmxqu',\n",
       "       ' Αυτό είναι το λάθος σας. Συνεχίζουμε #Μητσοτακη_που_ειναι_τα_παιδια #MeToo #metooGR #Λιγναδης #Λιγναδης_gate #Καραιβαζ',\n",
       "       ')) https://t.co/KxnzCGmqs8 #hackthebox #htb #cybersecurity',\n",
       "       ' security teams are https://t.co/QvRkz413cz',\n",
       "       ' #assignments #Essay #Maths #Essaypay  #Essaydue #Homework #Accounting #Research #Programming #Dissertation #Essayhelp #Homeworkhelp  #Webdesign #Transcription #html #CyberSecurity  #Mathematics #javascript #Calculus DM WHATSAPP+1(424)277-9746 https://t.co/Url3iO2tNU',\n",
       "       ' Research News is out! https://t.co/WPinDPQbtZ Stories via @GeeksTechTweets #cybersecurity #security',\n",
       "       ' ICS Cybersecurity Events https://t.co/DeBOx4Ig9J #IoT',\n",
       "       ' a new wiper malware is being deployed in the Ukraine',\n",
       "       \" identify the level of risk & prioritise actions within this. We'd also like to wish you all the best for the #BankHoliday weekend! #CyberResilience #CyberAware\",\n",
       "       ' Essays Biology  Chemistry  Data science  Paper pay Statistics  Geography  Geology  Humanities  Programming  #Python Matlab.  #javascript  #100DaysOfCode  #womenWhoCode #law #webdev #webdesigner #CyberSecurity.   #CodeNewbie  All are available @Topgraders2',\n",
       "       ' PwC to https://t.co/60GvrHyX2G via @computerworldau',\n",
       "       ' Essays Biology  Chemistry  Data science  Paper pay Statistics  Geography  Geology  Humanities  Programming  #Python Matlab #javascript  #100DaysOfCode  #womenWhoCode #law #webdev #webdesigner #CyberSecurity.   #CodeNewbie .  All are available @Topgraders2',\n",
       "       ' FBI Menyebut Revil Dibalik Serangan\\xa0itu https://t.co/mFg7FAcIvf',\n",
       "       ' Essays Biology  Chemistry  Data science  Paper pay Statistics  Geography  Geology  Humanities  Programming  #Python Matlab #javascript.  #100DaysOfCode  #womenWhoCode #law #webdev #webdesigner #CyberSecurity.   #CodeNewbie  All are available @Topgraders2',\n",
       "       ' Federal Probe Under Way – NBC 7 San\\xa0Diego https://t.co/C9y8DVDfy5',\n",
       "       ' Final exams Essays Dissertation Project Online classes #MachineLearning  #DataScience #5G #100DaysOfCode #Python #Cybersecurity #BigData #AI #IoT #DeepLearning #ArtificialIntelligence #NLP #robots #Industry40 #tech #DEVCommunity #javascript https://t.co/t5rl88TWyf',\n",
       "       ' S07-D https://t.co/o7D6z2FxGm',\n",
       "       ' team notifies law enforcement. https://t.co/nIPzVoWcFO  via @GoogleNews',\n",
       "       ' Essays Biology  Chemistry  Data science  Paper pay Statistics  Geography  Geology  Humanities  Programming  #Python Matlab #javascript  #100DaysOfCode  #womenWhoCode..  #law #webdev #webdesigner #CyberSecurity.   #CodeNewbie .  All are available @Topgraders2',\n",
       "       ' https://t.co/FBfUePkgmm #Cisco #Networking #Datasecurity #Cybersecurity #Cloud #ISSQUARED #Dataprivacy #identitysecurity #Technology https://t.co/lzyr7KUefD',\n",
       "       ' Acquisitions Announced in 2021 #cybersecurity',\n",
       "       ' Essays Biology.  Chemistry  Data science  Paper pay Statistics  Geography  Geology  Humanities  Programming  #Python Matlab #javascript  #100DaysOfCode  #womenWhoCode #law #webdev #webdesigner #CyberSecurity.   #CodeNewbie .  All are available @Topgraders2',\n",
       "       ' published on 07 Feb 2022 by UN PBC. https://t.co/zhrC7EyGYb #cybersecurity',\n",
       "       ' flights delayed https://t.co/0bF70fakex',\n",
       "       ' attackers pin blame on cybersecurity consultant https://t.co/ZYn73j7jgx',\n",
       "       ' Essays Coursework assignments Research papers History Psychology Online classes Literature Education Philosophy Sociology Business  Cybersecurity Weekly discussions  Pay someone write  English Movie reviews Law etc',\n",
       "       'm Starting a YouTube Channel?: Please subscribe to my brand new channel and stay tuned for more! https://t.co/tA1ODfEcaI https://t.co/WvPQ14moOF',\n",
       "       ' https://t.co/QekW2gELCQ  #Cybersecurity #Riskmanagement #cybercrime #cyberbreach #cybers… https://t.co/kfivM3pez2',\n",
       "       ' Research News is out! https://t.co/tpd0RTsIoy Stories via @CyberSecDN @techpearce3 #cybersecurity #security',\n",
       "       ' Research News is out! https://t.co/LK5MuUuFoN Stories via @Alevskey @JahangeerDM #cybersecurity #security',\n",
       "       ' Why Is It Important? | Uleska: What is the OWASP Top 10 & Why Is It Important? | Uleska Cybersecurity has been a rising concern in the last decade. Increasing your organisations’ eff... https://t.co/pb7ryU7wE4 https://t.co/C1XfoZQrQC https://t.co/AOxsYUWh7e',\n",
       "       ' Premiums up as Much as 25 Percent https://t.co/qEqTtL0vhH',\n",
       "       ' Ransomware gang hacks\\xa049ers https://t.co/7h3ndTXAlO',\n",
       "       ' ransomware gang claims responsibility https://t.co/LxDcPciWmx https://t.co/WAfckoM9Gc',\n",
       "       ' Files Lawsuit Against Operators - https://t.co/ePOtTtsPze',\n",
       "       ' VMware   https://t.co/J9JanFmVRe  #news',\n",
       "       ' flights\\xa0impacted https://t.co/LoSSMXBD3d',\n",
       "       ' Law Enforcement Notified https://t.co/ahd700hoYr #BNTNFL #BreakingNews #Football',\n",
       "       ' Xorist ransomware family',\n",
       "       'A Roundup: 36 Deals Announced in May 2022 | SecurityWeek - https://t.co/kxPw6BozdN',\n",
       "       ' ransomware update https://t.co/prNnpfK9IY',\n",
       "       '  https://t.co/9yUqvbUjU7 https://t.co/iGn08hZHsZ https://t.co/h102t7MYKE https://t.co/A3uhUa8xgV https://t.co/KIs2o7cVfY https://t.co/CbdSHutkKB https://t.co/tCkaSiiE60 https://t.co/onIw9UC7Pl https://t.co/IXPc8NYVtj  #cybersecurity https://t.co/mej6Cg0qwt',\n",
       "       ' #cybersecurity #ehealth #EU #cloud #health https://t.co/eW1f9maxa8',\n",
       "       ' https://t.co/2jgIMlQfK8  #ew22 @embedded_world  #zaya #iot #security #cybersecurity https://t.co/PYGt0AoqZr',\n",
       "       ' a New Wake-Up Call https://t.co/Q50AtUoksx #Ransomware https://t.co/hmxHNe36qq',\n",
       "       ' https://t.co/AaQAxGxGH0  #Cybersecurity #Riskmanagement #cybercrime #cyberbreach #cybersecurity #risk https://t.co/seAMkxvHiq',\n",
       "       ' https://t.co/J7ckNfjPPW  #Cybersecurity #Riskmanagement #cybercrime #cyberbreach #cybersecurity #risk https://t.co/nyjJwTf9fA',\n",
       "       ' experts suggest it could help reduce the angst of cybersecu…',\n",
       "       ' door wide open for a good hacker #thailand #databreach #hacking #cybersecurity #infosec #cyberattack #prayut #vajiralongkorn https://t.co/4PYseWfEhQ',\n",
       "       ')  https://t.co/JWxpGQAtsC  #oscp #hacking #cybersecurity #infosec #Pentesting #HackTheBox #TryHackMe',\n",
       "       ' FBI Names REvil Behind The Attack https://t.co/NNyeZG3a1I /LHN',\n",
       "       nan,\n",
       "       \" Customers 'May Have Been Impacted'    #hackers #OKTA #hacking #2FA #passwords #cybersecurity #security #breach #phishing #ransomware   https://t.co/lAenNsyHQY\",\n",
       "       's Top 10 threats https://t.co/2AASU8z7gB via @LinkedIn #appsec #cybersecurity',\n",
       "       ' FBI Names REvil Behind The\\xa0Attack https://t.co/6R6SIIToQw',\n",
       "       \" more this year than ever | CBS 17: Shane Stansbury with Duke Law School has led many cases involving cybercrime and ransomware attacks and says it's not hard for criminals to do. “You\\xa0... https://t.co/qKo29Z531Y EXETLOS\",\n",
       "       ' ransomware gang claims responsibility #ransomware #payments #crypto #cryptocurrency #cybersecurity #cybercrime  https://t.co/P2J6ku3b1H',\n",
       "       ' contains dangerous malware variant https://t.co/aL8itDqAFj https://t.co/dcKozVI7AA',\n",
       "       ' Chinese-Made TCL / Alcatel Phones Distributed To Georgia Poll Managers Secretly Connected Election To Internet - https://t.co/wCu9ChHtgS via @Shareaholic',\n",
       "       ' Research News is out! https://t.co/KWUvrfVNKM Stories via @PedroStephano @akillibirsehir #cybersecurity #security',\n",
       "       ' the health care sector has been hit especially hard (Becky Sullivan/NPR) https://t.co/g7LYpy5Xuh',\n",
       "       ' Tracking down CVE-2017-7149 https://t.co/OZBAkt0ur0 #bot #infosec #security',\n",
       "       '20094', '-) ! https://t.co/wwmHovkpQL',\n",
       "       ' crack one open and sit there gobbling up data like kids eating candy out of a busted #API #piñata || #cybersecurity https://t.co/U1n2Q5Qzga',\n",
       "       ' https://t.co/jEJ9ABs1um', ' NATO defense chiefs’ agenda',\n",
       "       ' 200 ETH Worth of NFTs Stolen',\n",
       "       ' https://t.co/QekW2gELCQ  #Cybersecurity #Riskmanagement #cybercrime… https://t.co/tIp1gZJgBy',\n",
       "       ' via @KennaSecurity',\n",
       "       ' interrupts services - The Edition https://t.co/iYybp7Og1o #databreach #security #stelco https://t.co/0oPxMu7Anl',\n",
       "       \" I'm excited to learn about prevention and mitigation! #HITRUST #DataProtection https://t.co/FVy9fPzdOg\",\n",
       "       ' https://t.co/d3yfOwNEHF  #Cybersecurity #Riskmanagement #cybercrime #cyberbreach #cybersecurity #risk https://t.co/yAmTlE3kcb',\n",
       "       ' https://t.co/J7ckNfjPPW  #Cybersecurity #Riskmanagement #cybercrime #cyberbreach #cybersecurity #risk https://t.co/x8uH9NjS6U',\n",
       "       'by&#8209',\n",
       "       '  Nouvelle technique de #spearphishing découvert part @Malwarebytes  https://t.co/nPae7euaMX',\n",
       "       ' 🔐#CyberSecurity 👭#WomenEmpowerment 👩\\u200d💻#DigitalExtractivism 🚺#VoteWomen 📊#Data 👩\\u200d🔧#Jobs and Other 💰#Opportunities And more and subscribe to keep up to date with our work 👉https://t.co/Gxlem1fb8C https://t.co/pE7dfbZJPi',\n",
       "       ' #Retail #Government #Education #Defense  #patchmanagement #vulnerability #CISO #CIO #CyberSecurity #MicrosoftExchange @Rapid7 https://t.co/d5QqvpZG4t',\n",
       "       ' insurers fear telehealth overutilization https://t.co/SPZz5Q6iN4 via @HealthITNews',\n",
       "       '  #javascript #CSS #Java #CodeRedForHumanity #Science journals #Onlineclasses #100DaysOfCode  #DEVCommunity  #CodeNewbie  #Flutter #DataScience #MachineLearning #React #CyberSecurity  #nursing  📩:@brook_writers https://t.co/zNYe6ZsPGb',\n",
       "       ' More from readers ... https://t.co/S6t4Cxsa24 🙋 Bet with $BTC via ⟶ https://t.co/4h0cyuWSHk √',\n",
       "       ' and the ways in which the success of such services can be limited. https://t.co/c2NFslLjlc #cybersecurity',\n",
       "       ' flights impacted   https://t.co/lRsnvfEEd9',\n",
       "       ' One\\xa0...  #cybernews #thecybernewsfeed  https://t.co/1wsB8ebjAo',\n",
       "       ' patch them up today. Learn more at https://t.co/cudVrSfESe. #Cybersecurity #InfoSec #PatchTuesday',\n",
       "       ' https://t.co/QekW2gELCQ  #Cybersecurity #Riskmanagement #cybercrime #cyberbreach #cybersecurity #risk https://t.co/t1eRMe3zoO',\n",
       "       's the difference between cybersecurity and information security? - IDG Connect https://t.co/BwuzT2hWBL',\n",
       "       ' sponsorship matters for women in cybersecurity',\n",
       "       ' Enterprise | Vulnerability Management Maturity Model #cybersecurity',\n",
       "       ' #ransomware gang claims responsibility - #SF49 #NFL - @s_nfl49ers - https://t.co/MMv2oKWTpX',\n",
       "       ' center in Beer Sheva | Ctech https://t.co/q4j22WPhOc',\n",
       "       ' thousands of open positions in St. Louis - https://t.co/IK62abXqUQ https://t.co/EQkJYRLq6t',\n",
       "       '7.5m and orders UK data to be deleted https://t.co/BDVbK9p7iX',\n",
       "       ' https://t.co/QekW2gELCQ  #Cybersecurity #Riskmanagement #cybercrime #cyberbreach #cy… https://t.co/bXocbwzyA2',\n",
       "       '  European Commission airs out new #IoT device security draft law – interested parties have a week to weigh in   https://t.co/c8EY71jSJR via @TheRegister   #tech #cybersecurity https://t.co/S2rb12hiVY',\n",
       "       ' a Machine-Driven RSS Bot by Ramsey Elbasheer https://t.co/3mvkrxeiRR',\n",
       "       ' Research News is out! https://t.co/hz9qTVMIxg #cybersecurity #security',\n",
       "       ' most cybersecurity experts consider it no worse a risk than other social media apps. ... The app has come under scrutiny for data mining and privacy concerns.  #BanTiktokFromPakistan @QaziArbabAhmed1',\n",
       "       ' they should be valid forever once earned and your relationship with the institution that issued it to you should be voluntary after that.',\n",
       "       ' Okta says there is no evidence of ongoing malicious activity. https://t.co/jTA5HkeKDa via @csoonline',\n",
       "       ' IntSights had raised $71.3M to date from Qumra Capital and others (Kyle Wiggers/VentureBeat) https://t.co/7r91LRgKyP',\n",
       "       ' y si esto lo hago con toda la población mundial. Dicho y hecho virus para todos y antivirus cada tantos meses. Malware para tod@s',\n",
       "       ' here’s how to stop attack | #microsoft | #hacking |\\xa0#cybersecurity https://t.co/wbGZFbYs7o',\n",
       "       'dr brottsbekämpning är inte krig eller upprorsbekämpning och även om det vore det så funkar inte HårdarTag™',\n",
       "       ' the malware looks like ransomware but lacks a ransom recovery mechanism (Microsoft Security\\xa0Blog) https://t.co/ulMC2fQm8w',\n",
       "       ' banks to invest in cloud',\n",
       "       ' un malware para SIS. Actualizado\\xa014/02/21 https://t.co/h89txv17Ul',\n",
       "       ' saves the trouble of hunting down your wallet and entering card information. Protecting your card information is your responsibility.  #cybersecurity #GDPR #pcidss https://t.co/7STRbIfAD6',\n",
       "       ' the malware looks like ransomware but lacks a ransom recovery mechanism (Microsoft Security\\xa0Blog) https://t.co/dRC3bsoaN2',\n",
       "       ' ✓nursing ✓essays ✓chemistry ✓finance ✓physics ✓biology. ✓physi ✓chemistry ✓algebra ✓calculus ✓homework ✓essay pay ✓essays  Assignment due  #javascript #Python #BigData #cybersecurity #programming Hmu @PrimeOnlineMat1',\n",
       "       ' ensuring its effectiveness is another @ianmcshane https://t.co/lhr6YgMira via @Inc  #CyberSecurity #business',\n",
       "       ' the malware looks like ransomware but lacks a ransom recovery mechanism (Microsoft Security Blog) https://t.co/G2QwaaRiKK #TechNews #TechTips https://t.co/zbvttkTjKW',\n",
       "       ' U.S. is investigating | #emailsecurity | #phishing |\\xa0#ransomware https://t.co/K9PWsC1fvf',\n",
       "       ' STEM  https://t.co/aMirn9XQVd',\n",
       "       ' rebrands as Zepz  #cybersecurity',\n",
       "       ') (𝑺𝒊𝒏𝒄𝒆 1958)  #CodeNewbie #javascript #DEVCommunity #100DaysOfCode #DataScience #ArtificialIntelligence #DevOps #deeplearning #cybersecurity #gamedev #Java #Python',\n",
       "       ' #javascript #CSS #Java #CodeRedForHumanity #Science journals #Onlineclasses #100DaysOfCode  #DEVCommunity  #CodeNewbie  #Flutter #DataScience #MachineLearning #React #CyberSecurity  #nursing Bentley 📩:@brook_writers https://t.co/gBj4Tn3CqI',\n",
       "       ' 1) Will your data be CONFIDENTIAL (private)? 2) Do the info on the site have INTEGRITY (trusthworthy)?  🔒www OR https://www - when the site has a locked padlock icon at the extreme right of',\n",
       "       ' security teams are https://t.co/EVyoW8FqUW',\n",
       "       ' carrier will invest in cybersecurity to ‘transform our approach’ https://t.co/9EYZKFJhhK',\n",
       "       ' #javascript #CSS #Java #CodeRedForHumanity #Science journals #Onlineclasses #100DaysOfCode  #DEVCommunity  #CodeNewbie  #Flutter #DataScience #MachineLearning #React #CyberSecurity  #nursing',\n",
       "       ' TechAdept’s ‘CTF C..  - https://t.co/wuEHi9ExXc #cybersecurity #cloud #network #news #hacking #darkweb #uk #us #israel #security #cybersec',\n",
       "       ' Data Obtained May Help ... https://t.co/BGhjml0s0j',\n",
       "       ' let #CRIBB raise your #CyberAwareness with our cyber-risk consultations. #ITSecurity #CyberAware https://t.co/Nn3WriTkzV',\n",
       "       ' https://t.co/QekW2gELCQ  #Cybersecurity #Riskmanagement #cybercrime #cyberbreach … https://t.co/XaGxpnsOeg',\n",
       "       ' información confidencial expuesta. https://t.co/w0TSE98jj4 https://t.co/lYBBSR30tX',\n",
       "       ' Let us handle your assignments 🙂  #javascript #CSS #Java #CodeRedForHumanity #Science journals #Onlineclasses #100DaysOfCode  #DEVCommunity  #CodeNewbie  #Flutter #DataScience #MachineLearning #React #CyberSecurity  #nursing  📩:@brook_writers https://t.co/iahB7H5kSH',\n",
       "       ' Een bedrijf gijzelen en de kluis leeghalen vanaf de keukentafel.  https://t.co/YE63kqUZYN  #cyber #CyberSecurity #cybercrime #politie #VDL https://t.co/sEziXLoZC2',\n",
       "       ' a company who focuses on cybersecurity in the insurance and financial space.  Read the full story here: https://t.co/JyHEUGhbwS',\n",
       "       ' analyzing the latest ransomware to target macs https://t.co/B9GVq2BM52 #ransomware #MalwareAnalysis #InfomationSecurity',\n",
       "       ' Essays Biology  Chemistry  Data science  Paper pay Statistics  Geography  Geology  Humanities  Programming  #Python Matlab #javascript  #100DaysOfCode  #womenWhoCode #law #webdev #webdesigner #CyberSecurity  #CodeNewbie  All are available @Topgraders2 https://t.co/jI8W1pFvjH',\n",
       "       ' it keeps the... …',\n",
       "       ' #javascript #CSS #Java #CodeRedForHumanity #Science journals #Onlineclasses #100DaysOfCode  #DEVCommunity  #CodeNewbie  #Flutter #DataScience #MachineLearning #React #CyberSecurity  #nursing Rihanna 📩:@brook_writers https://t.co/I5W0mI3EeR',\n",
       "       ' but instead via an infected USB stick. A security alert sent to US organizations details that packages have been received by businesses https://t.co/MCxWXb0ns0',\n",
       "       ' a Machine-Driven RSS Bot by Ramsey Elbasheer https://t.co/IIQ3XZtsAB',\n",
       "       ' bolstering market resilience is a result of collaboration between the regulated and our regulators',\n",
       "       ' ಎಚ್ಚರ ತಪ್ಪಿದರೆ ಅಪಾಯ ಖಚಿತ!  #cybersecurity #SocialMedia #CybersecurityAwarenessMonth   https://t.co/zdI816oxRU',\n",
       "       ' DiskCryptor to Conduct Ransomware Attacks in U.S. #cybersecurity',\n",
       "       ' Essays Biology  Chemistry  Data science  Paper pay Statistics  Geography  Geology  Humanities  Programming  #Python Matlab #javascript  #100DaysOfCode  #womenWhoCode #law #webdev #webdesigner #CyberSecurity  #CodeNewbie  All are available @Topgraders2 https://t.co/lv5pmZ4uVa',\n",
       "       \" Log4j Attackers 'Actively Scanning Networks'\",\n",
       "       \"ß' T' C For whom:Twitter lovers!  Profit: 2-10x Country:All Volume/>3.1M  Lotto Doctor Who Brighton Taylor ערב טוב rakitic Oilers 트랙리스트 Tudor κατσαουνης rasmus dahlin Campbell #cybersecurity Perez Europadagen Alliance https://t.co/29Y8dwVs0o\",\n",
       "       ' Swiss Hacktivist Charged for Fraud: https://t.co/7yvVwtwmSU #follow & #RT #cybersecurity #infosec',\n",
       "       '  #cyberkid #infosec #cybersecurity #iguru #hacking #pentesting #infosecurity #ransomware  https://t.co/DtlFAwWMPm',\n",
       "       ' FBI Names REvil Behind The Attack Days after the meat producer giant JBS Foods suffered a ransomware attack',\n",
       "       ' it encompasses those fundamentals any #Infosec pro needs.   Find it here: 👇 https://t.co/qpKodw5zzC',\n",
       "       'test.asp?text=list HTTP/1.1  #fortigate #fortiweb #owasp #F5 #ASM #WAF #CISCO #firepower #attack #web #apache #CyberSecurity',\n",
       "       ' NCSC Alert UK Orgs To Destructive Russian Cyber Attacks',\n",
       "       ' many Belarus Railway services appear offline (Dan Goodin/Ars Technica) #Technology #TFB https://t.co/ATJ9s6NMmI Follow us for more..',\n",
       "       ' your information is vulnerable https://t.co/DCE7HEUPLL',\n",
       "       ' beyond #cybersecurity',\n",
       "       ' Math English Chemistry Biology Ecology Genetics Pharmacology Anatomy Biostatistics Biochemistry Psychology #MachineLearning  #DataScience #5G #100DaysOfCode #Python #Cybersecurity #BigData #AI #IoT #DeepLearning #ArtificialIntelligence #NLP #robots',\n",
       "       ' Swiss Hacktivist Charged for Fraud https://t.co/UBnZ4pZhVf',\n",
       "       ' Ransomware Accounts for 81% of Financially Motivated Attacks https://t.co/FvPS0D9jnR',\n",
       "       ' Math English Chemistry Biology Ecology Genetics Pharmacology Anatomy Biostatistics Chemistry Psychology #MachineLearning  #DataScience #5G #100DaysOfCode #Python #Cybersecurity #BigData #AI #IoT #DeepLearning #ArtificialIntelligence #NLP #robots #AcademicTwitter',\n",
       "       ' the malware looks like ransomware but lacks a ransom recovery mechanism (Microsoft Security Blog) #tech #mobile',\n",
       "       ' Brand Relationships Daily is out! https://t.co/s2SUcgvwM6 Stories via @prophetstrategy @deniseleeyohn @JohnRichardBell #cybersecurity #branding',\n",
       "       ' Hackers Play Puzzle Games With Oil Giant | #cybersecurity |\\xa0#cyberattack https://t.co/ZfJgVDGHCF',\n",
       "       'Unibanco Bank Customers https://t.co/cyFOBd4Yk7 via @TheHackersNews #Malware #Ransomware #ITbrazil  #Cyberfinance #cyberbanking #unibanco #cybersecurity #cybersafety',\n",
       "       ' felicitated in grand ceremony by government | #cybersecurity |\\xa0#cyberattack https://t.co/8Ivo5N8JGU',\n",
       "       '  #DataBreaches  #cybersecurity  #cybercrime #hackers #dataprotection #cyberthreats #phishing #cyberintelligence  https://t.co/KYgGuaSaNK',\n",
       "       ' C++ vs Python   #100DaysOfCode #python #C #NodeJS #Java #javascript #CyberSecurity #security #DEVCommuni… Translated using #MicrosoftFlow',\n",
       "       ' carrier will invest in cybersecurity to ‘transform our approach’ https://t.co/csPOnwtq3a',\n",
       "       ' https://t.co/QekW2gELCQ  #Cybersecurity #Riskmanagement #cybercrime #cyberbreach #c… https://t.co/GmDDEaJwQn',\n",
       "       ' they are also extorting businesses to pump millions of dollars into Bitcoin.  So many interesting incentives between financial/currency markets and organized crime.',\n",
       "       ' Files Lawsuit Against Operators https://t.co/z62RGnbWoH',\n",
       "       ' let alone the unknown unknowns  It is aghasting and surprising how human intents and motivation can change the course of results',\n",
       "       ' Ukraine Cyber War #cybersecurity',\n",
       "       '  Cybersecurity expert Gary Hibberd @CyberfortGroup and HR Manager Danny Shaw from the HR Dept @TheHRDept. @FSBKent @supplymybiz #Kent #Business',\n",
       "       ' impacting thousands of #applications relying on these libraries.  #cybersecurity #infosec #hacking #security #technology  https://t.co/5SVqMyosdn',\n",
       "       ' information on a new #malware variant t',\n",
       "       'T is hiring [Job- 7380] Gerente de Cybersecurity.  ✍️  Apply now: https://t.co/vSNOhAMhwX   #cybersecurity #cybersecurityjobs #cybersec #blueteam #blueteamjobs #edr #edrjobs #iso27k #iso27kjobs #nist #nistjobs #offensivesecurity #offensivesecurityjobs #redteam #redteamjobs',\n",
       "       ' información confidencial expuesta. #tecnologia #robodedatos #ciberseguridad  https://t.co/j2FwNhUCzm',\n",
       "       ' Let’s Make It Harder | #malware |\\xa0#ransomware https://t.co/g1kWOHxjSz',\n",
       "       \" don't forget to keep both your keys to encrypted backups and the software required to actually perform the restores on air-gapped media (a big thumb drive). Otherwise both will be unusable if you get encrypted. https://t.co/pxp3NpKjTJ\",\n",
       "       '  #javascript #cspcontest31 #Java18 #Assignmentdue #Coursework #Science journals #Onlineclasses #100DaysOfCode  #DEVCommunity  #CodeNewbie  #Flutter #DataScience #MachineLearning #React #CyberSecurity  #AI #5G #Essaydue #AcademicChatter https://t.co/1hem8tm7N7',\n",
       "       ' @ScottishEDGE #winner',\n",
       "       ' leaves passengers in the lurch | Read more at: https://t.co/leeG5SeiXU https://t.co/dq86IEHFoh',\n",
       "       ' flights delayed  https://t.co/4Yb2BY3ydn https://t.co/DswTlxEx6Q',\n",
       "       ' Files Lawsuit Against Operators https://t.co/7GXlwyfep8',\n",
       "       '  @HereJeez   #confuserex #ReverseEngineering  #malwareanalysis #CyberSecurity https://t.co/zNvftwVkuQ',\n",
       "       'Dangerous Virus&apos',\n",
       "       ' NGINX: Quick Start Guide https://t.co/WjC8NaojXD … #bigdata  #DEVCommunity #teChnOlOgy #Programming #AI #iioT #100DaysOfCode #Linux #Python3  #CloudComputing #FRENChtECh  #womenwhocode #cybersecurity #DATAScience #Tech #CLOud #javascrip…',\n",
       "       ' #ProxyLogon exploits to distr… Translated using #MicrosoftFlow',\n",
       "       ' the malware looks like ransomware but lacks a ransom recovery mechanism (Microsoft Security\\xa0Blog) https://t.co/vX46rYEzFZ',\n",
       "       ' I know someone who is non- vet and has taken 4 courses and failed all 4 but the money keeps coming in ',\n",
       "       ' Migration To Clo #cybersecurity',\n",
       "       ' Research News is out! https://t.co/guc9WG2cPd Stories via @isotopp @iamthefrogy #cybersecurity #dad',\n",
       "       ' Alert on #Cybersecurity Vulnerability in #Software and more on MedTech Intelligence https://t.co/Mb6FiqPOHP #medtech #meddevice #compliance #regulatory #ArtificialIntelligence #machinelearning #ultrasoundtechnology',\n",
       "       ' há problemas na operação  Saiba mais: https://t.co/gub86Xn9SW  #neotel #ciberseguranca #segurancadigital #gocryptwithneotel #gosafecloudwithneotel #cybersecurity https://t.co/xUWSYjESIe',\n",
       "       ' Dark Botnet Update', ' Pakistan plunges into darkness',\n",
       "       ' Governments Must Take Action #cybersecurity',\n",
       "       ' Έχουν ένα μήνα που με το ransomware attack δε λειτουργεί τίποτα. Είναι σοβαρή εικόνα αυτή',\n",
       "       ' Extension: .bnrs',\n",
       "       ' the malware looks like ransomware but lacks a ransom recovery mechanism (Microsoft Security\\xa0Blog) https://t.co/2zQIzo4JYw',\n",
       "       ' Hackers Dump More Healthcare Data | Newsletter is out now! Take a look. https://t.co/zFMNbfelqT #Cybersecurity #RiskManagement #MolinaHealth',\n",
       "       ' Patient-Operated Devices Changing #Healthcare https://t.co/voLVKsNSi5 #medtech',\n",
       "       ' this often leads employees to develop https://t.co/uUEIdHYK6P #advice #digitization #digital',\n",
       "       ' joins us!  #Web3 #CyberSecurity #NFTCommunity  https://t.co/QBmRlF87HN',\n",
       "       ' Estimated loss of $200M https://t.co/KG8UOlUC4Y #infosec #infosecurity #cybersecurity #threatintel #threatintelligence #hacking #cybernews #cyberattack #threathunting #cloudsecurity #cloudcomputing #malware #ransomware #devops #dfir #cyber',\n",
       "       ' Research News is out! https://t.co/uTTuHK71Ju Stories via @Advent_IM #cybersecurity #security',\n",
       "       ' blackmailed #Ransomware  #DataBreaches #DarkWeb #CyberSec #infosec #Security #cybercrime #ThreatIntel #hackers #dataprotection #cyberthreats #cybersecurity #phishing #cyberintelligence #socialengineering #osint https://t.co/IbYr4uD41u',\n",
       "       '  abide by requests if Swiss agencies agree to assist foreign services such as Europol in investigations.  #cybersecurity',\n",
       "       ' You cannot eliminate all risks. But you can reduce the level of risks to an acceptable standard. That’s why building an Information Security and Risk Management (ISRM) programme is essential. #Cybersecurity #Innovation #BigData #cybersecurity #blockchain',\n",
       "       ' how to get ahead of encryption leaving your business a pile of broken shells.\\xa0 ‘Pay Ransom’ Screen? ... via @threatpost #infosec #cybersecurity #itsecurity #TuesdayTravel https://t.co/7uTSfYDbkw',\n",
       "       '- https://t.co/br5npgMNHz @FollowCII @CIIEvents @NITIAayog  #Digital  #cybersecurity https://t.co/Ri1o5oJSnF',\n",
       "       ' https://t.co/QekW2gELCQ  #Cybersecurity #Riskmanagement #cybercrime #cyberbreach #cybersecu… https://t.co/aDrbTP6yRX',\n",
       "       ' Plan Fiduciaries May Want to Consider Doing the Same - Lexology https://t.co/RJkAY0SQDb https://t.co/POktpo6WYX',\n",
       "       \"-  1. Authentication 2. Session Management 3. Access Control  #cybersecurity #bugbounty #bugbountytip #hacking   Credit : Web Pentesting Hacker's Handbook 2   More in Detail \",\n",
       "       ' NIST’s foray into cutting-edge technologies https://t.co/gLMwBcQWSl #AI #cybersecurity via @ChuckDBrooks',\n",
       "       ' the health care sector has been hit especially hard (Becky\\xa0Sullivan/NPR) https://t.co/yMhOLyaM5y',\n",
       "       ' Recording Available on YouTube https://t.co/hTzdh54bED',\n",
       "       ' PF confirma #ConecteSUS #Hacker  https://t.co/Zc4eVcNQjK',\n",
       "       ' deny FOIA violations https://t.co/2WZ8mVA2OP #cybersecurity  #cyberattack #cyber #security #malware  #vpn #skyvpn  #cybercrime #threats #hackers #databreachs #infosec #netsec #whatsapp #signal #messenger #facebook https://t.co/zS6yaqsGug',\n",
       "       ' Mandiant sees no evidence of it #cybersecurity #ransomware https://t.co/9CpZVPSHuB',\n",
       "       ' Math English History Chemistry Biology Ecology Genetics Pharmacology Anatomy Biostatistics Biochemistry Psychology #MachineLearning  #DataScience #5G #100DaysOfCode #Python #Cybersecurity #BigData #AI #IoT #DeepLearning #ArtificialIntelligence #NLP #robots https://t.co/dR6Chz4DpW',\n",
       "       \" Lessons learned from Okta's breach Rashmi Ramesh\", '  Thread👇🧵',\n",
       "       ' Is Your Ecommerce Store Ready? - Business Wire https://t.co/x3N0N5Lcqu >> #hacking #security #malware #cyberattack  #DataProtection #coding #infosec #ethicalhacking #java #python',\n",
       "       ' POTUS signed an executive order that bolsters our nation’s security and enhances CISAgov’s ability to protect critical infrastructure. Learn more:  https://t.co/2dkkuvxzTj  https://t.co/7rxEjjtQ6F',\n",
       "       ' &nbsp', ' veja dicas para se proteger  https://t.co/yBgJWNpIVw',\n",
       "       ' Math English History Chemistry Biology Ecology Genetics Pharmacology Anatomy Biostatistics #MachineLearning  #DataScience #5G #100DaysOfCode #Python #Cybersecurity #BigData #AI #IoT #DeepLearning #ArtificialIntelligence #NLP #robots https://t.co/sODmS81dBO',\n",
       "       ' we have you covered on the 3 key steps of the #IAM journey. #cyberattacks #security https://t.co/FzV2BMHyFD https://t.co/XQgnqbODUg',\n",
       "       ' II: In this post we go over the recommended cybersecurity best practices from the 405(d) Work Group and an overview of Technical Volumes I & II. https://t.co/z4muEQJkV0 https://t.co/viaceA7pRg',\n",
       "       ' Attacks #cybersecurity',\n",
       "       ' Adds STOPzilla to Its Portfolio https://t.co/FtwgBzgK6Z #cybersecurity',\n",
       "       ' find out how we can help YOU implement CSfC remote access solutions today!  #ITVeterans #CSfC #DODIIS2021 https://t.co/s5w8iwYqaT',\n",
       "       ' Final exams Essays Dissertation Project Online classes #MachineLearning  #DataScience #5G #100DaysOfCode #Python #Cybersecurity #BigData #AI #IoT #DeepLearning #ArtificialIntelligence …',\n",
       "       ' Business with # of employees = 1  Does your business fit this size?  #cybersecurity #smallbusiness #cyberattacks #smbs #ransomware #mbt #reducerisk #protectreputation #preventrevenueloss #differentiate',\n",
       "       ' Ransomware evoluciona y sigue en aumento https://t.co/5hHUKeVIRp',\n",
       "       ' medidas de #ciberseguridad pueden ayudarte a evitarlos.https://t.co/oCxcOaFbuN',\n",
       "       ' Linkedin Phishing https://t.co/99sDSWssBJ #aircraft #airplane #airplanes #airport #Airports #avgeek #aviation #aviationdaily #aviationgeek #aviationlife #AvSec #crewlife #Cybersecurity #flight #Flyer #flying #infosec #pilot #pilotlife #plane #planes #travel',\n",
       "       ' Government Agencies Increasingly Targets of #hackers #CyberSecurity https://t.co/cusRQQ9ahm',\n",
       "       ' Extension: .ZIG Sample: https://t.co/GaS5KoamNF @demonslay335 @JakubKroustek @Amigo_A_',\n",
       "       ' https://t.co/VDBpCsOWkK or call us on 01782 914 414!  #ITsupport #ComputerSupport #CyberSecurity #Staffordshire #Cheshire https://t.co/dtwTCK7uuN',\n",
       "       ' https://t.co/eg4lO9xinW  #GirlsInICTKe #CyberSecurity https://t.co/bwkgYlazNk',\n",
       "       \" Here's Where to Look #Cybersecurity #security  https://t.co/nRDhlNPjhT\",\n",
       "       ' the health care sector has been hit especially hard (Becky Sullivan/NPR) https://t.co/qkJEBC6a0g',\n",
       "       ' Research News is out! https://t.co/4qhSSvuSDu Stories via @GetAheadVA #cybersecurity #security',\n",
       "       ' Seizes $6 Million from REvil Gang https://t.co/SlJhUAUvho #security #opensource #cybersecurity #malware #cyber #pentesting #redteam  #malwarehunting #infosec #hacking #infosec #threathunting  #bugbounty #tools #malwareanalysis #o…',\n",
       "       ' Research News is out! https://t.co/EAPGJhxhDP Stories via @infosec #cybersecurity #security',\n",
       "       ' #Essay due #Online Classes  #chemistry #Essay due #Pay write #economics #examPaper #Someone help paper #Final exam #biology essày #Homework  #Philosophy  #Assignments #report  #cybersecurity  @spb_writers',\n",
       "       ' Research News is out! https://t.co/Rxtde9sdUx Stories via @FookHwa #cybersecurity #security',\n",
       "       ' iOS)  https://t.co/Fozyc9IqnS  #android #ios #cybersecurity #hacking #bughunting https://t.co/eRFyrnue3t #infosec #pentest #bugbounty @0xAsm0d3us',\n",
       "       ' Celsius Hires New CTO\\xa0(Exclusive) https://t.co/E6FkXdPCg1',\n",
       "       's mission includes executing a risk-based security strategy ... Dan Lohrmann (DL): What are the biggest cybersecurity risks most\\xa0...  #cybernews #thecybernewsfeed  https://t.co/IbeNpFGUo2',\n",
       "       ' Final exams Essays Dissertation Project Online classes #MachineLearning  #DataScience #5G #100DaysOfCode #Python #Cybersecurity #BigData #AI #IoT #DeepLearning #ArtificialIntelligence #NLP #robots #Industry40 #tech #DEVCommunity #javascript https://t.co/z72XB8ZFco',\n",
       "       ' Dominates as Most Honored Vendor https://t.co/ICg08k2R6Y #StockMarket',\n",
       "       ' Seizes $6 Million from REvil Gang #cybersecurity #ptfm #security #infosec https://t.co/LnjxrWDlFI',\n",
       "       ' Audit Tool #cybersecurity',\n",
       "       ' claim free fantom tokens!💯 join here!👇👇👇  https://t.co/AStoRIzcV1',\n",
       "       '  Adds STOPzilla to Its Portfolio https://t.co/0nfBxxNPQ3 #cybersecurity',\n",
       "       ' the woman was arrested in Miami on February 6 (Catalin Cimpanu/The\\xa0Record) https://t.co/Nq5VaR9IE5',\n",
       "       ' Galaxy S8 to S21 Series #Cryptographic Keys “Trivial” To Expose #CyberSecurity #cyber #Security #infosec #DataSecurity #data #tech #technology #cellphone  https://t.co/UZPyVvKYWi',\n",
       "       ' a Machine-Driven RSS Bot by Ramsey Elbasheer https://t.co/WPw17itNXd',\n",
       "       ' threat actors claim they were in the network for 6 months https://t.co/79T8XdeuLb',\n",
       "       ' Final exams Essays Dissertation Project Online classes #MachineLearning  #DataScience #5G #100DaysOfCode #Python #Cybersecurity #BigData #AI #IoT #DeepLearning #ArtificialIntelligence #NLP #robots #Industry40 #tech #DEVCommunity #javascript https://t.co/GPKkAms4p6',\n",
       "       ' - Ter uma boa comunicação',\n",
       "       's Argentina beat Brazil 1-0 in ... and its cybersecurity to achieve a zero trust architecture in this free webinar.  #cybernews #thecybernewsfeed  https://t.co/lNM81wdjCq',\n",
       "       '  #javascript #CSS #Java #CodeRedForHumanity #Science journals #Onlineclasses #100DaysOfCode  #DEVCommunity  #CodeNewbie  #Flutter #DataScience #MachineLearning #React #CyberSecurity  #nursing  📩:@brook_writers https://t.co/QBINVzES9O',\n",
       "       ' #COVID19 & #connectedhealth',\n",
       "       ' Files Lawsuit Against Operatorshttps://www.scssnys.com/google-takes-down-glupteba-botnet-files-lawsuit-against-operators/',\n",
       "       ' 51 Stolen Data Brokers Arrested in Ukraine https://t.co/dsSY7ApSx5   #data #ransomware',\n",
       "       ' Ή μήπως το σκασμός σε πολίτες με οποιοδήποτε τρόπο το ονομάζετε damage control? Όσο και να ρίχνετε tweets θα φωνάζουμε #Μητσοτακη_που_ειναι_τα_παιδια'],\n",
       "      dtype=object)"
      ]
     },
     "execution_count": 6,
     "metadata": {},
     "output_type": "execute_result"
    }
   ],
   "source": [
    "cyber.label.unique() # for cyber dataset"
   ]
  },
  {
   "cell_type": "code",
   "execution_count": 7,
   "id": "e153731c",
   "metadata": {},
   "outputs": [
    {
     "data": {
      "text/html": [
       "<div>\n",
       "<style scoped>\n",
       "    .dataframe tbody tr th:only-of-type {\n",
       "        vertical-align: middle;\n",
       "    }\n",
       "\n",
       "    .dataframe tbody tr th {\n",
       "        vertical-align: top;\n",
       "    }\n",
       "\n",
       "    .dataframe thead th {\n",
       "        text-align: right;\n",
       "    }\n",
       "</style>\n",
       "<table border=\"1\" class=\"dataframe\">\n",
       "  <thead>\n",
       "    <tr style=\"text-align: right;\">\n",
       "      <th></th>\n",
       "      <th>text</th>\n",
       "      <th>label</th>\n",
       "    </tr>\n",
       "  </thead>\n",
       "  <tbody>\n",
       "    <tr>\n",
       "      <th>199990</th>\n",
       "      <td>I gave +Kred to @Shirastweet on @Kred #influen...</td>\n",
       "      <td>1</td>\n",
       "    </tr>\n",
       "    <tr>\n",
       "      <th>199991</th>\n",
       "      <td>AXA pledges to stop reimbursing ransom payment...</td>\n",
       "      <td>1</td>\n",
       "    </tr>\n",
       "    <tr>\n",
       "      <th>199992</th>\n",
       "      <td>\"Researchers warn that PrivateLoader pay-per-i...</td>\n",
       "      <td>1</td>\n",
       "    </tr>\n",
       "    <tr>\n",
       "      <th>199993</th>\n",
       "      <td>Well... I started the Journey into #CyberSecur...</td>\n",
       "      <td>1</td>\n",
       "    </tr>\n",
       "    <tr>\n",
       "      <th>199994</th>\n",
       "      <td>Know More About Cybersecurity and Data Privacy...</td>\n",
       "      <td>1</td>\n",
       "    </tr>\n",
       "    <tr>\n",
       "      <th>199995</th>\n",
       "      <td>#Webinar Our so much awaited webinar addressin...</td>\n",
       "      <td>1</td>\n",
       "    </tr>\n",
       "    <tr>\n",
       "      <th>199996</th>\n",
       "      <td>The threat of #ransomware is nothing new, but ...</td>\n",
       "      <td>1</td>\n",
       "    </tr>\n",
       "    <tr>\n",
       "      <th>199997</th>\n",
       "      <td>Shadow Code From Third-Party Libraries Is a Ma...</td>\n",
       "      <td>1</td>\n",
       "    </tr>\n",
       "    <tr>\n",
       "      <th>199998</th>\n",
       "      <td>¿\"whose our-s-ing as which-s &amp;/or whose-s stat...</td>\n",
       "      <td>1</td>\n",
       "    </tr>\n",
       "    <tr>\n",
       "      <th>199999</th>\n",
       "      <td>Senior Manager RGM Retail Programs  #Job #Leba...</td>\n",
       "      <td>1</td>\n",
       "    </tr>\n",
       "  </tbody>\n",
       "</table>\n",
       "</div>"
      ],
      "text/plain": [
       "                                                     text label\n",
       "199990  I gave +Kred to @Shirastweet on @Kred #influen...     1\n",
       "199991  AXA pledges to stop reimbursing ransom payment...     1\n",
       "199992  \"Researchers warn that PrivateLoader pay-per-i...     1\n",
       "199993  Well... I started the Journey into #CyberSecur...     1\n",
       "199994  Know More About Cybersecurity and Data Privacy...     1\n",
       "199995  #Webinar Our so much awaited webinar addressin...     1\n",
       "199996  The threat of #ransomware is nothing new, but ...     1\n",
       "199997  Shadow Code From Third-Party Libraries Is a Ma...     1\n",
       "199998  ¿\"whose our-s-ing as which-s &/or whose-s stat...     1\n",
       "199999  Senior Manager RGM Retail Programs  #Job #Leba...     1"
      ]
     },
     "execution_count": 7,
     "metadata": {},
     "output_type": "execute_result"
    }
   ],
   "source": [
    "cyber[-10:]"
   ]
  },
  {
   "cell_type": "code",
   "execution_count": 8,
   "id": "3628f691",
   "metadata": {},
   "outputs": [
    {
     "data": {
      "text/plain": [
       "952"
      ]
     },
     "execution_count": 8,
     "metadata": {},
     "output_type": "execute_result"
    }
   ],
   "source": [
    "len(cyber.label.unique()) # check count how many uniques are there"
   ]
  },
  {
   "cell_type": "code",
   "execution_count": 9,
   "id": "5808bcad",
   "metadata": {},
   "outputs": [
    {
     "data": {
      "text/plain": [
       "array(['0', ' thousands clicked through https://t.co/k2Q49rERql',\n",
       "       ' this opens up a whole new window for the bad guys.  https://t.co/V3UclU9qrh  #kubernetes #windows #cyberscurity #malwareattack',\n",
       "       ..., ' https://t.co/IScXnqp4is',\n",
       "       \" the number of concerned colleagues who generously reach out to let you know you've been used in a phishing attempt ☺️\",\n",
       "       \" investigation 'ongoing' https://t.co/h0k4Eq0pOG #uncategorized #feedly\"],\n",
       "      dtype=object)"
      ]
     },
     "execution_count": 9,
     "metadata": {},
     "output_type": "execute_result"
    }
   ],
   "source": [
    "non_cyber.label.unique() # check for non_cyber dataset"
   ]
  },
  {
   "cell_type": "code",
   "execution_count": 10,
   "id": "d0c26e1b",
   "metadata": {},
   "outputs": [
    {
     "data": {
      "text/plain": [
       "1098"
      ]
     },
     "execution_count": 10,
     "metadata": {},
     "output_type": "execute_result"
    }
   ],
   "source": [
    "len(non_cyber.label.unique())"
   ]
  },
  {
   "cell_type": "markdown",
   "id": "90115764",
   "metadata": {},
   "source": [
    "#### I'm getting here at label column in both the dataset, some unique which is not good.\n",
    "we need to clean that so that we can move forword"
   ]
  },
  {
   "cell_type": "code",
   "execution_count": 11,
   "id": "f3a02213",
   "metadata": {},
   "outputs": [],
   "source": [
    "cyber['label'] = cyber.label.replace(cyber.label.unique(), 1) # replacing the value for cyber dataset"
   ]
  },
  {
   "cell_type": "code",
   "execution_count": 12,
   "id": "c8c6a061",
   "metadata": {},
   "outputs": [],
   "source": [
    "cyber_labeled = cyber"
   ]
  },
  {
   "cell_type": "code",
   "execution_count": 13,
   "id": "a53dee00",
   "metadata": {},
   "outputs": [
    {
     "data": {
      "text/html": [
       "<div>\n",
       "<style scoped>\n",
       "    .dataframe tbody tr th:only-of-type {\n",
       "        vertical-align: middle;\n",
       "    }\n",
       "\n",
       "    .dataframe tbody tr th {\n",
       "        vertical-align: top;\n",
       "    }\n",
       "\n",
       "    .dataframe thead th {\n",
       "        text-align: right;\n",
       "    }\n",
       "</style>\n",
       "<table border=\"1\" class=\"dataframe\">\n",
       "  <thead>\n",
       "    <tr style=\"text-align: right;\">\n",
       "      <th></th>\n",
       "      <th>text</th>\n",
       "      <th>label</th>\n",
       "    </tr>\n",
       "  </thead>\n",
       "  <tbody>\n",
       "    <tr>\n",
       "      <th>0</th>\n",
       "      <td>#AI Robo-Advisers and the Future of Financial ...</td>\n",
       "      <td>1</td>\n",
       "    </tr>\n",
       "    <tr>\n",
       "      <th>1</th>\n",
       "      <td>Hackers causing havoc on Mexican banking syste...</td>\n",
       "      <td>1</td>\n",
       "    </tr>\n",
       "    <tr>\n",
       "      <th>2</th>\n",
       "      <td>CVE-2019-13127 An issue was discovered in mxGr...</td>\n",
       "      <td>1</td>\n",
       "    </tr>\n",
       "    <tr>\n",
       "      <th>3</th>\n",
       "      <td>How to protect your online identity #labourcyb...</td>\n",
       "      <td>1</td>\n",
       "    </tr>\n",
       "    <tr>\n",
       "      <th>4</th>\n",
       "      <td>Forensic Acquisition - Shadow Cyber Sec  https...</td>\n",
       "      <td>1</td>\n",
       "    </tr>\n",
       "  </tbody>\n",
       "</table>\n",
       "</div>"
      ],
      "text/plain": [
       "                                                text  label\n",
       "0  #AI Robo-Advisers and the Future of Financial ...      1\n",
       "1  Hackers causing havoc on Mexican banking syste...      1\n",
       "2  CVE-2019-13127 An issue was discovered in mxGr...      1\n",
       "3  How to protect your online identity #labourcyb...      1\n",
       "4  Forensic Acquisition - Shadow Cyber Sec  https...      1"
      ]
     },
     "execution_count": 13,
     "metadata": {},
     "output_type": "execute_result"
    }
   ],
   "source": [
    "cyber_labeled.head()"
   ]
  },
  {
   "cell_type": "code",
   "execution_count": 14,
   "id": "18cd46c1",
   "metadata": {},
   "outputs": [
    {
     "data": {
      "text/plain": [
       "1"
      ]
     },
     "execution_count": 14,
     "metadata": {},
     "output_type": "execute_result"
    }
   ],
   "source": [
    "len(cyber_labeled.label.unique())"
   ]
  },
  {
   "cell_type": "code",
   "execution_count": 15,
   "id": "ab5cd7ac",
   "metadata": {},
   "outputs": [],
   "source": [
    "non_cyber['label'] = non_cyber.label.replace(non_cyber.label.unique(), 0)"
   ]
  },
  {
   "cell_type": "code",
   "execution_count": 16,
   "id": "98594e26",
   "metadata": {},
   "outputs": [],
   "source": [
    "non_cyber_labeled = non_cyber"
   ]
  },
  {
   "cell_type": "code",
   "execution_count": 17,
   "id": "6375f4f0",
   "metadata": {},
   "outputs": [
    {
     "data": {
      "text/html": [
       "<div>\n",
       "<style scoped>\n",
       "    .dataframe tbody tr th:only-of-type {\n",
       "        vertical-align: middle;\n",
       "    }\n",
       "\n",
       "    .dataframe tbody tr th {\n",
       "        vertical-align: top;\n",
       "    }\n",
       "\n",
       "    .dataframe thead th {\n",
       "        text-align: right;\n",
       "    }\n",
       "</style>\n",
       "<table border=\"1\" class=\"dataframe\">\n",
       "  <thead>\n",
       "    <tr style=\"text-align: right;\">\n",
       "      <th></th>\n",
       "      <th>text</th>\n",
       "      <th>label</th>\n",
       "    </tr>\n",
       "  </thead>\n",
       "  <tbody>\n",
       "    <tr>\n",
       "      <th>0</th>\n",
       "      <td>Samsung Galaxy Tab Active Pro review: Rugged, ...</td>\n",
       "      <td>0</td>\n",
       "    </tr>\n",
       "    <tr>\n",
       "      <th>1</th>\n",
       "      <td>Malware on Target - Pages 4 and 5 #fnaf  See a...</td>\n",
       "      <td>0</td>\n",
       "    </tr>\n",
       "    <tr>\n",
       "      <th>2</th>\n",
       "      <td>A curated list of amazingly awesome OSINT: htt...</td>\n",
       "      <td>0</td>\n",
       "    </tr>\n",
       "    <tr>\n",
       "      <th>3</th>\n",
       "      <td>Thank you for tipping for Zero-day tokens for ...</td>\n",
       "      <td>0</td>\n",
       "    </tr>\n",
       "    <tr>\n",
       "      <th>4</th>\n",
       "      <td>From making sure they don't fall for phishing ...</td>\n",
       "      <td>0</td>\n",
       "    </tr>\n",
       "  </tbody>\n",
       "</table>\n",
       "</div>"
      ],
      "text/plain": [
       "                                                text  label\n",
       "0  Samsung Galaxy Tab Active Pro review: Rugged, ...      0\n",
       "1  Malware on Target - Pages 4 and 5 #fnaf  See a...      0\n",
       "2  A curated list of amazingly awesome OSINT: htt...      0\n",
       "3  Thank you for tipping for Zero-day tokens for ...      0\n",
       "4  From making sure they don't fall for phishing ...      0"
      ]
     },
     "execution_count": 17,
     "metadata": {},
     "output_type": "execute_result"
    }
   ],
   "source": [
    "non_cyber_labeled.head()"
   ]
  },
  {
   "cell_type": "code",
   "execution_count": 18,
   "id": "b921f825",
   "metadata": {},
   "outputs": [
    {
     "data": {
      "text/plain": [
       "1"
      ]
     },
     "execution_count": 18,
     "metadata": {},
     "output_type": "execute_result"
    }
   ],
   "source": [
    "len(non_cyber_labeled.label.unique())"
   ]
  },
  {
   "cell_type": "code",
   "execution_count": 19,
   "id": "1e487581",
   "metadata": {},
   "outputs": [
    {
     "name": "stdout",
     "output_type": "stream",
     "text": [
      "0    200000\n",
      "Name: label, dtype: int64\n"
     ]
    }
   ],
   "source": [
    "#check the distribution of labels \n",
    "print(non_cyber_labeled['label'].value_counts())"
   ]
  },
  {
   "cell_type": "markdown",
   "id": "6d9aa918",
   "metadata": {},
   "source": [
    "### concanet the data frame => cyber_labeled + non_cyber_labeled = data"
   ]
  },
  {
   "cell_type": "code",
   "execution_count": 20,
   "id": "2491de44",
   "metadata": {},
   "outputs": [
    {
     "name": "stdout",
     "output_type": "stream",
     "text": [
      "(400000, 2)\n"
     ]
    },
    {
     "data": {
      "text/html": [
       "<div>\n",
       "<style scoped>\n",
       "    .dataframe tbody tr th:only-of-type {\n",
       "        vertical-align: middle;\n",
       "    }\n",
       "\n",
       "    .dataframe tbody tr th {\n",
       "        vertical-align: top;\n",
       "    }\n",
       "\n",
       "    .dataframe thead th {\n",
       "        text-align: right;\n",
       "    }\n",
       "</style>\n",
       "<table border=\"1\" class=\"dataframe\">\n",
       "  <thead>\n",
       "    <tr style=\"text-align: right;\">\n",
       "      <th></th>\n",
       "      <th>text</th>\n",
       "      <th>label</th>\n",
       "    </tr>\n",
       "  </thead>\n",
       "  <tbody>\n",
       "    <tr>\n",
       "      <th>0</th>\n",
       "      <td>#AI Robo-Advisers and the Future of Financial ...</td>\n",
       "      <td>1</td>\n",
       "    </tr>\n",
       "    <tr>\n",
       "      <th>1</th>\n",
       "      <td>Hackers causing havoc on Mexican banking syste...</td>\n",
       "      <td>1</td>\n",
       "    </tr>\n",
       "    <tr>\n",
       "      <th>2</th>\n",
       "      <td>CVE-2019-13127 An issue was discovered in mxGr...</td>\n",
       "      <td>1</td>\n",
       "    </tr>\n",
       "    <tr>\n",
       "      <th>3</th>\n",
       "      <td>How to protect your online identity #labourcyb...</td>\n",
       "      <td>1</td>\n",
       "    </tr>\n",
       "    <tr>\n",
       "      <th>4</th>\n",
       "      <td>Forensic Acquisition - Shadow Cyber Sec  https...</td>\n",
       "      <td>1</td>\n",
       "    </tr>\n",
       "  </tbody>\n",
       "</table>\n",
       "</div>"
      ],
      "text/plain": [
       "                                                text  label\n",
       "0  #AI Robo-Advisers and the Future of Financial ...      1\n",
       "1  Hackers causing havoc on Mexican banking syste...      1\n",
       "2  CVE-2019-13127 An issue was discovered in mxGr...      1\n",
       "3  How to protect your online identity #labourcyb...      1\n",
       "4  Forensic Acquisition - Shadow Cyber Sec  https...      1"
      ]
     },
     "execution_count": 20,
     "metadata": {},
     "output_type": "execute_result"
    }
   ],
   "source": [
    "# concatenating df1 and df2 along rows\n",
    "data = pd.concat([cyber_labeled, non_cyber_labeled], axis=0, ignore_index=True)\n",
    "print(data.shape)\n",
    "data.head()"
   ]
  },
  {
   "cell_type": "code",
   "execution_count": 21,
   "id": "e06d4299",
   "metadata": {},
   "outputs": [
    {
     "name": "stdout",
     "output_type": "stream",
     "text": [
      "1    200000\n",
      "0    200000\n",
      "Name: label, dtype: int64\n"
     ]
    }
   ],
   "source": [
    "#check the distribution of labels \n",
    "print(data['label'].value_counts())"
   ]
  },
  {
   "cell_type": "code",
   "execution_count": 22,
   "id": "61305e56",
   "metadata": {},
   "outputs": [
    {
     "data": {
      "text/plain": [
       "2"
      ]
     },
     "execution_count": 22,
     "metadata": {},
     "output_type": "execute_result"
    }
   ],
   "source": [
    "len(data.label.unique())"
   ]
  },
  {
   "cell_type": "code",
   "execution_count": 23,
   "id": "c280b123",
   "metadata": {},
   "outputs": [],
   "source": [
    "# def preprocess_txt(text: str , remove_stopwords: bool) -> List[str]:\n",
    "\n",
    "#     # Remove links\n",
    "#     text = re.sub(r\"http\\S+\", \"\", text)\n",
    "    \n",
    "#     # remove special chars and numbers\n",
    "#     text = re.sub(\"[^A-Za-z]+\", \" \", text)\n",
    "    \n",
    "#     # remove stopwords\n",
    "#     if remove_stopwords:\n",
    "#         # 1. tokenize\n",
    "#         tokens = nltk.word_tokenize(text)\n",
    "        \n",
    "#         # 2. check if stopword\n",
    "#         tokens = [w for w in tokens if not w.lower() in stopwords.words(\"english\")]\n",
    "        \n",
    "#         # 3. join back together\n",
    "#         text = \" \".join(tokens)\n",
    "        \n",
    "#     # return text in lower case and stripped of whitespaces\n",
    "#     text = text.lower().strip()\n",
    "#     return text\n"
   ]
  },
  {
   "cell_type": "code",
   "execution_count": 24,
   "id": "70d8a748",
   "metadata": {},
   "outputs": [],
   "source": [
    "# data['text_tokens'] = data['text'].apply(lambda x: preprocess_text(x, remove_stopwords=True))"
   ]
  },
  {
   "cell_type": "code",
   "execution_count": 25,
   "id": "ed512e2e",
   "metadata": {},
   "outputs": [],
   "source": [
    "def preprocess_text(text: str) -> List[str]:\n",
    "    # Remove links\n",
    "    text = re.sub(r\"http\\S+\", \"\", text)\n",
    "    \n",
    "    # remove special chars and numbers\n",
    "    text = re.sub(\"[^A-Za-z]+\", \" \", text)\n",
    "    \n",
    "    text = text.lower()\n",
    "    text = re.sub(\n",
    "        f\"[{re.escape(string.punctuation)}]\", \"\", text\n",
    "    )\n",
    "    text_tokens = word_tokenize(text)\n",
    "    text_without_stopwords = [word for word in text_tokens if word not in stop_words]\n",
    "    return text_without_stopwords"
   ]
  },
  {
   "cell_type": "code",
   "execution_count": 26,
   "id": "48f9714d",
   "metadata": {},
   "outputs": [
    {
     "data": {
      "text/plain": [
       "['ai',\n",
       " 'robo',\n",
       " 'advisers',\n",
       " 'future',\n",
       " 'financial',\n",
       " 'advice',\n",
       " 'dataprotection',\n",
       " 'privacy',\n",
       " 'infosec',\n",
       " 'cybersecurity',\n",
       " 'bigdata',\n",
       " 'ai']"
      ]
     },
     "execution_count": 26,
     "metadata": {},
     "output_type": "execute_result"
    }
   ],
   "source": [
    "xd = preprocess_text(data['text'][0])\n",
    "xd"
   ]
  },
  {
   "cell_type": "code",
   "execution_count": 27,
   "id": "0dbacbf9",
   "metadata": {},
   "outputs": [],
   "source": [
    "data[\"text_tokens\"] = data[\"text\"].apply(lambda x: preprocess_text(x))"
   ]
  },
  {
   "cell_type": "code",
   "execution_count": 28,
   "id": "65045567",
   "metadata": {
    "scrolled": false
   },
   "outputs": [
    {
     "data": {
      "text/html": [
       "<div>\n",
       "<style scoped>\n",
       "    .dataframe tbody tr th:only-of-type {\n",
       "        vertical-align: middle;\n",
       "    }\n",
       "\n",
       "    .dataframe tbody tr th {\n",
       "        vertical-align: top;\n",
       "    }\n",
       "\n",
       "    .dataframe thead th {\n",
       "        text-align: right;\n",
       "    }\n",
       "</style>\n",
       "<table border=\"1\" class=\"dataframe\">\n",
       "  <thead>\n",
       "    <tr style=\"text-align: right;\">\n",
       "      <th></th>\n",
       "      <th>text</th>\n",
       "      <th>label</th>\n",
       "      <th>text_tokens</th>\n",
       "    </tr>\n",
       "  </thead>\n",
       "  <tbody>\n",
       "    <tr>\n",
       "      <th>0</th>\n",
       "      <td>#AI Robo-Advisers and the Future of Financial ...</td>\n",
       "      <td>1</td>\n",
       "      <td>[ai, robo, advisers, future, financial, advice...</td>\n",
       "    </tr>\n",
       "    <tr>\n",
       "      <th>1</th>\n",
       "      <td>Hackers causing havoc on Mexican banking syste...</td>\n",
       "      <td>1</td>\n",
       "      <td>[hackers, causing, havoc, mexican, banking, sy...</td>\n",
       "    </tr>\n",
       "    <tr>\n",
       "      <th>2</th>\n",
       "      <td>CVE-2019-13127 An issue was discovered in mxGr...</td>\n",
       "      <td>1</td>\n",
       "      <td>[cve, issue, discovered, mxgraph, related, dia...</td>\n",
       "    </tr>\n",
       "    <tr>\n",
       "      <th>3</th>\n",
       "      <td>How to protect your online identity #labourcyb...</td>\n",
       "      <td>1</td>\n",
       "      <td>[protect, online, identity, labourcyberattack,...</td>\n",
       "    </tr>\n",
       "    <tr>\n",
       "      <th>4</th>\n",
       "      <td>Forensic Acquisition - Shadow Cyber Sec  https...</td>\n",
       "      <td>1</td>\n",
       "      <td>[forensic, acquisition, shadow, cyber, sec, cy...</td>\n",
       "    </tr>\n",
       "  </tbody>\n",
       "</table>\n",
       "</div>"
      ],
      "text/plain": [
       "                                                text  label  \\\n",
       "0  #AI Robo-Advisers and the Future of Financial ...      1   \n",
       "1  Hackers causing havoc on Mexican banking syste...      1   \n",
       "2  CVE-2019-13127 An issue was discovered in mxGr...      1   \n",
       "3  How to protect your online identity #labourcyb...      1   \n",
       "4  Forensic Acquisition - Shadow Cyber Sec  https...      1   \n",
       "\n",
       "                                         text_tokens  \n",
       "0  [ai, robo, advisers, future, financial, advice...  \n",
       "1  [hackers, causing, havoc, mexican, banking, sy...  \n",
       "2  [cve, issue, discovered, mxgraph, related, dia...  \n",
       "3  [protect, online, identity, labourcyberattack,...  \n",
       "4  [forensic, acquisition, shadow, cyber, sec, cy...  "
      ]
     },
     "execution_count": 28,
     "metadata": {},
     "output_type": "execute_result"
    }
   ],
   "source": [
    "data.head()"
   ]
  },
  {
   "cell_type": "code",
   "execution_count": 29,
   "id": "42d0f301",
   "metadata": {},
   "outputs": [],
   "source": [
    "cleaned_text_tokens = data['text_tokens'].values"
   ]
  },
  {
   "cell_type": "code",
   "execution_count": 30,
   "id": "41d99d30",
   "metadata": {},
   "outputs": [
    {
     "data": {
      "text/plain": [
       "['time',\n",
       " 'pursue',\n",
       " 'international',\n",
       " 'cyber',\n",
       " 'treaty',\n",
       " 'nation',\n",
       " 'cybersecurity',\n",
       " 'infosec',\n",
       " 'treaty',\n",
       " 'international']"
      ]
     },
     "execution_count": 30,
     "metadata": {},
     "output_type": "execute_result"
    }
   ],
   "source": [
    "cleaned_text_tokens[5]"
   ]
  },
  {
   "cell_type": "code",
   "execution_count": 205,
   "id": "50c530cd",
   "metadata": {},
   "outputs": [],
   "source": [
    "w2v_model = Word2Vec(sentences=cleaned_text_tokens, vector_size=100)"
   ]
  },
  {
   "cell_type": "code",
   "execution_count": 206,
   "id": "d20498fc",
   "metadata": {},
   "outputs": [
    {
     "name": "stdout",
     "output_type": "stream",
     "text": [
      "Word2Vec<vocab=48846, vector_size=100, alpha=0.025>\n"
     ]
    }
   ],
   "source": [
    "print(w2v_model)"
   ]
  },
  {
   "cell_type": "code",
   "execution_count": 207,
   "id": "081f5e72",
   "metadata": {
    "scrolled": false
   },
   "outputs": [
    {
     "data": {
      "text/plain": [
       "[('innovation', 0.5327626466751099),\n",
       " ('aibias', 0.4998008906841278),\n",
       " ('gans', 0.4986218214035034),\n",
       " ('sensors', 0.4890519976615906),\n",
       " ('snndc', 0.4848827123641968),\n",
       " ('automation', 0.481969952583313),\n",
       " ('produce', 0.4666871726512909),\n",
       " ('openai', 0.46201637387275696),\n",
       " ('predictiveanalytics', 0.45997318625450134),\n",
       " ('innovative', 0.4555313289165497)]"
      ]
     },
     "execution_count": 207,
     "metadata": {},
     "output_type": "execute_result"
    }
   ],
   "source": [
    "w2v_model.wv.most_similar(\"ai\")"
   ]
  },
  {
   "cell_type": "code",
   "execution_count": 208,
   "id": "c048da61",
   "metadata": {},
   "outputs": [],
   "source": [
    "def sent_vec(sent):\n",
    "    vector_size = w2v_model.vector_size\n",
    "    wv_res = np.zeros(vector_size)\n",
    "    # print(wv_res)\n",
    "    ctr = 1\n",
    "    for w in sent:\n",
    "        if w in w2v_model.wv:\n",
    "            ctr += 1\n",
    "            wv_res += w2v_model.wv[w]\n",
    "    wv_res = wv_res/ctr\n",
    "    return wv_res"
   ]
  },
  {
   "cell_type": "code",
   "execution_count": 209,
   "id": "0577a9b8",
   "metadata": {},
   "outputs": [
    {
     "data": {
      "text/html": [
       "<div>\n",
       "<style scoped>\n",
       "    .dataframe tbody tr th:only-of-type {\n",
       "        vertical-align: middle;\n",
       "    }\n",
       "\n",
       "    .dataframe tbody tr th {\n",
       "        vertical-align: top;\n",
       "    }\n",
       "\n",
       "    .dataframe thead th {\n",
       "        text-align: right;\n",
       "    }\n",
       "</style>\n",
       "<table border=\"1\" class=\"dataframe\">\n",
       "  <thead>\n",
       "    <tr style=\"text-align: right;\">\n",
       "      <th></th>\n",
       "      <th>text</th>\n",
       "      <th>label</th>\n",
       "      <th>text_tokens</th>\n",
       "      <th>vector</th>\n",
       "    </tr>\n",
       "  </thead>\n",
       "  <tbody>\n",
       "    <tr>\n",
       "      <th>0</th>\n",
       "      <td>#AI Robo-Advisers and the Future of Financial ...</td>\n",
       "      <td>1</td>\n",
       "      <td>[ai, robo, advisers, future, financial, advice...</td>\n",
       "      <td>[-1.5062783383406126, 0.2905902861116024, 0.30...</td>\n",
       "    </tr>\n",
       "    <tr>\n",
       "      <th>1</th>\n",
       "      <td>Hackers causing havoc on Mexican banking syste...</td>\n",
       "      <td>1</td>\n",
       "      <td>[hackers, causing, havoc, mexican, banking, sy...</td>\n",
       "      <td>[-0.8000948880799115, 0.6700714640319347, 0.53...</td>\n",
       "    </tr>\n",
       "    <tr>\n",
       "      <th>2</th>\n",
       "      <td>CVE-2019-13127 An issue was discovered in mxGr...</td>\n",
       "      <td>1</td>\n",
       "      <td>[cve, issue, discovered, mxgraph, related, dia...</td>\n",
       "      <td>[-0.26206380863570505, 0.7194017469882965, 0.8...</td>\n",
       "    </tr>\n",
       "    <tr>\n",
       "      <th>3</th>\n",
       "      <td>How to protect your online identity #labourcyb...</td>\n",
       "      <td>1</td>\n",
       "      <td>[protect, online, identity, labourcyberattack,...</td>\n",
       "      <td>[-1.567341387271881, 0.006551363815863927, 0.1...</td>\n",
       "    </tr>\n",
       "    <tr>\n",
       "      <th>4</th>\n",
       "      <td>Forensic Acquisition - Shadow Cyber Sec  https...</td>\n",
       "      <td>1</td>\n",
       "      <td>[forensic, acquisition, shadow, cyber, sec, cy...</td>\n",
       "      <td>[-1.3461534907420476, 0.2444593181212743, -0.2...</td>\n",
       "    </tr>\n",
       "  </tbody>\n",
       "</table>\n",
       "</div>"
      ],
      "text/plain": [
       "                                                text  label  \\\n",
       "0  #AI Robo-Advisers and the Future of Financial ...      1   \n",
       "1  Hackers causing havoc on Mexican banking syste...      1   \n",
       "2  CVE-2019-13127 An issue was discovered in mxGr...      1   \n",
       "3  How to protect your online identity #labourcyb...      1   \n",
       "4  Forensic Acquisition - Shadow Cyber Sec  https...      1   \n",
       "\n",
       "                                         text_tokens  \\\n",
       "0  [ai, robo, advisers, future, financial, advice...   \n",
       "1  [hackers, causing, havoc, mexican, banking, sy...   \n",
       "2  [cve, issue, discovered, mxgraph, related, dia...   \n",
       "3  [protect, online, identity, labourcyberattack,...   \n",
       "4  [forensic, acquisition, shadow, cyber, sec, cy...   \n",
       "\n",
       "                                              vector  \n",
       "0  [-1.5062783383406126, 0.2905902861116024, 0.30...  \n",
       "1  [-0.8000948880799115, 0.6700714640319347, 0.53...  \n",
       "2  [-0.26206380863570505, 0.7194017469882965, 0.8...  \n",
       "3  [-1.567341387271881, 0.006551363815863927, 0.1...  \n",
       "4  [-1.3461534907420476, 0.2444593181212743, -0.2...  "
      ]
     },
     "execution_count": 209,
     "metadata": {},
     "output_type": "execute_result"
    }
   ],
   "source": [
    "data['vector'] = data['text_tokens'].apply(sent_vec)\n",
    "data.head()"
   ]
  },
  {
   "cell_type": "code",
   "execution_count": 210,
   "id": "55206c3d",
   "metadata": {},
   "outputs": [],
   "source": [
    "# X = data['vector'].to_list()\n",
    "# y = data['label'].to_list()"
   ]
  },
  {
   "cell_type": "code",
   "execution_count": 211,
   "id": "7e2e9096",
   "metadata": {
    "scrolled": true
   },
   "outputs": [
    {
     "data": {
      "text/plain": [
       "1"
      ]
     },
     "execution_count": 211,
     "metadata": {},
     "output_type": "execute_result"
    }
   ],
   "source": [
    "data['label'][9999]"
   ]
  },
  {
   "cell_type": "markdown",
   "id": "45702f9d",
   "metadata": {},
   "source": [
    "### Trying with TF-IDF also"
   ]
  },
  {
   "cell_type": "code",
   "execution_count": 213,
   "id": "9c177895",
   "metadata": {},
   "outputs": [],
   "source": [
    "from sklearn.feature_extraction.text import TfidfVectorizer \n",
    "vectorizer = TfidfVectorizer()"
   ]
  },
  {
   "cell_type": "code",
   "execution_count": 214,
   "id": "65ff0586",
   "metadata": {},
   "outputs": [
    {
     "name": "stdout",
     "output_type": "stream",
     "text": [
      "['ai', 'robo', 'advisers', 'future', 'financial', 'advice', 'dataprotection', 'privacy', 'infosec', 'cybersecurity', 'bigdata', 'ai']\n",
      "[[0. 0. 1. 0. 0. 0. 0. 0. 0. 0. 0.]\n",
      " [0. 0. 0. 0. 0. 0. 0. 0. 0. 0. 1.]\n",
      " [0. 1. 0. 0. 0. 0. 0. 0. 0. 0. 0.]\n",
      " [0. 0. 0. 0. 0. 0. 0. 1. 0. 0. 0.]\n",
      " [0. 0. 0. 0. 0. 0. 1. 0. 0. 0. 0.]\n",
      " [1. 0. 0. 0. 0. 0. 0. 0. 0. 0. 0.]\n",
      " [0. 0. 0. 0. 0. 1. 0. 0. 0. 0. 0.]\n",
      " [0. 0. 0. 0. 0. 0. 0. 0. 0. 1. 0.]\n",
      " [0. 0. 0. 0. 0. 0. 0. 0. 1. 0. 0.]\n",
      " [0. 0. 0. 0. 1. 0. 0. 0. 0. 0. 0.]\n",
      " [0. 0. 0. 1. 0. 0. 0. 0. 0. 0. 0.]\n",
      " [0. 0. 1. 0. 0. 0. 0. 0. 0. 0. 0.]]\n"
     ]
    }
   ],
   "source": [
    "def tfidf_score(text):\n",
    "    for i in text:\n",
    "        print(i)\n",
    "        da = vectorizer.fit_transform(i).toarray()\n",
    "        return da\n",
    "a = tfidf_score(data['text_tokens'][:10])\n",
    "print(a)"
   ]
  },
  {
   "cell_type": "code",
   "execution_count": null,
   "id": "bb628cc3",
   "metadata": {},
   "outputs": [],
   "source": []
  },
  {
   "cell_type": "code",
   "execution_count": null,
   "id": "c717d11b",
   "metadata": {},
   "outputs": [],
   "source": []
  },
  {
   "cell_type": "code",
   "execution_count": null,
   "id": "012b8255",
   "metadata": {},
   "outputs": [],
   "source": []
  },
  {
   "cell_type": "code",
   "execution_count": null,
   "id": "00360ada",
   "metadata": {},
   "outputs": [],
   "source": []
  },
  {
   "cell_type": "code",
   "execution_count": 215,
   "id": "e268aa11",
   "metadata": {},
   "outputs": [],
   "source": [
    "from sklearn.model_selection import train_test_split\n",
    "\n",
    "\n",
    "#Do the 'train-test' splitting with test size of 20% with random state of 2022 and stratify sampling too\n",
    "X_train, X_test, y_train, y_test = train_test_split(\n",
    "    data.vector.values, \n",
    "    data.label, \n",
    "    test_size=0.2, # 20% samples will go to test dataset\n",
    "    random_state=2022,\n",
    "    stratify=data.label\n",
    ")"
   ]
  },
  {
   "cell_type": "code",
   "execution_count": 216,
   "id": "56bd6c1d",
   "metadata": {},
   "outputs": [
    {
     "data": {
      "text/plain": [
       "array([array([-5.88249715e-01,  4.94763244e-01,  5.50370617e-02,  2.57485614e-01,\n",
       "               1.04053285e-01,  4.32218292e-01, -1.94463862e-01,  4.70535850e-01,\n",
       "              -2.57630344e-03,  5.84923178e-01, -3.30177665e-01,  4.00407819e-01,\n",
       "              -5.54580430e-01,  3.72158587e-01,  2.47618521e-01, -2.46007893e-01,\n",
       "              -4.88108626e-01, -4.00947807e-02, -7.44088445e-01, -2.09597571e-01,\n",
       "              -3.92306020e-01,  8.42526801e-01,  1.21301750e-01, -4.43689190e-02,\n",
       "              -1.98269621e-01, -5.54367222e-01, -4.41711396e-04,  2.06747191e-01,\n",
       "               6.94507435e-01, -4.06159274e-03,  7.45377783e-02, -3.14270223e-01,\n",
       "              -5.41525608e-01,  1.23848634e-01, -4.74096417e-01,  4.11366638e-01,\n",
       "               4.72912230e-01, -5.73134972e-01,  5.87174958e-01,  5.85036225e-01,\n",
       "              -2.88175785e-01,  5.72147314e-01,  9.11621435e-02, -1.70736194e-01,\n",
       "              -1.31849676e-01, -5.17111123e-02, -1.63344231e-01,  3.16967720e-01,\n",
       "              -9.42134699e-02,  1.97145397e-01, -3.57550245e-01,  2.15987340e-02,\n",
       "               6.64540380e-01,  4.32634480e-01,  6.20827992e-01,  2.49085533e-01,\n",
       "               3.09505803e-01,  2.75785573e-01, -1.71796171e-01, -4.82124795e-01,\n",
       "              -5.95067354e-01, -3.19508980e-01, -7.73674161e-01, -3.38694738e-01,\n",
       "              -1.59919847e-01, -4.66410311e-01, -3.69331265e-01,  2.96961523e-01,\n",
       "              -1.01251608e-01, -5.55119378e-01,  3.62953423e-02,  1.94839375e-01,\n",
       "               1.79384017e-01, -2.42003746e-01, -4.93781514e-01,  2.58172508e-01,\n",
       "               6.90847066e-01, -7.66073888e-02,  4.17698868e-01,  8.24437179e-02,\n",
       "              -3.08869760e-01,  3.16257426e-01,  1.87346794e-01, -5.84772739e-01,\n",
       "              -7.56915852e-01, -6.22802917e-02,  1.13315035e-01, -8.20243163e-02,\n",
       "              -4.05749995e-02,  2.66874878e-01, -1.57060232e-02,  7.45525382e-01,\n",
       "              -4.19937213e-01,  5.64893680e-01,  6.79238364e-02,  4.74258158e-01,\n",
       "              -5.10589859e-01,  6.67749867e-02,  3.04804841e-01, -4.84107452e-02]),\n",
       "       array([ 0.48745474,  0.0212324 ,  0.29279293,  0.26816407, -0.35891964,\n",
       "              -0.72618394,  0.66057625,  0.69087492, -0.16772229, -0.08864668,\n",
       "               0.15785292, -0.11686639, -0.02646277,  0.34767898, -0.30547615,\n",
       "               0.42006344, -0.33627061, -0.93164911, -0.85018358, -1.45782894,\n",
       "               0.29082255,  0.89384406,  0.68519216,  0.193333  , -0.08375387,\n",
       "               0.45229402,  0.33842898,  0.68310517, -0.20196284,  0.51187284,\n",
       "               0.76839647, -0.22691687,  0.98991895, -0.339388  , -0.01445748,\n",
       "               0.41481506,  0.63695391,  0.14240826, -1.15958   , -0.8027274 ,\n",
       "               0.35899882,  0.18191009, -0.64736898,  0.26495091,  0.40254652,\n",
       "              -0.34657402,  0.38472543,  1.14638655, -0.45634356,  0.14908001,\n",
       "              -0.13297247, -0.34647302, -0.69610365,  0.22245809, -0.35419148,\n",
       "               0.34924724, -0.16854189, -0.51780063,  0.13573069, -0.34076011,\n",
       "              -0.07509029,  0.17147181,  0.36488714, -0.04897198, -0.71101067,\n",
       "               0.93393667,  0.19396249,  0.27756517, -0.55818556, -0.05011516,\n",
       "              -0.1895266 , -0.31515532,  0.09588996,  0.19199157,  0.16233582,\n",
       "              -0.10303004, -0.5604233 , -0.22045825, -0.35521371, -0.35086719,\n",
       "               0.11399151, -0.15948053,  0.43018402,  0.56240163,  0.80800978,\n",
       "              -0.80742596, -0.7605096 , -0.02086384, -0.5555444 , -0.15991458,\n",
       "               0.43366054, -0.03430944,  1.0652067 , -0.96452722,  0.75632097,\n",
       "              -0.59744062, -0.00322789, -0.46873482, -0.4335097 ,  0.06924867]),\n",
       "       array([-0.86920519, -0.48688474,  1.07891393, -0.79964958,  0.43923877,\n",
       "               1.02585071, -0.55122109, -0.32057322, -0.5483318 , -0.19809022,\n",
       "               0.11973165, -0.26564937, -0.47068769, -0.07310442,  0.61643001,\n",
       "               0.53331547,  0.20097166,  0.71678201, -0.30241844, -0.47077033,\n",
       "              -0.04564169,  0.64284998, -1.05257467,  0.12722868,  0.62484967,\n",
       "              -0.38111953, -0.03280614, -0.29733001, -0.15403814, -0.16431189,\n",
       "              -0.27843782,  0.35011065, -0.52737507,  0.48223697, -0.44662523,\n",
       "              -0.02202286,  0.30254821, -0.61361137,  1.0510709 ,  0.89524134,\n",
       "              -0.04681691,  0.59723457,  0.84796865,  0.39540463, -0.54823884,\n",
       "              -0.59405747, -0.34091659, -0.62387028,  0.26444527,  0.32223337,\n",
       "              -0.8084617 ,  0.47032299,  0.1184684 , -0.75230737,  0.29544798,\n",
       "              -0.59202187,  0.20695361, -0.9665308 ,  0.12237115, -1.09401659,\n",
       "               0.25060424,  0.36381788, -0.43311729, -0.33778502,  0.33212667,\n",
       "              -0.20654757,  0.62189731,  0.51264498,  0.14702996, -0.2925351 ,\n",
       "              -0.83781621, -0.00406804, -0.35241768, -0.4306765 ,  0.13108536,\n",
       "               0.89217132, -0.28386904,  1.25604465, -0.77853362, -0.35710275,\n",
       "              -0.01389478,  0.65095763, -0.1906414 , -0.01079262, -0.01675167,\n",
       "               0.76817983,  0.0778709 ,  0.15570849,  0.56988594, -0.38102814,\n",
       "               0.07568001,  0.59717423, -0.32171689,  0.00604484,  0.32626721,\n",
       "              -0.59694604, -0.94017   , -0.17047192, -0.40600461, -0.28277598]),\n",
       "       ...,\n",
       "       array([-2.05952047e+00,  3.23481587e-01,  9.56492926e-01, -4.97050414e-01,\n",
       "               6.68499663e-01,  1.28411509e+00, -2.05889365e-01,  2.73734540e-01,\n",
       "               1.43512463e-04, -2.31496879e-01, -3.19052946e-01, -3.34485701e-01,\n",
       "              -7.36846152e-01, -6.46101506e-01,  6.62763690e-01,  5.28144872e-01,\n",
       "              -5.52639479e-01,  1.32956246e+00,  6.19453564e-03,  4.05868335e-01,\n",
       "              -3.06532631e-01,  5.17956200e-01,  3.82115746e-01,  9.51526997e-02,\n",
       "              -9.10752053e-01, -6.92436067e-01, -1.87258648e-01,  3.86477585e-02,\n",
       "               1.51694315e-01, -3.02677738e-01, -1.03349476e+00,  4.08957675e-02,\n",
       "              -8.01593684e-01,  5.25555935e-01, -8.69101379e-01,  3.93552239e-01,\n",
       "               1.17314387e+00, -5.04845242e-01,  7.40770715e-01, -9.19542362e-02,\n",
       "               9.97107949e-02,  1.19890110e+00, -2.97371658e-02,  3.27004741e-03,\n",
       "               1.36112091e-01, -6.48376288e-01, -8.45113681e-02,  8.76775907e-01,\n",
       "               9.55277830e-02, -6.06521430e-01, -3.12872158e-02,  3.92110912e-01,\n",
       "               1.21218994e+00, -1.94645365e-01,  2.70826928e-01, -6.16350397e-01,\n",
       "               3.57374969e-01, -3.20030066e-03,  8.21528145e-01,  5.99521836e-01,\n",
       "               2.25217244e-01,  1.46125803e+00, -1.61191298e+00,  1.58802168e-01,\n",
       "              -4.92861634e-01,  4.04515152e-02, -5.76309832e-02,  3.70556645e-01,\n",
       "              -6.37116384e-01, -5.10837792e-01,  2.73703152e-01,  7.09658278e-01,\n",
       "              -8.66050074e-02,  4.21360956e-01, -3.12601149e-01,  6.98638261e-01,\n",
       "               7.66259018e-01, -8.37667848e-02, -2.82651511e-02, -2.50656736e-01,\n",
       "              -2.21436913e-01,  4.38507153e-01,  2.45001604e-01, -2.04069434e-01,\n",
       "              -1.12974126e+00,  2.13326536e-01,  8.43155754e-01,  8.22704285e-01,\n",
       "              -4.11950032e-01, -4.32979925e-01,  2.92423945e-01,  1.11020179e+00,\n",
       "              -2.58228449e-01,  1.08186702e+00,  5.06483944e-01,  6.23813711e-01,\n",
       "              -2.93386113e-01,  2.71229912e-01,  1.01458493e+00, -2.93510809e-01]),\n",
       "       array([-0.94983825,  1.12511406,  1.1064022 , -1.16619106, -0.6507386 ,\n",
       "               0.44366086,  0.26433844,  0.3138491 , -0.57288501, -0.0957177 ,\n",
       "              -1.19349396,  0.15208937, -0.33502928, -0.50848802,  0.56440599,\n",
       "              -0.17388808, -1.07831438, -0.07440325, -0.68737032,  0.87075713,\n",
       "              -0.23450031, -0.25588043, -0.80062424, -1.45092894,  0.06168581,\n",
       "              -0.88969792,  0.4683544 , -0.46837871,  0.50446322,  1.43663115,\n",
       "               0.21988925, -0.5551008 , -0.06700952,  0.48896296,  0.04021113,\n",
       "              -0.16658613,  0.24761656, -0.7887894 ,  1.10283756, -0.15217164,\n",
       "              -0.20649557,  0.53969661,  0.50340281, -0.51735792, -0.58207257,\n",
       "              -0.14407583, -0.91976951,  0.92959582,  0.13170314,  0.20287752,\n",
       "              -1.07411599,  0.86503608,  0.61309539, -1.10480608,  0.93975281,\n",
       "              -0.01736958,  0.86711742, -0.62601055,  0.40339616,  0.05823426,\n",
       "               0.02163885,  0.04940065, -0.08672926, -0.2998447 , -0.35722586,\n",
       "              -0.03578194,  0.39395059,  0.23985946, -0.09837025,  0.21954557,\n",
       "              -0.94005727,  0.30894757, -0.23110599, -0.68621036, -1.08470801,\n",
       "               0.2914368 ,  0.39305753,  1.29757791,  0.63737539, -0.80419305,\n",
       "               0.5375235 , -0.18471017,  0.73490166, -0.04876094,  0.2456089 ,\n",
       "               0.2708658 ,  0.77337616,  0.67586761,  0.81383312, -1.174967  ,\n",
       "              -0.62121897,  0.46849576,  0.45357089,  0.06214814,  0.71128049,\n",
       "              -0.01667435, -0.59659902, -0.12820132,  0.10940102, -0.78877861]),\n",
       "       array([-1.1784713 , -0.90708418, -0.97163463,  0.42468686,  1.59085251,\n",
       "              -0.87647402, -0.17596006,  0.99675083, -0.12871674, -1.47535531,\n",
       "              -0.66565659,  0.07451385,  0.49072947,  0.22609588,  0.26275763,\n",
       "              -0.14124475,  0.23871318, -0.667384  , -1.44215773, -1.34108826,\n",
       "               1.03579047,  0.5860767 ,  0.65373865,  0.12538688,  0.18590991,\n",
       "               0.05719253,  0.25579999, -0.52909052, -1.28976379,  0.27969233,\n",
       "               0.1327426 , -0.21324357,  0.62524953,  0.61728878, -0.48623404,\n",
       "               1.31668877, -0.89660352,  0.68027   , -0.49276244, -2.09347786,\n",
       "              -0.07796732,  0.27104507, -0.00464311,  0.06432989,  0.29738676,\n",
       "              -0.47865804,  0.28499682,  0.00706419,  1.39197016, -0.16206087,\n",
       "              -0.35931592, -0.82980906, -0.94098228,  0.32650667, -0.96626473,\n",
       "              -0.26861523,  0.15794474,  0.43709815, -0.54837153, -0.87986035,\n",
       "               0.28412395,  0.35847737,  0.36799568,  0.78203124, -1.0087604 ,\n",
       "               0.01694495,  0.47822688, -0.17514355, -1.44986411,  1.35911236,\n",
       "              -0.71709908,  0.19666468,  2.05745998, -1.28837421,  1.1767126 ,\n",
       "              -0.0121997 , -0.76940798, -0.21265091, -1.21028239, -0.87124283,\n",
       "               0.58490246, -0.76410856,  0.31483625,  1.54112625,  0.31061125,\n",
       "               0.46472323, -0.91461564,  0.55799785, -0.47126278, -0.42213822,\n",
       "              -0.14537435,  0.32980562,  1.21655051, -0.27607895,  0.12919001,\n",
       "              -1.01567027,  0.67784083, -0.89532327,  0.66609443,  0.17566681])],\n",
       "      dtype=object)"
      ]
     },
     "execution_count": 216,
     "metadata": {},
     "output_type": "execute_result"
    }
   ],
   "source": [
    "X_train"
   ]
  },
  {
   "cell_type": "code",
   "execution_count": 217,
   "id": "94a4510b",
   "metadata": {},
   "outputs": [
    {
     "data": {
      "text/plain": [
       "((320000,), (80000,))"
      ]
     },
     "execution_count": 217,
     "metadata": {},
     "output_type": "execute_result"
    }
   ],
   "source": [
    "X_train.shape, X_test.shape"
   ]
  },
  {
   "cell_type": "code",
   "execution_count": 218,
   "id": "1e13082f",
   "metadata": {},
   "outputs": [
    {
     "data": {
      "text/plain": [
       "((320000,), (80000,))"
      ]
     },
     "execution_count": 218,
     "metadata": {},
     "output_type": "execute_result"
    }
   ],
   "source": [
    "y_train.shape, y_test.shape"
   ]
  },
  {
   "cell_type": "markdown",
   "id": "c6f5b8df",
   "metadata": {},
   "source": [
    "### ```Classifier expects 2d numpy array so using stack we can do that```"
   ]
  },
  {
   "cell_type": "code",
   "execution_count": 219,
   "id": "a81a1ebc",
   "metadata": {},
   "outputs": [],
   "source": [
    "X_train_2d = np.stack(X_train) # there was array inside array so for mitigation of that we used stack\n",
    "X_test_2d =  np.stack(X_test)"
   ]
  },
  {
   "cell_type": "code",
   "execution_count": 220,
   "id": "b316805d",
   "metadata": {
    "scrolled": true
   },
   "outputs": [
    {
     "data": {
      "text/plain": [
       "array([-5.88249715e-01,  4.94763244e-01,  5.50370617e-02,  2.57485614e-01,\n",
       "        1.04053285e-01,  4.32218292e-01, -1.94463862e-01,  4.70535850e-01,\n",
       "       -2.57630344e-03,  5.84923178e-01, -3.30177665e-01,  4.00407819e-01,\n",
       "       -5.54580430e-01,  3.72158587e-01,  2.47618521e-01, -2.46007893e-01,\n",
       "       -4.88108626e-01, -4.00947807e-02, -7.44088445e-01, -2.09597571e-01,\n",
       "       -3.92306020e-01,  8.42526801e-01,  1.21301750e-01, -4.43689190e-02,\n",
       "       -1.98269621e-01, -5.54367222e-01, -4.41711396e-04,  2.06747191e-01,\n",
       "        6.94507435e-01, -4.06159274e-03,  7.45377783e-02, -3.14270223e-01,\n",
       "       -5.41525608e-01,  1.23848634e-01, -4.74096417e-01,  4.11366638e-01,\n",
       "        4.72912230e-01, -5.73134972e-01,  5.87174958e-01,  5.85036225e-01,\n",
       "       -2.88175785e-01,  5.72147314e-01,  9.11621435e-02, -1.70736194e-01,\n",
       "       -1.31849676e-01, -5.17111123e-02, -1.63344231e-01,  3.16967720e-01,\n",
       "       -9.42134699e-02,  1.97145397e-01, -3.57550245e-01,  2.15987340e-02,\n",
       "        6.64540380e-01,  4.32634480e-01,  6.20827992e-01,  2.49085533e-01,\n",
       "        3.09505803e-01,  2.75785573e-01, -1.71796171e-01, -4.82124795e-01,\n",
       "       -5.95067354e-01, -3.19508980e-01, -7.73674161e-01, -3.38694738e-01,\n",
       "       -1.59919847e-01, -4.66410311e-01, -3.69331265e-01,  2.96961523e-01,\n",
       "       -1.01251608e-01, -5.55119378e-01,  3.62953423e-02,  1.94839375e-01,\n",
       "        1.79384017e-01, -2.42003746e-01, -4.93781514e-01,  2.58172508e-01,\n",
       "        6.90847066e-01, -7.66073888e-02,  4.17698868e-01,  8.24437179e-02,\n",
       "       -3.08869760e-01,  3.16257426e-01,  1.87346794e-01, -5.84772739e-01,\n",
       "       -7.56915852e-01, -6.22802917e-02,  1.13315035e-01, -8.20243163e-02,\n",
       "       -4.05749995e-02,  2.66874878e-01, -1.57060232e-02,  7.45525382e-01,\n",
       "       -4.19937213e-01,  5.64893680e-01,  6.79238364e-02,  4.74258158e-01,\n",
       "       -5.10589859e-01,  6.67749867e-02,  3.04804841e-01, -4.84107452e-02])"
      ]
     },
     "execution_count": 220,
     "metadata": {},
     "output_type": "execute_result"
    }
   ],
   "source": [
    "X_train_2d[0]"
   ]
  },
  {
   "cell_type": "code",
   "execution_count": 221,
   "id": "b6f08fcf",
   "metadata": {
    "scrolled": true
   },
   "outputs": [],
   "source": [
    "from sklearn.linear_model import LogisticRegression\n",
    "clf_LR = LogisticRegression(penalty='l2').fit(X_train_2d, y_train)"
   ]
  },
  {
   "cell_type": "code",
   "execution_count": 222,
   "id": "f2933fe1",
   "metadata": {},
   "outputs": [],
   "source": [
    "LR_pred = clf_LR.predict(X_test_2d)"
   ]
  },
  {
   "cell_type": "code",
   "execution_count": 223,
   "id": "c3a3aa4f",
   "metadata": {},
   "outputs": [
    {
     "name": "stdout",
     "output_type": "stream",
     "text": [
      "              precision    recall  f1-score   support\n",
      "\n",
      "           0       0.92      0.94      0.93     40000\n",
      "           1       0.94      0.91      0.93     40000\n",
      "\n",
      "    accuracy                           0.93     80000\n",
      "   macro avg       0.93      0.93      0.93     80000\n",
      "weighted avg       0.93      0.93      0.93     80000\n",
      "\n"
     ]
    }
   ],
   "source": [
    "print(classification_report(y_test, LR_pred))"
   ]
  },
  {
   "cell_type": "code",
   "execution_count": 176,
   "id": "39a31851",
   "metadata": {},
   "outputs": [],
   "source": [
    "text = \"The state-backed Russian cyber spies behind the SolarWinds hacking campaign launched a targeted spear-phishing assault on U.S. and foreign government agencies and think tanks this week using an email marketing account of the U.S. Agency for International Development.\""
   ]
  },
  {
   "cell_type": "code",
   "execution_count": 224,
   "id": "835e7470",
   "metadata": {},
   "outputs": [
    {
     "data": {
      "text/plain": [
       "Text(95.72222222222221, 0.5, 'Truth')"
      ]
     },
     "execution_count": 224,
     "metadata": {},
     "output_type": "execute_result"
    },
    {
     "data": {
      "image/png": "[encoded data removed]",
      "text/plain": [
       "<Figure size 1000x700 with 2 Axes>"
      ]
     },
     "metadata": {},
     "output_type": "display_data"
    }
   ],
   "source": [
    "from sklearn.metrics import confusion_matrix\n",
    "cm = confusion_matrix(y_test, LR_pred)\n",
    "cm\n",
    "\n",
    "plt.figure(figsize = (10,7))\n",
    "sn.heatmap(cm, annot=True, fmt='d')\n",
    "plt.xlabel('Prediction')\n",
    "plt.ylabel('Truth')"
   ]
  },
  {
   "cell_type": "code",
   "execution_count": 226,
   "id": "11e4ff36",
   "metadata": {},
   "outputs": [],
   "source": [
    "# loading library\n",
    "import pickle\n",
    "# create an iterator object with write permission - model_clf_NB.pkl\n",
    "with open('model_LR_v3.pkl', 'wb') as files:\n",
    "    pickle.dump(clf_LR, files)"
   ]
  },
  {
   "cell_type": "code",
   "execution_count": 227,
   "id": "dd0d660e",
   "metadata": {},
   "outputs": [],
   "source": [
    "def load_model():\n",
    "    #return pickle.load(MODELS_PATH)\n",
    "\n",
    "    # Open the file in binary mode\n",
    "    with open(\"model_LR_v2.pkl\", 'rb') as file:\n",
    "      \n",
    "    # Call load method to deserialze\n",
    "        modl = pickle.load(file)\n",
    "        return modl\n",
    "\n",
    "LOADED_MODEL = load_model()"
   ]
  },
  {
   "cell_type": "code",
   "execution_count": 167,
   "id": "b20b6c21",
   "metadata": {},
   "outputs": [],
   "source": []
  },
  {
   "cell_type": "code",
   "execution_count": null,
   "id": "fc0bd34b",
   "metadata": {},
   "outputs": [],
   "source": []
  },
  {
   "cell_type": "code",
   "execution_count": null,
   "id": "aaa00ca3",
   "metadata": {},
   "outputs": [],
   "source": []
  },
  {
   "cell_type": "code",
   "execution_count": null,
   "id": "ab63af1f",
   "metadata": {},
   "outputs": [],
   "source": []
  },
  {
   "cell_type": "markdown",
   "id": "f138504c",
   "metadata": {},
   "source": [
    "## Modeling"
   ]
  },
  {
   "cell_type": "markdown",
   "id": "5bfcdc2e",
   "metadata": {},
   "source": [
    "### Naive_bayes Classifier"
   ]
  },
  {
   "cell_type": "markdown",
   "id": "c48c68a4",
   "metadata": {},
   "source": [
    "#### ``` It doesn't work with negative values```"
   ]
  },
  {
   "cell_type": "code",
   "execution_count": 63,
   "id": "4976fabb",
   "metadata": {},
   "outputs": [],
   "source": [
    "from sklearn.naive_bayes import MultinomialNB\n",
    "from sklearn.preprocessing import MinMaxScaler\n",
    "from matplotlib import pyplot as plt\n",
    "import seaborn as sn"
   ]
  },
  {
   "cell_type": "code",
   "execution_count": 45,
   "id": "3c1a88ce",
   "metadata": {
    "scrolled": true
   },
   "outputs": [
    {
     "data": {
      "text/html": [
       "<style>#sk-container-id-1 {color: black;background-color: white;}#sk-container-id-1 pre{padding: 0;}#sk-container-id-1 div.sk-toggleable {background-color: white;}#sk-container-id-1 label.sk-toggleable__label {cursor: pointer;display: block;width: 100%;margin-bottom: 0;padding: 0.3em;box-sizing: border-box;text-align: center;}#sk-container-id-1 label.sk-toggleable__label-arrow:before {content: \"▸\";float: left;margin-right: 0.25em;color: #696969;}#sk-container-id-1 label.sk-toggleable__label-arrow:hover:before {color: black;}#sk-container-id-1 div.sk-estimator:hover label.sk-toggleable__label-arrow:before {color: black;}#sk-container-id-1 div.sk-toggleable__content {max-height: 0;max-width: 0;overflow: hidden;text-align: left;background-color: #f0f8ff;}#sk-container-id-1 div.sk-toggleable__content pre {margin: 0.2em;color: black;border-radius: 0.25em;background-color: #f0f8ff;}#sk-container-id-1 input.sk-toggleable__control:checked~div.sk-toggleable__content {max-height: 200px;max-width: 100%;overflow: auto;}#sk-container-id-1 input.sk-toggleable__control:checked~label.sk-toggleable__label-arrow:before {content: \"▾\";}#sk-container-id-1 div.sk-estimator input.sk-toggleable__control:checked~label.sk-toggleable__label {background-color: #d4ebff;}#sk-container-id-1 div.sk-label input.sk-toggleable__control:checked~label.sk-toggleable__label {background-color: #d4ebff;}#sk-container-id-1 input.sk-hidden--visually {border: 0;clip: rect(1px 1px 1px 1px);clip: rect(1px, 1px, 1px, 1px);height: 1px;margin: -1px;overflow: hidden;padding: 0;position: absolute;width: 1px;}#sk-container-id-1 div.sk-estimator {font-family: monospace;background-color: #f0f8ff;border: 1px dotted black;border-radius: 0.25em;box-sizing: border-box;margin-bottom: 0.5em;}#sk-container-id-1 div.sk-estimator:hover {background-color: #d4ebff;}#sk-container-id-1 div.sk-parallel-item::after {content: \"\";width: 100%;border-bottom: 1px solid gray;flex-grow: 1;}#sk-container-id-1 div.sk-label:hover label.sk-toggleable__label {background-color: #d4ebff;}#sk-container-id-1 div.sk-serial::before {content: \"\";position: absolute;border-left: 1px solid gray;box-sizing: border-box;top: 0;bottom: 0;left: 50%;z-index: 0;}#sk-container-id-1 div.sk-serial {display: flex;flex-direction: column;align-items: center;background-color: white;padding-right: 0.2em;padding-left: 0.2em;position: relative;}#sk-container-id-1 div.sk-item {position: relative;z-index: 1;}#sk-container-id-1 div.sk-parallel {display: flex;align-items: stretch;justify-content: center;background-color: white;position: relative;}#sk-container-id-1 div.sk-item::before, #sk-container-id-1 div.sk-parallel-item::before {content: \"\";position: absolute;border-left: 1px solid gray;box-sizing: border-box;top: 0;bottom: 0;left: 50%;z-index: -1;}#sk-container-id-1 div.sk-parallel-item {display: flex;flex-direction: column;z-index: 1;position: relative;background-color: white;}#sk-container-id-1 div.sk-parallel-item:first-child::after {align-self: flex-end;width: 50%;}#sk-container-id-1 div.sk-parallel-item:last-child::after {align-self: flex-start;width: 50%;}#sk-container-id-1 div.sk-parallel-item:only-child::after {width: 0;}#sk-container-id-1 div.sk-dashed-wrapped {border: 1px dashed gray;margin: 0 0.4em 0.5em 0.4em;box-sizing: border-box;padding-bottom: 0.4em;background-color: white;}#sk-container-id-1 div.sk-label label {font-family: monospace;font-weight: bold;display: inline-block;line-height: 1.2em;}#sk-container-id-1 div.sk-label-container {text-align: center;}#sk-container-id-1 div.sk-container {/* jupyter's `normalize.less` sets `[hidden] { display: none; }` but bootstrap.min.css set `[hidden] { display: none !important; }` so we also need the `!important` here to be able to override the default hidden behavior on the sphinx rendered scikit-learn.org. See: https://github.com/scikit-learn/scikit-learn/issues/21755 */display: inline-block !important;position: relative;}#sk-container-id-1 div.sk-text-repr-fallback {display: none;}</style><div id=\"sk-container-id-1\" class=\"sk-top-container\"><div class=\"sk-text-repr-fallback\"><pre>MultinomialNB()</pre><b>In a Jupyter environment, please rerun this cell to show the HTML representation or trust the notebook. <br />On GitHub, the HTML representation is unable to render, please try loading this page with nbviewer.org.</b></div><div class=\"sk-container\" hidden><div class=\"sk-item\"><div class=\"sk-estimator sk-toggleable\"><input class=\"sk-toggleable__control sk-hidden--visually\" id=\"sk-estimator-id-1\" type=\"checkbox\" checked><label for=\"sk-estimator-id-1\" class=\"sk-toggleable__label sk-toggleable__label-arrow\">MultinomialNB</label><div class=\"sk-toggleable__content\"><pre>MultinomialNB()</pre></div></div></div></div></div>"
      ],
      "text/plain": [
       "MultinomialNB()"
      ]
     },
     "execution_count": 45,
     "metadata": {},
     "output_type": "execute_result"
    }
   ],
   "source": [
    "scaler = MinMaxScaler()\n",
    "scaled_train_embed = scaler.fit_transform(X_train_2d)\n",
    "scaled_test_embed = scaler.transform(X_test_2d)\n",
    "\n",
    "\n",
    "clf_NB = MultinomialNB()\n",
    "clf_NB.fit(scaled_train_embed, y_train)"
   ]
  },
  {
   "cell_type": "code",
   "execution_count": 62,
   "id": "ea6876e1",
   "metadata": {},
   "outputs": [],
   "source": [
    "from sklearn.metrics import classification_report"
   ]
  },
  {
   "cell_type": "code",
   "execution_count": 47,
   "id": "c775a023",
   "metadata": {},
   "outputs": [
    {
     "name": "stdout",
     "output_type": "stream",
     "text": [
      "              precision    recall  f1-score   support\n",
      "\n",
      "           0       0.77      0.83      0.80     40000\n",
      "           1       0.82      0.75      0.78     40000\n",
      "\n",
      "    accuracy                           0.79     80000\n",
      "   macro avg       0.79      0.79      0.79     80000\n",
      "weighted avg       0.79      0.79      0.79     80000\n",
      "\n"
     ]
    }
   ],
   "source": [
    "y_pred_NB = clf_NB.predict(scaled_test_embed)\n",
    "\n",
    "print(classification_report(y_test, y_pred_NB))"
   ]
  },
  {
   "cell_type": "code",
   "execution_count": 50,
   "id": "0bbb6c49",
   "metadata": {},
   "outputs": [
    {
     "data": {
      "text/plain": [
       "array([0.62494644, 0.37505356])"
      ]
     },
     "execution_count": 50,
     "metadata": {},
     "output_type": "execute_result"
    }
   ],
   "source": [
    "clf_NB.predict_proba(scaled_test_embed)[0]"
   ]
  },
  {
   "cell_type": "code",
   "execution_count": 51,
   "id": "7e03595a",
   "metadata": {
    "scrolled": true
   },
   "outputs": [
    {
     "data": {
      "text/plain": [
       "Text(95.72222222222221, 0.5, 'Truth')"
      ]
     },
     "execution_count": 51,
     "metadata": {},
     "output_type": "execute_result"
    },
    {
     "data": {
      "image/png": "[encoded data removed]",
      "text/plain": [
       "<Figure size 1000x700 with 2 Axes>"
      ]
     },
     "metadata": {},
     "output_type": "display_data"
    }
   ],
   "source": [
    "#finally print the confusion matrix for the best model (MultinomialNB)\n",
    "\n",
    "from sklearn.metrics import confusion_matrix\n",
    "cm = confusion_matrix(y_test, y_pred_NB)\n",
    "cm\n",
    "\n",
    "plt.figure(figsize = (10,7))\n",
    "sn.heatmap(cm, annot=True, fmt='d')\n",
    "plt.xlabel('Prediction')\n",
    "plt.ylabel('Truth')"
   ]
  },
  {
   "cell_type": "markdown",
   "id": "77fac0e5",
   "metadata": {},
   "source": [
    "### ``` Here in this problem ~False Negative~(FN) is dengerous, because if it is crime or predicted as not a crime will be not good```"
   ]
  },
  {
   "cell_type": "code",
   "execution_count": 52,
   "id": "94acd6b3",
   "metadata": {},
   "outputs": [
    {
     "data": {
      "text/plain": [
       "array([0, 0, 0])"
      ]
     },
     "execution_count": 52,
     "metadata": {},
     "output_type": "execute_result"
    }
   ],
   "source": [
    "test_news = [\n",
    "    \"Michigan governor denies misleading U.S. House on Flint water (Reuters) - Michigan Governor Rick Snyder denied Thursday that he had misled a U.S. House of Representatives committee last year over testimony on Flintâ€™s water crisis after lawmakers asked if his testimony had been contradicted by a witness in a court hearing. The House Oversight and Government Reform Committee wrote Snyder earlier Thursday asking him about published reports that one of his aides, Harvey Hollins, testified in a court hearing last week in Michigan that he had notified Snyder of an outbreak of Legionnairesâ€™ disease linked to the Flint water crisis in December 2015, rather than 2016 as Snyder had testified. â€œMy testimony was truthful and I stand by it,â€ Snyder told the committee in a letter, adding that his office has provided tens of thousands of pages of records to the committee and would continue to cooperate fully.  Last week, prosecutors in Michigan said Dr. Eden Wells, the stateâ€™s chief medical executive who already faced lesser charges, would become the sixth current or former official to face involuntary manslaughter charges in connection with the crisis. The charges stem from more than 80 cases of Legionnairesâ€™ disease and at least 12 deaths that were believed to be linked to the water in Flint after the city switched its source from Lake Huron to the Flint River in April 2014. Wells was among six current and former Michigan and Flint officials charged in June. The other five, including Michigan Health and Human Services Director Nick Lyon, were charged at the time with involuntary manslaughter\",\n",
    "    \" WATCH: Fox News Host Loses Her Sh*t, Says Investigating Russia For Hacking Our Election Is Unpatriotic This woman is insane.In an incredibly disrespectful rant against President Obama and anyone else who supports investigating Russian interference in our election, Fox News host Jeanine Pirro said that anybody who is against Donald Trump is anti-American. Look, it s time to take sides,  she began.\",\n",
    "    \" Sarah Palin Celebrates After White Man Who Pulled Gun On Black Protesters Goes Unpunished (VIDEO) Sarah Palin, one of the nigh-innumerable  deplorables  in Donald Trump s  basket,  almost outdid herself in terms of horribleness on Friday.\"\n",
    "]\n",
    "\n",
    "test_news_ = [preprocess_text(n) for n in test_news]\n",
    "test_vectors = [sent_vec(n) for n in test_news_]\n",
    "test_2d =  np.stack(test_vectors)\n",
    "scaled_test_embed = scaler.transform(test_2d)\n",
    "\n",
    "clf_NB.predict(scaled_test_embed)"
   ]
  },
  {
   "cell_type": "code",
   "execution_count": 53,
   "id": "582011c3",
   "metadata": {},
   "outputs": [],
   "source": [
    "# loading library\n",
    "import pickle\n",
    "# create an iterator object with write permission - model_clf_NB.pkl\n",
    "with open('model_clf_NB.pkl', 'wb') as files:\n",
    "    pickle.dump(clf_NB, files)"
   ]
  },
  {
   "cell_type": "code",
   "execution_count": null,
   "id": "cb192503",
   "metadata": {},
   "outputs": [],
   "source": []
  },
  {
   "cell_type": "code",
   "execution_count": null,
   "id": "8500c193",
   "metadata": {},
   "outputs": [],
   "source": []
  },
  {
   "cell_type": "markdown",
   "id": "ad988237",
   "metadata": {},
   "source": [
    "### KNeighborsClassifier"
   ]
  },
  {
   "cell_type": "code",
   "execution_count": 54,
   "id": "90bb5546",
   "metadata": {},
   "outputs": [],
   "source": [
    "from  sklearn.neighbors import KNeighborsClassifier\n",
    "\n",
    "#1. creating a KNN model object\n",
    "clf_KNN = KNeighborsClassifier(n_neighbors = 3, metric = 'euclidean')\n",
    "\n",
    "#2. fit with all_train_embeddings and y_train\n",
    "clf_KNN.fit(X_train_2d, y_train)\n",
    "\n",
    "#3. get the predictions for all_test_embeddings and store it in y_pred\n",
    "y_pred_KNN = clf_KNN.predict(X_test_2d)"
   ]
  },
  {
   "cell_type": "code",
   "execution_count": 55,
   "id": "88530488",
   "metadata": {},
   "outputs": [
    {
     "name": "stdout",
     "output_type": "stream",
     "text": [
      "[[1. 0.]\n",
      " [0. 1.]\n",
      " [0. 1.]\n",
      " ...\n",
      " [1. 0.]\n",
      " [0. 1.]\n",
      " [1. 0.]]\n"
     ]
    }
   ],
   "source": [
    "print(clf_KNN.predict_proba(X_test_2d))"
   ]
  },
  {
   "cell_type": "code",
   "execution_count": 56,
   "id": "62e66a7f",
   "metadata": {},
   "outputs": [
    {
     "name": "stdout",
     "output_type": "stream",
     "text": [
      "              precision    recall  f1-score   support\n",
      "\n",
      "           0       0.93      0.93      0.93     40000\n",
      "           1       0.93      0.93      0.93     40000\n",
      "\n",
      "    accuracy                           0.93     80000\n",
      "   macro avg       0.93      0.93      0.93     80000\n",
      "weighted avg       0.93      0.93      0.93     80000\n",
      "\n"
     ]
    }
   ],
   "source": [
    "#4. print the classfication report\n",
    "print(classification_report(y_test, y_pred_KNN))"
   ]
  },
  {
   "cell_type": "code",
   "execution_count": 57,
   "id": "a8e4fef0",
   "metadata": {},
   "outputs": [
    {
     "data": {
      "text/plain": [
       "array([1, 1, 0])"
      ]
     },
     "execution_count": 57,
     "metadata": {},
     "output_type": "execute_result"
    }
   ],
   "source": [
    "test_news = [\n",
    "    \"Michigan governor denies misleading U.S. House on Flint water (Reuters) - Michigan Governor Rick Snyder denied Thursday that he had misled a U.S. House of Representatives committee last year over testimony on Flintâ€™s water crisis afterlawmakers asked if his testimony had been contradicted by a witness in a court hearing. The House Oversight and Government Reform Committee wrote Snyder earlier Thursday asking him about published reports that one of his aides, Harvey Hollins, testified in a court hearing last week in Michigan that he had notified Snyder of an outbreak of Legionnairesâ€™ disease linked to the Flint water crisis in December 2015, rather than 2016 as Snyder had testified. â€œMy testimony was truthful and I stand by it,â€ Snyder told the committee in a letter, adding that his office has provided tens of thousands of pages of records to the committee and would continue to cooperate fully.  Last week, prosecutors in Michigan said Dr. Eden Wells, the stateâ€™s chief medical executive who already faced lesser charges, would become the sixth current or former official to face involuntary manslaughter charges in connection with the crisis. The charges stem from more than 80 cases of Legionnairesâ€™ disease and at least 12 deaths that were believed to be linked to the water in Flint after the city switched its source from Lake Huron to the Flint River in April 2014. Wells was among six current and former Michigan and Flint officials charged in June. The other five, including Michigan Health and Human Services Director Nick Lyon, were charged at the time with involuntary manslaughter\",\n",
    "    \" WATCH: Fox News Host Loses Her Sh*t, Says Investigating Russia For Hacking Our Election Is Unpatriotic This woman is insane.In an incredibly disrespectful rant against President Obama and anyone else who supports investigating Russian interference in our election, Fox News host Jeanine Pirro said that anybody who is against Donald Trump is anti-American. Look, it s time to take sides,  she began.\",\n",
    "    \" Sarah Palin Celebrates After White Man Who Pulled Gun On Black Protesters Goes Unpunished (VIDEO) Sarah Palin, one of the nigh-innumerable  deplorables  in Donald Trump s  basket,  almost outdid herself in terms of horribleness on Friday.\"\n",
    "]\n",
    "\n",
    "test_news_ = [preprocess_text(n) for n in test_news]\n",
    "test_vectors = [sent_vec(n) for n in test_news_]\n",
    "\n",
    "clf_KNN.predict(test_vectors)"
   ]
  },
  {
   "cell_type": "code",
   "execution_count": 58,
   "id": "3370b04a",
   "metadata": {},
   "outputs": [
    {
     "data": {
      "text/plain": [
       "Text(95.72222222222221, 0.5, 'Truth')"
      ]
     },
     "execution_count": 58,
     "metadata": {},
     "output_type": "execute_result"
    },
    {
     "data": {
      "image/png": "[encoded data removed]",
      "text/plain": [
       "<Figure size 1000x700 with 2 Axes>"
      ]
     },
     "metadata": {},
     "output_type": "display_data"
    }
   ],
   "source": [
    "#finally print the confusion matrix for the best model (KNeighborsClassifier)\n",
    "cm = confusion_matrix(y_test, y_pred_KNN)\n",
    "cm\n",
    "\n",
    "plt.figure(figsize = (10,7))\n",
    "sn.heatmap(cm, annot=True, fmt='d')\n",
    "plt.xlabel('Prediction')\n",
    "plt.ylabel('Truth')"
   ]
  },
  {
   "cell_type": "code",
   "execution_count": 60,
   "id": "b8047f41",
   "metadata": {},
   "outputs": [],
   "source": [
    "# create an iterator object with write permission - KNN_model.pkl\n",
    "with open('KNN_model.pkl', 'wb') as files:\n",
    "    pickle.dump(clf_KNN, files)"
   ]
  },
  {
   "cell_type": "code",
   "execution_count": null,
   "id": "c715ae7e",
   "metadata": {},
   "outputs": [],
   "source": []
  },
  {
   "cell_type": "code",
   "execution_count": null,
   "id": "aac3d86d",
   "metadata": {},
   "outputs": [],
   "source": []
  },
  {
   "cell_type": "markdown",
   "id": "e1c6b511",
   "metadata": {},
   "source": [
    "### Ensemble Technique for classification"
   ]
  },
  {
   "cell_type": "code",
   "execution_count": 61,
   "id": "b9abf995",
   "metadata": {
    "scrolled": false
   },
   "outputs": [],
   "source": [
    "from sklearn.ensemble import GradientBoostingClassifier\n",
    "#1. creating a GradientBoosting model object\n",
    "clf = GradientBoostingClassifier()\n",
    "\n",
    "#2. fit with all_train_embeddings and y_train\n",
    "clf.fit(X_train_2d, y_train)\n",
    "\n",
    "\n",
    "#3. get the predictions for all_test_embeddings and store it in y_pred\n",
    "y_pred = clf.predict(X_test_2d)\n"
   ]
  },
  {
   "cell_type": "code",
   "execution_count": 62,
   "id": "53c4e9c3",
   "metadata": {},
   "outputs": [
    {
     "name": "stdout",
     "output_type": "stream",
     "text": [
      "              precision    recall  f1-score   support\n",
      "\n",
      "           0       0.89      0.93      0.91     40000\n",
      "           1       0.93      0.89      0.91     40000\n",
      "\n",
      "    accuracy                           0.91     80000\n",
      "   macro avg       0.91      0.91      0.91     80000\n",
      "weighted avg       0.91      0.91      0.91     80000\n",
      "\n"
     ]
    }
   ],
   "source": [
    "#4. print the classfication report\n",
    "print(classification_report(y_test, y_pred))"
   ]
  },
  {
   "cell_type": "code",
   "execution_count": 63,
   "id": "ef4b62f3",
   "metadata": {},
   "outputs": [
    {
     "data": {
      "text/plain": [
       "array([0, 0, 0])"
      ]
     },
     "execution_count": 63,
     "metadata": {},
     "output_type": "execute_result"
    }
   ],
   "source": [
    "test_news = [\n",
    "    \"Michigan governor denies misleading U.S. House on Flint water (Reuters) - Michigan Governor Rick Snyder denied Thursday that he had misled a U.S. House of Representatives committee last year over testimony on Flintâ€™s water crisis after lawmakers asked if his testimony had been contradicted by a witness in a court hearing. The House Oversight and Government Reform Committee wrote Snyder earlier Thursday asking him about published reports that one of his aides, Harvey Hollins, testified in a court hearing last week in Michigan that he had notified Snyder of an outbreak of Legionnairesâ€™ disease linked to the Flint water crisis in December 2015, rather than 2016 as Snyder had testified. â€œMy testimony was truthful and I stand by it,â€ Snyder told the committee in a letter, adding that his office has provided tens of thousands of pages of records to the committee and would continue to cooperate fully.  Last week, prosecutors in Michigan said Dr. Eden Wells, the stateâ€™s chief medical executive who already faced lesser charges, would become the sixth current or former official to face involuntary manslaughter charges in connection with the crisis. The charges stem from more than 80 cases of Legionnairesâ€™ disease and at least 12 deaths that were believed to be linked to the water in Flint after the city switched its source from Lake Huron to the Flint River in April 2014. Wells was among six current and former Michigan and Flint officials charged in June. The other five, including Michigan Health and Human Services Director Nick Lyon, were charged at the time with involuntary manslaughter\",\n",
    "    \" WATCH: Fox News Host Loses Her Sh*t, Says Investigating Russia For Hacking Our Election Is Unpatriotic This woman is insane.In an incredibly disrespectful rant against President Obama and anyone else who supports investigating Russian interference in our election, Fox News host Jeanine Pirro said that anybody who is against Donald Trump is anti-American. Look, it s time to take sides,  she began.\",\n",
    "    \" Sarah Palin Celebrates After White Man Who Pulled Gun On Black Protesters Goes Unpunished (VIDEO) Sarah Palin, one of the nigh-innumerable  deplorables  in Donald Trump s  basket,  almost outdid herself in terms of horribleness on Friday.\"\n",
    "]\n",
    "\n",
    "test_news_ = [preprocess_text(n) for n in test_news]\n",
    "test_vectors = [sent_vec(n) for n in test_news_]\n",
    "\n",
    "clf.predict(test_vectors)"
   ]
  },
  {
   "cell_type": "code",
   "execution_count": 64,
   "id": "08d9ce8e",
   "metadata": {},
   "outputs": [
    {
     "data": {
      "text/plain": [
       "Text(95.72222222222221, 0.5, 'Truth')"
      ]
     },
     "execution_count": 64,
     "metadata": {},
     "output_type": "execute_result"
    },
    {
     "data": {
      "image/png": "[encoded data removed]",
      "text/plain": [
       "<Figure size 1000x700 with 2 Axes>"
      ]
     },
     "metadata": {},
     "output_type": "display_data"
    }
   ],
   "source": [
    "#finally print the confusion matrix for the best model (GradientBoostingClassifier)\n",
    "\n",
    "cm = confusion_matrix(y_test, y_pred)\n",
    "cm\n",
    "\n",
    "plt.figure(figsize = (10,7))\n",
    "sn.heatmap(cm, annot=True, fmt='d')\n",
    "plt.xlabel('Prediction')\n",
    "plt.ylabel('Truth')"
   ]
  },
  {
   "cell_type": "code",
   "execution_count": 65,
   "id": "516e80c8",
   "metadata": {},
   "outputs": [],
   "source": [
    "# create an iterator object with write permission - ensemble_model_pklV2.pkl\n",
    "with open('ensemble_model_pklV2.pkl', 'wb') as files:\n",
    "    pickle.dump(clf, files)"
   ]
  },
  {
   "cell_type": "code",
   "execution_count": null,
   "id": "59b1e364",
   "metadata": {},
   "outputs": [],
   "source": []
  },
  {
   "cell_type": "markdown",
   "id": "3287426d",
   "metadata": {},
   "source": [
    "### Prediction verification"
   ]
  },
  {
   "cell_type": "code",
   "execution_count": 79,
   "id": "f0c98727",
   "metadata": {},
   "outputs": [
    {
     "data": {
      "text/plain": [
       "'El escándalo de phishing de Opensea revela la necesidad de mejorar la seguridad en el panorama de los\\xa0NFT https://t.co/7ggMwYPMsJ'"
      ]
     },
     "execution_count": 79,
     "metadata": {},
     "output_type": "execute_result"
    }
   ],
   "source": [
    "testdf = data['text'][200023]\n",
    "testdf"
   ]
  },
  {
   "cell_type": "code",
   "execution_count": 82,
   "id": "b104213f",
   "metadata": {},
   "outputs": [
    {
     "data": {
      "text/plain": [
       "array([0])"
      ]
     },
     "execution_count": 82,
     "metadata": {},
     "output_type": "execute_result"
    }
   ],
   "source": [
    "test_news = [testdf]\n",
    "\n",
    "test_news_ = [preprocess_text(n) for n in test_news]\n",
    "test_vectors = [sent_vec(n) for n in test_news_]\n",
    "\n",
    "clf_KNN.predict(test_vectors)"
   ]
  },
  {
   "cell_type": "code",
   "execution_count": 144,
   "id": "9406b1d0",
   "metadata": {},
   "outputs": [
    {
     "data": {
      "text/plain": [
       "array([1])"
      ]
     },
     "execution_count": 144,
     "metadata": {},
     "output_type": "execute_result"
    }
   ],
   "source": [
    "# it was a test\n",
    "input_test = \"Michigan governor denies misleading U.S. House on Flint water (Reuters)\"\n",
    "\n",
    "#test_news_df = pd.DataFrame(test, index=[0])\n",
    "i_txt = pd.DataFrame({\"in_text\": str(input_test)}, index=[0])\n",
    "pre_text = preprocess_text(i_txt[\"in_text\"][0])\n",
    "w2v_model = Word2Vec(sentences=pre_text, vector_size=300)\n",
    "vactors = sent_vec(pre_text).reshape(1, -1)\n",
    "pred = clf.predict(vactors)\n",
    "pred"
   ]
  },
  {
   "cell_type": "code",
   "execution_count": 146,
   "id": "b519149c",
   "metadata": {},
   "outputs": [
    {
     "data": {
      "text/plain": [
       "['michigan',\n",
       " 'governor',\n",
       " 'denies',\n",
       " 'misleading',\n",
       " 'u',\n",
       " 'house',\n",
       " 'flint',\n",
       " 'water',\n",
       " 'reuters']"
      ]
     },
     "execution_count": 146,
     "metadata": {},
     "output_type": "execute_result"
    }
   ],
   "source": [
    "pre_text"
   ]
  },
  {
   "cell_type": "code",
   "execution_count": 143,
   "id": "e2cced13",
   "metadata": {},
   "outputs": [
    {
     "name": "stdout",
     "output_type": "stream",
     "text": [
      "it a cyber crime\n"
     ]
    }
   ],
   "source": [
    "if pred == 1:\n",
    "    print(\"it a cyber crime\")\n",
    "else:\n",
    "    print(\"it's not a cyber crime\")"
   ]
  },
  {
   "cell_type": "markdown",
   "id": "54b82fee",
   "metadata": {},
   "source": [
    "#### ``` I'm happy it is classifing correctly any of them```"
   ]
  },
  {
   "cell_type": "markdown",
   "id": "35d4db24",
   "metadata": {},
   "source": [
    "### I have used here three techniques but they have there one pros and cons\n",
    "\n",
    "1- Neive bias is fast for training bus FN is more the otheres\n",
    "\n",
    "2- KNN was good than NB but model size si too much larg\n",
    "\n",
    "3- Ensemble technique worked well for me model size also was less but it took around 2.30 hours to train"
   ]
  },
  {
   "cell_type": "code",
   "execution_count": null,
   "id": "6974942f",
   "metadata": {},
   "outputs": [],
   "source": []
  }
 ],
 "metadata": {
  "kernelspec": {
   "display_name": "Python 3 (ipykernel)",
   "language": "python",
   "name": "python3"
  },
  "language_info": {
   "codemirror_mode": {
    "name": "ipython",
    "version": 3
   },
   "file_extension": ".py",
   "mimetype": "text/x-python",
   "name": "python",
   "nbconvert_exporter": "python",
   "pygments_lexer": "ipython3",
   "version": "3.10.6"
  }
 },
 "nbformat": 4,
 "nbformat_minor": 5
}
