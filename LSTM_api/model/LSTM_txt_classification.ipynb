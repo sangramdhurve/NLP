{
 "cells": [
  {
   "cell_type": "code",
   "execution_count": 1,
   "id": "d1c411ba",
   "metadata": {},
   "outputs": [],
   "source": [
    "import re\n",
    "import nltk\n",
    "import string\n",
    "import numpy as np\n",
    "import pandas as pd\n",
    "\n",
    "from typing import List, Dict\n",
    "from nltk import word_tokenize\n",
    "from nltk.corpus import stopwords"
   ]
  },
  {
   "cell_type": "code",
   "execution_count": 2,
   "id": "404b50c6",
   "metadata": {},
   "outputs": [],
   "source": [
    "stop_words = set(stopwords.words(\"english\"))"
   ]
  },
  {
   "cell_type": "code",
   "execution_count": 3,
   "id": "fc007d09",
   "metadata": {},
   "outputs": [],
   "source": [
    "# pd.set_option('display.max_colwidth', None)\n",
    "# pd.set_option('display.max_rows', None)"
   ]
  },
  {
   "cell_type": "code",
   "execution_count": 4,
   "id": "be804b50",
   "metadata": {},
   "outputs": [
    {
     "name": "stdout",
     "output_type": "stream",
     "text": [
      "(200000, 2)\n"
     ]
    },
    {
     "data": {
      "text/html": [
       "<div>\n",
       "<style scoped>\n",
       "    .dataframe tbody tr th:only-of-type {\n",
       "        vertical-align: middle;\n",
       "    }\n",
       "\n",
       "    .dataframe tbody tr th {\n",
       "        vertical-align: top;\n",
       "    }\n",
       "\n",
       "    .dataframe thead th {\n",
       "        text-align: right;\n",
       "    }\n",
       "</style>\n",
       "<table border=\"1\" class=\"dataframe\">\n",
       "  <thead>\n",
       "    <tr style=\"text-align: right;\">\n",
       "      <th></th>\n",
       "      <th>text</th>\n",
       "      <th>label</th>\n",
       "    </tr>\n",
       "  </thead>\n",
       "  <tbody>\n",
       "    <tr>\n",
       "      <th>0</th>\n",
       "      <td>#AI Robo-Advisers and the Future of Financial ...</td>\n",
       "      <td>1</td>\n",
       "    </tr>\n",
       "    <tr>\n",
       "      <th>1</th>\n",
       "      <td>Hackers causing havoc on Mexican banking syste...</td>\n",
       "      <td>1</td>\n",
       "    </tr>\n",
       "    <tr>\n",
       "      <th>2</th>\n",
       "      <td>CVE-2019-13127 An issue was discovered in mxGr...</td>\n",
       "      <td>1</td>\n",
       "    </tr>\n",
       "    <tr>\n",
       "      <th>3</th>\n",
       "      <td>How to protect your online identity #labourcyb...</td>\n",
       "      <td>1</td>\n",
       "    </tr>\n",
       "    <tr>\n",
       "      <th>4</th>\n",
       "      <td>Forensic Acquisition - Shadow Cyber Sec  https...</td>\n",
       "      <td>1</td>\n",
       "    </tr>\n",
       "  </tbody>\n",
       "</table>\n",
       "</div>"
      ],
      "text/plain": [
       "                                                text label\n",
       "0  #AI Robo-Advisers and the Future of Financial ...     1\n",
       "1  Hackers causing havoc on Mexican banking syste...     1\n",
       "2  CVE-2019-13127 An issue was discovered in mxGr...     1\n",
       "3  How to protect your online identity #labourcyb...     1\n",
       "4  Forensic Acquisition - Shadow Cyber Sec  https...     1"
      ]
     },
     "execution_count": 4,
     "metadata": {},
     "output_type": "execute_result"
    }
   ],
   "source": [
    "#read the dataset with name \"cyber.csv\" and store it in a variable df\n",
    "cyber = pd.read_csv(\"/home/sangramdh/jupyter/NLP/text_classification/data/cybersecurity_tweets.csv\", usecols=['text','label'])\n",
    "\n",
    "#print the shape of dataframe\n",
    "print(cyber.shape)\n",
    "\n",
    "#print top 5 rows\n",
    "cyber.head()"
   ]
  },
  {
   "cell_type": "code",
   "execution_count": 5,
   "id": "13cc2d70",
   "metadata": {},
   "outputs": [
    {
     "name": "stdout",
     "output_type": "stream",
     "text": [
      "(200000, 2)\n"
     ]
    },
    {
     "data": {
      "text/html": [
       "<div>\n",
       "<style scoped>\n",
       "    .dataframe tbody tr th:only-of-type {\n",
       "        vertical-align: middle;\n",
       "    }\n",
       "\n",
       "    .dataframe tbody tr th {\n",
       "        vertical-align: top;\n",
       "    }\n",
       "\n",
       "    .dataframe thead th {\n",
       "        text-align: right;\n",
       "    }\n",
       "</style>\n",
       "<table border=\"1\" class=\"dataframe\">\n",
       "  <thead>\n",
       "    <tr style=\"text-align: right;\">\n",
       "      <th></th>\n",
       "      <th>text</th>\n",
       "      <th>label</th>\n",
       "    </tr>\n",
       "  </thead>\n",
       "  <tbody>\n",
       "    <tr>\n",
       "      <th>0</th>\n",
       "      <td>Samsung Galaxy Tab Active Pro review: Rugged, ...</td>\n",
       "      <td>0</td>\n",
       "    </tr>\n",
       "    <tr>\n",
       "      <th>1</th>\n",
       "      <td>Malware on Target - Pages 4 and 5 #fnaf  See a...</td>\n",
       "      <td>0</td>\n",
       "    </tr>\n",
       "    <tr>\n",
       "      <th>2</th>\n",
       "      <td>A curated list of amazingly awesome OSINT: htt...</td>\n",
       "      <td>0</td>\n",
       "    </tr>\n",
       "    <tr>\n",
       "      <th>3</th>\n",
       "      <td>Thank you for tipping for Zero-day tokens for ...</td>\n",
       "      <td>0</td>\n",
       "    </tr>\n",
       "    <tr>\n",
       "      <th>4</th>\n",
       "      <td>From making sure they don't fall for phishing ...</td>\n",
       "      <td>0</td>\n",
       "    </tr>\n",
       "  </tbody>\n",
       "</table>\n",
       "</div>"
      ],
      "text/plain": [
       "                                                text label\n",
       "0  Samsung Galaxy Tab Active Pro review: Rugged, ...     0\n",
       "1  Malware on Target - Pages 4 and 5 #fnaf  See a...     0\n",
       "2  A curated list of amazingly awesome OSINT: htt...     0\n",
       "3  Thank you for tipping for Zero-day tokens for ...     0\n",
       "4  From making sure they don't fall for phishing ...     0"
      ]
     },
     "execution_count": 5,
     "metadata": {},
     "output_type": "execute_result"
    }
   ],
   "source": [
    "#read the dataset with name \"non_cyber.csv\" and store it in a variable df\n",
    "non_cyber = pd.read_csv(\"/home/sangramdh/jupyter/NLP/text_classification/data/not_cybersecurity_tweets.csv\", usecols=['text', 'label'])\n",
    "\n",
    "#print the shape of dataframe\n",
    "print(non_cyber.shape)\n",
    "\n",
    "#print top 5 rows\n",
    "non_cyber.head()"
   ]
  },
  {
   "cell_type": "markdown",
   "id": "358d7912",
   "metadata": {},
   "source": [
    "### Check uniques values in \"label\" column"
   ]
  },
  {
   "cell_type": "code",
   "execution_count": 6,
   "id": "5abb669c",
   "metadata": {},
   "outputs": [
    {
     "data": {
      "text/plain": [
       "array(['1', ' #CyberSecurity for Power Systems',\n",
       "       ' A New Wake Up Call https://t.co/yBYOsLGIfi #cybersecurity',\n",
       "       ' https://t.co/BenGo8OxLk',\n",
       "       ' Nursing Essays Criminology English Ecology Literature Law Algebra History Excel Homework #MachineLearning  #DataScience #tech #100DaysOfCode #Python #Cybersecurity #BigData #AI  #DeepLearning #ArtificialIntelligence #NLP #Brands  Dm @GraceyEssays https://t.co/jTjW07Uuym',\n",
       "       ' Access Requests #GDPR #cybersecurity #security via https://t.co/zeb5hNqb8q https://t.co/20xnomxaZK',\n",
       "       'quot',\n",
       "       'Répartition DR  Biden s’entretiendra avec d’autres leaders mondiaux sur les attaques de ransomware. Réunion pour créer une alliance ...   https://t.co/hFe0SwwViK #French https://t.co/3biiMPjKOt',\n",
       "       ' entenda como a ameaça ransomware age –\\xa0Tilt https://t.co/LwI0Tuhf0N',\n",
       "       ' Tile Trackers & Amazon',\n",
       "       ' Microsoft Is Exposed | #microsoft | #hacking |\\xa0#cybersecurity https://t.co/Mo2L56BjVH',\n",
       "       ' capturing all the data flowing to and from your computer.  #infosec #CyberSecurity  #software #networksecurity  #datasecurity',\n",
       "       ' 66% of universities had no basic email security protection',\n",
       "       ' https://t.co/Lt9D1PJOZN #Cyber #CyberSecurity #Backtotheoffice #Webinar https://t.co/Ooh53eyOEX',\n",
       "       ' the health care sector has been hit especially hard (Becky Sullivan/NPR) https://t.co/hhnmBTjlIk #TechNews #TechTips https://t.co/vuvx5W3kSV',\n",
       "       ' the health care sector has been hit especially hard (@becsully / NPR)  https://t.co/zcYkMujF0S https://t.co/7FY2dbyDBn',\n",
       "       ' the health care sector has been hit especially hard (Becky\\xa0Sullivan/NPR) https://t.co/Bm5IjYcjJI',\n",
       "       ' https://t.co/QekW2gELCQ  #Cybersecurity #Riskmanagement #cybercrime #cyberbreach #cyb… https://t.co/FxsbFp6y3C',\n",
       "       ' https://t.co/d3yfOwNEHF  #Cybersecurity #Riskmanagement #cybercrime #cyberbreach #cybersecurity #risk https://t.co/SLqIBEvp1a',\n",
       "       'Ransomware Text Message.txt @BleepinComputer @LawrenceAbrams @demonslay335 Sample VT https://t.co/hARntF1Vey https://t.co/4TmuW6Thxg',\n",
       "       ' Yelisey Boguslavskiy write:  Add your highlights: https://t.co/5UINMw6Yid  #privacy #tech #pri...',\n",
       "       ' #Math #Essay due  #Paper pay  #Someone help  #Cybersecurity  #Do my homework  #essaypay   #Fall classes  #Math  #pay assignment  #Anatomy  #Statistics  #essay write  #Math   #OnlineClasses  #psychology Assignment due @GradeAwritersUS',\n",
       "       ' cops say email hacked. Cyber thieves withdrew Rs 52 lakh from the current and overdraft bank account of a private firm dealing in supply of medical equipment and instruments. https://t.co/rTzhmmHtyc #Cybersecurity #India',\n",
       "       ' https://t.co/OETatn9Ec7 For more info on IAG visit us @ https://t.co/DncwduIfyG  #IAM #cybersecurity #identitytools #ISSQUARED #ORSUS #webinar #AI #IAG #EIAG #Datasecurity https://t.co/Xlu4FqFRfa',\n",
       "       ' many Belarus Railway services appear offline (Dan Goodin/Ars Technica) https://t.co/9QFJBO44sg #TechNews #TechTips https://t.co/oPhPDkvxnj',\n",
       "       ' the health care sector has been hit especially hard (Becky\\xa0Sullivan/NPR) https://t.co/NDD2wUprse',\n",
       "       ' no Internet access',\n",
       "       ' Ny Attorney General Reveals More Than 1.1m Compromised Accounts Discovered https://t.co/GPr5sg4fx0 #Cybersecurity  #Innovation #Fintech #Startups #AI #ML #DigitalTransformation',\n",
       "       ' More Skilled Humans Needed... https://t.co/kuEJKP0cvs',\n",
       "       ' the health care sector has been hit especially hard (Becky Sullivan/NPR) https://t.co/lYCJEH172m',\n",
       "       ' many Belarus Railway services appear offline (Dan Goodin/Ars\\xa0Technica) https://t.co/gZRgcsOQoR',\n",
       "       '  #javascript #CSS #Java #CodeRedForHumanity #Science journals #Onlineclasses #100DaysOfCode  #DEVCommunity  #CodeNewbie  #Flutter #DataScience #MachineLearning #React #CyberSecurity  #nursing  📩:@as_writers https://t.co/nVmyDvjrUK',\n",
       "       ' #javascript #CSS #Java #CodeRedForHumanity #Science journals #Onlineclasses #100DaysOfCode  #DEVCommunity  #CodeNewbie  #Flutter #DataScience #MachineLearning #React #CyberSecurity  #nursing  📩:@brook_writers https://t.co/gBj4Tn3CqI',\n",
       "       '-) For Real. RansomWare is now the play of the day. #RansomWare #DarkSide #Malware #CyberAttack #CyberSecurity #FireEye #Mandiant #hackers',\n",
       "       ' they know who they are. https://t.co/hbGFbJxYQA',\n",
       "       ' source code for BotenaGo malware capable of exploiting #IoT vulnerabilities',\n",
       "       ' many Belarus Railway services appear offline (Dan Goodin/Ars\\xa0Technica) https://t.co/sjnqg3KOgQ',\n",
       "       ' making it a great target!  @Sumsubcom #gotcha #humans #vulnerability #CyberSecurityAwareness #CyberSecurity #Security #SCAM #ScamAlert #dating #LOVE',\n",
       "       ' from initial access to payload deployment. #infosec #Cybersecurity #DFIR #cybercrime #CISO #malware https://t.co/t89FAAHCVe',\n",
       "       ' just longer than everything else that might notice it’s gone. -OSSTMM  #OSSTMM #infosec #cybersecurity',\n",
       "       ' many Belarus Railway services appear offline (Dan Goodin/Ars\\xa0Technica) https://t.co/58c1BSPEOP',\n",
       "       's cybersecurity order will affect companies https://t.co/AthF0urs5M',\n",
       "       ' Brian Ozden’s ‘Who You Gonna Call When They Come For You……And They Will’ #cybersecurity',\n",
       "       \" looking forward to hearing from Irish & International experts on Ireland's cybersecurity in the context of #HSEcyberattack   Pat Larkin @wardsolutions\",\n",
       "       ' @NASA Perseverance Mars landing',\n",
       "       ' win streak now at\\xa04 https://t.co/euWx4QceYJ',\n",
       "       \" Extension: .decrypt (including victim's ID and developers' email)\",\n",
       "       ' Indian Tricolour showed on TV | #cybersecurity |\\xa0#cyberattack https://t.co/OeR00idZg6',\n",
       "       ' Moves to 20-3 On The Year | #students | #parents | #sextrafficing | #childsaftey | #cybersecurity |\\xa0#hacker https://t.co/bYeGTCWWJb',\n",
       "       \" what's the big deal in Password Management? #cybersecurity #datasecurity #automation  It is exasperating to change your password every Thirty (30) days. Some password policy even requires a16 complex Alph…https://t.co/6DhPA7RL9Y https://t.co/CF3YW6tQ3r\",\n",
       "       ')',\n",
       "       't found virus or malware. ... C:Program FilesMalwarebytesAnti-MalwareMBAMService.exe  #cybernews #thecybernewsfeed  https://t.co/5jjTQGezUD',\n",
       "       ' Senate passes the Cannabidiol and Marihuana Research Expansion Act',\n",
       "       ' many Belarus Railway services appear offline (Dan Goodin/Ars Technica) https://t.co/3oOeDtXVcb',\n",
       "       ' Chinese-Made TCL / Alcatel Phones Distributed To Georgia Poll Managers Secretly Connected Election To Internet - https://t.co/K4Kuz7QrCh',\n",
       "       ' actress thanks Maharashtra Cyber Police for recovering it in record time | Bollywood Bubble https://t.co/Jnkdc0pr91 #cybersecurity #infosec #computerscience',\n",
       "       ') share ko lang.',\n",
       "       ' Access Requests #GDPR #cybersecurity #security via https://t.co/pwflzXGpiN https://t.co/o2chGKUTDh',\n",
       "       ' a New Wake-Up Call | #malware |\\xa0#ransomware https://t.co/wCJWwrFzDW',\n",
       "       ' Likely to Fuel More Disruptive Cyber Attacks #cybercrime #cybersecurity #cyberattack https://t.co/FikaagGHcd via @TheHackersNews',\n",
       "       \" guess the other. Let's see your correct answer now!  #tuesdayvibe #QuestionOfTheDay #apache #questionschallenge #CloudComputing #cybersecurity #coding #programming #cloud https://t.co/1CsFqksgzb\",\n",
       "       's invasion of Ukraine https://t.co/k7i1uBKBsd a través de @Malwarebytes',\n",
       "       ') #Network #Linux #cybersecurity #Pentesting  #infosec #CTF  #Docker #Python #hacktheplanet  #web #tryhackme #Root https://t.co/qVpdQPrAf1',\n",
       "       ' Harting earned a product innovation award',\n",
       "       ' find out how in our FAQ and watch the video at: https://t.co/78Z95QOolP #recruitment #careers #THELIST https://t.co/bJ2SB8awhv',\n",
       "       '&nbsp',\n",
       "       ' Chinese-Made TCL / Alcatel Phones Distributed To Georgia Poll Managers Secretly Connected Election To Internet - The American Report https://t.co/LvosdntvfD',\n",
       "       't enough skilled cybersecurity professionals to combat the attack landscape alert by alert\\xa0...  #cybernews #thecybernewsfeed  https://t.co/WV5IzWzR8V',\n",
       "       ' it’s intended to be destructive and render targeted devices inoperable. https://t.co/MZ5D6acMDo',\n",
       "       ' PF confirma. https://t.co/XyAPahCgiP',\n",
       "       ' An attack which is a nightmare of WordPress developers https://t.co/JbmmYjD96h  #WordPress #cybersecurity #WebSecurity',\n",
       "       '  esp Conti and others into a sleep mode. SHut them down.  Wreak havoc on the web',\n",
       "       ' Hacking Cloudflare websites https://t.co/XoNGNlu1RG https://t.co/BmLx1YtSKb',\n",
       "       ' being proactive is 2nd only to being #CyberAware #CyberResilience #Security #IT #ITSolutions',\n",
       "       ' TechVets Partnership: Training UK Veterans in Cybersecurity #cybersecurity',\n",
       "       ' (2) insurance coverage that\\xa0... https://t.co/WXcN3jH9vx EXETLOS',\n",
       "       ' Pinky Doodle Poodle” on #Vimeo https://t.co/STey7X7TvT',\n",
       "       ' read more trends here https://t.co/JX1QE9k5m3 @helpnetsecurity #cybersecurity https://t.co/DGpyZvHh15',\n",
       "       ' PF confirma - Olhar Digital https://t.co/sb6wowOjR8 #Anonymous #ministério da saúde #ransomware via @OlharDigital',\n",
       "       's administration responded to the rise in attacks by enacting an executive order for cybersecurity.  #cybernews #thecybernewsfeed  https://t.co/EgpWCh7ZqK',\n",
       "       ' the malware looks like ransomware but lacks a ransom recovery mechanism (Microsoft Security Blog) https://t.co/e1FSUYoIyj',\n",
       "       ' prevent the software that encrypts files from being installed and executed PROACTIVELY using @NISTcyber C-SCRM and SBOM  https://t.co/ojurQOFs47',\n",
       "       ' the malware looks like ransomware but lacks a ransom recovery mechanism (Microsoft Security\\xa0Blog) https://t.co/xVnYhTxlxv',\n",
       "       ' the malware looks like ransomware but lacks a ransom recovery mechanism (Microsoft Security\\xa0Blog) https://t.co/KQ6VZxBQd6',\n",
       "       ' https://t.co/QekW2gELCQ  #Cybersecurity #Riskmanagement #cybercrime #… https://t.co/JKyvUnWKg7',\n",
       "       ' Babuk Evolves https://t.co/9H5Cfqsnyv',\n",
       "       ') https://t.co/g4RYg5tczb',\n",
       "       ' Nursing Essays History Excel Ecology Literature Law Algebra  We mantra on timely delivery and no plagiaris #MachineLearning  #DataScience #tech #100DaysOfCode #Python #Cybersecurity #BigData #AI #DeepLearning #NLP #Brands #Flutter #Javascript',\n",
       "       ' The Channel Has Changed: Is Your Marketing Caught Up',\n",
       "       ' the malware looks like ransomware but lacks a ransom recovery mechanism (Microsoft Security Blog) https://t.co/XfKxLVlkB7',\n",
       "       ' Access Requests #GDPR #cybersecurity #security  https://t.co/rNUyp5FPuV',\n",
       "       ' the health care sector has been hit especially hard (Becky Sullivan/NPR) - https://t.co/Ftibc1SXKK',\n",
       "       ' a journey expanding to serve the evolving needs of customers 👏👏 proud to belong !  #NBE #national_bank_of_egypt  #nationalbankofegypt #cybersecurity #digitalacceleration #informationsecurity   #digitaltra…https://t.co/VG7jnwJQAZ',\n",
       "       ' the malware looks like ransomware but lacks a ransom recovery mechanism (Microsoft Security\\xa0Blog) https://t.co/SXyJjmTpXR',\n",
       "       ' Minister promised punishment. https://t.co/miMgtqb2gd https://t.co/xGlJQEXg3V',\n",
       "       ' The Wise Listen  https://t.co/Ae44tidBxs https://t.co/ZuA1aekVZb',\n",
       "       ' experts suggest it could help reduce the angst of cybersecurity training. https://t.co/YlaarATEiU',\n",
       "       ' Brand Relationships Daily is out! https://t.co/8mf1bVggJF Stories via @IgorNaming @ChelseaKrost @ShellyKramer #cybersecurity #branding',\n",
       "       ' Dream or Reality?  https://t.co/E2mszEdDTC  #cybersecurity #datasecurity #ransomware #phishing #ethicalhacking #cybersecuritytraining #cybersecurityawareness #malware #informationsecurity #infosec #poland #tunisia #singapore',\n",
       "       ' emphasize public safety not affected https://t.co/Ggv1RWlNHT',\n",
       "       ' Transparent #cybersecurity',\n",
       "       ' the malware looks like ransomware but lacks a ransom recovery mechanism (Microsoft Security\\xa0Blog) https://t.co/rIfRjd6RFi',\n",
       "       ' the malware looks like ransomware but lacks a ransom recovery mechanism https://t.co/dZuoTGdoTc',\n",
       "       ' newer cybersecurity guidelines ... - Adotas https://t.co/hiK7qCsVDF https://t.co/lXXFxsUKkb',\n",
       "       '(or\\xa0SQLi)  often referenced as the most common type of attack on websites.  https://t.co/Ar6evbYGEP  #CyberSecurity #infosec #SQL #injection #ethicalhacking #linux #opensource #education #computerscience #developer #programming #learntocode #webdev https://t.co/rK8Q4kAV1o',\n",
       "       \")  Part of the lab's purpose is to show how adding capabilities can stop ransomware in it's tracks! https://t.co/znsjD7wa5g\",\n",
       "       ' the malware looks like ransomware but lacks a ransom recovery mechanism (Microsoft Security Blog)    https://t.co/gA9CZHiRLt',\n",
       "       ' #Python #100DaysOfCode  #AI #Analytics  #infosec  #BigData #Coding  #DataScience #JavaScript  #MachineLearning  #NodeJS  #Programming  #Tech #VR  #WomenWhoCode  #cybersecurity #coding  #hacker  WhatsApp',\n",
       "       ' $CTEK Regional Multi-Service Health System Signs New Six-Figure Agreement with CynergisTek for Cybersecurity Services      https://t.co/LpOOHWK534      #MWN #Stocks @Tickeron @RJ_RAGE_ZX_1987  $FNGD $MRVL $CFVI $AABB  via @MarketWN',\n",
       "       ' the malware looks like ransomware but lacks a ransom recovery mechanism (Microsoft Security Blog)   https://t.co/gA9CZHiRLt',\n",
       "       ' the Snatch ransomware gang claims responsibility',\n",
       "       ' Customer Data - https://t.co/OpuMnnI7RA #cybersecurity #cloud #network #news #hacking #darkweb #uk #us #israel #security #cybersec',\n",
       "       ' 2) willingness to evaluate vendors at varying levels of maturity',\n",
       "       '-',\n",
       "       ' What That Means for Cybersecurity #Cybersecurity #security via https://t.co/KDUhFaFE1M https://t.co/euAIb67OaZ',\n",
       "       ' generalmente pagado mediante... - https://t.co/08YQ4M0l6n  #DelitosInformáticos #EEUU #PiratasInformáticos',\n",
       "       ' #CyberSecurity #CyberAttack #InformationSecurity #InfoSec https://t.co/q4jjLBwOck',\n",
       "       ' Sues Russian Hackers https://t.co/lvcEsR0P5w #cybersecurity',\n",
       "       ' Madhav Bhatt’s ‘Red Team Engagements: How To Train Your Blue Team To  #cybersecurity',\n",
       "       ' Joint global Sodinokibi/REvil ransomware op leads to key arrests',\n",
       "       ' Research News is out! https://t.co/9UFgKEKYWI Stories via @FrDsign #cybersecurity #security',\n",
       "       ' Microsoft Offers Potentially Dangerous Fix | ITsecurity #cybersecurity',\n",
       "       ' have we learned anything\\xa0useful? https://t.co/QVm0kfe4MX',\n",
       "       ' Ravehearts - #Radio #Listen Tune In https://t.co/aKdcd2qfjU #PeaceNotWar https://t.co/xQljqG4wUc',\n",
       "       ' 5 Pilot loyalists to join Gehlot Cabinet in Rajasthan | #cybersecurity |\\xa0#cyberattack https://t.co/vObDqrv5Yw',\n",
       "       ' $SOLS Cybersecurity Juggernaut Appoints Chele Rider as Director of Indigenous Relations      https://t.co/phL04lhwEt      #MWN #Stocks @MITickWatcher @BillTenn11  $WRN:CC $WRN $GZIC $TLRY  via @MarketWN',\n",
       "       ' Congress needs to fill the gaps https://t.co/A2xJacjhb8 #tech #digital #data #privacy',\n",
       "       ' this often leads employees to develop https://t.co/uUEIdHYK6P #digitization #advice #digital',\n",
       "       ' the Magniber #ransomware group starts exploiting Internet Explorer vulnerabilities and #TrickBot tries to make #Emotet a thing again. Read more in this week’s Threat Intelligence Brief: https://t.co/l10W01fRZa https://t.co/A4bRyx1X8C',\n",
       "       ' the malware looks like ransomware but lacks a ransom recovery mechanism (Microsoft Security\\xa0Blog) https://t.co/Te2iGz7jLC',\n",
       "       ' 5 Pilot loyalists to join Gehlot Cabinet in Rajasthan | #cybersecurity |\\xa0#cyberattack https://t.co/y7B4FjMeaf',\n",
       "       ' Hackers Target IoT https://t.co/5L6D4nE8P4',\n",
       "       ' Apache Releases 2.17 Fixing DoS #infosec #infosecurity #cybersecurity #threatintel #threatintelligence #hacking #cybernews #cyberattack #threathunting  #cloudsecurity #cloudcomputing #malware #ransomware #devops #dfir https://t.co/Hu1tkKH4cQ',\n",
       "       \" l'Agenzia per la #Cybersicurezza Nazionale invita a innalzare livelli di protezione▶️https://t.co/A6f0nxYr5D @versya_it #cybersecurity #awareness https://t.co/p00MkNZ1fF\",\n",
       "       ' many Belarus Railway services appear offline (Dan Goodin/Ars\\xa0Technica) https://t.co/BB3tmnbZJZ',\n",
       "       ' DarkSide Gang Gets The Spotlight - https://t.co/XDPXKkGeQO',\n",
       "       ' the health care sector has been hit especially hard https://t.co/A3llQqIwK2',\n",
       "       ' here’s what that means https://t.co/oXDts59CT7 via @lancasteronline',\n",
       "       ' O2 saw Open RAN trial success',\n",
       "       ' so what chance does small business have? Excitingly Lots! SMEs now have access to free and affordable cyber training through Police run Resilience Centres ‘Only 31% of employees are trained against ransomware attacks ‘ #BRIM  https://t.co/3xFl1etQfg',\n",
       "       'mini-Pakistan#39',\n",
       "       ' the woman was arrested in Miami on February 6 (Catalin Cimpanu/The Record) https://t.co/xigDzZi91D',\n",
       "       ' 5 Pilot loyalists to join Gehlot Cabinet in Rajasthan | #cybersecurity | #cyberattack | #cybersecurity |\\xa0#hacker https://t.co/VhwtDKnHgX',\n",
       "       ' flights delayed  https://t.co/LKEmLZGGyb https://t.co/UD3HoaWubt',\n",
       "       ' frenzy goes to #Silver  #finance #money #business #crypto #iot #india #blockchain #btc #entrepreneur #investment #bitcoin #wealth #forex #invest #investing #digitalidentity #biometrics #crypto #security #cybersecurity #authentication #wal…https://t.co/x0d8vg0jRQ',\n",
       "       ' systems slowly coming back online - News Radio KMAN https://t.co/f1hnk5pviP',\n",
       "       \" this is what makes your brand such a valuable asset and why #ThreatIntelligence is key 🗝️.  Here's how threat intelligence protects your brand.  https://t.co/71ivsR47CK #BrandProtection #Cybersecurity\",\n",
       "       ' the harsh truth of the world we live in is that at some point you’ll be targeted by Cyber Scammers. #BuildFuture #DigitalTransformation #CyberSecurity https://t.co/XWjviBdUWA',\n",
       "       '  #javascript #CSS #Java #CodeRedForHumanity #Science journals #Onlineclasses #100DaysOfCode  #DEVCommunity  #CodeNewbie  #Flutter #DataScience #MachineLearning #React #CyberSecurity  #nursing 📩:@brook_writers Molly holly',\n",
       "       ' outlook rises on heightened security awareness in wake of SolarWinds a..  - https://t.co/0nU903TmO9 #cybersecurity #cloud',\n",
       "       ' Brand Relationships Daily is out! https://t.co/tpFtltm0zL Stories via @Plannersphere20 #branding #cybersecurity',\n",
       "       'm not sure if my network is infected with malware maybe worm or root kit as much as I&#039',\n",
       "       ' Babuk “Goes Dark” https://t.co/CbJuR7wHcF',\n",
       "       ' Recording Posted on YouTube - GlobeNewswire https://t.co/93faGX1WR2',\n",
       "       ' PF confirma - Olhar Digital https://t.co/ksExHnp8i0 #Anonymous #ministério da saúde #ransomware via @OlharDigital',\n",
       "       ' Data Obtained May Help Hackers Better Target Firm’s Customers  https://t.co/4XNLtLguHJ',\n",
       "       ' Swiss Hacktivist Charged for Fraud https://t.co/Sw76BEzjOW via @Thehackernews https://t.co/rAKZarIzrG',\n",
       "       ' U.S. officials meet with tech leaders to discuss #cybersecurity. 🔎 #RegTech https://t.co/muvGLEKazj',\n",
       "       ' a cyber war | #cybersecurity |\\xa0#cyberattack https://t.co/27uOZTkYsF',\n",
       "       ' the malware looks like ransomware but lacks a ransom recovery mechanism (Microsoft Security\\xa0Blog) https://t.co/f10kP8GDBq',\n",
       "       ' Surge In Social @CryptoCSinc https://t.co/XoEFQClXu0 #cybercrime #cybersecurity #hackers #rssfeed',\n",
       "       \" DOE's Nuclear Bomb Facility Jolts FY22 Funding https://t.co/GyMNGcSzzP  #CyberSecurityNews #Cyber #CyberSecurity #CyberAttacks #CyberWar #APT #SecurityBreach #Ma… https://t.co/NpVoNGqE1d\",\n",
       "       ' the health care sector has been hit especially hard (Becky\\xa0Sullivan/NPR) https://t.co/ArmtRYYBE8',\n",
       "       '  #web3 #DigitalID #digitalidentity #blockchain #crypto #CyberSecurity   https://t.co/XqwHbbDNYW',\n",
       "       ' generalmente pagado mediante... - https://t.co/FWjWAlTRMn  #DelitosInformáticos #EEUU #PiratasInformáticos',\n",
       "       ' Analysts Laud Cybersecurity Firm’s Results Shares of #darkweb @CryptoCSinc https://t.co/Ij8zIuOqxb #cybercrime',\n",
       "       ' 1.71 million users at risk #cybersecurity',\n",
       "       ' call us today for a comprehensive security audit! Read more from the article here: https://t.co/qtc13iCrC5 https://t.co/vXYnizvZK1',\n",
       "       's Pegasus\\xa0...  #cybernews #thecybernewsfeed  https://t.co/Dmsp2hQ1E0',\n",
       "       ' the health care sector has been hit especially hard (Becky Sullivan/NPR) https://t.co/KXV1otO7JI',\n",
       "       ' IT cell checks spread  . .  Follow us @ProaxisScitech  . . #hackers #cyber #internetfraud #data #cybercriminals #cybercrime #evidence #crime #investigation #hackinggroup #malware #malicious #phishing #remoteaccess #forensics #proaxissolutions https://t.co/MrLkR1Cwxu',\n",
       "       ' VS Code) https://t.co/ZTWzILStJh #infosec #cybersecurity #malware #cyber #security',\n",
       "       ' he says “we’re not certain” who is behind the attack (Trevor Hunnicutt/Reuters) https://t.co/Qbmzui4wS6',\n",
       "       ' and to line their own pockets at the expense of others',\n",
       "       ' what to expect in 2022 and beyond  Join the conversation 👉 https://t.co/3lbmDdRDtE  *Sponsored by @ArcherIRM  [@icebergnetworks]   #CyberSecurity #riskmanagement https://t.co/1PW9PishU7',\n",
       "       'We absolutely do not care about you&#8221',\n",
       "       '  #javascript #CSS #Java #CodeRedForHumanity #Science journals #Onlineclasses #100DaysOfCode  #DEVCommunity  #CodeNewbie  #Flutter #DataScience #MachineLearning #React #CyberSecurity  #nursing  📩:@brook_writers  #cryptocurrencies https://t.co/MyZ1Q8issh',\n",
       "       ' Extension: .dqws Ransom note: _readme.txt https://t.co/mGkf8hOBW8',\n",
       "       ' more than Rs 57 crores demanded as Ransom.  #northeasttoday #NortheastTodaymagazine #OilIndiaLimited #cyberattack #ITsystems #ransomware #Duliajan  https://t.co/ordI89Felt',\n",
       "       '  #javascript #CSS #Java #CodeRedForHumanity #Science journals #Onlineclasses #100DaysOfCode  #DEVCommunity  #CodeNewbie  #Flutter #DataScience #MachineLearning #React #CyberSecurity  #nursing  📩:@brian_help #cryptocurrencies https://t.co/mrOcPi7xGT',\n",
       "       ' Final exams Essays Dissertation Project Online classes #MachineLearning  #DataScience #5G #100DaysOfCode #Python #Cybersecurity #BigData #AI #IoT #DeepLearning #ArtificialIntelligence #NLP #robots #Industry40 #tech #DEVCommunity #javascript https://t.co/HUJBh1xc1F',\n",
       "       ' Relation to Layered Security Approach #cybersecurity',\n",
       "       '- https://t.co/A1pVOU26cR',\n",
       "       ' the health care sector has been hit especially hard (Becky\\xa0Sullivan/NPR) https://t.co/WSnAVfu359',\n",
       "       ' flights impacted | India Business News https://t.co/pURkVRzH1q',\n",
       "       ' Math English History Chemistry Biology Ecology Genetics Pharmacology Anatomy Biostatistics Biochemistry Psychology #MachineLearning  #DataScience #5G #100DaysOfCode #Python #Cybersecurity #BigData #AI #IoT #DeepLearning #ArtificialIntelligence #NLP #robots https://t.co/TCFsd53BHM',\n",
       "       ')   #Work #cybersecurity https://t.co/tqEk71I4k3',\n",
       "       ' I will have all of the NIST knowledge. 😂😭   #CyberSecurity #CybersecurityNews #infosec #infosecurity #cybercrime',\n",
       "       ' tracking their location and much more https://t.co/7Gyibij4xA #CyberSecurity #infosec #malware #Android',\n",
       "       ' patient data stolen - https://t.co/2FVxtRyJ9O',\n",
       "       ' Make a transaction and give it extra gas to access api end points basically.',\n",
       "       '  https://t.co/17V5euj3cF  #CEHv10 #training #certification #ECCouncil #Cybersecurity',\n",
       "       ' Extension: .japan',\n",
       "       ' experts suggest it could help reduce the angst of cybersecurity training. https://t.co/WtEst2SDx2 https://t.co/LcZBQUn8Qx',\n",
       "       ' Fuel Shortage & Rationing For HOW LONG?! https://t.co/pEqQQnS52g via @BitChute',\n",
       "       \" from there the ransomware encrypts the host's files while running “hidden” within the provided disk image https://t.co/f6rYl5576Z\",\n",
       "       ' Hacktivista suizo acusado de fraude https://t.co/US7ck6ffp3 a través de @TheHackersNews',\n",
       "       ' the true technology enabled Network of all networks.  Secure with us: https://t.co/gfTJ9Sm68k  #RNSBytes #CyberSecurity https://t.co/i4lTBg1m2u',\n",
       "       \" Ronnie O'Sullivan complains about security #infosec #infosecurity #cybersecurity #threatintel #thre… follow @medeepakjain #medeepakjain #aws #azure #hosting #devops #cloudservices\",\n",
       "       ' Cybersecurity Experts Scramble to Respond #Cybersecurity #ransomware #security via https://t.co/zeb5hNqb8q https://t.co/c5A9BCCq0Q',\n",
       "       ' the health care sector has been hit especially hard (Becky\\xa0Sullivan/NPR) https://t.co/UYOMn59IXe',\n",
       "       'T Free Msg: You know you shouldn’t click … so we ..  - https://t.co/ygblUNeL9d #cybersecurity #cloud #network #news #hacking #darkweb #uk #us #israel #security #cybersec #@womanknowcyber https://t.co/IWsvHiRehe',\n",
       "       ' https://t.co/QekW2gELCQ  #Cybersecurity #Riskmanagement #cybercrime #cyberbreach #cy… https://t.co/eDfWVzrWi6',\n",
       "       ' the health care sector has been hit especially hard (Becky Sullivan/NPR) https://t.co/HHjUu87wAa',\n",
       "       ' the health care sector has been hit especially hard (Becky Sullivan/NPR) #Technology #TFB https://t.co/CN6Vws0ujU Follow us for more..',\n",
       "       ' o maior desde WannaCry https://t.co/351UZvsZIy via @defesafoco',\n",
       "       's RouterOS  https://t.co/aksCKVbviI  Vulnerability Alert Subscriptions: https://t.co/hrQhy5uz4x',\n",
       "       ' soon to be released: Data Cybersecurity Controls - first public consultation. https://t.co/fYVF2UXi0J',\n",
       "       'stay ahe...  Add your highlights: https://t.co/QC8nQoGl4g  #Privacy #privacyte...',\n",
       "       ' the health care sector has been hit especially hard (Becky\\xa0Sullivan/NPR) https://t.co/hqZZmVR2xt',\n",
       "       ' the health care sector has been hit especially hard (Becky\\xa0Sullivan/NPR) https://t.co/WI4NnhiiQ1',\n",
       "       ' B2B focus much beyond #darkweb @CryptoCSinc https://t.co/XJcxBhROZe #cybercrime',\n",
       "       ' carrier will invest in cybersecurity to ‘transform our approach’ https://t.co/aoOZOe3P9d',\n",
       "       \"Agriculture est sorti de presse! https://t.co/6BSX8STLak Les unes d'aujourd'hui via @bleuherault #cybersecurity #icrier\",\n",
       "       ' attackers actively exploiting Realtek SDK flaws',\n",
       "       ' 7 killed in separate rain-related incidents in Nainital | #cybersecurity |\\xa0#cyberattack https://t.co/ufOO6W3Jpp',\n",
       "       '  https://t.co/Y4lHyc9ONj  #experience #oscp #offensivesecurity #offsec #certificate #hackthebox #hacking #recommendations #cybersecurity #pentest #bugbounty #examprep #tipsforsuccess #maytheforcebewithyou',\n",
       "       ' AlgoSec’s latest release  https://t.co/5VFu7wQ0Jj  Get ready. Want to learn more or take it for a test drive?  #spectrami #Algosec #cybersecurity # #networksecurity #newyearnewrelease https://t.co/RwDXuQHSMU',\n",
       "       ' update immediately https://t.co/Pc9HTCZ2W0 (https://t.co/AAThgn1Y02)',\n",
       "       ' What they Are and How You Can Beat Them https://t.co/3BlTBcDSpS Via @geektime #YoYo #YoYoDDos #DDoS #cyberattack #cybercrime #CloudScaling #ciso #cio #sco #sysadmin',\n",
       "       ' they must move beyond a #compliance-centric approach to #cybersecurity. But what role should compliance play? https://t.co/wifkEcj092',\n",
       "       ' prepare to fail.     #Cyberthreats #Cybercrime #Ransomware #Malware #DataBreach #SecurityBreach #Hackers #MoneyLaundering #Business #SupplyChains #DataSecurity #ITSecurity https://t.co/5XokbLS3ma',\n",
       "       ' टारगेटेड अटैक भी संभव  https://t.co/Gw6Cq49tR6 https://t.co/AJUXijjpb7',\n",
       "       ' attackers pin blame on cybersecurity consultant | The Week) has been published on https://t.co/TkfHjrMMbf',\n",
       "       ' F-35 changes ahead?',\n",
       "       ' but I did learn something amazing... https://t.co/IuM9XYy5NA',\n",
       "       ' and 67.2% of his followers are BOTNET accounts!  @Twitter your platform appears to be using FOREIGN INFLUENCE to steer American policy... https://t.co/5aWk8ElqKd',\n",
       "       ' #EdwardSnowden Says Stop Using It | #CyberSecurity https://t.co/aQ0vAliUTg',\n",
       "       ' the malware looks like ransomware but lacks a ransom recovery mechanism (Microsoft Security\\xa0Blog) https://t.co/gz2XEdcPqB',\n",
       "       '\\xa0resulting to #ransomware attacks. Douglas Brockett @StorageCraft talks about #dataprotection\\xa0and what you can do! https://t.co/BZvZWOIV1I',\n",
       "       's Badhatch backdoor malware that enhances its persistence on victim&#039',\n",
       "       ' the health care sector has been hit especially hard (Becky Sullivan/NPR) https://t.co/17OgPko6P4',\n",
       "       ' 2. Strengthening responses to ransomware attacks by ensuring support is available to victims',\n",
       "       ' Sues Russian Hackers https://t.co/A3kdztA5GZ',\n",
       "       ' 1 Year]: Enroll\\xa0Now! https://t.co/uMS4XobnGw',\n",
       "       ' the woman was arrested in Miami on February 6 (Catalin Cimpanu/The Record) https://t.co/USfiQinXk2',\n",
       "       ' enormous sources of power are being deployed by India’s adversaries’ | #cybersecurity |\\xa0#cyberattack https://t.co/ftWOG09VzV',\n",
       "       ' the health care sector has been hit especially hard (Becky Sullivan/NPR) #tech #mobile',\n",
       "       ')  #DFIR #InfoSec #CyberSecurity #Forensics #OSINT #SIEM #PCAP #Reversing #InfoSec',\n",
       "       ' the rootkit malware was observed communicating with Chinese IPs (Ax Sharma/BleepingComputer) https://t.co/PCN4dWOMtg',\n",
       "       ' Brand Relationships Daily is out! https://t.co/P9hZwgLoSh Stories via @JedRecord @deniseleeyohn #branding #cybersecurity',\n",
       "       ' Hackers Threaten to Leak\\xa0Data https://t.co/Ew25PswmQM',\n",
       "       ' here’s how to stay s #infosec #infosecurity #cybersecurity #threatintel #threatintelligence #hacking #cybernews #cyberattack #threathunting  #cloudsecurity #cloudcomputing #malware #ransomware #devops #dfir https://t.co/Hu1tkKH4cQ',\n",
       "       ' or The Whale: Chapter 1 - Loomings https://t.co/JojjDvdTFo    #innovation #devops #programming #cloudcomputing #cloud #aws #developer #linux #tech #python #coding #azure #software #iot #cybersecurity #it #javascript #java #css',\n",
       "       ' en el caso concreto de este tipo de\\xa0ransomware\\xa0--que suele atacar a víctimas con gran capacidad económica--\\xa0a través de un chat facilitado por los propios ciberdelincuentes.\\xa0  https://t.co/ANg63xySpu https://t.co/RiYc7e6412',\n",
       "       ' तुमचा डेटा कधीच नाही होणार चोरी!   #AndroidTipsAndTricks #CyberSecurity #Mobile #MobileNews #Samrtphone   https://t.co/MzxT4tRapz',\n",
       "       ' @kaspersky  witnesses the #threat actor developing #supplychain #attack capabilities ~ https://t.co/P8RzpthsjO https://t.co/yG6tRrp7aJ',\n",
       "       \" Facebook targets 'Stop the Steal' https://t.co/ceERnNHxhi #cybersecurity\",\n",
       "       ' here are tips to address them: https://t.co/G5Y0GTINeG #cybersecurity',\n",
       "       \" it's also increasingly being linked to data exfiltration https://t.co/TMfhNerQ8S\",\n",
       "       ' Wins 7 Lakh Air Miles | #cybersecurity |\\xa0#cyberattack https://t.co/WUF6oUoD8n',\n",
       "       ' Recording Posted on YouTube https://t.co/OEugCLZxv3',\n",
       "       ' cyber security incident response management system and knowledge bas [cropped]  Find out more on https://t.co/fKHtB5KoQS',\n",
       "       ' Informationen und Angriffe immer weiter steigen (und verstörender werden) - einmal ein Überblick über die Aufgaben/Ansätze des BKA  https://t.co/RHmfNoUkVB https://t.co/E4Uf0XNrHT',\n",
       "       'Kohli’s long innings key VarunC n Bumrah m🤝  If avg.slow track n Pak chasing Babar n Rizwan key Need to lookout for Shaheen with new bal  🪙:opt to Chase  Backing India to win it   #T20WorldCup #IndvPak #TeamIndia #WT20',\n",
       "       ' the malware looks like ransomware but lacks a ransom recovery mechanism (Microsoft Security Blog) https://t.co/jBAv5LMj0J',\n",
       "       ' Cybersecurity Assessment Solution  https://t.co/pxHgF7sqp5',\n",
       "       ' Report Suggests Overhaul of Terror https://t.co/WeeMhtb96J via @csoonline',\n",
       "       ' Strategy',\n",
       "       ' a Machine-Driven RSS Bot by Ramsey Elbasheer https://t.co/RZtl0RGESS',\n",
       "       ' NCPCR summons DCP.” #Operations #Economy #CyberSecurity #Business #hackers #data #read #Security https://t.co/wHNtSpz5Rs',\n",
       "       ' Nursing Essays Criminology English Ecology Literature Law Algebra History Excel Homework #MachineLearning  #DataScience #tech #100DaysOfCode #Python #Cybersecurity #BigData #AI  #DeepLearning #ArtificialIntelligence #NLP #Brands  Dm @writters_pro',\n",
       "       ' security teams\\xa0are https://t.co/cTTYutyUo1',\n",
       "       's Home May Not Be Allowed in White House via @WestJournalism https://t.co/n07KbSPUKr',\n",
       "       ' here’s how to stay\\xa0safe https://t.co/SrLauzqsNi',\n",
       "       ' https://t.co/QekW2gELCQ  #Cybersecurity #Riskmanagement #cybercrime #… https://t.co/0eLDrm9tNN',\n",
       "       ' how foreign material #inspection impacts your #packaging #liability and more this week on @FoodSafetyTech https://t.co/3OkTbXV4BI #foodsafety #foodfraud #pathogens #risk #cybersecurity',\n",
       "       ' https://t.co/QekW2gELCQ  #Cybersecurity #Riskmanagement #cybercrime #cyberbreach #cybersecur… https://t.co/6w9wKH1Afl',\n",
       "       ' Day 24 Tip #24/31 by @CDR_Ayam CYBERSECURITY TIPS against CYBER SOCIAL ENGINEERING ATTACK. (Shoulder Surfing) #IoT #cybercrime #BeCyberSmart  #AI #IoT #infosec #cybersecurity #CybersecurityAwarenessMonth #becyberaware #becybersafe https://t.co/MGGWkJXWf6',\n",
       "       ' https://t.co/iyCDr1oYpc  #law #naturallaw #humanlaw #crime #lawyer #familylaw #legal #cybersecurity #privacy #news #infosec #intellectualproperty #fraud #lawyers #ethics #philosophy',\n",
       "       ' Compliance Requirements Remain Elusive https://t.co/8aM41vvL6w #Cybersecurity',\n",
       "       ' this is why it is essential for your firewall to be effective. Having a firewall gives you a sense of security. 🔒  Click https://t.co/olePykddOY . . . #connectds #digital #cybersecurity #data https://t.co/6UP29MTQXH',\n",
       "       ' the rootkit malware was observed communicating with Chinese IPs #microsoft #netfilter https://t.co/Z7D1UbobwM',\n",
       "       's Pegasus\\xa0...  #cybernews #thecybernewsfeed  https://t.co/OMag24YhCZ',\n",
       "       ' will return funds. (Coin Telegraph) #Blockchain #CyberSecurity https://t.co/pUegjRH4bB https://t.co/43rFgWPk1D',\n",
       "       ' company denies any #breach  #dataleak #personaldata #sensitivedata #databreach #dataprivacy #cyberattacks #cybercrime #cybersecurity   https://t.co/teIvp04RgP',\n",
       "       'https://t.co/sC5eUx7pxu  . #cybersecurity #100DaysOfCode #nodej…',\n",
       "       ' security teams\\xa0are https://t.co/0Jcb7jOv8L',\n",
       "       ' cybersecurity experts call ‘data leak’ a Bitcoin scam https://t.co/KdduOofDX3 #ScamFraud',\n",
       "       ' mopping up after the costly attacks that follow phishing  BEC &amp',\n",
       "       ' कशी कराल त्याची तक्रार? #Facebook #cybersecurity #CyberFrauds  https://t.co/Sw5gobqwDt',\n",
       "       ' Day 24 Tip #24/31 by @CDR_Ayam CYBERSECURITY TIPS against CYBER SOCIAL ENGINEERING ATTACK. (Shoulder Surfing) #BreastCancerAwarenessMonth #BeCyberSmart #cybersecurity #BreastCancerAwareness #CybersecurityAwarenessMonth #becyberaware',\n",
       "       ' The Dark Side\\xa0Returns https://t.co/Ow3KGhoGYu',\n",
       "       '  cybersecurity threats growing as revealed by theft resource centre and HP wolf security https://t.co/0SxVZQ2Ft3',\n",
       "       ' Math English History Chemistry Biology Ecology Genetics Pharmacology Anatomy Biostatistics Biochemistry Psychology #MachineLearning  #DataScience #5G #100DaysOfCode #Python #Cybersecurity #BigData #AI #IoT #DeepLearning #ArtificialIntelligence #NLP #robots https://t.co/2rQig3Yrwf',\n",
       "       ' Research News is out! https://t.co/TTxQj47UHE #cybersecurity #security',\n",
       "       ' it is imperative that they put these at the forefront of their strategical decisions.  When did you last have a cyber security checkup? https://t.co/S8qO6CHjFV',\n",
       "       's Jim Cramer Is Pouring His Bitcoin Over Chinese Mining Concerns and Ransomware Concerns https://t.co/kN3cvtCKro #trademoneta #crypto #bitcoin https://t.co/eGgSSHHBk3',\n",
       "       ' an initiative of  @narcoticsbureau in collaboration with #CyberPeace☮️ and stand a chance to win prize money upto Rs 6.5 lakh.💰  #CyberSecurity #Hackathon',\n",
       "       'dr sec by @clintgibler  #bugbountytips #appsec #cybersecurity',\n",
       "       'https://t.co/vVBmHxRzkZ for detailed info. #Crypto #privacy #cybersecurity #Hacking #Security https://t.co/SHD1D5zuF9',\n",
       "       ' how to determine which will best fit your enterprise? 👀 Check out the Framework Overload podcast (25 mins) featuring #ISACA cyber pros: https://t.co/TNaU0cO3pp https://t.co/LJTloyz4zK',\n",
       "       ' #cybersecurity https://t.co/RfyZchFZSI via @business',\n",
       "       'DR: A 2-Account Bundle of Lifetime Subscriptions to Sticky Password Premium is on sale as of Jan. 30 for… https://t.co/Dr7sfZpqE0  | https://t.co/9AaTTqXITl   | https://t.co/eKi4cP5ni2 https://t.co/bdu7FZH11L',\n",
       "       ' Final exams Essays Dissertation Project Online classes #MachineLearning  #DataScience #5G #100DaysOfCode #Python #Cybersecurity #BigData #AI #IoT #DeepLearning #ArtificialIntelligence #NLP #robots #Industry40 #tech #DEVCommunity #javascript  Dm',\n",
       "       ' A council... https://t.co/8NJzd1brLY https://t.co/AYXGZhsNr0',\n",
       "       ' vacuna contra el ransomware y otros malware https://t.co/hf5iCltsAO https://t.co/PFhmxnRX7b',\n",
       "       ' a New Wake-Up Call. (Forbes) #CyberSecurity  https://t.co/3ispTZxI4H https://t.co/MMUs5aFHZi',\n",
       "       ' Babuk\\xa0Evolves https://t.co/Mo3UQMG9yt',\n",
       "       ' impose cost. #CyberSecurity @CISAgov @CISAJen https://t.co/HTt8t0rHMG',\n",
       "       ' Math English History Chemistry Biology Ecology Genetics Pharmacology Anatomy Biostatistics Biochemistry Psychology #MachineLearning  #DataScience #5G #100DaysOfCode #Python #Cybersecurity #BigData #AI #IoT #DeepLearning #ArtificialIntelligence #NLP',\n",
       "       ' Antitrust Bills Target Big Tech',\n",
       "       ' Extension: .MS https://t.co/PsDQ2b2LpT @JakubKroustek @demonslay335 @Amigo_A_ @LawrenceAbrams  **********************************',\n",
       "       ' make sure you stay secure by reviewing and following these important & easy tech-tips: https://t.co/kkoT9CnXZg  #techtips #thanksgiving #cybersecurity https://t.co/SvPEKvN1Y5',\n",
       "       ' hackers threaten to expose personal data of LGBTQ people  https://t.co/2pALJr302A  #cybersecurity #infosec',\n",
       "       'T launches SASE with Cisco Meraki to enable #cybersecurity',\n",
       "       ' residents advised to keep windows closed | #cybersecurity | #cyberattack | #cybersecurity |\\xa0#hacker https://t.co/2HBkZhRISK',\n",
       "       ' and other thoughts from @kevinneal2001. Read or watch the interview. https://t.co/Q0SaCDqUiG @P3iDtech https://t.co/5OadSsOmZ4',\n",
       "       ' and performing periodic scans. ... employees to report extortion payments as a result of ransomware attacks within 24 hours… https://t.co/v0DpbF34LR',\n",
       "       ') https://t.co/DUBw1BSSnt  . #Ransomware #Malware #InfoSec #DataSecurity #CyberSecurity #backup',\n",
       "       ' Math English History Chemistry Biology Ecology Genetics Pharmacology Anatomy Biostatistics Biochemistry Psychology #MachineLearning  #DataScience #5G #100DaysOfCode #Python #Cybersecurity #BigData #AI #IoT #DeepLearning #ArtificialIntelligence #NLP #robots',\n",
       "       's never-ending cybersecurity failures https://t.co/rE5RuLcxvG #devopsish',\n",
       "       ' while buying valuable time for IT teams to comprehensively patch applications? Get in touch with @BlockArmour at info@blockarmour.com. #cybersecurity #log4shell #cve202145046 #cve202144228 https://t.co/dvcMBlBNzO',\n",
       "       '3  https://t.co/wsYEaymm1n #hackthebox #htb #cybersecurity',\n",
       "       ' experts suggest it could help reduce the angst of cybersecurity training. https://t.co/e9874eE9D4 https://t.co/rADCL2h8M6',\n",
       "       ' Cloudfare – IoT World Today - IoT World Today https://t.co/yG7ZejAWI3 #IoT #internetofthings #cybersecurity',\n",
       "       \" investire nelle imprese che supportano la digitalizzazione dell'economia -  #infrastrutture #digital #cloud #cybersecurity #tech https://t.co/DLc8B46GtJ\",\n",
       "       ' Final exams Essays Dissertation Project Online classes #MachineLearning  #DataScience #5G #100DaysOfCode #Python #Cybersecurity #BigData #AI #IoT #DeepLearning #ArtificialIntelligence #NLP #robots #Industry40 #tech #DEVCommunity #javascript',\n",
       "       'attesa', ' @DHCWales buys @bettercareIT #OpenEHR platform',\n",
       "       's most advanced cybersecurity package #smallbiz https://t.co/9jyrkdvOlw',\n",
       "       ' https://t.co/QekW2gELCQ  #Cybersecurity #Riskmanagement #cybercrime #cyberbreach #cybersecur… https://t.co/aNbzWmLW8F',\n",
       "       ' #Essay due #Paper pay #Someone help #Cybersecurity #Do my homework #essaypay #Fall classes #pay assignment #Anatomy #Statistics #essay write #Math #OnlineClasses  #psychology Assignment due DM ASAP @Your_tutorsUSA https://t.co/ccycAKvt6k',\n",
       "       ' https://t.co/QekW2gELCQ  #Cybersecurity #Riskmanagement #cybercrime #cyberbreach #cybersecurity #risk https://t.co/TVKewS6JeR',\n",
       "       ' $CTEK Regional Multi-Service Health System Signs New Six-Figure Agreement with CynergisTek for Cybersecurity Services      https://t.co/Z7WUh7KtCA      #MWN #Stocks @Tickeron @RJ_RAGE_ZX_1987  $FNGD $CFVI $MRVL $AABB  via @MarketWN',\n",
       "       ' the malware looks like ransomware but lacks a ransom recovery mechanism (Microsoft Security Blog)    Microsoft Security Blog: Microsoft identifies a destructive malwa… https://t.co/KTKxKsGZQg',\n",
       "       ' #securityawareness #cybersafety #cybersecurity  https://t.co/Y8vh8hmmmW',\n",
       "       ' ahora Palma de Mallorca https://t.co/miweNpMnpf',\n",
       "       ' ransomware is relatively low risk with high reward potential https://t.co/KpXTzOkABH',\n",
       "       ' Policy Updates https://t.co/zhpbpqaSeX',\n",
       "       ' residents advised to keep windows closed | #cybersecurity |\\xa0#cyberattack https://t.co/6Uzw0byUJu',\n",
       "       ' increase in speed ⚡️  Are you ready for #Accelerate22? Join us next month for limitless opportunities to hear the latest on #cybersecurity trends and innovations from @Fortinet executives and experts. https://t.co/pcTLyKdQwL https://t.co/GQyYSGHGTp',\n",
       "       ' Eric Goldstein Quoted - ExecutiveGov https://t.co/2QjY3mlO5G',\n",
       "       ' residents advised to keep windows closed | #cybersecurity |\\xa0#cyberattack https://t.co/GMuOmVxifB',\n",
       "       ' lexicon you need in 2022 to be cyber aware with @R3sp_Cyb3r   #NewYear #cybersecurity  https://t.co/AAbsjJpeRQ https://t.co/7tVtPzZ9Pu',\n",
       "       ' credo che ci sia un problema di agenda digitale. #CyberSecurity  https://t.co/JqmKVachLd',\n",
       "       ' Math Chemistry Biology Ecology Genetics Pharmacology Biostatistics Biochemistry Psychology #MachineLearning  #DataScience #5G #100DaysOfCode #Python #Cybersecurity #BigData #AI #IoT #DeepLearning #ArtificialIntelligence #NLP #robots https://t.co/UBOd2bhilA https://t.co/HSRm95qsZ9',\n",
       "       'つД｀)  息抜きにバンドリ始めました←推しは左側 https://t.co/a036BfuJEp',\n",
       "       ' #Hackers Threaten to Leak Data https://t.co/tpAQHOFXkk #TheHackerNews',\n",
       "       '#news { printf{#AI #PatriotsUnite #trending #AnimalRights #Honor #bot}  } #JS #forex #javascript #bot #AI  #CodeNewbie #women #flutter #OpenSource #NFTs #python #Web3 #cybersecurity #cod #100DaysOfCode #feelspecial #WomenWhoCode #Blockchain #Robotic #info #feel #codi',\n",
       "       ' dazu trägt unter anderem auch der extreme Anstieg von #Ransomware-Infektionen bei: https://t.co/wHinQIY5q4 #Kaspersky #ITSec https://t.co/xUfjGVQxiJ',\n",
       "       '  - How cyber-criminals have pivoted their attacks',\n",
       "       ' it is written in .NET and STILL contains malware.  https://t.co/IuAOZ9lvbd #Pentesting #Malware #CyberSecurity #Infosec https://t.co/UClIYXaukd',\n",
       "       ' Data Obtained May Help Hackers Better Target Firm’s Customers | #malware | #ransomware |\\xa0#hacking https://t.co/89ogq6bLq0',\n",
       "       \")  I'll write an article soon https://t.co/w71HYAcOr1 #programming #school #computerscience #bash #linux #cybersecurity https://t.co/EpPUqSoVzX\",\n",
       "       ' Analyze #security #cybersecurity https://t.co/Fbqq5PKjVn',\n",
       "       ' 4 foreign nationals among 10 arrested.” #Operations #Economy #CyberSecurity #Business #hackers #data #read #Security https://t.co/FAS3IDZD35',\n",
       "       ' Data Obtained May Help Hackers Better Target Firm’s Customers | #malware | #ransomware |\\xa0#hacking https://t.co/6XXHMs3nhw',\n",
       "       ' Biden taps Rostin Behnam as acting #CFTC chair',\n",
       "       ' Chaos ransomware family',\n",
       "       ' a highly evasive and adaptive .NET #infostealer. Via @CISecurity. #infosec #Cybersecurity #DFIR #cybercrime #CISO #IOC https://t.co/fgmTn6tgnh',\n",
       "       ' ensuring your business stays protected from cyber threats. Find out more about these servies in our latest blog   https://t.co/bVyZE58PEp',\n",
       "       ' Biden urges companies to strengthen cyber-defenses - and more https://t.co/2p3bFAjB9N #corpgov #GRC #ESG #Kohls #diversity #SEC #climatechange #cybersecurity #Starbucks #Disney #Toshiba',\n",
       "       ' Payout Option in\\xa0Cryptocurrency https://t.co/XbdY0PqlJb',\n",
       "       ' Detecting the SUPERNOVA Webshell Trojan https://t.co/GS3B53WGdS',\n",
       "       's comprehensive cybersecurity software is half-price - https://t.co/a9VTHNj0rT https://t.co/kEduUtEUGF',\n",
       "       ' the future of Payments security .. #payments #technology #innovation #digital #security #data #cybersecurity #ArtificialIntelligence #finance #100DaysOfCode #AI https://t.co/Cp8BUHJt40',\n",
       "       ' Babuk “Goes Dark” - Security Boulevard https://t.co/5PM95ubAkR',\n",
       "       ' Research News is out! https://t.co/ktrDzP9lKK #cybersecurity #security',\n",
       "       \" Windows S...  https://t.co/foy373dLBH  Don't wait vulnerability scanning results: https://t.co/oh1APvMMnd\",\n",
       "       ' Is Acquisition Coming?  https://t.co/NufUzr1Rxr  #cybersecurity #infosec #security',\n",
       "       ' update your browser immediately!  https://t.co/ofpIGzfsYB',\n",
       "       ' FBI Names REvil Behind The Attack https://t.co/XUu7z5QO12',\n",
       "       ' Extension: .ssoi',\n",
       "       'A Roundup: 36 Deals Announced in May 2022 #cybersecurity',\n",
       "       ') https://t.co/JMxCLotP9G',\n",
       "       ' this one is about me.  #cybersecurity #security #fortlewis #departmentofdefense #army  YouTube: https://t.co/1VXmZMxRBd',\n",
       "       ' The Dark Side Returns | McAfee Blogs #blackmatter #mar https://t.co/P7EtDbayFZ',\n",
       "       ' security teams are | TechRadar https://t.co/K92HAMA8sy', 'amp',\n",
       "       ' special thanks to @OLDCCgov! https://t.co/te1rMWEdmv #cyber #TeamKentucky #CyberSecurity',\n",
       "       ' Baby Formula Shortage',\n",
       "       ' Research News is out! https://t.co/SrRH3WC13r #cybersecurity #security',\n",
       "       ' this one is about me.  #cybersecurity #security #fortlewis #departmentofdefense #army  YouTube: https://t.co/dKCzCk5yfe',\n",
       "       ' https://t.co/QekW2gELCQ  #Cybersecurity #Riskmanagement #cybercrime #cyberbreach #cybers… https://t.co/2IQ624OKTz',\n",
       "       ' Brand Relationships Daily is out! https://t.co/wNMqE1K1fQ Stories via @TonyZambito @prophetstrategy #cybersecurity #branding',\n",
       "       ' Extension: .ygvb',\n",
       "       ' Chinese-Made TCL / Alcatel Phones Distributed To Georgia Poll Managers Secretly Connected Election To Internet https://t.co/TzRNr6gSon',\n",
       "       ' claim free fantom tokens!💯 join here!👇👇👇  https://t.co/SHrINLkGj2',\n",
       "       ' Final exams Essays Dissertation Project Online classes #MachineLearning  #DataScience #5G #100DaysOfCode #Python #Cybersecurity #BigData #AI #IoT #DeepLearning #ArtificialIntelligence… https://t.co/1EH2ODR1Qd',\n",
       "       ' Apache Releases 2.17 Fixing DoS  #cybersecurity #infosec #hacker #cyberattack #phishing #cybercrime #malware #ransomware   https://t.co/AxczFs4V3o',\n",
       "       ' security heightened | #emailsecurity | #phishing |\\xa0#ransomware https://t.co/Pey3Rg506K',\n",
       "       ' the 2021 version identified at least 223.\\xa0  https://t.co/pAnhP8y21v @DerekDoesTech @SCMagazine #Revil #cybersecurity #cyberattacks https://t.co/NCRFZOGGyn',\n",
       "       ' security heightened | #emailsecurity | #phishing |\\xa0#ransomware https://t.co/svkZOtFRz7',\n",
       "       ' bankers group call for vigilance against cyber crimes: 12 said it will soon reimburse clients of losses due to cybersecurity ... 9615 to stem the rapid growth of cyber-related crimes in the banking\\xa0... https://t.co/J5Knmjoacg EXETLOS',\n",
       "       '-) #future #project #guam #div25 #cybersecurity #nft #comingsoon',\n",
       "       ' the other follows Jupiter around the sun. They could be some of the oldest objects in the solar system.',\n",
       "       ' the malware looks like ransomware but lacks a ransom recovery mechanism (Microsoft Security\\xa0Blog) https://t.co/3n3gcWnMNk',\n",
       "       ' Authorization https://t.co/fSaFWIMPB5 #cyber #cyberSecurity',\n",
       "       ' the malware looks like ransomware but lacks a ransom recovery mechanism (Microsoft Security Blog) https://t.co/evIRYwH2Ny',\n",
       "       ' only recently discovered data theft #hacking #cybersecurity https://t.co/Icagcaxbif',\n",
       "       \" On remarquera que cela fait beaucoup d'entreprise basé a New york qui sont aux prises des gangs de ransomware https://t.co/RsQK0Q4OXl\",\n",
       "       ' #EndImpunity  & #protectjournalists  https://t.co/tB56qU7Qaf #Days #media #news #CyberAttack #cybercrime #cybersecuritynews #cybersecurity #online #digital #CrimesAgainstHumanity #TruthMatters #Secure https://t.co/Uyz9eyR39V',\n",
       "       ' Research News is out! https://t.co/vY6QXnrdfp Stories via @GRSReddy #cybersecurity #security',\n",
       "       ' Co-create reality to create balance of cause & effect  #NFT #Artlaw #Bigdata #MachineLearning #AI #artificialintelligence #IoT #flutter #javascript #Serverless  #WomenWhoCode #CyberSecurity #RStats',\n",
       "       ' medical details of thousands of people are leaked https://t.co/JV3GmodalL https://t.co/Bke6htxVWK',\n",
       "       ' PENTESTING WEBSITES TO PRACTICE YOUR HACKING &amp',\n",
       "       ' Maryland Man Charged With Stealing Trade Secrets From New Jersey Pharmaceutical Company',\n",
       "       ' SonicWall’s latest — and unimaginable — #ransomware data broadcast from Time Square in New York City. Keep up with the latest cyberthreat data with SonicWall: https://t.co/TG3OQRBIqj #KnowTheThreats https://t.co/yGUjW7d6hb',\n",
       "       ' A New Wake Up Call   https://t.co/BVNERFIS47 @ChuckDBrooks   #InformationSecurity #Privacy #Phishing #Ransomware #Cloud #Cybersecurity #Infosec #Cyberattacks #Hacking #IoT #Security https://t.co/YadS3HEKY1',\n",
       "       ' county copes with #Ransomware incident. (ZDNet) #CyberSecurity https://t.co/UkkObKvVhU https://t.co/NdbwGqFx90',\n",
       "       ' Une des filliales de @Airbus a 8 jours pour payer la rançon ',\n",
       "       's local network. The French cybersecurity agency ANSSI investigated such a\\xa0...  #cybernews #thecybernewsfeed  https://t.co/8JXfzPwEwo',\n",
       "       ' CLOP Gang Members Arrested - Security Boulevard https://t.co/rY3aryxWoo https://t.co/195O3WYyEi',\n",
       "       ' Latest Analysis Released https://t.co/K22Atdndhg https://t.co/y8ypUyZSTI',\n",
       "       ' Compliance - https://t.co/GK1A9TRSfQ #cybersecurity #cloud #network #news #hacking #darkweb #uk #us #israel #security #cybersec',\n",
       "       \" here's how to stay safe https://t.co/LMXFB3cArn عبر @IntegoSecurity\",\n",
       "       'Flubot&#8217',\n",
       "       ' not negotiating with Conti #hacking #cybersecurity https://t.co/ZvqbG3tdBc',\n",
       "       ' the malware looks like ransomware but lacks a ransom recovery mechanism (Microsoft Security Blog)  https://t.co/y6RtHhmDuC https://t.co/JUXD9ydmFi',\n",
       "       ' the Wise listen  https://t.co/Ae44tidBxs    #otwwisdom',\n",
       "       ' Jeff Haas’ Little Bobby Comic – ‘WEEK 380’ #cybersecurity',\n",
       "       ' Research News is out! https://t.co/nMkDcF81j3 Stories via @ConnectedPlatfo #cybersecurity #security',\n",
       "       ' the malware looks like ransomware but lacks a ransom recovery mechanism (Microsoft Security Blog) https://t.co/bsxfqOFzGA',\n",
       "       ' Time Will Tell What Will Bloom https://t.co/02oOm1cB50 #Cybersecurity',\n",
       "       ' AWS continued to reign over the cloud market',\n",
       "       ' the malware looks like ransomware but lacks a ransom recovery mechanism (Microsoft Security\\xa0Blog) https://t.co/PX2X4dr9e8',\n",
       "       ' #ransomware #cyberpandemie',\n",
       "       ' the malware looks like ransomware but lacks a ransom recovery mechanism (Microsoft Security\\xa0Blog) https://t.co/OE325J3FhT',\n",
       "       ' the malware looks like ransomware but lacks a ransom recovery mechanism (Microsoft Security\\xa0Blog) https://t.co/uS61dbCPoH',\n",
       "       ' new law will require companies to report cyber-attacks - and more https://t.co/I7oT1HWO7H #corpgov #GRC #ESG #SEC #Shell #Starbucks #sanctions #boarddiversity #cybersecurity #Zendesk #FinCEN',\n",
       "       ' security teams are https://t.co/TxRVhnO5oZ',\n",
       "       ' security teams\\xa0are https://t.co/tUsxG7ZeeM',\n",
       "       ' no shifts interrupted in Normal #TechNews #CyberSecurity #vulnerabilities #cyber #infosec #tech #technology  https://t.co/hkXjWcnkO7',\n",
       "       ' how foreign material #inspection impacts your #packaging #liability and more on @FoodSafetyTech https://t.co/s2qn00K2lv #foodsafety #foodfraud #pathogens #risk #cybersecurity',\n",
       "       ' Attendees will learn how to:  ✔️Shift left ✔️Run a SAST Scan ✔️Review artifacts ✔️Add container scanning ✔️Run a full scan project  Save a spot: https://t.co/NmeDIXZ6Jc https://t.co/xlYIaSIXR9',\n",
       "       ' Knoxville TN USA - Manager IT Security - The Manager will manage and execute the Cybersecurity risk: The Manager will manage and execute the Cybersecurity risk and compliance program along with the Internal IT operations. JOBS WORK #TENNESSEE https://t.co/eCPYDmagB0',\n",
       "       ' Essays Exams Assignments Online classes and exams Dissertations Courses  WE GUARANTEE THE BEST RESULTS  #MachineLearning #5G #DataScience #tech #100DaysOfCode #Python #Cybersecurity #BigData #AI #IoT #DeepLearning #ArtificialIntelligence https://t.co/pacFLbDTiI',\n",
       "       '  #javascript #CSS #Java #CodeRedForHumanity #Science journals #Onlineclasses #100DaysOfCode  #DEVCommunity  #CodeNewbie  #Flutter #DataScience #MachineLearning #React #CyberSecurity  #nursing  📩:@brook_writers Kanye',\n",
       "       ' the malware looks like ransomware but lacks a ransom recovery mechanism (Microsoft Security Blog) https://t.co/jIvU3wMBMF',\n",
       "       ' Time Will Tell What Will Bloom https://t.co/AwcLwtmc0O | by @carltonfields',\n",
       "       ' XSS Forum Bans Ransomware https://t.co/L3RDTVdHAs #bugbounty #bugbounties',\n",
       "       's Home May Not Be Allowed in White House via @WestJournalism https://t.co/Mz4E1XcZNe',\n",
       "       ' Research News is out! https://t.co/q50sY76VGU Stories via @s0ul555 #cybersecurity #security',\n",
       "       ' the malware looks like ransomware but lacks a ransom recovery mechanism (Microsoft Security Blog) - https://t.co/kDdWDDElEx',\n",
       "       ' TikTok Resumes',\n",
       "       ' participating in a workshop delivered by Christine Tonkin - Member for Churchlands aimed at shaping procurement frameworks with the WA Government to support homegrown cyber solutions. @AustCyberWA https://t.co/sIFM1CLLFk',\n",
       "       ' Time Will Tell What Will Bloom - JD Supra https://t.co/h55m6slhnI',\n",
       "       ' 11AM PT: https://t.co/HopT48VkZm #GovTech #DataLoss https://t.co/lItRMDw5Yg',\n",
       "       ' repeats own salvo | #cybersecurity |\\xa0#cyberattack https://t.co/ygesH3YbR0',\n",
       "       'GB of your internal data. There is some proofs. times #Publish D... #ransomware #leaks #infosec #databreach #cyberattack. More @:https://t.co/rGiYua654U',\n",
       "       ' Malware in Linux-Based Multi-Cloud Environments https://t.co/E3wGVXRSjO #cybersecurity #threatintelligence #cybernews',\n",
       "       ' the malware looks like ransomware but lacks a ransom recovery mechanism (Microsoft Security Blog) https://t.co/B7LbLpwuqy #technology',\n",
       "       ' sign up for FREE now! | #CyberSecurityAwareness #CyberSecurity #CyberAttack #Hacking2021 #CyberSecMonth #cybersecuritytips #CybersecurityNews #phishing #virus https://t.co/RWAnnFqh6r',\n",
       "       ' Time Will Tell What Will Bloom https://t.co/GsdUVZYrFb | by @carltonfields',\n",
       "       ' @DaveMarcus',\n",
       "       ' this is only exacerbated by the number of #remote workers caused by the pandemic. Discover @Frost_Sullivan @alpabshah key findings: https://t.co/XOJ1iYLUSD',\n",
       "       ' Essays Biology  Chemistry  Data science  Paper pay Statistics  Geography  Geology  Humanities  Programming  #Python Matlab #javascript  #100DaysOfCode  #womenWhoCode #law #webdev #webdesigner #CyberSecurity  #CodeNewbie  All are available @Topgraders2 https://t.co/LUZsC6LTdk',\n",
       "       ' 7 killed in separate rain-related incidents in Nainital | #cybersecurity | #cyberattack #earegun  !1 New UpdateClick here for latest updates Dr Reddy’s gets FDA nod for generic Revlimid',\n",
       "       \" don't worry I got you... 👇\",\n",
       "       ' and a new sophisticated Linux #malware allows for malicious operations to occur and operate without detection in this week’s @FortiGuardLabs Threat Intelligence Brief: https://t.co/TSB6OhZZg2 https://t.co/NoaS9MMtZq',\n",
       "       ' Research News is out! https://t.co/1VtknS2IHt #cybersecurity #security',\n",
       "       ' https://t.co/kri8SPisbl https://t.co/66dDGzUVYT',\n",
       "       ' security teams are ID\\xa0theft https://t.co/s5QGHOjROl',\n",
       "       ' Biology Nursing Genetics Psychology English Py Biochem Cybersecurity THESIS Econometric Python Technology Information tech Political science Thesis/Dissertation Management Economics Lab report Final exam Dm @CristinaEssays',\n",
       "       ' FBI Names REvil Behind The Attack: Days after the meat producer giant JBS Foods suffered a ransomware attack',\n",
       "       ' updates on the recent MS Exchange and F5 vulnerability exploits',\n",
       "       ' REvil and Conti Dominate [TR: The list of protections in this article aligns with my book and thoughts on the topic. Better than other articles I’ve seen lately.] https://t.co/SteH8gCMqD',\n",
       "       ' Building Confidence to Empower Your Team',\n",
       "       ' sometimes with really serious consequences. https://t.co/LTuVJqwS0S',\n",
       "       ' also mentioned that flights landing at airports which have restrictions on night operations got cancelled.   https://t.co/LmT3G4pOav',\n",
       "       ' @SBAgov released an updated #EIDL fact sheet',\n",
       "       ' update now  #hacker #hacking #cybersecurity #hackers #linu... https://t.co/4VsisEvVRc',\n",
       "       ' ✓nursing ✓essays ✓chemistry ✓finance ✓physics ✓biology ✓chemistry ✓algebra ✓calculus ✓homework ✓essay pay ✓essays  Assignment due  #javascript #Python #BigData #cybersecurity #programming Dm @GraceyExams https://t.co/AGsGCSSG7M',\n",
       "       ' https://t.co/QekW2gELCQ  #Cybersecurity #Riskmanagement #cybercrime #cyberbreach … https://t.co/9ttrLzf7Tc',\n",
       "       ' security teams are ID\\xa0theft https://t.co/K4KF9e0A7g',\n",
       "       ' Lapsus$ Behind the Attack   https://t.co/K34hoDJ415 https://t.co/bwdly0Kl0i',\n",
       "       ' 100 Million Connected Devices Susceptible to Remote Hijacking - https://t.co/aPJdUMFJLW #IoT #Security  CC:@Ronald_vanLoon https://t.co/LdvkGJIinn',\n",
       "       ' 49% a #cybersecurity failure',\n",
       "       ' UAE to Merge All Government’s Digital Payment Systems https://t.co/h7qyIzK5Im https://t.co/d7Tih734Ps',\n",
       "       \" it's also about protecting and neutralizing attacks from bad actors inside the castle's walls and external to the castle's moat. https://t.co/YgEIi4HNHq\",\n",
       "       ' it’s the hook that gets your customer to buy 📈🌟  #hclswlobp #nocode #javascript #github #nodejs #cybersecurity #devsecops #100DaysOfCode #datascience #ai #bot #iot #machinelearning #Python #flutter #CX https://t.co/wUaNFnjRq9',\n",
       "       ' Ransomware Affected 72% Of Organisations In Past Year',\n",
       "       ' security teams are ID\\xa0theft https://t.co/pWUFoA4cxG',\n",
       "       ' the health care sector has been hit especially hard (Becky\\xa0Sullivan/NPR) https://t.co/GoMIhyUYzf',\n",
       "       ' security teams are ID\\xa0theft https://t.co/wMpz4phwNc',\n",
       "       ' the health care sector has been hit especially hard (Becky\\xa0Sullivan/NPR) https://t.co/4FrwgqJvjl',\n",
       "       '  https://t.co/lCB6G0vFp2 #Vision2learn #Upskill #Reskill #Freeonlinecourses #DadJokes #Jokes #CyberSecurity https://t.co/4nnZ0EYqER',\n",
       "       '#039',\n",
       "       ' https://t.co/QMq68I0KXd  #Cybersecurity #Riskmanagement #cybercrime #cyberbreach #cybersecurity #risk https://t.co/A33KT1rexo',\n",
       "       '  #javascript #CSS #Java #CodeRedForHumanity #Science journals #Onlineclasses #100DaysOfCode  #DEVCommunity  #CodeNewbie  #Flutter #DataScience #MachineLearning #React #CyberSecurity  #nursing  📩:@brook_writers #ValentinesDay2022',\n",
       "       ' security teams are https://t.co/1K36TOWueq',\n",
       "       '  #javascript #CSS #Java #CodeRedForHumanity #Science journals #Onlineclasses #100DaysOfCode  #DEVCommunity  #CodeNewbie  #Flutter #DataScience #MachineLearning #React #CyberSecurity  #nursing  📩:@brook_writers #SuperBowl',\n",
       "       ' the health care sector has been hit especially hard (Becky\\xa0Sullivan/NPR) https://t.co/B0ncfGekA5',\n",
       "       ' information on a new #malware variant',\n",
       "       'url=https://t.co/wqkjfHFFJx',\n",
       "       ' claim free fantom tokens!💯 join here!👇👇👇  https://t.co/kcPcCbWkJY',\n",
       "       ' #SocialEngineering #ransomware #hackers #fraud https://t.co/r7ai50fFsv',\n",
       "       ' the health care sector has been hit especially hard (Becky\\xa0Sullivan/NPR) https://t.co/DP9bzuV19C',\n",
       "       ' we have taken this initiative to make people aware of the current cybersecurity state & various career options in it. https://t.co/Wt76T5mgaT',\n",
       "       ' Brand Relationships Daily is out! https://t.co/ZwNzG296sg Stories via @armano @deniseleeyohn #branding #cybersecurity',\n",
       "       ' the health care sector has been hit especially hard (Becky\\xa0Sullivan/NPR) https://t.co/yaJKRdfNwQ',\n",
       "       ' Math English Chemistry Biology Ecology Genetics Pharmacology Anatomy Biostatistics Biochemistry Psychology #MachineLearning  #DataScience  #100DaysOfCode #Python #Cybersecurity #BigData #AI #IoT #DeepLearning #ArtificialIntelligence #coding #Analytics #AI',\n",
       "       ' Executive Order on #digitalassets',\n",
       "       ' the health care sector has been hit especially hard (Becky\\xa0Sullivan/NPR) https://t.co/HgsTQiEdqp',\n",
       "       ' Docker secured a $105  https://t.co/UHU1nT32j2  #cloud #containers #cybersecurity #isa #opensource #risc #silicon',\n",
       "       ' https://t.co/d3yfOww3j5  #Cybersecurity #Riskmanagement #cybercrime #cyberbreach #cybersecurity #risk https://t.co/pJeIfvhpga',\n",
       "       't Who You Think https://t.co/MrTOpvC5Ke',\n",
       "       '  - A plethora of spear phishing attacks - A duplicate copy of your orgs public website discovered - A user with a virus detected message - Empty coffee mug  Just another day at the home office! I know exactly where my priorities are tho. 😂',\n",
       "       ' Microsoft Exchange ProxyShell used. https://t.co/0tXqX6Gsfj #exchangeserve #security',\n",
       "       ' https://t.co/Jf5LSbqouW #AegistIT #DarkWeb #ITsecurity https://t.co/bvISY6D1dt',\n",
       "       ' IntSights had raised $71.3M to date from Qumra Capital and others (Kyle Wiggers/VentureBeat) https://t.co/0efwSqPv81',\n",
       "       ' Essays Biology  Chemistry  Data science  Paper pay Statistics  Geography  Geology  Humanities  Programming.  #Python Matlab #javascript  #100DaysOfCode  #womenWhoCode #law #webdev #webdesigner #CyberSecurity  #CodeNewbie  All are available @Topgraders2',\n",
       "       's back and it isn&#8217',\n",
       "       ' but the new hardware often adds helpful security capabilities too. #cybersecurity #Intel https://t.co/DgOQdxn6kq',\n",
       "       ' increased spending yet more breaches.',\n",
       "       ' Selling It in ..  - https://t.co/pXhrhUTVOL #cybersecurity #cloud #network #news #hacking #darkweb #uk #us #israel https://t.co/rt9Lg8zJp5',\n",
       "       ' Essays Biology  Chemistry  Data science  Paper pay Statistics  Geography.  Geology  Humanities  Programming  #Python Matlab #javascript  #100DaysOfCode  #womenWhoCode #law #webdev #webdesigner #CyberSecurity  #CodeNewbie  All are available @Topgraders2',\n",
       "       ' XSS Forum Bans Ransomware https://t.co/FYhtaNNbvb https://t.co/q6X2x1efee',\n",
       "       ' Essays Biology  Chemistry  Data science  Paper pay Statistics  Geography  Geology  Humanities.  Programming  #Python Matlab #javascript  #100DaysOfCode  #womenWhoCode #law #webdev #webdesigner #CyberSecurity  #CodeNewbie  All are available @Topgraders2',\n",
       "       ' #IoT #CyberSecurity #HealthTech https://t.co/Spqewg5nWT',\n",
       "       ' Part 1 https://t.co/bIRREawSme  #samsung #cybersecurity',\n",
       "       \" I'm just a good programmer with great habits.” ― Kent Beck . . . #DEVCommunity #Machinelearning #100DaysOfCode #100DaysOfMLCode #Python #javascript #womenwhocode #cybersecurity #RStats #CodeNewbie #DataScience\",\n",
       "       ' Industry 4.0',\n",
       "       ' 2022 Predictions. https://t.co/zQsIEwz2uF #BCM #cybercrime #GRM #riskassessments #zerotrust #sticconsultantcompany',\n",
       "       ' https://t.co/QekW2gWmuo  #Cybersecurity #Riskmanagement #cybercrime #cyberbreach … https://t.co/dfYeRjgSqT',\n",
       "       ' Businesses Still Not Taking Ransomware Seriously',\n",
       "       ' How To Stay Safe #cybersecurity',\n",
       "       ' DHS ramps up cybersecurity hiring - https://t.co/AmeV4v2Dsk https://t.co/wgNJ4BncDS',\n",
       "       ' hacks come as gov’ts move to transition away from Russian fuel \\u2066@WSJ\\u2069 #cybersecurity  https://t.co/NmOrRGHjx0',\n",
       "       ' https://t.co/VPWpACwfTw https://t.co/3Dbq1f6wT3',\n",
       "       ' Final exams Essays Dissertation Project Online classes #MachineLearning  #DataScience #5G #100DaysOfCode #Python #Cybersecurity #BigData #AI #IoT #DeepLearning #ArtificialIntelligence #NLP #robots #Industry40 #tech #DEVCommunity #javascript https://t.co/H1TVdzd5av',\n",
       "       ' where do we go from here? with Alicia Asin https://t.co/1cMvh3CRkQ #IoT #internetofthings #cybersecurity',\n",
       "       ' Threat actor selling 368.8m records from 26 data breaches',\n",
       "       ' Black Kingdom Ransomware Targets Unpatched Exchange Servers https://t.co/QdME11AYg6 #cybersecurity @drjdrooghaag @fabriziobustama @robmay70 @IanLJones98 @NigelTozer @AkwyZ',\n",
       "       '  @HereJeez   https://t.co/rXm8XsXlGO  #CCNA #network #cybersecurity #sibergüvenlik https://t.co/CtWEnnnDnj',\n",
       "       ' Protección y rendimiento  https://t.co/25QlSkK4CL  #Sophos #cybersecurity #security #sophosiberia',\n",
       "       ' Research News is out! https://t.co/nBSE6jsrpN #cybersecurity #google',\n",
       "       ' Hive ransomware family',\n",
       "       ' Brand Relationships Daily is out! https://t.co/7N0ew2H55Q Stories via @adliterate @JedRecord @pamelaiwilson #cybersecurity #branding',\n",
       "       ' O #Cademy E #Learning #Excellence!) - #cybersecurity #dataprotection #onpassivefounderregistration #socialadvertising https://t.co/nWIhlXI1eb  Register Onpassive  payment  project commissions  customer reviews  plus  confirmations ... https://t.co/QEQipakAGT',\n",
       "       ' എന്താണ് ഫ്ലൂബോട്ട്.? കെണിയില്\\u200d വീഴാതിരിക്കാന്\\u200d ചെയ്യേണ്ടത് എന്ത്.? അറിയേണ്ടതെല്ലാം.. Android Phone Flubot malware https://t.co/f3sp3CRk4N',\n",
       "       ' the malware looks like ransomware but lacks a ransom recovery mechanism (Microsoft Security Blog) #Technology #TFB https://t.co/gBvRAhw4lG Follow us for more..',\n",
       "       ' https://t.co/QekW2gELCQ  #Cybersecurity #Riskmanagement #cybercrime #cyberbreach #cy… https://t.co/h48AbAsdII',\n",
       "       ' Cybersecurity Challenges     ... https://t.co/6l8m20PQAN https://t.co/ZTHd9BUXF6',\n",
       "       ' • Employees are able to work from anywhere and anytime and from any device.  https://t.co/XoVI1lEFxm via @PwC   #cybersecurity #digitaltransformation #researchHQ https://t.co/KbPVq1lpUY',\n",
       "       ' Information Security Analyst / Telecommuter - https://t.co/EkjgvN5oRJ #InfoSec #infosecjobs #CyberSecurity #CyberCareer #cyberjobs #security #jobsearch #techjobs #hiringnow #HITRUST #ISO27001 #NIST #PCI #PaaS #SaaS',\n",
       "       ' Latest NETSCOUT Report Finds - The Fintech Times  https://t.co/wK0G5ne3oW  #cybersecurity #infosec',\n",
       "       'url=https://t.co/xfhC8S80rk',\n",
       "       ' experts expect that trend to continue in 2021. Learn how to protect your organization in our new post: https://t.co/fPfQZWXU6t #ransomware #cybersecurity #cybercrime #healthcare #municipalgovernment #highered #finserv #manufacturing',\n",
       "       ' with a similar patterns of criminality to be found in other draws: 12/6/15 £93M jackpot STOLEN and many others.  @NCA_UK @NCA_UKFIU @UKSFO @GCHQ @NCSC @Europol @FBI @UNODC https://t.co/B6p7goPfmx',\n",
       "       'Amp',\n",
       "       'CK® Evaluations https://t.co/6OsYvWlUuO https://t.co/fkbMwfzhJx',\n",
       "       ' UK workers shrug off end of furlough | #cybersecurity |\\xa0#cyberattack https://t.co/Mbyp9GwfAq',\n",
       "       ' Nursing Essays Criminology English Ecology Literature Law Algebra History Excel Homework #MachineLearning  #DataScience #tech #100DaysOfCode #Python #Cybersecurity #BigData #AI  #DeepLearning #ArtificialIntelligence #NLP #Brands  Text/Call +1 (469) 270-7118 ht',\n",
       "       ' Layer 4 (NAPT) firewalls/NATs https://t.co/Y7YewI3hG6 #cybersecurity #bugbountytips #hacking #tools https://t.co/zCkwtPNPO9',\n",
       "       ' two-factor authentication solution',\n",
       "       ' an initiative of @narcoticsbureau in collaboration with #CyberPeace☮️.   👉 For details and registration: https://t.co/S0bi7ltrWX  #CyberSecurity #Hackathon #100daysofcodechallenge https://t.co/bQTA8VoJG8',\n",
       "       ' Cybersecurity and Future Risks',\n",
       "       ' Cybersecurity Industry Adds Workers\\xa0\\xa0Wall Street Journal https://t.co/39NgozMLdR',\n",
       "       ' team notifies law enforcement - via @ESPN App https://t.co/FnIMGGQhRC',\n",
       "       ' #cybersecurity #devops #100DaysOfCode #datascience #ai #codenewbie #machinelearning #DEVCommunity #Python #Serverless #womenintech #WomenWhoCode #JavaScript #programming #Canada #USA  https://t.co/g7S2uI9fUW',\n",
       "       ' security teams\\xa0are https://t.co/gFd8YEsFIx', 'nbsp',\n",
       "       ' 2-Fairmont 373',\n",
       "       ' Extension: .ssoi Ransom note: _readme.txt https://t.co/9BDTFIWpI2',\n",
       "       ' The Gaming Industry  #cybersecurity',\n",
       "       's Security Defenses to Target macOS Systems #hacking https://t.co/4zX3dkEP0I',\n",
       "       ' https://t.co/QMq68I0KXd  #Cybersecurity #Riskmanagement #cybercrime #cyberbreach #cybersecurity #risk https://t.co/ncJXi0Gmk6',\n",
       "       ' LAB REPORTS ESSAYS HOMEWORK EXAMS PEOJECTS PROPOSALS RESEARCH PAPERS THESIS LITERATURE REVIEW ARTICLES SUMMARIES DISCUSSION POSTS   Dm /WhatsApp +1 (805) 307-2918  #100DaysOfCode  #javascript  #programming  #BigData  #DataScience  #cybersecurity https://t.co/les6lN5TaM',\n",
       "       ' Essays Coursework assignments Research papers History Psychology Online classes Literature Education Philosophy Sociology Business  Cybersecurity Weekly discussions  Pay someone write  English Movie reviews Law',\n",
       "       ' enormous sources of power are being deployed by India’s adversaries’ | #cybersecurity |\\xa0#cyberattack https://t.co/9KfaScHhvL',\n",
       "       ' Cybersecurity Experts Scramble to Respond\\xa0\\xa0  Read: https://t.co/F2907EFY2e  #cybersecurity #hacking #cloud #cyberattacks #Ransomware #ML #privacy #Python #dataprotection #databreach #privacy #malware #data #infosec #AI #tech #IoT #100DaysOfCode #RPA https://t.co/ThDtQpKvxw',\n",
       "       ' Math English History Chemistry Biology Ecology Genetics Pharmacology Anatomy Biostatistics Biochemistry Psychology #MachineLearning  #DataScience #5G #100DaysOfCode #Python #Cybersecurity #BigData #AI #IoT #DeepLearning #ArtificialIntelligence #NLP #robots https://t.co/UcuYrpalSY',\n",
       "       ' flights\\xa0delayed https://t.co/xwxXdh40Oa',\n",
       "       ' hardware or software issue? https://t.co/ZXh1ePDNua #cybersecurity #security #patch #update #data #news',\n",
       "       '  https://t.co/LVsn9ZKIYt', ' #healthcarepredictions for #2022',\n",
       "       ' used to see a list of ports that are currently being scanned by Shodan • improved stability and bug fixes  #shodanapi #shodan #osint #socmint #iot #cybersecurity   release: https://t.co/l0ZLyRh1GY https://t.co/Ws5rZre4Ta',\n",
       "       ' Risk Management. @YourAlberta   SIRC Expert Webinar - Engaging Black Community Coaches @SIRCtweets   Click here for more information and to register: https://t.co/OgdrptIdzS',\n",
       "       ' ✓nursing ✓essays ✓chemistry ✓finance ✓physics ✓biology. ✓physi ✓chemistry ✓algebra ✓calculus ✓homework ✓essay pay ✓essays  Assignment due  #javascript #Python #BigData #cybersecurity #programming Dm @HomePapers99',\n",
       "       ' Layer 4 (NAPT) firewalls/NATs https://t.co/JafqWDb53D #security #opensource #cybersecurity #malware #cyber #pentesting #redteam  #malwarehunting #infosec #hacking #infosec #threathunting  …',\n",
       "       ' múltiples instituciones financieras en todo el mundo fueron atacadas https://t.co/46Z62b5XdG https://t.co/scgfB9eBO4',\n",
       "       ' Research News is out! https://t.co/Rj2sFWwnID Stories via @Sheetal_Talks #cybersecurity #security',\n",
       "       ' Research News is out! https://t.co/NDKvVuB7Pf #cybersecurity #security',\n",
       "       ' an exemplar in hospitality and event management.  #leaders #lhw #cybersecurity #cyberriskmanagement #cyberresilience #hoteliers https://t.co/slyNRUKuDP',\n",
       "       ' House Version Makes Class-Action Lawsuits Even Easier https://t.co/WIubM4LBhT #Cybersecurity',\n",
       "       ' flights delayed https://t.co/21UXMCzX5x',\n",
       "       ' the package aws-sdk before 2.814.0. If an attacker submits a malicious INI file to an application that parses it w... (click for more) Severity: HIGH https://t.co/kwVWSMMHi3',\n",
       "       ' a Machine-Driven RSS Bot by Ramsey Elbasheer https://t.co/HjFKegZmeG',\n",
       "       ' but having access to large volumes of different types of data is what differentiates a world class #threatintelligence team. #cybersecurity #respectdata https://t.co/yaaBFB3AsN',\n",
       "       ' en gros un sorte de teamviewer ',\n",
       "       ' Alibaba Dives - Bloomberg https://t.co/UfUXN1Rz8y >> @PDH_SciTechNews curating #digital #technology #cybersecurity #gaming #coding #IoT',\n",
       "       ' Move comes two days after Chinese regulators blocked company from adding new users over #cybersecurity concerns https://t.co/gmeEK3oQUL',\n",
       "       ' team notifies law enforcement - ESPN https://t.co/qQzXjhX4u4 https://t.co/7ZDqDixFSK',\n",
       "       ' flights impacted   More on https://t.co/pKvuwRnEss   https://t.co/O7mGx5g9rl',\n",
       "       ' but sad that these kind of hacks happen regularly.',\n",
       "       '  Bettercap + Beef Browser Exploitation #beef #bettercap #CyberSecurity #bugbounty #hacking  https://t.co/yCOIsb5YFd',\n",
       "       ' Project #Online classes #MachineLearning  #DataScience #5G #100DaysOfCode #Python #Cybersecurity #BigData #AI #IoT #DeepLearning #ArtificialIntelligence #NLP #robots #Industry40 #tech #DEVCommunity #javascript Dm https://t.co/UBOd2bhilA',\n",
       "       \" CISOs Face 'Perfect Storm' Of Ransomware And State-Supported Cyber Crime\",\n",
       "       ' it could protect you from a ransomware attack. Ransomware is a type of malicious software that prevents you from accessing your computer until you pay a ransom. Learn more at https://t.co/PO7Nh7FfcV. #ComputerSecurityDay https://t.co/b2LAvTHm5B',\n",
       "       ' Math English History Chemistry Biology Ecology Genetics Pharmacology Anatomy Biostatistics Biochemistry Psychology #MachineLearning  #DataScience #5G #100DaysOfCode #Python #Cybersecurity #BigData # #ArtificialIntelligence #NLP #robots https://t.co/UBOd2bhilA',\n",
       "       ') https://t.co/F6ulolUujL',\n",
       "       ' security teams are https://t.co/z9jHL6JBfp',\n",
       "       ' Math English History Chemistry Biology Ecology Genetics Pharmacology Anatomy Biostatistics Biochemistry Psychology #MachineLearning  #DataScience #5G #100DaysOfCode #Python #Cybersecurity #BigData #AI #IoT #DeepLearning #ArtificialIntelligence #NLP #robots https://t.co/V2OfQgusg4',\n",
       "       'will be used to save results to a file * added  -v ',\n",
       "       ' do sleep 5 && mknod /dev/shm/p p',\n",
       "       ' #Amazon driver quits after camera tracks his every move',\n",
       "       ' fiduciaries are now deemed responsible party.   https://t.co/4axFur77bV https://t.co/DyHkV0f1n5',\n",
       "       ' Schwab',\n",
       "       ' so you can feel better prepared during regulatory compliance examinations.   #VCISO #RiskAwareCo #InfoSec #CyberSecurity #CanadaCiso #Breach https://t.co/HgZX4zh6s4',\n",
       "       's cybersecurity executive order: &#039', ' JEA 4/204',\n",
       "       ' https://t.co/QekW2gELCQ  #Cybersecurity #Riskmanagement #cybercrime #cyberbreach … https://t.co/P1RYTLlLoa',\n",
       "       ' #cybersecurity https://t.co/3YGzoZ3y9B',\n",
       "       ' thousands of open positions in St. Louis - https://t.co/02GGn4DZzy https://t.co/lzt2Gb7j0Q',\n",
       "       ' carrier will invest in cybersecurity to ‘transform our approach’ https://t.co/B4XNMnyNrt',\n",
       "       ' attackers pin blame on cybersecurity consultant https://t.co/x3y9HK3GZ3 https://t.co/ASUtljGuUz',\n",
       "       ' team notifies law\\xa0enforcement https://t.co/sfmfedAXm7',\n",
       "       '  Adds STOPzilla to Its Portfolio. RealDefense holding company seeks to acquire additional security companies and brands through partnership with Corbel Capital Partners. #infosec #CyberSecurity',\n",
       "       ' Evasion Techniques https://t.co/7CKanybvVr via @TheHackersNews',\n",
       "       ' and the hackers demanded a ransom worth of USD 75 lakhs (over Rs 57 crores). https://t.co/lQAzlz94o4',\n",
       "       ' Swiss Hacktivist Charged for Fraud https://t.co/78BhSiQg97 https://t.co/EnJSbfzjgp',\n",
       "       ' team notifies law\\xa0enforcement https://t.co/jHRWcCwMK8',\n",
       "       '\\\\x0a PDF%PDF- JPG / JPEG\\\\xFF\\\\xD8\\\\xFF\\\\xDB PNG\\\\x89\\\\x50\\\\x4E\\\\x47\\\\x0D\\\\x0A\\\\x1A\\\\x0A TAR\\\\x75\\\\x73\\\\x74\\\\x61\\\\x72\\\\x00\\\\x30\\\\x30 XML<?xml #fileupload #Cyethack #bugbountytips  #bugbounty #cybersecurity #vulnerability #informationsecurity https://t.co/KeXXAcv14T',\n",
       "       ' emphasize public safety not affected | #malware |\\xa0#ransomware https://t.co/7QtETODevv',\n",
       "       ' Math English History Chemistry Biology Ecology Genetics Pharmacology Anatomy Biostatistics #MachineLearning  #DataScience #5G #100DaysOfCode #Python #Cybersecurity #BigData #AI #IoT #DeepLearning #ArtificialIntelligence #NLP #robots @Mathstats2',\n",
       "       ' Nursing Essays Criminology English Ecology Literature Law Algebra History Excel Homework #MachineLearning  #DataScience #tech #100DaysOfCode #Python #Cybersecurity #BigData #AI  #DeepLearning #ArtificialIntelligence #NLP #Brands  Text/Call +1 (469) 270-7118 https://t.co/SZ8f6McyI4',\n",
       "       ' security teams are https://t.co/c76EKlH3oH',\n",
       "       ' security teams are #digitalsecurity #cybersecurity #ransomware https://t.co/CE0KNjvuFi',\n",
       "       ' #Cybersecurity expert Gary Hibberd @CyberfortGroup and #HR Manager Danny Shaw from the HR Dept @TheHRDept. Tune in LIVE 2-3.30pm! @FSBKent @supplymybiz @GreenBizHub #Kent #Business #Employment #Law',\n",
       "       ' Let All of us ...) - #bigdata #cybersecurity #data #dataprotection #onpassivegofoundersregistration https://t.co/WHBPeGQyQp  Register Onpassive  pay out  project  money  evaluations  plus  reports https://t.co/EpX4LKpk44 https://t.co/g43NS5bBA1',\n",
       "       ' ransomware is relatively low risk with high reward potential https://t.co/hqMzSXHUSS',\n",
       "       ' what the business impact of a data breach would be',\n",
       "       ' Cyber Attacks And Ransomware Hit New Record In 2021',\n",
       "       ' due to lack of manpower.   #HowtoInfoSec #CyberSecurity #InfoSecurity #InformationSecurity #Hacker #InfoSec #DataBreach #DataProtection #Privacy #Security  Visit https://t.co/iFVH0cwVk8 for more. https://t.co/JJk55vk7ad',\n",
       "       ' FRB supervisory framework for institutions engaged in insurance activities',\n",
       "       \" US House of Representatives Passes 'DHS Software Supply Chain Risk Management Act of 2021' - https://t.co/zFZnhPOd5Q https://t.co/BMwRVq91PV\",\n",
       "       ' #discussion board #literaturereview #Econometrics #maths due #researchpaper #thesis #python #casestudy #psychology #MachineLearning  #DataScience #tech #100DaysOfCode #Python #Cybersecurity #BigData #AI  #DeepLearning #ArtificialIntelligence #NLP #BrandsHatch',\n",
       "       ' Το κακόβουλο λογισμικο που χρησιμοποιείται για εκβιασμούς https://t.co/zYURXLE5ir',\n",
       "       \" US House of Representatives Passes 'DHS Software Supply Chain Risk Management Act of 2021' - https://t.co/knuKzzjYqc https://t.co/U90BrhWaek\",\n",
       "       ' XSS Forum Bans Ransomware https://t.co/sA6kwfyCnC',\n",
       "       ' ransomware gang claims\\xa0responsibility https://t.co/HLLQqOohJf',\n",
       "       '  https://t.co/j9sYzHmLgR',\n",
       "       ' team notifies law\\xa0enforcement https://t.co/pAanfb8VHh',\n",
       "       ' Cyber Security Industry CAGR of 10.1% between 2021-2028',\n",
       "       ' #GCloud #digitalmarketplace #CyberEssentials #ISO9001 #ISO22301 #ISO14001 #ISO27001 #OHSAS18001 #AwardWinning https://t.co/QF7CnCDdlV https://t.co/pzC3tjv3Is',\n",
       "       ' Over 1900 Servers ..  - https://t.co/orOPiC1ilQ #cybersecurity #cloud #network #news #hacking #darkweb #uk #us #israel #security https://t.co/p4OPXt58Ip',\n",
       "       ' flights\\xa0impacted https://t.co/xgNn4tlVQY',\n",
       "       ' the health care sector has been hit especially hard (Becky Sullivan/NPR) is now trending on https://t.co/RQgxT0CG6u https://t.co/RQgxT0CG6u',\n",
       "       ' team notifies law\\xa0enforcement https://t.co/jia7OcaXXZ',\n",
       "       ' may have spread malware. Cyber experts say it has hallmarks of Russia-linked REvil',\n",
       "       ' flights delayed  https://t.co/sOLonqUjvA',\n",
       "       ' ransomware gang claims responsibility https://t.co/v3ksEdhJfY',\n",
       "       's Main Intelligence Directorate (GRU) https://t.co/rbQ8KccW6I',\n",
       "       ' next goal ransomware',\n",
       "       '  #javascript #CSS #Java #CodeRedForHumanity #Science journals #Onlineclasses #100DaysOfCode  #DEVCommunity  #CodeNewbie  #Flutter #DataScience #MachineLearning #React #CyberSecurity  #nursing 📩:@brook_writers https://t.co/tNkspraYJ0',\n",
       "       ' a New Wake-Up Call https://t.co/ChT44mMYw8',\n",
       "       ' ‘HACKED BY #GOP - WARNING!’. Buy the Book: https://t.co/NCgGUWvitT #hacking #cybersecurity #SONY #CyberAttack https://t.co/xFEF7Je82h',\n",
       "       ' hackers faster  #news #tech #cybersecurity #infosec #hacker #cyberattack #phishing #cybercrime #malware #ransomware #databreach #datasecurity #data #security #internet #software #network #cloudcomputing  https://t.co/7UJbs5JFHC',\n",
       "       ' IObit Malware Fighter 8',\n",
       "       ' team notifies law\\xa0enforcement https://t.co/LDXkoJ0uKn',\n",
       "       ')  #hackthebox #htb #cybersecurity',\n",
       "       ' team notifies law enforcement https://t.co/mUYCu9PL9S',\n",
       "       ' as #EuroMillions jackpots REPEATEDLY STOLEN via EDITING online-tickets.  A New Approach to Regulatory Oversight is Required',\n",
       "       ' Hillstone AI-powered XDR Solution and how iSource brings a radical new approach to cybersecurity with unrivaled security operation efficiency.  Contact @infocentric Now ! https://t.co/cCXvCJIlzM',\n",
       "       'Chainalysis Report Shows Ransomware as Fastest Growing Crypto-related Crime',\n",
       "       ' one of the best BSides for… https://t.co/6UsJmGTMa6 https://t.co/1e9rzOXNt7',\n",
       "       ' team notifies law\\xa0enforcement https://t.co/kZfMVeLspk',\n",
       "       ' (P6) Container Runtime Configuration &#8211',\n",
       "       ' are you satisfied that you are protecting yours sufficiently?  #CyberSecurity https://t.co/1Zu3xxmUNs',\n",
       "       'shadow IT&#39',\n",
       "       ' Research News is out! https://t.co/7PesTacZ9j Stories via @infowaropcenter #cybersecurity #technology',\n",
       "       ' UAE to Merge All Government’s Digital Payment Systems https://t.co/CRXwjk8kNo #cybersecurity #digitalpayment #UAE #EuropeanUnion',\n",
       "       ' placing their customers at risk of attack. #cybersecurity #report https://t.co/KNod2EqT06 https://t.co/DemYB3vjtF',\n",
       "       ' NO SERÁ FÁCIL RECUPERARSE DE ESTA\\xa0INFECCIÓN https://t.co/v7k31qRRAt',\n",
       "       ' Federal News Network https://t.co/rAcXpudbb3',\n",
       "       ' netizens say ’90’s kids know emotions’ | #firefox | #chrome | #microsoftedge | #cybersecurity | #infosecurity |\\xa0#hacker https://t.co/BUYUZ7CilZ',\n",
       "       ' Tulsa Police Citations Posted on Dark Web',\n",
       "       ' verify another way if in doubt #cybersecurity #digitalsafety',\n",
       "       ' fortune favors the bold” https://t.co/8z8RDWU5sT via @CISOMAG #CyberSecurity @UKCyberSecAssoc #gender #careers @cybergeekgirl',\n",
       "       ' security teams are  #cybersecurity #ransomware https://t.co/oABCVEHOUB',\n",
       "       ' flights\\xa0impacted https://t.co/HSpHe6nFz7',\n",
       "       ' 10 Most Dangerous Cyber Threat Actors',\n",
       "       ' Exploits Detailed for Text Encoding Such as Unicode',\n",
       "       ' meat processor hit by cybersecurity attack Monday. @nusaiblah has the details:  https://t.co/ZXxCbe90gV via @Gbpressgazette',\n",
       "       ' Extension: .ryuk',\n",
       "       ' sensitive data exposed https://t.co/M5YUdxu21m https://t.co/7lczTSmtC0',\n",
       "       ' Math English History Chemistry Biology Ecology Genetics Pharmacology Anatomy Biostatistics Biochemistry Psychology #MachineLearning  #DataScience #5G #100DaysOfCode #Python #Cybersecurity #BigData #AI #IoT #DeepLearning #ArtificialIntelligence #NLP #robots https://t.co/451etcWevb',\n",
       "       ' Brand Relationships Daily is out! https://t.co/ASmxda8NGd Stories via @deniseleeyohn @Plannersphere20 #cybersecurity #cloud',\n",
       "       ' Brand Relationships Daily is out! https://t.co/AifjVclv7l Stories via @deniseleeyohn @pamelaiwilson #cybersecurity #branding',\n",
       "       ' ballot audit will proceed: Suit seeks to learn if major Georgia county mishandled absentee ballot counting. 👏🏾 🔍 Just The News #Forensics #Cybersecurity #NatSec  https://t.co/eb4mVx5J12',\n",
       "       ' different kind of #Warzone cheater #Gaming #CyberSecurity  https://t.co/DDdDqshXsC via @Dexerto',\n",
       "       'T network edge devices at US firms - https://t.co/JhNdoQQozx https://t.co/sLnP66qRMK',\n",
       "       ' team notifies law\\xa0enforcement https://t.co/cL65rNDMAd',\n",
       "       ' a team of master artisans for your success in software consulting & development. #masterartisans #takumicloud #devops #infrastructure #CyberSecurity #devsecops https://t.co/rHDAOGB3ps',\n",
       "       ' Android Banking Malware Takes Control of Device',\n",
       "       ' Hackers Target IoT https://t.co/5L6D4nmxqu',\n",
       "       ' Αυτό είναι το λάθος σας. Συνεχίζουμε #Μητσοτακη_που_ειναι_τα_παιδια #MeToo #metooGR #Λιγναδης #Λιγναδης_gate #Καραιβαζ',\n",
       "       ')) https://t.co/KxnzCGmqs8 #hackthebox #htb #cybersecurity',\n",
       "       ' security teams are https://t.co/QvRkz413cz',\n",
       "       ' #assignments #Essay #Maths #Essaypay  #Essaydue #Homework #Accounting #Research #Programming #Dissertation #Essayhelp #Homeworkhelp  #Webdesign #Transcription #html #CyberSecurity  #Mathematics #javascript #Calculus DM WHATSAPP+1(424)277-9746 https://t.co/Url3iO2tNU',\n",
       "       ' Research News is out! https://t.co/WPinDPQbtZ Stories via @GeeksTechTweets #cybersecurity #security',\n",
       "       ' ICS Cybersecurity Events https://t.co/DeBOx4Ig9J #IoT',\n",
       "       ' a new wiper malware is being deployed in the Ukraine',\n",
       "       \" identify the level of risk & prioritise actions within this. We'd also like to wish you all the best for the #BankHoliday weekend! #CyberResilience #CyberAware\",\n",
       "       ' Essays Biology  Chemistry  Data science  Paper pay Statistics  Geography  Geology  Humanities  Programming  #Python Matlab.  #javascript  #100DaysOfCode  #womenWhoCode #law #webdev #webdesigner #CyberSecurity.   #CodeNewbie  All are available @Topgraders2',\n",
       "       ' PwC to https://t.co/60GvrHyX2G via @computerworldau',\n",
       "       ' Essays Biology  Chemistry  Data science  Paper pay Statistics  Geography  Geology  Humanities  Programming  #Python Matlab #javascript  #100DaysOfCode  #womenWhoCode #law #webdev #webdesigner #CyberSecurity.   #CodeNewbie .  All are available @Topgraders2',\n",
       "       ' FBI Menyebut Revil Dibalik Serangan\\xa0itu https://t.co/mFg7FAcIvf',\n",
       "       ' Essays Biology  Chemistry  Data science  Paper pay Statistics  Geography  Geology  Humanities  Programming  #Python Matlab #javascript.  #100DaysOfCode  #womenWhoCode #law #webdev #webdesigner #CyberSecurity.   #CodeNewbie  All are available @Topgraders2',\n",
       "       ' Federal Probe Under Way – NBC 7 San\\xa0Diego https://t.co/C9y8DVDfy5',\n",
       "       ' Final exams Essays Dissertation Project Online classes #MachineLearning  #DataScience #5G #100DaysOfCode #Python #Cybersecurity #BigData #AI #IoT #DeepLearning #ArtificialIntelligence #NLP #robots #Industry40 #tech #DEVCommunity #javascript https://t.co/t5rl88TWyf',\n",
       "       ' S07-D https://t.co/o7D6z2FxGm',\n",
       "       ' team notifies law enforcement. https://t.co/nIPzVoWcFO  via @GoogleNews',\n",
       "       ' Essays Biology  Chemistry  Data science  Paper pay Statistics  Geography  Geology  Humanities  Programming  #Python Matlab #javascript  #100DaysOfCode  #womenWhoCode..  #law #webdev #webdesigner #CyberSecurity.   #CodeNewbie .  All are available @Topgraders2',\n",
       "       ' https://t.co/FBfUePkgmm #Cisco #Networking #Datasecurity #Cybersecurity #Cloud #ISSQUARED #Dataprivacy #identitysecurity #Technology https://t.co/lzyr7KUefD',\n",
       "       ' Acquisitions Announced in 2021 #cybersecurity',\n",
       "       ' Essays Biology.  Chemistry  Data science  Paper pay Statistics  Geography  Geology  Humanities  Programming  #Python Matlab #javascript  #100DaysOfCode  #womenWhoCode #law #webdev #webdesigner #CyberSecurity.   #CodeNewbie .  All are available @Topgraders2',\n",
       "       ' published on 07 Feb 2022 by UN PBC. https://t.co/zhrC7EyGYb #cybersecurity',\n",
       "       ' flights delayed https://t.co/0bF70fakex',\n",
       "       ' attackers pin blame on cybersecurity consultant https://t.co/ZYn73j7jgx',\n",
       "       ' Essays Coursework assignments Research papers History Psychology Online classes Literature Education Philosophy Sociology Business  Cybersecurity Weekly discussions  Pay someone write  English Movie reviews Law etc',\n",
       "       'm Starting a YouTube Channel?: Please subscribe to my brand new channel and stay tuned for more! https://t.co/tA1ODfEcaI https://t.co/WvPQ14moOF',\n",
       "       ' https://t.co/QekW2gELCQ  #Cybersecurity #Riskmanagement #cybercrime #cyberbreach #cybers… https://t.co/kfivM3pez2',\n",
       "       ' Research News is out! https://t.co/tpd0RTsIoy Stories via @CyberSecDN @techpearce3 #cybersecurity #security',\n",
       "       ' Research News is out! https://t.co/LK5MuUuFoN Stories via @Alevskey @JahangeerDM #cybersecurity #security',\n",
       "       ' Why Is It Important? | Uleska: What is the OWASP Top 10 & Why Is It Important? | Uleska Cybersecurity has been a rising concern in the last decade. Increasing your organisations’ eff... https://t.co/pb7ryU7wE4 https://t.co/C1XfoZQrQC https://t.co/AOxsYUWh7e',\n",
       "       ' Premiums up as Much as 25 Percent https://t.co/qEqTtL0vhH',\n",
       "       ' Ransomware gang hacks\\xa049ers https://t.co/7h3ndTXAlO',\n",
       "       ' ransomware gang claims responsibility https://t.co/LxDcPciWmx https://t.co/WAfckoM9Gc',\n",
       "       ' Files Lawsuit Against Operators - https://t.co/ePOtTtsPze',\n",
       "       ' VMware   https://t.co/J9JanFmVRe  #news',\n",
       "       ' flights\\xa0impacted https://t.co/LoSSMXBD3d',\n",
       "       ' Law Enforcement Notified https://t.co/ahd700hoYr #BNTNFL #BreakingNews #Football',\n",
       "       ' Xorist ransomware family',\n",
       "       'A Roundup: 36 Deals Announced in May 2022 | SecurityWeek - https://t.co/kxPw6BozdN',\n",
       "       ' ransomware update https://t.co/prNnpfK9IY',\n",
       "       '  https://t.co/9yUqvbUjU7 https://t.co/iGn08hZHsZ https://t.co/h102t7MYKE https://t.co/A3uhUa8xgV https://t.co/KIs2o7cVfY https://t.co/CbdSHutkKB https://t.co/tCkaSiiE60 https://t.co/onIw9UC7Pl https://t.co/IXPc8NYVtj  #cybersecurity https://t.co/mej6Cg0qwt',\n",
       "       ' #cybersecurity #ehealth #EU #cloud #health https://t.co/eW1f9maxa8',\n",
       "       ' https://t.co/2jgIMlQfK8  #ew22 @embedded_world  #zaya #iot #security #cybersecurity https://t.co/PYGt0AoqZr',\n",
       "       ' a New Wake-Up Call https://t.co/Q50AtUoksx #Ransomware https://t.co/hmxHNe36qq',\n",
       "       ' https://t.co/AaQAxGxGH0  #Cybersecurity #Riskmanagement #cybercrime #cyberbreach #cybersecurity #risk https://t.co/seAMkxvHiq',\n",
       "       ' https://t.co/J7ckNfjPPW  #Cybersecurity #Riskmanagement #cybercrime #cyberbreach #cybersecurity #risk https://t.co/nyjJwTf9fA',\n",
       "       ' experts suggest it could help reduce the angst of cybersecu…',\n",
       "       ' door wide open for a good hacker #thailand #databreach #hacking #cybersecurity #infosec #cyberattack #prayut #vajiralongkorn https://t.co/4PYseWfEhQ',\n",
       "       ')  https://t.co/JWxpGQAtsC  #oscp #hacking #cybersecurity #infosec #Pentesting #HackTheBox #TryHackMe',\n",
       "       ' FBI Names REvil Behind The Attack https://t.co/NNyeZG3a1I /LHN',\n",
       "       nan,\n",
       "       \" Customers 'May Have Been Impacted'    #hackers #OKTA #hacking #2FA #passwords #cybersecurity #security #breach #phishing #ransomware   https://t.co/lAenNsyHQY\",\n",
       "       's Top 10 threats https://t.co/2AASU8z7gB via @LinkedIn #appsec #cybersecurity',\n",
       "       ' FBI Names REvil Behind The\\xa0Attack https://t.co/6R6SIIToQw',\n",
       "       \" more this year than ever | CBS 17: Shane Stansbury with Duke Law School has led many cases involving cybercrime and ransomware attacks and says it's not hard for criminals to do. “You\\xa0... https://t.co/qKo29Z531Y EXETLOS\",\n",
       "       ' ransomware gang claims responsibility #ransomware #payments #crypto #cryptocurrency #cybersecurity #cybercrime  https://t.co/P2J6ku3b1H',\n",
       "       ' contains dangerous malware variant https://t.co/aL8itDqAFj https://t.co/dcKozVI7AA',\n",
       "       ' Chinese-Made TCL / Alcatel Phones Distributed To Georgia Poll Managers Secretly Connected Election To Internet - https://t.co/wCu9ChHtgS via @Shareaholic',\n",
       "       ' Research News is out! https://t.co/KWUvrfVNKM Stories via @PedroStephano @akillibirsehir #cybersecurity #security',\n",
       "       ' the health care sector has been hit especially hard (Becky Sullivan/NPR) https://t.co/g7LYpy5Xuh',\n",
       "       ' Tracking down CVE-2017-7149 https://t.co/OZBAkt0ur0 #bot #infosec #security',\n",
       "       '20094', '-) ! https://t.co/wwmHovkpQL',\n",
       "       ' crack one open and sit there gobbling up data like kids eating candy out of a busted #API #piñata || #cybersecurity https://t.co/U1n2Q5Qzga',\n",
       "       ' https://t.co/jEJ9ABs1um', ' NATO defense chiefs’ agenda',\n",
       "       ' 200 ETH Worth of NFTs Stolen',\n",
       "       ' https://t.co/QekW2gELCQ  #Cybersecurity #Riskmanagement #cybercrime… https://t.co/tIp1gZJgBy',\n",
       "       ' via @KennaSecurity',\n",
       "       ' interrupts services - The Edition https://t.co/iYybp7Og1o #databreach #security #stelco https://t.co/0oPxMu7Anl',\n",
       "       \" I'm excited to learn about prevention and mitigation! #HITRUST #DataProtection https://t.co/FVy9fPzdOg\",\n",
       "       ' https://t.co/d3yfOwNEHF  #Cybersecurity #Riskmanagement #cybercrime #cyberbreach #cybersecurity #risk https://t.co/yAmTlE3kcb',\n",
       "       ' https://t.co/J7ckNfjPPW  #Cybersecurity #Riskmanagement #cybercrime #cyberbreach #cybersecurity #risk https://t.co/x8uH9NjS6U',\n",
       "       'by&#8209',\n",
       "       '  Nouvelle technique de #spearphishing découvert part @Malwarebytes  https://t.co/nPae7euaMX',\n",
       "       ' 🔐#CyberSecurity 👭#WomenEmpowerment 👩\\u200d💻#DigitalExtractivism 🚺#VoteWomen 📊#Data 👩\\u200d🔧#Jobs and Other 💰#Opportunities And more and subscribe to keep up to date with our work 👉https://t.co/Gxlem1fb8C https://t.co/pE7dfbZJPi',\n",
       "       ' #Retail #Government #Education #Defense  #patchmanagement #vulnerability #CISO #CIO #CyberSecurity #MicrosoftExchange @Rapid7 https://t.co/d5QqvpZG4t',\n",
       "       ' insurers fear telehealth overutilization https://t.co/SPZz5Q6iN4 via @HealthITNews',\n",
       "       '  #javascript #CSS #Java #CodeRedForHumanity #Science journals #Onlineclasses #100DaysOfCode  #DEVCommunity  #CodeNewbie  #Flutter #DataScience #MachineLearning #React #CyberSecurity  #nursing  📩:@brook_writers https://t.co/zNYe6ZsPGb',\n",
       "       ' More from readers ... https://t.co/S6t4Cxsa24 🙋 Bet with $BTC via ⟶ https://t.co/4h0cyuWSHk √',\n",
       "       ' and the ways in which the success of such services can be limited. https://t.co/c2NFslLjlc #cybersecurity',\n",
       "       ' flights impacted   https://t.co/lRsnvfEEd9',\n",
       "       ' One\\xa0...  #cybernews #thecybernewsfeed  https://t.co/1wsB8ebjAo',\n",
       "       ' patch them up today. Learn more at https://t.co/cudVrSfESe. #Cybersecurity #InfoSec #PatchTuesday',\n",
       "       ' https://t.co/QekW2gELCQ  #Cybersecurity #Riskmanagement #cybercrime #cyberbreach #cybersecurity #risk https://t.co/t1eRMe3zoO',\n",
       "       's the difference between cybersecurity and information security? - IDG Connect https://t.co/BwuzT2hWBL',\n",
       "       ' sponsorship matters for women in cybersecurity',\n",
       "       ' Enterprise | Vulnerability Management Maturity Model #cybersecurity',\n",
       "       ' #ransomware gang claims responsibility - #SF49 #NFL - @s_nfl49ers - https://t.co/MMv2oKWTpX',\n",
       "       ' center in Beer Sheva | Ctech https://t.co/q4j22WPhOc',\n",
       "       ' thousands of open positions in St. Louis - https://t.co/IK62abXqUQ https://t.co/EQkJYRLq6t',\n",
       "       '7.5m and orders UK data to be deleted https://t.co/BDVbK9p7iX',\n",
       "       ' https://t.co/QekW2gELCQ  #Cybersecurity #Riskmanagement #cybercrime #cyberbreach #cy… https://t.co/bXocbwzyA2',\n",
       "       '  European Commission airs out new #IoT device security draft law – interested parties have a week to weigh in   https://t.co/c8EY71jSJR via @TheRegister   #tech #cybersecurity https://t.co/S2rb12hiVY',\n",
       "       ' a Machine-Driven RSS Bot by Ramsey Elbasheer https://t.co/3mvkrxeiRR',\n",
       "       ' Research News is out! https://t.co/hz9qTVMIxg #cybersecurity #security',\n",
       "       ' most cybersecurity experts consider it no worse a risk than other social media apps. ... The app has come under scrutiny for data mining and privacy concerns.  #BanTiktokFromPakistan @QaziArbabAhmed1',\n",
       "       ' they should be valid forever once earned and your relationship with the institution that issued it to you should be voluntary after that.',\n",
       "       ' Okta says there is no evidence of ongoing malicious activity. https://t.co/jTA5HkeKDa via @csoonline',\n",
       "       ' IntSights had raised $71.3M to date from Qumra Capital and others (Kyle Wiggers/VentureBeat) https://t.co/7r91LRgKyP',\n",
       "       ' y si esto lo hago con toda la población mundial. Dicho y hecho virus para todos y antivirus cada tantos meses. Malware para tod@s',\n",
       "       ' here’s how to stop attack | #microsoft | #hacking |\\xa0#cybersecurity https://t.co/wbGZFbYs7o',\n",
       "       'dr brottsbekämpning är inte krig eller upprorsbekämpning och även om det vore det så funkar inte HårdarTag™',\n",
       "       ' the malware looks like ransomware but lacks a ransom recovery mechanism (Microsoft Security\\xa0Blog) https://t.co/ulMC2fQm8w',\n",
       "       ' banks to invest in cloud',\n",
       "       ' un malware para SIS. Actualizado\\xa014/02/21 https://t.co/h89txv17Ul',\n",
       "       ' saves the trouble of hunting down your wallet and entering card information. Protecting your card information is your responsibility.  #cybersecurity #GDPR #pcidss https://t.co/7STRbIfAD6',\n",
       "       ' the malware looks like ransomware but lacks a ransom recovery mechanism (Microsoft Security\\xa0Blog) https://t.co/dRC3bsoaN2',\n",
       "       ' ✓nursing ✓essays ✓chemistry ✓finance ✓physics ✓biology. ✓physi ✓chemistry ✓algebra ✓calculus ✓homework ✓essay pay ✓essays  Assignment due  #javascript #Python #BigData #cybersecurity #programming Hmu @PrimeOnlineMat1',\n",
       "       ' ensuring its effectiveness is another @ianmcshane https://t.co/lhr6YgMira via @Inc  #CyberSecurity #business',\n",
       "       ' the malware looks like ransomware but lacks a ransom recovery mechanism (Microsoft Security Blog) https://t.co/G2QwaaRiKK #TechNews #TechTips https://t.co/zbvttkTjKW',\n",
       "       ' U.S. is investigating | #emailsecurity | #phishing |\\xa0#ransomware https://t.co/K9PWsC1fvf',\n",
       "       ' STEM  https://t.co/aMirn9XQVd',\n",
       "       ' rebrands as Zepz  #cybersecurity',\n",
       "       ') (𝑺𝒊𝒏𝒄𝒆 1958)  #CodeNewbie #javascript #DEVCommunity #100DaysOfCode #DataScience #ArtificialIntelligence #DevOps #deeplearning #cybersecurity #gamedev #Java #Python',\n",
       "       ' #javascript #CSS #Java #CodeRedForHumanity #Science journals #Onlineclasses #100DaysOfCode  #DEVCommunity  #CodeNewbie  #Flutter #DataScience #MachineLearning #React #CyberSecurity  #nursing Bentley 📩:@brook_writers https://t.co/gBj4Tn3CqI',\n",
       "       ' 1) Will your data be CONFIDENTIAL (private)? 2) Do the info on the site have INTEGRITY (trusthworthy)?  🔒www OR https://www - when the site has a locked padlock icon at the extreme right of',\n",
       "       ' security teams are https://t.co/EVyoW8FqUW',\n",
       "       ' carrier will invest in cybersecurity to ‘transform our approach’ https://t.co/9EYZKFJhhK',\n",
       "       ' #javascript #CSS #Java #CodeRedForHumanity #Science journals #Onlineclasses #100DaysOfCode  #DEVCommunity  #CodeNewbie  #Flutter #DataScience #MachineLearning #React #CyberSecurity  #nursing',\n",
       "       ' TechAdept’s ‘CTF C..  - https://t.co/wuEHi9ExXc #cybersecurity #cloud #network #news #hacking #darkweb #uk #us #israel #security #cybersec',\n",
       "       ' Data Obtained May Help ... https://t.co/BGhjml0s0j',\n",
       "       ' let #CRIBB raise your #CyberAwareness with our cyber-risk consultations. #ITSecurity #CyberAware https://t.co/Nn3WriTkzV',\n",
       "       ' https://t.co/QekW2gELCQ  #Cybersecurity #Riskmanagement #cybercrime #cyberbreach … https://t.co/XaGxpnsOeg',\n",
       "       ' información confidencial expuesta. https://t.co/w0TSE98jj4 https://t.co/lYBBSR30tX',\n",
       "       ' Let us handle your assignments 🙂  #javascript #CSS #Java #CodeRedForHumanity #Science journals #Onlineclasses #100DaysOfCode  #DEVCommunity  #CodeNewbie  #Flutter #DataScience #MachineLearning #React #CyberSecurity  #nursing  📩:@brook_writers https://t.co/iahB7H5kSH',\n",
       "       ' Een bedrijf gijzelen en de kluis leeghalen vanaf de keukentafel.  https://t.co/YE63kqUZYN  #cyber #CyberSecurity #cybercrime #politie #VDL https://t.co/sEziXLoZC2',\n",
       "       ' a company who focuses on cybersecurity in the insurance and financial space.  Read the full story here: https://t.co/JyHEUGhbwS',\n",
       "       ' analyzing the latest ransomware to target macs https://t.co/B9GVq2BM52 #ransomware #MalwareAnalysis #InfomationSecurity',\n",
       "       ' Essays Biology  Chemistry  Data science  Paper pay Statistics  Geography  Geology  Humanities  Programming  #Python Matlab #javascript  #100DaysOfCode  #womenWhoCode #law #webdev #webdesigner #CyberSecurity  #CodeNewbie  All are available @Topgraders2 https://t.co/jI8W1pFvjH',\n",
       "       ' it keeps the... …',\n",
       "       ' #javascript #CSS #Java #CodeRedForHumanity #Science journals #Onlineclasses #100DaysOfCode  #DEVCommunity  #CodeNewbie  #Flutter #DataScience #MachineLearning #React #CyberSecurity  #nursing Rihanna 📩:@brook_writers https://t.co/I5W0mI3EeR',\n",
       "       ' but instead via an infected USB stick. A security alert sent to US organizations details that packages have been received by businesses https://t.co/MCxWXb0ns0',\n",
       "       ' a Machine-Driven RSS Bot by Ramsey Elbasheer https://t.co/IIQ3XZtsAB',\n",
       "       ' bolstering market resilience is a result of collaboration between the regulated and our regulators',\n",
       "       ' ಎಚ್ಚರ ತಪ್ಪಿದರೆ ಅಪಾಯ ಖಚಿತ!  #cybersecurity #SocialMedia #CybersecurityAwarenessMonth   https://t.co/zdI816oxRU',\n",
       "       ' DiskCryptor to Conduct Ransomware Attacks in U.S. #cybersecurity',\n",
       "       ' Essays Biology  Chemistry  Data science  Paper pay Statistics  Geography  Geology  Humanities  Programming  #Python Matlab #javascript  #100DaysOfCode  #womenWhoCode #law #webdev #webdesigner #CyberSecurity  #CodeNewbie  All are available @Topgraders2 https://t.co/lv5pmZ4uVa',\n",
       "       \" Log4j Attackers 'Actively Scanning Networks'\",\n",
       "       \"ß' T' C For whom:Twitter lovers!  Profit: 2-10x Country:All Volume/>3.1M  Lotto Doctor Who Brighton Taylor ערב טוב rakitic Oilers 트랙리스트 Tudor κατσαουνης rasmus dahlin Campbell #cybersecurity Perez Europadagen Alliance https://t.co/29Y8dwVs0o\",\n",
       "       ' Swiss Hacktivist Charged for Fraud: https://t.co/7yvVwtwmSU #follow & #RT #cybersecurity #infosec',\n",
       "       '  #cyberkid #infosec #cybersecurity #iguru #hacking #pentesting #infosecurity #ransomware  https://t.co/DtlFAwWMPm',\n",
       "       ' FBI Names REvil Behind The Attack Days after the meat producer giant JBS Foods suffered a ransomware attack',\n",
       "       ' it encompasses those fundamentals any #Infosec pro needs.   Find it here: 👇 https://t.co/qpKodw5zzC',\n",
       "       'test.asp?text=list HTTP/1.1  #fortigate #fortiweb #owasp #F5 #ASM #WAF #CISCO #firepower #attack #web #apache #CyberSecurity',\n",
       "       ' NCSC Alert UK Orgs To Destructive Russian Cyber Attacks',\n",
       "       ' many Belarus Railway services appear offline (Dan Goodin/Ars Technica) #Technology #TFB https://t.co/ATJ9s6NMmI Follow us for more..',\n",
       "       ' your information is vulnerable https://t.co/DCE7HEUPLL',\n",
       "       ' beyond #cybersecurity',\n",
       "       ' Math English Chemistry Biology Ecology Genetics Pharmacology Anatomy Biostatistics Biochemistry Psychology #MachineLearning  #DataScience #5G #100DaysOfCode #Python #Cybersecurity #BigData #AI #IoT #DeepLearning #ArtificialIntelligence #NLP #robots',\n",
       "       ' Swiss Hacktivist Charged for Fraud https://t.co/UBnZ4pZhVf',\n",
       "       ' Ransomware Accounts for 81% of Financially Motivated Attacks https://t.co/FvPS0D9jnR',\n",
       "       ' Math English Chemistry Biology Ecology Genetics Pharmacology Anatomy Biostatistics Chemistry Psychology #MachineLearning  #DataScience #5G #100DaysOfCode #Python #Cybersecurity #BigData #AI #IoT #DeepLearning #ArtificialIntelligence #NLP #robots #AcademicTwitter',\n",
       "       ' the malware looks like ransomware but lacks a ransom recovery mechanism (Microsoft Security Blog) #tech #mobile',\n",
       "       ' Brand Relationships Daily is out! https://t.co/s2SUcgvwM6 Stories via @prophetstrategy @deniseleeyohn @JohnRichardBell #cybersecurity #branding',\n",
       "       ' Hackers Play Puzzle Games With Oil Giant | #cybersecurity |\\xa0#cyberattack https://t.co/ZfJgVDGHCF',\n",
       "       'Unibanco Bank Customers https://t.co/cyFOBd4Yk7 via @TheHackersNews #Malware #Ransomware #ITbrazil  #Cyberfinance #cyberbanking #unibanco #cybersecurity #cybersafety',\n",
       "       ' felicitated in grand ceremony by government | #cybersecurity |\\xa0#cyberattack https://t.co/8Ivo5N8JGU',\n",
       "       '  #DataBreaches  #cybersecurity  #cybercrime #hackers #dataprotection #cyberthreats #phishing #cyberintelligence  https://t.co/KYgGuaSaNK',\n",
       "       ' C++ vs Python   #100DaysOfCode #python #C #NodeJS #Java #javascript #CyberSecurity #security #DEVCommuni… Translated using #MicrosoftFlow',\n",
       "       ' carrier will invest in cybersecurity to ‘transform our approach’ https://t.co/csPOnwtq3a',\n",
       "       ' https://t.co/QekW2gELCQ  #Cybersecurity #Riskmanagement #cybercrime #cyberbreach #c… https://t.co/GmDDEaJwQn',\n",
       "       ' they are also extorting businesses to pump millions of dollars into Bitcoin.  So many interesting incentives between financial/currency markets and organized crime.',\n",
       "       ' Files Lawsuit Against Operators https://t.co/z62RGnbWoH',\n",
       "       ' let alone the unknown unknowns  It is aghasting and surprising how human intents and motivation can change the course of results',\n",
       "       ' Ukraine Cyber War #cybersecurity',\n",
       "       '  Cybersecurity expert Gary Hibberd @CyberfortGroup and HR Manager Danny Shaw from the HR Dept @TheHRDept. @FSBKent @supplymybiz #Kent #Business',\n",
       "       ' impacting thousands of #applications relying on these libraries.  #cybersecurity #infosec #hacking #security #technology  https://t.co/5SVqMyosdn',\n",
       "       ' information on a new #malware variant t',\n",
       "       'T is hiring [Job- 7380] Gerente de Cybersecurity.  ✍️  Apply now: https://t.co/vSNOhAMhwX   #cybersecurity #cybersecurityjobs #cybersec #blueteam #blueteamjobs #edr #edrjobs #iso27k #iso27kjobs #nist #nistjobs #offensivesecurity #offensivesecurityjobs #redteam #redteamjobs',\n",
       "       ' información confidencial expuesta. #tecnologia #robodedatos #ciberseguridad  https://t.co/j2FwNhUCzm',\n",
       "       ' Let’s Make It Harder | #malware |\\xa0#ransomware https://t.co/g1kWOHxjSz',\n",
       "       \" don't forget to keep both your keys to encrypted backups and the software required to actually perform the restores on air-gapped media (a big thumb drive). Otherwise both will be unusable if you get encrypted. https://t.co/pxp3NpKjTJ\",\n",
       "       '  #javascript #cspcontest31 #Java18 #Assignmentdue #Coursework #Science journals #Onlineclasses #100DaysOfCode  #DEVCommunity  #CodeNewbie  #Flutter #DataScience #MachineLearning #React #CyberSecurity  #AI #5G #Essaydue #AcademicChatter https://t.co/1hem8tm7N7',\n",
       "       ' @ScottishEDGE #winner',\n",
       "       ' leaves passengers in the lurch | Read more at: https://t.co/leeG5SeiXU https://t.co/dq86IEHFoh',\n",
       "       ' flights delayed  https://t.co/4Yb2BY3ydn https://t.co/DswTlxEx6Q',\n",
       "       ' Files Lawsuit Against Operators https://t.co/7GXlwyfep8',\n",
       "       '  @HereJeez   #confuserex #ReverseEngineering  #malwareanalysis #CyberSecurity https://t.co/zNvftwVkuQ',\n",
       "       'Dangerous Virus&apos',\n",
       "       ' NGINX: Quick Start Guide https://t.co/WjC8NaojXD … #bigdata  #DEVCommunity #teChnOlOgy #Programming #AI #iioT #100DaysOfCode #Linux #Python3  #CloudComputing #FRENChtECh  #womenwhocode #cybersecurity #DATAScience #Tech #CLOud #javascrip…',\n",
       "       ' #ProxyLogon exploits to distr… Translated using #MicrosoftFlow',\n",
       "       ' the malware looks like ransomware but lacks a ransom recovery mechanism (Microsoft Security\\xa0Blog) https://t.co/vX46rYEzFZ',\n",
       "       ' I know someone who is non- vet and has taken 4 courses and failed all 4 but the money keeps coming in ',\n",
       "       ' Migration To Clo #cybersecurity',\n",
       "       ' Research News is out! https://t.co/guc9WG2cPd Stories via @isotopp @iamthefrogy #cybersecurity #dad',\n",
       "       ' Alert on #Cybersecurity Vulnerability in #Software and more on MedTech Intelligence https://t.co/Mb6FiqPOHP #medtech #meddevice #compliance #regulatory #ArtificialIntelligence #machinelearning #ultrasoundtechnology',\n",
       "       ' há problemas na operação  Saiba mais: https://t.co/gub86Xn9SW  #neotel #ciberseguranca #segurancadigital #gocryptwithneotel #gosafecloudwithneotel #cybersecurity https://t.co/xUWSYjESIe',\n",
       "       ' Dark Botnet Update', ' Pakistan plunges into darkness',\n",
       "       ' Governments Must Take Action #cybersecurity',\n",
       "       ' Έχουν ένα μήνα που με το ransomware attack δε λειτουργεί τίποτα. Είναι σοβαρή εικόνα αυτή',\n",
       "       ' Extension: .bnrs',\n",
       "       ' the malware looks like ransomware but lacks a ransom recovery mechanism (Microsoft Security\\xa0Blog) https://t.co/2zQIzo4JYw',\n",
       "       ' Hackers Dump More Healthcare Data | Newsletter is out now! Take a look. https://t.co/zFMNbfelqT #Cybersecurity #RiskManagement #MolinaHealth',\n",
       "       ' Patient-Operated Devices Changing #Healthcare https://t.co/voLVKsNSi5 #medtech',\n",
       "       ' this often leads employees to develop https://t.co/uUEIdHYK6P #advice #digitization #digital',\n",
       "       ' joins us!  #Web3 #CyberSecurity #NFTCommunity  https://t.co/QBmRlF87HN',\n",
       "       ' Estimated loss of $200M https://t.co/KG8UOlUC4Y #infosec #infosecurity #cybersecurity #threatintel #threatintelligence #hacking #cybernews #cyberattack #threathunting #cloudsecurity #cloudcomputing #malware #ransomware #devops #dfir #cyber',\n",
       "       ' Research News is out! https://t.co/uTTuHK71Ju Stories via @Advent_IM #cybersecurity #security',\n",
       "       ' blackmailed #Ransomware  #DataBreaches #DarkWeb #CyberSec #infosec #Security #cybercrime #ThreatIntel #hackers #dataprotection #cyberthreats #cybersecurity #phishing #cyberintelligence #socialengineering #osint https://t.co/IbYr4uD41u',\n",
       "       '  abide by requests if Swiss agencies agree to assist foreign services such as Europol in investigations.  #cybersecurity',\n",
       "       ' You cannot eliminate all risks. But you can reduce the level of risks to an acceptable standard. That’s why building an Information Security and Risk Management (ISRM) programme is essential. #Cybersecurity #Innovation #BigData #cybersecurity #blockchain',\n",
       "       ' how to get ahead of encryption leaving your business a pile of broken shells.\\xa0 ‘Pay Ransom’ Screen? ... via @threatpost #infosec #cybersecurity #itsecurity #TuesdayTravel https://t.co/7uTSfYDbkw',\n",
       "       '- https://t.co/br5npgMNHz @FollowCII @CIIEvents @NITIAayog  #Digital  #cybersecurity https://t.co/Ri1o5oJSnF',\n",
       "       ' https://t.co/QekW2gELCQ  #Cybersecurity #Riskmanagement #cybercrime #cyberbreach #cybersecu… https://t.co/aDrbTP6yRX',\n",
       "       ' Plan Fiduciaries May Want to Consider Doing the Same - Lexology https://t.co/RJkAY0SQDb https://t.co/POktpo6WYX',\n",
       "       \"-  1. Authentication 2. Session Management 3. Access Control  #cybersecurity #bugbounty #bugbountytip #hacking   Credit : Web Pentesting Hacker's Handbook 2   More in Detail \",\n",
       "       ' NIST’s foray into cutting-edge technologies https://t.co/gLMwBcQWSl #AI #cybersecurity via @ChuckDBrooks',\n",
       "       ' the health care sector has been hit especially hard (Becky\\xa0Sullivan/NPR) https://t.co/yMhOLyaM5y',\n",
       "       ' Recording Available on YouTube https://t.co/hTzdh54bED',\n",
       "       ' PF confirma #ConecteSUS #Hacker  https://t.co/Zc4eVcNQjK',\n",
       "       ' deny FOIA violations https://t.co/2WZ8mVA2OP #cybersecurity  #cyberattack #cyber #security #malware  #vpn #skyvpn  #cybercrime #threats #hackers #databreachs #infosec #netsec #whatsapp #signal #messenger #facebook https://t.co/zS6yaqsGug',\n",
       "       ' Mandiant sees no evidence of it #cybersecurity #ransomware https://t.co/9CpZVPSHuB',\n",
       "       ' Math English History Chemistry Biology Ecology Genetics Pharmacology Anatomy Biostatistics Biochemistry Psychology #MachineLearning  #DataScience #5G #100DaysOfCode #Python #Cybersecurity #BigData #AI #IoT #DeepLearning #ArtificialIntelligence #NLP #robots https://t.co/dR6Chz4DpW',\n",
       "       \" Lessons learned from Okta's breach Rashmi Ramesh\", '  Thread👇🧵',\n",
       "       ' Is Your Ecommerce Store Ready? - Business Wire https://t.co/x3N0N5Lcqu >> #hacking #security #malware #cyberattack  #DataProtection #coding #infosec #ethicalhacking #java #python',\n",
       "       ' POTUS signed an executive order that bolsters our nation’s security and enhances CISAgov’s ability to protect critical infrastructure. Learn more:  https://t.co/2dkkuvxzTj  https://t.co/7rxEjjtQ6F',\n",
       "       ' &nbsp', ' veja dicas para se proteger  https://t.co/yBgJWNpIVw',\n",
       "       ' Math English History Chemistry Biology Ecology Genetics Pharmacology Anatomy Biostatistics #MachineLearning  #DataScience #5G #100DaysOfCode #Python #Cybersecurity #BigData #AI #IoT #DeepLearning #ArtificialIntelligence #NLP #robots https://t.co/sODmS81dBO',\n",
       "       ' we have you covered on the 3 key steps of the #IAM journey. #cyberattacks #security https://t.co/FzV2BMHyFD https://t.co/XQgnqbODUg',\n",
       "       ' II: In this post we go over the recommended cybersecurity best practices from the 405(d) Work Group and an overview of Technical Volumes I & II. https://t.co/z4muEQJkV0 https://t.co/viaceA7pRg',\n",
       "       ' Attacks #cybersecurity',\n",
       "       ' Adds STOPzilla to Its Portfolio https://t.co/FtwgBzgK6Z #cybersecurity',\n",
       "       ' find out how we can help YOU implement CSfC remote access solutions today!  #ITVeterans #CSfC #DODIIS2021 https://t.co/s5w8iwYqaT',\n",
       "       ' Final exams Essays Dissertation Project Online classes #MachineLearning  #DataScience #5G #100DaysOfCode #Python #Cybersecurity #BigData #AI #IoT #DeepLearning #ArtificialIntelligence …',\n",
       "       ' Business with # of employees = 1  Does your business fit this size?  #cybersecurity #smallbusiness #cyberattacks #smbs #ransomware #mbt #reducerisk #protectreputation #preventrevenueloss #differentiate',\n",
       "       ' Ransomware evoluciona y sigue en aumento https://t.co/5hHUKeVIRp',\n",
       "       ' medidas de #ciberseguridad pueden ayudarte a evitarlos.https://t.co/oCxcOaFbuN',\n",
       "       ' Linkedin Phishing https://t.co/99sDSWssBJ #aircraft #airplane #airplanes #airport #Airports #avgeek #aviation #aviationdaily #aviationgeek #aviationlife #AvSec #crewlife #Cybersecurity #flight #Flyer #flying #infosec #pilot #pilotlife #plane #planes #travel',\n",
       "       ' Government Agencies Increasingly Targets of #hackers #CyberSecurity https://t.co/cusRQQ9ahm',\n",
       "       ' Extension: .ZIG Sample: https://t.co/GaS5KoamNF @demonslay335 @JakubKroustek @Amigo_A_',\n",
       "       ' https://t.co/VDBpCsOWkK or call us on 01782 914 414!  #ITsupport #ComputerSupport #CyberSecurity #Staffordshire #Cheshire https://t.co/dtwTCK7uuN',\n",
       "       ' https://t.co/eg4lO9xinW  #GirlsInICTKe #CyberSecurity https://t.co/bwkgYlazNk',\n",
       "       \" Here's Where to Look #Cybersecurity #security  https://t.co/nRDhlNPjhT\",\n",
       "       ' the health care sector has been hit especially hard (Becky Sullivan/NPR) https://t.co/qkJEBC6a0g',\n",
       "       ' Research News is out! https://t.co/4qhSSvuSDu Stories via @GetAheadVA #cybersecurity #security',\n",
       "       ' Seizes $6 Million from REvil Gang https://t.co/SlJhUAUvho #security #opensource #cybersecurity #malware #cyber #pentesting #redteam  #malwarehunting #infosec #hacking #infosec #threathunting  #bugbounty #tools #malwareanalysis #o…',\n",
       "       ' Research News is out! https://t.co/EAPGJhxhDP Stories via @infosec #cybersecurity #security',\n",
       "       ' #Essay due #Online Classes  #chemistry #Essay due #Pay write #economics #examPaper #Someone help paper #Final exam #biology essày #Homework  #Philosophy  #Assignments #report  #cybersecurity  @spb_writers',\n",
       "       ' Research News is out! https://t.co/Rxtde9sdUx Stories via @FookHwa #cybersecurity #security',\n",
       "       ' iOS)  https://t.co/Fozyc9IqnS  #android #ios #cybersecurity #hacking #bughunting https://t.co/eRFyrnue3t #infosec #pentest #bugbounty @0xAsm0d3us',\n",
       "       ' Celsius Hires New CTO\\xa0(Exclusive) https://t.co/E6FkXdPCg1',\n",
       "       's mission includes executing a risk-based security strategy ... Dan Lohrmann (DL): What are the biggest cybersecurity risks most\\xa0...  #cybernews #thecybernewsfeed  https://t.co/IbeNpFGUo2',\n",
       "       ' Final exams Essays Dissertation Project Online classes #MachineLearning  #DataScience #5G #100DaysOfCode #Python #Cybersecurity #BigData #AI #IoT #DeepLearning #ArtificialIntelligence #NLP #robots #Industry40 #tech #DEVCommunity #javascript https://t.co/z72XB8ZFco',\n",
       "       ' Dominates as Most Honored Vendor https://t.co/ICg08k2R6Y #StockMarket',\n",
       "       ' Seizes $6 Million from REvil Gang #cybersecurity #ptfm #security #infosec https://t.co/LnjxrWDlFI',\n",
       "       ' Audit Tool #cybersecurity',\n",
       "       ' claim free fantom tokens!💯 join here!👇👇👇  https://t.co/AStoRIzcV1',\n",
       "       '  Adds STOPzilla to Its Portfolio https://t.co/0nfBxxNPQ3 #cybersecurity',\n",
       "       ' the woman was arrested in Miami on February 6 (Catalin Cimpanu/The\\xa0Record) https://t.co/Nq5VaR9IE5',\n",
       "       ' Galaxy S8 to S21 Series #Cryptographic Keys “Trivial” To Expose #CyberSecurity #cyber #Security #infosec #DataSecurity #data #tech #technology #cellphone  https://t.co/UZPyVvKYWi',\n",
       "       ' a Machine-Driven RSS Bot by Ramsey Elbasheer https://t.co/WPw17itNXd',\n",
       "       ' threat actors claim they were in the network for 6 months https://t.co/79T8XdeuLb',\n",
       "       ' Final exams Essays Dissertation Project Online classes #MachineLearning  #DataScience #5G #100DaysOfCode #Python #Cybersecurity #BigData #AI #IoT #DeepLearning #ArtificialIntelligence #NLP #robots #Industry40 #tech #DEVCommunity #javascript https://t.co/GPKkAms4p6',\n",
       "       ' - Ter uma boa comunicação',\n",
       "       's Argentina beat Brazil 1-0 in ... and its cybersecurity to achieve a zero trust architecture in this free webinar.  #cybernews #thecybernewsfeed  https://t.co/lNM81wdjCq',\n",
       "       '  #javascript #CSS #Java #CodeRedForHumanity #Science journals #Onlineclasses #100DaysOfCode  #DEVCommunity  #CodeNewbie  #Flutter #DataScience #MachineLearning #React #CyberSecurity  #nursing  📩:@brook_writers https://t.co/QBINVzES9O',\n",
       "       ' #COVID19 & #connectedhealth',\n",
       "       ' Files Lawsuit Against Operatorshttps://www.scssnys.com/google-takes-down-glupteba-botnet-files-lawsuit-against-operators/',\n",
       "       ' 51 Stolen Data Brokers Arrested in Ukraine https://t.co/dsSY7ApSx5   #data #ransomware',\n",
       "       ' Ή μήπως το σκασμός σε πολίτες με οποιοδήποτε τρόπο το ονομάζετε damage control? Όσο και να ρίχνετε tweets θα φωνάζουμε #Μητσοτακη_που_ειναι_τα_παιδια'],\n",
       "      dtype=object)"
      ]
     },
     "execution_count": 6,
     "metadata": {},
     "output_type": "execute_result"
    }
   ],
   "source": [
    "cyber.label.unique() # for cyber dataset"
   ]
  },
  {
   "cell_type": "code",
   "execution_count": 7,
   "id": "99573067",
   "metadata": {},
   "outputs": [
    {
     "data": {
      "text/html": [
       "<div>\n",
       "<style scoped>\n",
       "    .dataframe tbody tr th:only-of-type {\n",
       "        vertical-align: middle;\n",
       "    }\n",
       "\n",
       "    .dataframe tbody tr th {\n",
       "        vertical-align: top;\n",
       "    }\n",
       "\n",
       "    .dataframe thead th {\n",
       "        text-align: right;\n",
       "    }\n",
       "</style>\n",
       "<table border=\"1\" class=\"dataframe\">\n",
       "  <thead>\n",
       "    <tr style=\"text-align: right;\">\n",
       "      <th></th>\n",
       "      <th>text</th>\n",
       "      <th>label</th>\n",
       "    </tr>\n",
       "  </thead>\n",
       "  <tbody>\n",
       "    <tr>\n",
       "      <th>199990</th>\n",
       "      <td>I gave +Kred to @Shirastweet on @Kred #influen...</td>\n",
       "      <td>1</td>\n",
       "    </tr>\n",
       "    <tr>\n",
       "      <th>199991</th>\n",
       "      <td>AXA pledges to stop reimbursing ransom payment...</td>\n",
       "      <td>1</td>\n",
       "    </tr>\n",
       "    <tr>\n",
       "      <th>199992</th>\n",
       "      <td>\"Researchers warn that PrivateLoader pay-per-i...</td>\n",
       "      <td>1</td>\n",
       "    </tr>\n",
       "    <tr>\n",
       "      <th>199993</th>\n",
       "      <td>Well... I started the Journey into #CyberSecur...</td>\n",
       "      <td>1</td>\n",
       "    </tr>\n",
       "    <tr>\n",
       "      <th>199994</th>\n",
       "      <td>Know More About Cybersecurity and Data Privacy...</td>\n",
       "      <td>1</td>\n",
       "    </tr>\n",
       "    <tr>\n",
       "      <th>199995</th>\n",
       "      <td>#Webinar Our so much awaited webinar addressin...</td>\n",
       "      <td>1</td>\n",
       "    </tr>\n",
       "    <tr>\n",
       "      <th>199996</th>\n",
       "      <td>The threat of #ransomware is nothing new, but ...</td>\n",
       "      <td>1</td>\n",
       "    </tr>\n",
       "    <tr>\n",
       "      <th>199997</th>\n",
       "      <td>Shadow Code From Third-Party Libraries Is a Ma...</td>\n",
       "      <td>1</td>\n",
       "    </tr>\n",
       "    <tr>\n",
       "      <th>199998</th>\n",
       "      <td>¿\"whose our-s-ing as which-s &amp;/or whose-s stat...</td>\n",
       "      <td>1</td>\n",
       "    </tr>\n",
       "    <tr>\n",
       "      <th>199999</th>\n",
       "      <td>Senior Manager RGM Retail Programs  #Job #Leba...</td>\n",
       "      <td>1</td>\n",
       "    </tr>\n",
       "  </tbody>\n",
       "</table>\n",
       "</div>"
      ],
      "text/plain": [
       "                                                     text label\n",
       "199990  I gave +Kred to @Shirastweet on @Kred #influen...     1\n",
       "199991  AXA pledges to stop reimbursing ransom payment...     1\n",
       "199992  \"Researchers warn that PrivateLoader pay-per-i...     1\n",
       "199993  Well... I started the Journey into #CyberSecur...     1\n",
       "199994  Know More About Cybersecurity and Data Privacy...     1\n",
       "199995  #Webinar Our so much awaited webinar addressin...     1\n",
       "199996  The threat of #ransomware is nothing new, but ...     1\n",
       "199997  Shadow Code From Third-Party Libraries Is a Ma...     1\n",
       "199998  ¿\"whose our-s-ing as which-s &/or whose-s stat...     1\n",
       "199999  Senior Manager RGM Retail Programs  #Job #Leba...     1"
      ]
     },
     "execution_count": 7,
     "metadata": {},
     "output_type": "execute_result"
    }
   ],
   "source": [
    "cyber[-10:]"
   ]
  },
  {
   "cell_type": "code",
   "execution_count": 8,
   "id": "47d20392",
   "metadata": {},
   "outputs": [
    {
     "data": {
      "text/plain": [
       "952"
      ]
     },
     "execution_count": 8,
     "metadata": {},
     "output_type": "execute_result"
    }
   ],
   "source": [
    "len(cyber.label.unique()) # check count how many uniques are there"
   ]
  },
  {
   "cell_type": "code",
   "execution_count": 9,
   "id": "b5308052",
   "metadata": {},
   "outputs": [
    {
     "data": {
      "text/plain": [
       "array(['0', ' thousands clicked through https://t.co/k2Q49rERql',\n",
       "       ' this opens up a whole new window for the bad guys.  https://t.co/V3UclU9qrh  #kubernetes #windows #cyberscurity #malwareattack',\n",
       "       ..., ' https://t.co/IScXnqp4is',\n",
       "       \" the number of concerned colleagues who generously reach out to let you know you've been used in a phishing attempt ☺️\",\n",
       "       \" investigation 'ongoing' https://t.co/h0k4Eq0pOG #uncategorized #feedly\"],\n",
       "      dtype=object)"
      ]
     },
     "execution_count": 9,
     "metadata": {},
     "output_type": "execute_result"
    }
   ],
   "source": [
    "non_cyber.label.unique() # check for non_cyber dataset"
   ]
  },
  {
   "cell_type": "code",
   "execution_count": 10,
   "id": "793ecda0",
   "metadata": {},
   "outputs": [
    {
     "data": {
      "text/plain": [
       "1098"
      ]
     },
     "execution_count": 10,
     "metadata": {},
     "output_type": "execute_result"
    }
   ],
   "source": [
    "len(non_cyber.label.unique())"
   ]
  },
  {
   "cell_type": "markdown",
   "id": "9a531a2f",
   "metadata": {},
   "source": [
    "#### I'm getting here at label column in both the dataset, some unique which is not good.\n",
    "we need to clean that so that we can move forword"
   ]
  },
  {
   "cell_type": "code",
   "execution_count": 11,
   "id": "c1a5682c",
   "metadata": {},
   "outputs": [],
   "source": [
    "cyber['label'] = cyber.label.replace(cyber.label.unique(), 1) # replacing the value for cyber dataset"
   ]
  },
  {
   "cell_type": "code",
   "execution_count": 12,
   "id": "3fbc6040",
   "metadata": {},
   "outputs": [],
   "source": [
    "cyber_labeled = cyber"
   ]
  },
  {
   "cell_type": "code",
   "execution_count": 13,
   "id": "fb2e842d",
   "metadata": {},
   "outputs": [
    {
     "data": {
      "text/html": [
       "<div>\n",
       "<style scoped>\n",
       "    .dataframe tbody tr th:only-of-type {\n",
       "        vertical-align: middle;\n",
       "    }\n",
       "\n",
       "    .dataframe tbody tr th {\n",
       "        vertical-align: top;\n",
       "    }\n",
       "\n",
       "    .dataframe thead th {\n",
       "        text-align: right;\n",
       "    }\n",
       "</style>\n",
       "<table border=\"1\" class=\"dataframe\">\n",
       "  <thead>\n",
       "    <tr style=\"text-align: right;\">\n",
       "      <th></th>\n",
       "      <th>text</th>\n",
       "      <th>label</th>\n",
       "    </tr>\n",
       "  </thead>\n",
       "  <tbody>\n",
       "    <tr>\n",
       "      <th>0</th>\n",
       "      <td>#AI Robo-Advisers and the Future of Financial ...</td>\n",
       "      <td>1</td>\n",
       "    </tr>\n",
       "    <tr>\n",
       "      <th>1</th>\n",
       "      <td>Hackers causing havoc on Mexican banking syste...</td>\n",
       "      <td>1</td>\n",
       "    </tr>\n",
       "    <tr>\n",
       "      <th>2</th>\n",
       "      <td>CVE-2019-13127 An issue was discovered in mxGr...</td>\n",
       "      <td>1</td>\n",
       "    </tr>\n",
       "    <tr>\n",
       "      <th>3</th>\n",
       "      <td>How to protect your online identity #labourcyb...</td>\n",
       "      <td>1</td>\n",
       "    </tr>\n",
       "    <tr>\n",
       "      <th>4</th>\n",
       "      <td>Forensic Acquisition - Shadow Cyber Sec  https...</td>\n",
       "      <td>1</td>\n",
       "    </tr>\n",
       "  </tbody>\n",
       "</table>\n",
       "</div>"
      ],
      "text/plain": [
       "                                                text  label\n",
       "0  #AI Robo-Advisers and the Future of Financial ...      1\n",
       "1  Hackers causing havoc on Mexican banking syste...      1\n",
       "2  CVE-2019-13127 An issue was discovered in mxGr...      1\n",
       "3  How to protect your online identity #labourcyb...      1\n",
       "4  Forensic Acquisition - Shadow Cyber Sec  https...      1"
      ]
     },
     "execution_count": 13,
     "metadata": {},
     "output_type": "execute_result"
    }
   ],
   "source": [
    "cyber_labeled.head()"
   ]
  },
  {
   "cell_type": "code",
   "execution_count": 14,
   "id": "1ca96bad",
   "metadata": {},
   "outputs": [
    {
     "data": {
      "text/plain": [
       "1"
      ]
     },
     "execution_count": 14,
     "metadata": {},
     "output_type": "execute_result"
    }
   ],
   "source": [
    "len(cyber_labeled.label.unique())"
   ]
  },
  {
   "cell_type": "code",
   "execution_count": 15,
   "id": "c6efd519",
   "metadata": {},
   "outputs": [],
   "source": [
    "non_cyber['label'] = non_cyber.label.replace(non_cyber.label.unique(), 0)"
   ]
  },
  {
   "cell_type": "code",
   "execution_count": 16,
   "id": "24fb58d7",
   "metadata": {},
   "outputs": [],
   "source": [
    "non_cyber_labeled = non_cyber"
   ]
  },
  {
   "cell_type": "code",
   "execution_count": 17,
   "id": "8c625484",
   "metadata": {},
   "outputs": [
    {
     "data": {
      "text/html": [
       "<div>\n",
       "<style scoped>\n",
       "    .dataframe tbody tr th:only-of-type {\n",
       "        vertical-align: middle;\n",
       "    }\n",
       "\n",
       "    .dataframe tbody tr th {\n",
       "        vertical-align: top;\n",
       "    }\n",
       "\n",
       "    .dataframe thead th {\n",
       "        text-align: right;\n",
       "    }\n",
       "</style>\n",
       "<table border=\"1\" class=\"dataframe\">\n",
       "  <thead>\n",
       "    <tr style=\"text-align: right;\">\n",
       "      <th></th>\n",
       "      <th>text</th>\n",
       "      <th>label</th>\n",
       "    </tr>\n",
       "  </thead>\n",
       "  <tbody>\n",
       "    <tr>\n",
       "      <th>0</th>\n",
       "      <td>Samsung Galaxy Tab Active Pro review: Rugged, ...</td>\n",
       "      <td>0</td>\n",
       "    </tr>\n",
       "    <tr>\n",
       "      <th>1</th>\n",
       "      <td>Malware on Target - Pages 4 and 5 #fnaf  See a...</td>\n",
       "      <td>0</td>\n",
       "    </tr>\n",
       "    <tr>\n",
       "      <th>2</th>\n",
       "      <td>A curated list of amazingly awesome OSINT: htt...</td>\n",
       "      <td>0</td>\n",
       "    </tr>\n",
       "    <tr>\n",
       "      <th>3</th>\n",
       "      <td>Thank you for tipping for Zero-day tokens for ...</td>\n",
       "      <td>0</td>\n",
       "    </tr>\n",
       "    <tr>\n",
       "      <th>4</th>\n",
       "      <td>From making sure they don't fall for phishing ...</td>\n",
       "      <td>0</td>\n",
       "    </tr>\n",
       "  </tbody>\n",
       "</table>\n",
       "</div>"
      ],
      "text/plain": [
       "                                                text  label\n",
       "0  Samsung Galaxy Tab Active Pro review: Rugged, ...      0\n",
       "1  Malware on Target - Pages 4 and 5 #fnaf  See a...      0\n",
       "2  A curated list of amazingly awesome OSINT: htt...      0\n",
       "3  Thank you for tipping for Zero-day tokens for ...      0\n",
       "4  From making sure they don't fall for phishing ...      0"
      ]
     },
     "execution_count": 17,
     "metadata": {},
     "output_type": "execute_result"
    }
   ],
   "source": [
    "non_cyber_labeled.head()"
   ]
  },
  {
   "cell_type": "code",
   "execution_count": 18,
   "id": "8987bd6f",
   "metadata": {},
   "outputs": [
    {
     "data": {
      "text/plain": [
       "1"
      ]
     },
     "execution_count": 18,
     "metadata": {},
     "output_type": "execute_result"
    }
   ],
   "source": [
    "len(non_cyber_labeled.label.unique())"
   ]
  },
  {
   "cell_type": "code",
   "execution_count": 19,
   "id": "f1bc49af",
   "metadata": {},
   "outputs": [
    {
     "name": "stdout",
     "output_type": "stream",
     "text": [
      "0    200000\n",
      "Name: label, dtype: int64\n"
     ]
    }
   ],
   "source": [
    "#check the distribution of labels \n",
    "print(non_cyber_labeled['label'].value_counts())"
   ]
  },
  {
   "cell_type": "markdown",
   "id": "a9610ff7",
   "metadata": {},
   "source": [
    "### concanet the data frame => cyber_labeled + non_cyber_labeled = data\n"
   ]
  },
  {
   "cell_type": "code",
   "execution_count": 20,
   "id": "a297c7a9",
   "metadata": {},
   "outputs": [
    {
     "name": "stdout",
     "output_type": "stream",
     "text": [
      "(400000, 2)\n"
     ]
    },
    {
     "data": {
      "text/html": [
       "<div>\n",
       "<style scoped>\n",
       "    .dataframe tbody tr th:only-of-type {\n",
       "        vertical-align: middle;\n",
       "    }\n",
       "\n",
       "    .dataframe tbody tr th {\n",
       "        vertical-align: top;\n",
       "    }\n",
       "\n",
       "    .dataframe thead th {\n",
       "        text-align: right;\n",
       "    }\n",
       "</style>\n",
       "<table border=\"1\" class=\"dataframe\">\n",
       "  <thead>\n",
       "    <tr style=\"text-align: right;\">\n",
       "      <th></th>\n",
       "      <th>text</th>\n",
       "      <th>label</th>\n",
       "    </tr>\n",
       "  </thead>\n",
       "  <tbody>\n",
       "    <tr>\n",
       "      <th>0</th>\n",
       "      <td>#AI Robo-Advisers and the Future of Financial ...</td>\n",
       "      <td>1</td>\n",
       "    </tr>\n",
       "    <tr>\n",
       "      <th>1</th>\n",
       "      <td>Hackers causing havoc on Mexican banking syste...</td>\n",
       "      <td>1</td>\n",
       "    </tr>\n",
       "    <tr>\n",
       "      <th>2</th>\n",
       "      <td>CVE-2019-13127 An issue was discovered in mxGr...</td>\n",
       "      <td>1</td>\n",
       "    </tr>\n",
       "    <tr>\n",
       "      <th>3</th>\n",
       "      <td>How to protect your online identity #labourcyb...</td>\n",
       "      <td>1</td>\n",
       "    </tr>\n",
       "    <tr>\n",
       "      <th>4</th>\n",
       "      <td>Forensic Acquisition - Shadow Cyber Sec  https...</td>\n",
       "      <td>1</td>\n",
       "    </tr>\n",
       "  </tbody>\n",
       "</table>\n",
       "</div>"
      ],
      "text/plain": [
       "                                                text  label\n",
       "0  #AI Robo-Advisers and the Future of Financial ...      1\n",
       "1  Hackers causing havoc on Mexican banking syste...      1\n",
       "2  CVE-2019-13127 An issue was discovered in mxGr...      1\n",
       "3  How to protect your online identity #labourcyb...      1\n",
       "4  Forensic Acquisition - Shadow Cyber Sec  https...      1"
      ]
     },
     "execution_count": 20,
     "metadata": {},
     "output_type": "execute_result"
    }
   ],
   "source": [
    "# concatenating df1 and df2 along rows\n",
    "data = pd.concat([cyber_labeled, non_cyber_labeled], axis=0, ignore_index=True)\n",
    "print(data.shape)\n",
    "data.head()"
   ]
  },
  {
   "cell_type": "code",
   "execution_count": 21,
   "id": "b5d6c06d",
   "metadata": {},
   "outputs": [
    {
     "name": "stdout",
     "output_type": "stream",
     "text": [
      "1    200000\n",
      "0    200000\n",
      "Name: label, dtype: int64\n"
     ]
    }
   ],
   "source": [
    "#check the distribution of labels \n",
    "print(data['label'].value_counts())"
   ]
  },
  {
   "cell_type": "code",
   "execution_count": 22,
   "id": "8bb31846",
   "metadata": {
    "scrolled": true
   },
   "outputs": [
    {
     "data": {
      "text/plain": [
       "2"
      ]
     },
     "execution_count": 22,
     "metadata": {},
     "output_type": "execute_result"
    }
   ],
   "source": [
    "len(data.label.unique())"
   ]
  },
  {
   "cell_type": "code",
   "execution_count": 23,
   "id": "0fc37a3b",
   "metadata": {},
   "outputs": [
    {
     "data": {
      "text/plain": [
       "0    #AI Robo-Advisers and the Future of Financial ...\n",
       "1    Hackers causing havoc on Mexican banking syste...\n",
       "2    CVE-2019-13127 An issue was discovered in mxGr...\n",
       "3    How to protect your online identity #labourcyb...\n",
       "4    Forensic Acquisition - Shadow Cyber Sec  https...\n",
       "Name: text, dtype: object"
      ]
     },
     "execution_count": 23,
     "metadata": {},
     "output_type": "execute_result"
    }
   ],
   "source": [
    "data[\"text\"].head()"
   ]
  },
  {
   "cell_type": "code",
   "execution_count": 24,
   "id": "49a7aab3",
   "metadata": {},
   "outputs": [],
   "source": [
    "from nltk.stem.porter import PorterStemmer\n",
    "ps = PorterStemmer()"
   ]
  },
  {
   "cell_type": "markdown",
   "id": "9dfec3a0",
   "metadata": {},
   "source": [
    "### it will take little time"
   ]
  },
  {
   "cell_type": "code",
   "execution_count": 25,
   "id": "432b9cfa",
   "metadata": {},
   "outputs": [],
   "source": [
    "#def preprocess_text(text: str) -> List[str]:\n",
    "    \n",
    "corpus = []\n",
    "for i in range(0, len(data)):\n",
    "    # Remove links\n",
    "    text = re.sub(r\"http\\S+\", \"\", data[\"text\"][i])\n",
    "    \n",
    "    # remove special chars and numbers\n",
    "    text = re.sub(\"[^A-Za-z]+\", \" \", text)\n",
    "    \n",
    "    text = text.lower()\n",
    "    text = re.sub(\n",
    "        f\"[{re.escape(string.punctuation)}]\", \"\", text\n",
    "    )\n",
    "    text_tokens = word_tokenize(text)\n",
    "    text_without_stopwords = [ps.stem(word) for word in text_tokens if word not in stop_words]\n",
    "    text_without_stopwords = ' '.join(text_without_stopwords)\n",
    "    corpus.append(text_without_stopwords)"
   ]
  },
  {
   "cell_type": "code",
   "execution_count": 26,
   "id": "194fe1e1",
   "metadata": {},
   "outputs": [
    {
     "data": {
      "text/plain": [
       "'ai robo advis futur financi advic dataprotect privaci infosec cybersecur bigdata ai'"
      ]
     },
     "execution_count": 26,
     "metadata": {},
     "output_type": "execute_result"
    }
   ],
   "source": [
    "corpus[0]"
   ]
  },
  {
   "cell_type": "code",
   "execution_count": 27,
   "id": "b62b95c6",
   "metadata": {},
   "outputs": [
    {
     "name": "stderr",
     "output_type": "stream",
     "text": [
      "2023-01-20 10:21:12.001306: I tensorflow/core/platform/cpu_feature_guard.cc:193] This TensorFlow binary is optimized with oneAPI Deep Neural Network Library (oneDNN) to use the following CPU instructions in performance-critical operations:  AVX2 FMA\n",
      "To enable them in other operations, rebuild TensorFlow with the appropriate compiler flags.\n",
      "2023-01-20 10:21:12.271519: W tensorflow/compiler/xla/stream_executor/platform/default/dso_loader.cc:64] Could not load dynamic library 'libcudart.so.11.0'; dlerror: libcudart.so.11.0: cannot open shared object file: No such file or directory\n",
      "2023-01-20 10:21:12.271558: I tensorflow/compiler/xla/stream_executor/cuda/cudart_stub.cc:29] Ignore above cudart dlerror if you do not have a GPU set up on your machine.\n",
      "2023-01-20 10:21:13.992915: W tensorflow/compiler/xla/stream_executor/platform/default/dso_loader.cc:64] Could not load dynamic library 'libnvinfer.so.7'; dlerror: libnvinfer.so.7: cannot open shared object file: No such file or directory\n",
      "2023-01-20 10:21:13.993096: W tensorflow/compiler/xla/stream_executor/platform/default/dso_loader.cc:64] Could not load dynamic library 'libnvinfer_plugin.so.7'; dlerror: libnvinfer_plugin.so.7: cannot open shared object file: No such file or directory\n",
      "2023-01-20 10:21:13.993120: W tensorflow/compiler/tf2tensorrt/utils/py_utils.cc:38] TF-TRT Warning: Cannot dlopen some TensorRT libraries. If you would like to use Nvidia GPU with TensorRT, please make sure the missing libraries mentioned above are installed properly.\n"
     ]
    }
   ],
   "source": [
    "import tensorflow as tf\n",
    "from tensorflow.keras.layers import Embedding\n",
    "from tensorflow.keras.preprocessing.sequence import pad_sequences\n",
    "from tensorflow.keras.models import Sequential\n",
    "from tensorflow.keras.preprocessing.text import one_hot\n",
    "from tensorflow.keras.layers import LSTM\n",
    "from tensorflow.keras.layers import Dense"
   ]
  },
  {
   "cell_type": "code",
   "execution_count": 28,
   "id": "4ab90612",
   "metadata": {},
   "outputs": [
    {
     "data": {
      "text/plain": [
       "'2.11.0'"
      ]
     },
     "execution_count": 28,
     "metadata": {},
     "output_type": "execute_result"
    }
   ],
   "source": [
    "tf.__version__\n"
   ]
  },
  {
   "cell_type": "code",
   "execution_count": 31,
   "id": "83aab631",
   "metadata": {},
   "outputs": [],
   "source": [
    "### Vocabulary size\n",
    "voc_size=500000"
   ]
  },
  {
   "cell_type": "code",
   "execution_count": 32,
   "id": "bef59b13",
   "metadata": {},
   "outputs": [
    {
     "data": {
      "text/plain": [
       "[36537,\n",
       " 355046,\n",
       " 456156,\n",
       " 445267,\n",
       " 94780,\n",
       " 479193,\n",
       " 170645,\n",
       " 175866,\n",
       " 430210,\n",
       " 25193,\n",
       " 481142,\n",
       " 36537]"
      ]
     },
     "execution_count": 32,
     "metadata": {},
     "output_type": "execute_result"
    }
   ],
   "source": [
    "onehot_repr=[one_hot(words,voc_size)for words in corpus] \n",
    "onehot_repr[0]"
   ]
  },
  {
   "cell_type": "markdown",
   "id": "e2a96b9f",
   "metadata": {},
   "source": [
    "Embedding Representation"
   ]
  },
  {
   "cell_type": "code",
   "execution_count": 35,
   "id": "54b74c57",
   "metadata": {},
   "outputs": [
    {
     "data": {
      "text/plain": [
       "array([[     0,      0,      0, ...,  25193, 481142,  36537],\n",
       "       [     0,      0,      0, ..., 112067, 211862,  25193],\n",
       "       [     0,      0, 361657, ..., 307947, 395268, 327189],\n",
       "       ...,\n",
       "       [     0,      0,      0, ..., 321665, 107510, 378786],\n",
       "       [     0,      0,      0, ..., 263481, 476324,  53286],\n",
       "       [     0,      0, 127090, ...,  95187, 427182, 327446]], dtype=int32)"
      ]
     },
     "execution_count": 35,
     "metadata": {},
     "output_type": "execute_result"
    }
   ],
   "source": [
    "sent_length=20\n",
    "embedded_docs=pad_sequences(onehot_repr,padding='pre',maxlen=sent_length)\n",
    "embedded_docs"
   ]
  },
  {
   "cell_type": "code",
   "execution_count": 36,
   "id": "2c1f27b2",
   "metadata": {},
   "outputs": [
    {
     "data": {
      "text/plain": [
       "array([     0,      0,      0,      0,      0,      0,      0,      0,\n",
       "        36537, 355046, 456156, 445267,  94780, 479193, 170645, 175866,\n",
       "       430210,  25193, 481142,  36537], dtype=int32)"
      ]
     },
     "execution_count": 36,
     "metadata": {},
     "output_type": "execute_result"
    }
   ],
   "source": [
    "embedded_docs[0]"
   ]
  },
  {
   "cell_type": "markdown",
   "id": "15990524",
   "metadata": {},
   "source": [
    "## Creating model"
   ]
  },
  {
   "cell_type": "code",
   "execution_count": 37,
   "id": "612aa594",
   "metadata": {},
   "outputs": [
    {
     "name": "stderr",
     "output_type": "stream",
     "text": [
      "2023-01-20 10:23:07.313440: W tensorflow/compiler/xla/stream_executor/platform/default/dso_loader.cc:64] Could not load dynamic library 'libcuda.so.1'; dlerror: libcuda.so.1: cannot open shared object file: No such file or directory\n",
      "2023-01-20 10:23:07.313530: W tensorflow/compiler/xla/stream_executor/cuda/cuda_driver.cc:265] failed call to cuInit: UNKNOWN ERROR (303)\n",
      "2023-01-20 10:23:07.313611: I tensorflow/compiler/xla/stream_executor/cuda/cuda_diagnostics.cc:156] kernel driver does not appear to be running on this host (GaribaITServices): /proc/driver/nvidia/version does not exist\n",
      "2023-01-20 10:23:07.314467: I tensorflow/core/platform/cpu_feature_guard.cc:193] This TensorFlow binary is optimized with oneAPI Deep Neural Network Library (oneDNN) to use the following CPU instructions in performance-critical operations:  AVX2 FMA\n",
      "To enable them in other operations, rebuild TensorFlow with the appropriate compiler flags.\n"
     ]
    },
    {
     "name": "stdout",
     "output_type": "stream",
     "text": [
      "Model: \"sequential\"\n",
      "_________________________________________________________________\n",
      " Layer (type)                Output Shape              Param #   \n",
      "=================================================================\n",
      " embedding (Embedding)       (None, 20, 40)            20000000  \n",
      "                                                                 \n",
      " lstm (LSTM)                 (None, 100)               56400     \n",
      "                                                                 \n",
      " dense (Dense)               (None, 1)                 101       \n",
      "                                                                 \n",
      "=================================================================\n",
      "Total params: 20,056,501\n",
      "Trainable params: 20,056,501\n",
      "Non-trainable params: 0\n",
      "_________________________________________________________________\n",
      "None\n"
     ]
    }
   ],
   "source": [
    "embedding_vector_features=40\n",
    "model=Sequential()\n",
    "model.add(Embedding(voc_size,embedding_vector_features,input_length=sent_length))\n",
    "model.add(LSTM(100))\n",
    "model.add(Dense(1,activation='sigmoid'))\n",
    "model.compile(loss='binary_crossentropy',optimizer='adam',metrics=['accuracy'])\n",
    "print(model.summary())"
   ]
  },
  {
   "cell_type": "code",
   "execution_count": 38,
   "id": "9e4ec26a",
   "metadata": {},
   "outputs": [
    {
     "data": {
      "text/plain": [
       "(400000, (400000,))"
      ]
     },
     "execution_count": 38,
     "metadata": {},
     "output_type": "execute_result"
    }
   ],
   "source": [
    "len(embedded_docs),data['label'].shape"
   ]
  },
  {
   "cell_type": "code",
   "execution_count": 39,
   "id": "8d84cd3f",
   "metadata": {},
   "outputs": [],
   "source": [
    "X = np.array(embedded_docs)\n",
    "y = np.array(data['label'])"
   ]
  },
  {
   "cell_type": "code",
   "execution_count": 40,
   "id": "109148f6",
   "metadata": {},
   "outputs": [
    {
     "data": {
      "text/plain": [
       "((400000, 20), (400000,))"
      ]
     },
     "execution_count": 40,
     "metadata": {},
     "output_type": "execute_result"
    }
   ],
   "source": [
    "X.shape, y.shape"
   ]
  },
  {
   "cell_type": "code",
   "execution_count": 41,
   "id": "f82518f9",
   "metadata": {},
   "outputs": [],
   "source": [
    "from sklearn.model_selection import train_test_split\n",
    "X_train, X_test, y_train, y_test = train_test_split(X, y, test_size=0.20, random_state=42)"
   ]
  },
  {
   "cell_type": "code",
   "execution_count": 42,
   "id": "a68f1b5b",
   "metadata": {},
   "outputs": [
    {
     "name": "stdout",
     "output_type": "stream",
     "text": [
      "Epoch 1/10\n",
      "5000/5000 [==============================] - 2425s 484ms/step - loss: 0.0780 - accuracy: 0.9737 - val_loss: 0.0535 - val_accuracy: 0.9813\n",
      "Epoch 2/10\n",
      "5000/5000 [==============================] - 2601s 520ms/step - loss: 0.0352 - accuracy: 0.9884 - val_loss: 0.0552 - val_accuracy: 0.9818\n",
      "Epoch 3/10\n",
      "5000/5000 [==============================] - 2449s 490ms/step - loss: 0.0201 - accuracy: 0.9936 - val_loss: 0.0649 - val_accuracy: 0.9812\n",
      "Epoch 4/10\n",
      "5000/5000 [==============================] - 2471s 494ms/step - loss: 0.0121 - accuracy: 0.9962 - val_loss: 0.0732 - val_accuracy: 0.9814\n",
      "Epoch 5/10\n",
      "5000/5000 [==============================] - 2365s 473ms/step - loss: 0.0075 - accuracy: 0.9976 - val_loss: 0.0923 - val_accuracy: 0.9794\n",
      "Epoch 6/10\n",
      "5000/5000 [==============================] - 2468s 494ms/step - loss: 0.0051 - accuracy: 0.9983 - val_loss: 0.0961 - val_accuracy: 0.9819\n",
      "Epoch 7/10\n",
      "5000/5000 [==============================] - 2477s 495ms/step - loss: 0.0038 - accuracy: 0.9988 - val_loss: 0.0989 - val_accuracy: 0.9794\n",
      "Epoch 8/10\n",
      "5000/5000 [==============================] - 2648s 530ms/step - loss: 0.0028 - accuracy: 0.9992 - val_loss: 0.1084 - val_accuracy: 0.9797\n",
      "Epoch 9/10\n",
      "5000/5000 [==============================] - 2729s 546ms/step - loss: 0.0021 - accuracy: 0.9994 - val_loss: 0.1279 - val_accuracy: 0.9787\n",
      "Epoch 10/10\n",
      "5000/5000 [==============================] - 2558s 512ms/step - loss: 0.0020 - accuracy: 0.9994 - val_loss: 0.1271 - val_accuracy: 0.9781\n"
     ]
    }
   ],
   "source": [
    "### Finally Training\n",
    "history = model.fit(X_train,y_train,validation_data=(X_test,y_test),epochs=10,batch_size=64)"
   ]
  },
  {
   "cell_type": "markdown",
   "id": "672c2150",
   "metadata": {},
   "source": [
    "### Performance Metrics And Accuracy"
   ]
  },
  {
   "cell_type": "code",
   "execution_count": 43,
   "id": "ed0f7cf4",
   "metadata": {},
   "outputs": [
    {
     "name": "stdout",
     "output_type": "stream",
     "text": [
      "2500/2500 [==============================] - 37s 14ms/step\n"
     ]
    },
    {
     "data": {
      "text/plain": [
       "array([[1.0000000e+00],\n",
       "       [1.0000000e+00],\n",
       "       [9.9930227e-01],\n",
       "       ...,\n",
       "       [1.3556608e-07],\n",
       "       [3.7779388e-05],\n",
       "       [1.0000000e+00]], dtype=float32)"
      ]
     },
     "execution_count": 43,
     "metadata": {},
     "output_type": "execute_result"
    }
   ],
   "source": [
    "y_pre=model.predict(X_test)\n",
    "y_pre"
   ]
  },
  {
   "cell_type": "code",
   "execution_count": 44,
   "id": "1c3335d9",
   "metadata": {},
   "outputs": [
    {
     "data": {
      "text/plain": [
       "(80000, array([1.], dtype=float32))"
      ]
     },
     "execution_count": 44,
     "metadata": {},
     "output_type": "execute_result"
    }
   ],
   "source": [
    "len(y_pre), y_pre[0]"
   ]
  },
  {
   "cell_type": "code",
   "execution_count": 45,
   "id": "6dd119bf",
   "metadata": {},
   "outputs": [],
   "source": [
    "y_pred = np.round(abs(y_pre))"
   ]
  },
  {
   "cell_type": "code",
   "execution_count": 46,
   "id": "58889a05",
   "metadata": {},
   "outputs": [],
   "source": [
    "from sklearn.metrics import classification_report\n",
    "from sklearn.metrics import confusion_matrix\n",
    "from sklearn.metrics import accuracy_score\n",
    "from matplotlib import pyplot as plt\n",
    "import seaborn as sn\n",
    "import pickle\n"
   ]
  },
  {
   "cell_type": "code",
   "execution_count": 47,
   "id": "65b04e40",
   "metadata": {},
   "outputs": [
    {
     "data": {
      "text/plain": [
       "array([[38980,   969],\n",
       "       [  784, 39267]])"
      ]
     },
     "execution_count": 47,
     "metadata": {},
     "output_type": "execute_result"
    }
   ],
   "source": [
    "confusion_matrix(y_test, y_pred)"
   ]
  },
  {
   "cell_type": "code",
   "execution_count": 48,
   "id": "743fbcf4",
   "metadata": {},
   "outputs": [
    {
     "data": {
      "text/plain": [
       "0.9780875"
      ]
     },
     "execution_count": 48,
     "metadata": {},
     "output_type": "execute_result"
    }
   ],
   "source": [
    "accuracy_score(y_test,y_pred)"
   ]
  },
  {
   "cell_type": "code",
   "execution_count": 49,
   "id": "5e8f354c",
   "metadata": {},
   "outputs": [
    {
     "name": "stdout",
     "output_type": "stream",
     "text": [
      "              precision    recall  f1-score   support\n",
      "\n",
      "           0       0.98      0.98      0.98     39949\n",
      "           1       0.98      0.98      0.98     40051\n",
      "\n",
      "    accuracy                           0.98     80000\n",
      "   macro avg       0.98      0.98      0.98     80000\n",
      "weighted avg       0.98      0.98      0.98     80000\n",
      "\n"
     ]
    }
   ],
   "source": [
    "print(classification_report(y_test, y_pred))"
   ]
  },
  {
   "cell_type": "code",
   "execution_count": 55,
   "id": "f0eb54a1",
   "metadata": {
    "scrolled": true
   },
   "outputs": [
    {
     "data": {
      "text/plain": [
       "Text(33.22222222222222, 0.5, 'Truth')"
      ]
     },
     "execution_count": 55,
     "metadata": {},
     "output_type": "execute_result"
    },
    {
     "data": {
      "image/png": "[encoded data removed]",
      "text/plain": [
       "<Figure size 500x500 with 2 Axes>"
      ]
     },
     "metadata": {},
     "output_type": "display_data"
    }
   ],
   "source": [
    "con_m = confusion_matrix(y_test, y_pred)\n",
    "con_m\n",
    "\n",
    "plt.figure(figsize = (5,5))\n",
    "sn.heatmap(con_m, annot=True, fmt='d')\n",
    "plt.xlabel('Prediction')\n",
    "plt.ylabel('Truth')"
   ]
  },
  {
   "cell_type": "markdown",
   "id": "07c7393f",
   "metadata": {},
   "source": [
    "### Plotting accuracy in matplotlib :"
   ]
  },
  {
   "cell_type": "code",
   "execution_count": 51,
   "id": "6048baae",
   "metadata": {},
   "outputs": [
    {
     "data": {
      "image/png": "[encoded data removed]",
      "text/plain": [
       "<Figure size 640x480 with 1 Axes>"
      ]
     },
     "metadata": {},
     "output_type": "display_data"
    }
   ],
   "source": [
    "plt.plot(history.history[\"accuracy\"], label=\"training accuracy\")\n",
    "plt.plot(history.history[\"val_accuracy\"], label=\"validation accuracy\")\n",
    "plt.legend()\n",
    "plt.show()"
   ]
  },
  {
   "cell_type": "markdown",
   "id": "0211eac7",
   "metadata": {},
   "source": [
    "### Plotting loss in matplotlib :"
   ]
  },
  {
   "cell_type": "code",
   "execution_count": 52,
   "id": "24ccc9ef",
   "metadata": {},
   "outputs": [
    {
     "data": {
      "image/png": "[encoded data removed]",
      "text/plain": [
       "<Figure size 640x480 with 1 Axes>"
      ]
     },
     "metadata": {},
     "output_type": "display_data"
    }
   ],
   "source": [
    "plt.plot(history.history[\"loss\"], label=\"training loss\")\n",
    "plt.plot(history.history[\"val_loss\"], label=\"validation loss\")\n",
    "plt.legend()\n",
    "plt.show()"
   ]
  },
  {
   "cell_type": "code",
   "execution_count": 53,
   "id": "dc047410",
   "metadata": {},
   "outputs": [
    {
     "name": "stdout",
     "output_type": "stream",
     "text": [
      "Keras weights file (<HDF5 file \"variables.h5\" (mode r+)>) saving:\n",
      "...layers\n",
      "......dense\n",
      ".........vars\n",
      "............0\n",
      "............1\n",
      "......embedding\n",
      ".........vars\n",
      "............0\n",
      "......lstm\n",
      ".........cell\n",
      "............vars\n",
      "...............0\n",
      "...............1\n",
      "...............2\n",
      ".........vars\n",
      "...metrics\n",
      "......mean\n",
      ".........vars\n",
      "............0\n",
      "............1\n",
      "......mean_metric_wrapper\n",
      ".........vars\n",
      "............0\n",
      "............1\n",
      "...optimizer\n",
      "......vars\n",
      ".........0\n",
      ".........1\n",
      ".........10\n",
      ".........11\n",
      ".........12\n",
      ".........2\n",
      ".........3\n",
      ".........4\n",
      ".........5\n",
      ".........6\n",
      ".........7\n",
      ".........8\n",
      ".........9\n",
      "...vars\n",
      "Keras model archive saving:\n",
      "File Name                                             Modified             Size\n",
      "config.json                                    2023-01-20 17:24:14         2201\n",
      "metadata.json                                  2023-01-20 17:24:14           64\n",
      "variables.h5                                   2023-01-20 17:24:14    240703424\n"
     ]
    }
   ],
   "source": [
    "with open('LSTM_v2.pkl', 'wb') as files:\n",
    "    pickle.dump(model, files)"
   ]
  },
  {
   "cell_type": "code",
   "execution_count": null,
   "id": "b782fdd7",
   "metadata": {},
   "outputs": [],
   "source": [
    "#pip install mlxtend"
   ]
  },
  {
   "cell_type": "code",
   "execution_count": null,
   "id": "fbee09cd",
   "metadata": {},
   "outputs": [],
   "source": [
    "from mlxtend.plotting import plot_decision_regions\n",
    "\n",
    "plot_decision_regions(X_train, y_train, model, legend=2)\n",
    "\n",
    "# Adding axes annotations\n",
    "plt.xlabel('It is a cyber crime')\n",
    "plt.ylabel('It is not a cyber crime')\n",
    "plt.title('Logistics on crime-data')\n",
    "plt.show()"
   ]
  },
  {
   "cell_type": "code",
   "execution_count": null,
   "id": "0124639b",
   "metadata": {},
   "outputs": [],
   "source": [
    "value=1.5\n",
    "width=0.75\n",
    "plot_decision_regions(X_train, y_train, clf=model,\n",
    "              feature_index=[0,2],                        #these one will be plotted  \n",
    "              filler_feature_values={1: value, 3:value},  #these will be ignored\n",
    "              filler_feature_ranges={1: width, 3: width})\n",
    "\n",
    "plt.show()"
   ]
  },
  {
   "cell_type": "code",
   "execution_count": null,
   "id": "c00b07fc",
   "metadata": {},
   "outputs": [],
   "source": [
    "# pip install scikit-plot"
   ]
  },
  {
   "cell_type": "code",
   "execution_count": null,
   "id": "2fbe4631",
   "metadata": {},
   "outputs": [],
   "source": [
    "import scikitplot as skplt\n",
    "#y_true = # ground truth labels\n",
    "#y_probas = # predicted probabilities generated by sklearn classifier\n",
    "skplt.metrics.plot_roc(y_test, y_pre)\n",
    "plt.show()"
   ]
  },
  {
   "cell_type": "markdown",
   "id": "fef8fe21",
   "metadata": {},
   "source": [
    "### Test for unseen dataset"
   ]
  },
  {
   "cell_type": "code",
   "execution_count": null,
   "id": "d102c1bb",
   "metadata": {},
   "outputs": [],
   "source": [
    "text_dt = data['text'][300000:300006]\n",
    "text_dt[300004]"
   ]
  },
  {
   "cell_type": "code",
   "execution_count": null,
   "id": "08de41d7",
   "metadata": {},
   "outputs": [],
   "source": [
    "\n",
    "def preprocessAndEncode(text):\n",
    "    corpus1 = []\n",
    "    text = re.sub(r\"http\\S+\", \"\", text)\n",
    "    # remove special chars and numbers\n",
    "    text = re.sub(\"[^A-Za-z]+\", \" \", text)\n",
    "\n",
    "    text = text.lower()\n",
    "    text = re.sub(\n",
    "        f\"[{re.escape(string.punctuation)}]\", \"\", text\n",
    "    )\n",
    "    text_tokens = word_tokenize(text)\n",
    "    text_without_stopwords = [ps.stem(word) for word in text_tokens if word not in stop_words]\n",
    "    text_without_stopwords = ' '.join(text_without_stopwords)\n",
    "    corpus1.append(text_without_stopwords)\n",
    "    onehot_test=[one_hot(words, 5000)for words in corpus1]\n",
    "    embedded_test=pad_sequences(onehot_test,padding='pre',maxlen=20)\n",
    "    return embedded_test\n",
    "    \n",
    "preprocessAndEncode(text_dt[300004])"
   ]
  },
  {
   "cell_type": "code",
   "execution_count": null,
   "id": "8aa991e4",
   "metadata": {
    "scrolled": true
   },
   "outputs": [],
   "source": [
    "def load_model():\n",
    "    #return pickle.load(MODELS_PATH)\n",
    "\n",
    "    # Open the file in binary mode\n",
    "    with open(\"LSTM.pkl\", 'rb') as file:\n",
    "      \n",
    "    # Call load method to deserialze\n",
    "        modl = pickle.load(file)\n",
    "        return modl\n",
    "\n",
    "LOADED_MODEL = load_model()"
   ]
  },
  {
   "cell_type": "code",
   "execution_count": null,
   "id": "e93f8e16",
   "metadata": {},
   "outputs": [],
   "source": [
    "test_df = preprocessAndEncode(text_dt[300004])"
   ]
  },
  {
   "cell_type": "code",
   "execution_count": null,
   "id": "86381b3c",
   "metadata": {},
   "outputs": [],
   "source": [
    "test_pred = LOADED_MODEL.predict(test_df)\n",
    "test_pred"
   ]
  },
  {
   "cell_type": "code",
   "execution_count": null,
   "id": "d56859cd",
   "metadata": {},
   "outputs": [],
   "source": [
    "round(test_pred[0][0],2)"
   ]
  },
  {
   "cell_type": "markdown",
   "id": "717c72eb",
   "metadata": {},
   "source": [
    "## Adding Dropout"
   ]
  },
  {
   "cell_type": "markdown",
   "id": "13d1f6e3",
   "metadata": {},
   "source": [
    "#### If our model is overfiting the we should add dropout layer with adjustable treshold for mitigate that problem"
   ]
  },
  {
   "cell_type": "code",
   "execution_count": null,
   "id": "f5659b45",
   "metadata": {},
   "outputs": [],
   "source": [
    "from tensorflow.keras.layers import Dropout\n",
    "## Creating model\n",
    "embedding_vector_features=40\n",
    "model=Sequential()\n",
    "model.add(Embedding(voc_size,embedding_vector_features,input_length=sent_length))\n",
    "model.add(Dropout(0.3))\n",
    "model.add(LSTM(100))\n",
    "model.add(Dropout(0.3))\n",
    "model.add(Dense(1,activation='sigmoid'))\n",
    "model.compile(loss='binary_crossentropy',optimizer='adam',metrics=['accuracy'])"
   ]
  }
 ],
 "metadata": {
  "kernelspec": {
   "display_name": "Python 3 (ipykernel)",
   "language": "python",
   "name": "python3"
  },
  "language_info": {
   "codemirror_mode": {
    "name": "ipython",
    "version": 3
   },
   "file_extension": ".py",
   "mimetype": "text/x-python",
   "name": "python",
   "nbconvert_exporter": "python",
   "pygments_lexer": "ipython3",
   "version": "3.10.6"
  }
 },
 "nbformat": 4,
 "nbformat_minor": 5
}
