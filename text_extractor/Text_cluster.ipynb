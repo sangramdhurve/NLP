{
 "cells": [
  {
   "cell_type": "code",
   "execution_count": 81,
   "id": "39b1ec91",
   "metadata": {
    "ExecuteTime": {
     "end_time": "2022-11-27T12:55:20.535847Z",
     "start_time": "2022-11-27T12:55:20.519590Z"
    }
   },
   "outputs": [
    {
     "name": "stderr",
     "output_type": "stream",
     "text": [
      "[nltk_data] Downloading package stopwords to\n",
      "[nltk_data]     C:\\Users\\Lenovo\\AppData\\Roaming\\nltk_data...\n",
      "[nltk_data]   Package stopwords is already up-to-date!\n",
      "[nltk_data] Downloading package punkt to\n",
      "[nltk_data]     C:\\Users\\Lenovo\\AppData\\Roaming\\nltk_data...\n",
      "[nltk_data]   Package punkt is already up-to-date!\n",
      "[nltk_data] Downloading package wordnet to\n",
      "[nltk_data]     C:\\Users\\Lenovo\\AppData\\Roaming\\nltk_data...\n",
      "[nltk_data]   Package wordnet is already up-to-date!\n"
     ]
    }
   ],
   "source": [
    "import pandas as pd\n",
    "import numpy as np\n",
    "from matplotlib import pyplot as plt\n",
    "import seaborn as sns\n",
    "\n",
    "import warnings\n",
    "warnings.filterwarnings('ignore')\n",
    "\n",
    "import nltk\n",
    "nltk.download('stopwords')\n",
    "nltk.download(['punkt', 'wordnet'])\n",
    "from nltk.corpus import stopwords\n",
    "from nltk.stem.wordnet import WordNetLemmatizer\n",
    "from nltk.tokenize import sent_tokenize\n",
    "import re"
   ]
  },
  {
   "cell_type": "code",
   "execution_count": 82,
   "id": "57364601",
   "metadata": {
    "ExecuteTime": {
     "end_time": "2022-11-27T12:55:20.582487Z",
     "start_time": "2022-11-27T12:55:20.540533Z"
    }
   },
   "outputs": [],
   "source": [
    "# Read a table of fixed-width formatted lines into DataFrame.\n",
    "df = pd.read_fwf('text_to_cluster.txt',header=None,names=['Text_data']) "
   ]
  },
  {
   "cell_type": "code",
   "execution_count": 83,
   "id": "3c57fa37",
   "metadata": {
    "ExecuteTime": {
     "end_time": "2022-11-27T12:55:20.612394Z",
     "start_time": "2022-11-27T12:55:20.587407Z"
    }
   },
   "outputs": [
    {
     "name": "stdout",
     "output_type": "stream",
     "text": [
      "                                             Text_data\n",
      "0    Ransomware attack at Mexico's Pemex halts work...\n",
      "1    #city | #ransomware | Ransomware Attack At Mex...\n",
      "2    Mexico's Pemex Oil Suffers Ransomware Attack, ...\n",
      "3    A Mexican oil company was hit by ransomware at...\n",
      "4                    Pemex Struck by Ransomware Attack\n",
      "..                                                 ...\n",
      "679             Detecting and Responding to Ransomware\n",
      "680   Emotet malware is back, more dangerous than ever\n",
      "681  Hosting provider SmarterASP.NET hit by ransomw...\n",
      "682  Ransomware as a Service (RaaS) – A Contemporar...\n",
      "683  Ransomware as a Service (RaaS) – A Contemporar...\n",
      "\n",
      "[684 rows x 1 columns]\n"
     ]
    }
   ],
   "source": [
    "print(df)"
   ]
  },
  {
   "cell_type": "code",
   "execution_count": 84,
   "id": "8ca66968",
   "metadata": {
    "ExecuteTime": {
     "end_time": "2022-11-27T12:55:20.643525Z",
     "start_time": "2022-11-27T12:55:20.616540Z"
    }
   },
   "outputs": [
    {
     "data": {
      "text/plain": [
       "'#city | #ransomware | Ransomware Attack At Mexico’s Pemex Halts Work, Threatens To Cripple Computers'"
      ]
     },
     "execution_count": 84,
     "metadata": {},
     "output_type": "execute_result"
    }
   ],
   "source": [
    "df['Text_data'][1]"
   ]
  },
  {
   "cell_type": "code",
   "execution_count": 85,
   "id": "572e14c5",
   "metadata": {
    "ExecuteTime": {
     "end_time": "2022-11-27T12:55:20.675050Z",
     "start_time": "2022-11-27T12:55:20.650454Z"
    }
   },
   "outputs": [],
   "source": [
    "df = pd.DataFrame(df)"
   ]
  },
  {
   "cell_type": "code",
   "execution_count": 86,
   "id": "ad23c74f",
   "metadata": {
    "ExecuteTime": {
     "end_time": "2022-11-27T12:55:20.706305Z",
     "start_time": "2022-11-27T12:55:20.677382Z"
    }
   },
   "outputs": [
    {
     "data": {
      "text/html": [
       "<div>\n",
       "<style scoped>\n",
       "    .dataframe tbody tr th:only-of-type {\n",
       "        vertical-align: middle;\n",
       "    }\n",
       "\n",
       "    .dataframe tbody tr th {\n",
       "        vertical-align: top;\n",
       "    }\n",
       "\n",
       "    .dataframe thead th {\n",
       "        text-align: right;\n",
       "    }\n",
       "</style>\n",
       "<table border=\"1\" class=\"dataframe\">\n",
       "  <thead>\n",
       "    <tr style=\"text-align: right;\">\n",
       "      <th></th>\n",
       "      <th>Text_data</th>\n",
       "    </tr>\n",
       "  </thead>\n",
       "  <tbody>\n",
       "    <tr>\n",
       "      <th>0</th>\n",
       "      <td>Ransomware attack at Mexico's Pemex halts work...</td>\n",
       "    </tr>\n",
       "    <tr>\n",
       "      <th>1</th>\n",
       "      <td>#city | #ransomware | Ransomware Attack At Mex...</td>\n",
       "    </tr>\n",
       "    <tr>\n",
       "      <th>2</th>\n",
       "      <td>Mexico's Pemex Oil Suffers Ransomware Attack, ...</td>\n",
       "    </tr>\n",
       "    <tr>\n",
       "      <th>3</th>\n",
       "      <td>A Mexican oil company was hit by ransomware at...</td>\n",
       "    </tr>\n",
       "    <tr>\n",
       "      <th>4</th>\n",
       "      <td>Pemex Struck by Ransomware Attack</td>\n",
       "    </tr>\n",
       "    <tr>\n",
       "      <th>...</th>\n",
       "      <td>...</td>\n",
       "    </tr>\n",
       "    <tr>\n",
       "      <th>679</th>\n",
       "      <td>Detecting and Responding to Ransomware</td>\n",
       "    </tr>\n",
       "    <tr>\n",
       "      <th>680</th>\n",
       "      <td>Emotet malware is back, more dangerous than ever</td>\n",
       "    </tr>\n",
       "    <tr>\n",
       "      <th>681</th>\n",
       "      <td>Hosting provider SmarterASP.NET hit by ransomw...</td>\n",
       "    </tr>\n",
       "    <tr>\n",
       "      <th>682</th>\n",
       "      <td>Ransomware as a Service (RaaS) – A Contemporar...</td>\n",
       "    </tr>\n",
       "    <tr>\n",
       "      <th>683</th>\n",
       "      <td>Ransomware as a Service (RaaS) – A Contemporar...</td>\n",
       "    </tr>\n",
       "  </tbody>\n",
       "</table>\n",
       "<p>684 rows × 1 columns</p>\n",
       "</div>"
      ],
      "text/plain": [
       "                                             Text_data\n",
       "0    Ransomware attack at Mexico's Pemex halts work...\n",
       "1    #city | #ransomware | Ransomware Attack At Mex...\n",
       "2    Mexico's Pemex Oil Suffers Ransomware Attack, ...\n",
       "3    A Mexican oil company was hit by ransomware at...\n",
       "4                    Pemex Struck by Ransomware Attack\n",
       "..                                                 ...\n",
       "679             Detecting and Responding to Ransomware\n",
       "680   Emotet malware is back, more dangerous than ever\n",
       "681  Hosting provider SmarterASP.NET hit by ransomw...\n",
       "682  Ransomware as a Service (RaaS) – A Contemporar...\n",
       "683  Ransomware as a Service (RaaS) – A Contemporar...\n",
       "\n",
       "[684 rows x 1 columns]"
      ]
     },
     "execution_count": 86,
     "metadata": {},
     "output_type": "execute_result"
    }
   ],
   "source": [
    "df"
   ]
  },
  {
   "cell_type": "code",
   "execution_count": 87,
   "id": "a65c1553",
   "metadata": {
    "ExecuteTime": {
     "end_time": "2022-11-27T12:55:20.722262Z",
     "start_time": "2022-11-27T12:55:20.708299Z"
    }
   },
   "outputs": [],
   "source": [
    "import nltk\n",
    "from nltk.corpus import stopwords"
   ]
  },
  {
   "cell_type": "code",
   "execution_count": 88,
   "id": "13f51be1",
   "metadata": {
    "ExecuteTime": {
     "end_time": "2022-11-27T12:55:20.753202Z",
     "start_time": "2022-11-27T12:55:20.726251Z"
    }
   },
   "outputs": [],
   "source": [
    "def preprocess_text(text: str, remove_stopwords: bool) -> str:\n",
    "    \"\"\"This utility function sanitizes a string by:\n",
    "    - removing links\n",
    "    - removing special characters\n",
    "    - removing numbers\n",
    "    - removing stopwords\n",
    "    - transforming in lowercase\n",
    "    - removing excessive whitespaces\n",
    "    Args:\n",
    "        text (str): the input text you want to clean\n",
    "        remove_stopwords (bool): whether or not to remove stopwords\n",
    "    Returns:\n",
    "        str: the cleaned text\n",
    "    \"\"\"\n",
    "\n",
    "    # Remove links\n",
    "    text = re.sub(r\"http\\S+\", \"\", text)\n",
    "    \n",
    "    # remove special chars and numbers\n",
    "    text = re.sub(\"[^A-Za-z]+\", \" \", text)\n",
    "    \n",
    "    # remove stopwords\n",
    "    if remove_stopwords:\n",
    "        # 1. tokenize\n",
    "        tokens = nltk.word_tokenize(text)\n",
    "        \n",
    "        # 2. check if stopword\n",
    "        tokens = [w for w in tokens if not w.lower() in stopwords.words(\"english\")]\n",
    "        \n",
    "        # 3. join back together\n",
    "        text = \" \".join(tokens)\n",
    "        \n",
    "    # return text in lower case and stripped of whitespaces\n",
    "    text = text.lower().strip()\n",
    "    return text\n"
   ]
  },
  {
   "cell_type": "code",
   "execution_count": 89,
   "id": "d402de94",
   "metadata": {
    "ExecuteTime": {
     "end_time": "2022-11-27T12:55:22.579466Z",
     "start_time": "2022-11-27T12:55:20.756171Z"
    },
    "scrolled": false
   },
   "outputs": [
    {
     "data": {
      "text/html": [
       "<div>\n",
       "<style scoped>\n",
       "    .dataframe tbody tr th:only-of-type {\n",
       "        vertical-align: middle;\n",
       "    }\n",
       "\n",
       "    .dataframe tbody tr th {\n",
       "        vertical-align: top;\n",
       "    }\n",
       "\n",
       "    .dataframe thead th {\n",
       "        text-align: right;\n",
       "    }\n",
       "</style>\n",
       "<table border=\"1\" class=\"dataframe\">\n",
       "  <thead>\n",
       "    <tr style=\"text-align: right;\">\n",
       "      <th></th>\n",
       "      <th>Text_data</th>\n",
       "      <th>Cleaned_Data</th>\n",
       "    </tr>\n",
       "  </thead>\n",
       "  <tbody>\n",
       "    <tr>\n",
       "      <th>0</th>\n",
       "      <td>Ransomware attack at Mexico's Pemex halts work...</td>\n",
       "      <td>ransomware attack mexico pemex halts work thre...</td>\n",
       "    </tr>\n",
       "    <tr>\n",
       "      <th>1</th>\n",
       "      <td>#city | #ransomware | Ransomware Attack At Mex...</td>\n",
       "      <td>city ransomware ransomware attack mexico pemex...</td>\n",
       "    </tr>\n",
       "    <tr>\n",
       "      <th>2</th>\n",
       "      <td>Mexico's Pemex Oil Suffers Ransomware Attack, ...</td>\n",
       "      <td>mexico pemex oil suffers ransomware attack mil...</td>\n",
       "    </tr>\n",
       "    <tr>\n",
       "      <th>3</th>\n",
       "      <td>A Mexican oil company was hit by ransomware at...</td>\n",
       "      <td>mexican oil company hit ransomware attack</td>\n",
       "    </tr>\n",
       "    <tr>\n",
       "      <th>4</th>\n",
       "      <td>Pemex Struck by Ransomware Attack</td>\n",
       "      <td>pemex struck ransomware attack</td>\n",
       "    </tr>\n",
       "    <tr>\n",
       "      <th>...</th>\n",
       "      <td>...</td>\n",
       "      <td>...</td>\n",
       "    </tr>\n",
       "    <tr>\n",
       "      <th>679</th>\n",
       "      <td>Detecting and Responding to Ransomware</td>\n",
       "      <td>detecting responding ransomware</td>\n",
       "    </tr>\n",
       "    <tr>\n",
       "      <th>680</th>\n",
       "      <td>Emotet malware is back, more dangerous than ever</td>\n",
       "      <td>emotet malware back dangerous ever</td>\n",
       "    </tr>\n",
       "    <tr>\n",
       "      <th>681</th>\n",
       "      <td>Hosting provider SmarterASP.NET hit by ransomw...</td>\n",
       "      <td>hosting provider smarterasp net hit ransomware...</td>\n",
       "    </tr>\n",
       "    <tr>\n",
       "      <th>682</th>\n",
       "      <td>Ransomware as a Service (RaaS) – A Contemporar...</td>\n",
       "      <td>ransomware service raas contemporary mal du si...</td>\n",
       "    </tr>\n",
       "    <tr>\n",
       "      <th>683</th>\n",
       "      <td>Ransomware as a Service (RaaS) – A Contemporar...</td>\n",
       "      <td>ransomware service raas contemporary mal du si...</td>\n",
       "    </tr>\n",
       "  </tbody>\n",
       "</table>\n",
       "<p>684 rows × 2 columns</p>\n",
       "</div>"
      ],
      "text/plain": [
       "                                             Text_data  \\\n",
       "0    Ransomware attack at Mexico's Pemex halts work...   \n",
       "1    #city | #ransomware | Ransomware Attack At Mex...   \n",
       "2    Mexico's Pemex Oil Suffers Ransomware Attack, ...   \n",
       "3    A Mexican oil company was hit by ransomware at...   \n",
       "4                    Pemex Struck by Ransomware Attack   \n",
       "..                                                 ...   \n",
       "679             Detecting and Responding to Ransomware   \n",
       "680   Emotet malware is back, more dangerous than ever   \n",
       "681  Hosting provider SmarterASP.NET hit by ransomw...   \n",
       "682  Ransomware as a Service (RaaS) – A Contemporar...   \n",
       "683  Ransomware as a Service (RaaS) – A Contemporar...   \n",
       "\n",
       "                                          Cleaned_Data  \n",
       "0    ransomware attack mexico pemex halts work thre...  \n",
       "1    city ransomware ransomware attack mexico pemex...  \n",
       "2    mexico pemex oil suffers ransomware attack mil...  \n",
       "3            mexican oil company hit ransomware attack  \n",
       "4                       pemex struck ransomware attack  \n",
       "..                                                 ...  \n",
       "679                    detecting responding ransomware  \n",
       "680                 emotet malware back dangerous ever  \n",
       "681  hosting provider smarterasp net hit ransomware...  \n",
       "682  ransomware service raas contemporary mal du si...  \n",
       "683  ransomware service raas contemporary mal du si...  \n",
       "\n",
       "[684 rows x 2 columns]"
      ]
     },
     "execution_count": 89,
     "metadata": {},
     "output_type": "execute_result"
    }
   ],
   "source": [
    "df['Cleaned_Data'] = df['Text_data'].apply(lambda x: preprocess_text(x, remove_stopwords=True))\n",
    "df"
   ]
  },
  {
   "cell_type": "markdown",
   "id": "69a5a3f7",
   "metadata": {},
   "source": [
    "Tf is “n” (natural) by default, “l” (logarithmic) when sublinear_tf=True.\n",
    "\n",
    "max_df and min_df is used for removing terms that appear too frequently\n",
    "\n",
    "min_df = 5 means \"ignore terms that appear in less than 5 documents\".\n",
    "\n",
    "max_df = 0.95 means \"ignore terms that appear in more than 95% of the documents\n"
   ]
  },
  {
   "cell_type": "code",
   "execution_count": 90,
   "id": "dba890e8",
   "metadata": {
    "ExecuteTime": {
     "end_time": "2022-11-27T12:55:22.625378Z",
     "start_time": "2022-11-27T12:55:22.581425Z"
    }
   },
   "outputs": [],
   "source": [
    "from sklearn.feature_extraction.text import TfidfVectorizer \n",
    "# initialize the vectorizer\n",
    "vectorizer = TfidfVectorizer(sublinear_tf=True, min_df=5, max_df=0.95)\n",
    "# fit_transform applies TF-IDF to clean texts - we save the array of vectors in X\n",
    "X = vectorizer.fit_transform(df['Cleaned_Data']).toarray()\n",
    "X = X.reshape(-1,1)"
   ]
  },
  {
   "cell_type": "code",
   "execution_count": 91,
   "id": "d8f45ac0",
   "metadata": {
    "ExecuteTime": {
     "end_time": "2022-11-27T12:55:22.640372Z",
     "start_time": "2022-11-27T12:55:22.627367Z"
    }
   },
   "outputs": [
    {
     "data": {
      "text/plain": [
       "array([[0.],\n",
       "       [0.],\n",
       "       [0.],\n",
       "       ...,\n",
       "       [0.],\n",
       "       [0.],\n",
       "       [0.]])"
      ]
     },
     "execution_count": 91,
     "metadata": {},
     "output_type": "execute_result"
    }
   ],
   "source": [
    "X"
   ]
  },
  {
   "cell_type": "code",
   "execution_count": 92,
   "id": "4e697c67",
   "metadata": {
    "ExecuteTime": {
     "end_time": "2022-11-27T12:55:39.531637Z",
     "start_time": "2022-11-27T12:55:22.642327Z"
    }
   },
   "outputs": [
    {
     "data": {
      "image/png": "[encoded data removed]",
      "text/plain": [
       "<Figure size 720x576 with 1 Axes>"
      ]
     },
     "metadata": {
      "needs_background": "light"
     },
     "output_type": "display_data"
    }
   ],
   "source": [
    "#finding optimal number of clusters using the elbow method  \n",
    "\n",
    "from sklearn.cluster import KMeans  \n",
    "fig = plt.figure(figsize=(10,8)) \n",
    "\n",
    "WCSS = []   # Initializing the list for the values of WCSS  \n",
    "  \n",
    "#Using for loop for iterations from 1 to 10.  \n",
    "for i in range(1, 11):  \n",
    "    clf = KMeans(n_clusters=i)\n",
    "    clf.fit(X)\n",
    "    WCSS.append(clf.inertia_) #inertia is another name for WCSS\n",
    "    \n",
    "plt.plot(range(1, 11), WCSS)  \n",
    "plt.title('The Elbow Method')  \n",
    "plt.ylabel('WCSS')\n",
    "plt.xlabel('Number Of Clusters') \n",
    "plt.show()  \n"
   ]
  },
  {
   "cell_type": "code",
   "execution_count": 94,
   "id": "bba8a3fe",
   "metadata": {
    "ExecuteTime": {
     "end_time": "2022-11-27T12:56:01.017285Z",
     "start_time": "2022-11-27T12:56:00.986380Z"
    }
   },
   "outputs": [],
   "source": [
    "from sklearn.feature_extraction.text import TfidfVectorizer \n",
    "# initialize the vectorizer\n",
    "tfidf = TfidfVectorizer(sublinear_tf=True, min_df=5, max_df=0.95)\n",
    "# fit_transform applies TF-IDF to clean texts - we save the array of vectors in X\n",
    "X = tfidf.fit_transform(df['Cleaned_Data'])"
   ]
  },
  {
   "cell_type": "code",
   "execution_count": 95,
   "id": "1cd013f3",
   "metadata": {
    "ExecuteTime": {
     "end_time": "2022-11-27T12:56:06.423703Z",
     "start_time": "2022-11-27T12:56:05.511675Z"
    }
   },
   "outputs": [],
   "source": [
    "\n",
    "from sklearn.cluster import KMeans\n",
    "\n",
    "# initialize kmeans with 2 centroids\n",
    "kmeans = KMeans(n_clusters=5, random_state=42)\n",
    "# fit the model\n",
    "kmeans.fit(X)\n",
    "# store cluster labels in a variable\n",
    "clusters = kmeans.labels_"
   ]
  },
  {
   "cell_type": "code",
   "execution_count": 96,
   "id": "2f16b4e1",
   "metadata": {
    "ExecuteTime": {
     "end_time": "2022-11-27T12:56:11.681295Z",
     "start_time": "2022-11-27T12:56:11.673317Z"
    }
   },
   "outputs": [
    {
     "data": {
      "text/plain": [
       "'city ransomware ransomware attack mexico pemex halts work threatens cripple computers'"
      ]
     },
     "execution_count": 96,
     "metadata": {},
     "output_type": "execute_result"
    }
   ],
   "source": [
    "df['Cleaned_Data'][1]"
   ]
  },
  {
   "cell_type": "code",
   "execution_count": 99,
   "id": "2eb00e09",
   "metadata": {
    "ExecuteTime": {
     "end_time": "2022-11-27T12:57:28.679372Z",
     "start_time": "2022-11-27T12:57:28.667841Z"
    }
   },
   "outputs": [
    {
     "data": {
      "text/plain": [
       "<bound method _BaseKMeans.predict of KMeans(n_clusters=5, random_state=42)>"
      ]
     },
     "execution_count": 99,
     "metadata": {},
     "output_type": "execute_result"
    }
   ],
   "source": [
    "kmeans.predict"
   ]
  },
  {
   "cell_type": "code",
   "execution_count": 100,
   "id": "dd17fa6f",
   "metadata": {
    "ExecuteTime": {
     "end_time": "2022-11-27T12:57:28.788260Z",
     "start_time": "2022-11-27T12:57:28.683292Z"
    }
   },
   "outputs": [],
   "source": [
    "from sklearn.decomposition import PCA\n",
    "\n",
    "# initialize PCA with 2 components\n",
    "pca = PCA(n_components=2, random_state=42)\n",
    "# pass our X to the pca and store the reduced vectors into pca_vecs\n",
    "pca_vecs = pca.fit_transform(X.toarray())\n",
    "# save our two dimensions into x0 and x1\n",
    "x0 = pca_vecs[:, 0]\n",
    "x1 = pca_vecs[:, 1]"
   ]
  },
  {
   "cell_type": "code",
   "execution_count": 102,
   "id": "b43c8422",
   "metadata": {
    "ExecuteTime": {
     "end_time": "2022-11-27T12:57:28.834627Z",
     "start_time": "2022-11-27T12:57:28.822460Z"
    }
   },
   "outputs": [],
   "source": [
    "# assign clusters and pca vectors to our dataframe \n",
    "df['Cluster'] = clusters\n",
    "df['x0'] = x0\n",
    "df['x1'] = x1"
   ]
  },
  {
   "cell_type": "code",
   "execution_count": 103,
   "id": "28daac9e",
   "metadata": {
    "ExecuteTime": {
     "end_time": "2022-11-27T12:57:28.865347Z",
     "start_time": "2022-11-27T12:57:28.837421Z"
    }
   },
   "outputs": [
    {
     "data": {
      "text/html": [
       "<div>\n",
       "<style scoped>\n",
       "    .dataframe tbody tr th:only-of-type {\n",
       "        vertical-align: middle;\n",
       "    }\n",
       "\n",
       "    .dataframe tbody tr th {\n",
       "        vertical-align: top;\n",
       "    }\n",
       "\n",
       "    .dataframe thead th {\n",
       "        text-align: right;\n",
       "    }\n",
       "</style>\n",
       "<table border=\"1\" class=\"dataframe\">\n",
       "  <thead>\n",
       "    <tr style=\"text-align: right;\">\n",
       "      <th></th>\n",
       "      <th>Text_data</th>\n",
       "      <th>Cleaned_Data</th>\n",
       "      <th>Cluster</th>\n",
       "      <th>x0</th>\n",
       "      <th>x1</th>\n",
       "    </tr>\n",
       "  </thead>\n",
       "  <tbody>\n",
       "    <tr>\n",
       "      <th>0</th>\n",
       "      <td>Ransomware attack at Mexico's Pemex halts work...</td>\n",
       "      <td>ransomware attack mexico pemex halts work thre...</td>\n",
       "      <td>2</td>\n",
       "      <td>-0.039890</td>\n",
       "      <td>-0.187519</td>\n",
       "    </tr>\n",
       "    <tr>\n",
       "      <th>1</th>\n",
       "      <td>#city | #ransomware | Ransomware Attack At Mex...</td>\n",
       "      <td>city ransomware ransomware attack mexico pemex...</td>\n",
       "      <td>2</td>\n",
       "      <td>-0.061704</td>\n",
       "      <td>-0.213003</td>\n",
       "    </tr>\n",
       "    <tr>\n",
       "      <th>2</th>\n",
       "      <td>Mexico's Pemex Oil Suffers Ransomware Attack, ...</td>\n",
       "      <td>mexico pemex oil suffers ransomware attack mil...</td>\n",
       "      <td>2</td>\n",
       "      <td>-0.029841</td>\n",
       "      <td>-0.216264</td>\n",
       "    </tr>\n",
       "    <tr>\n",
       "      <th>3</th>\n",
       "      <td>A Mexican oil company was hit by ransomware at...</td>\n",
       "      <td>mexican oil company hit ransomware attack</td>\n",
       "      <td>2</td>\n",
       "      <td>0.031500</td>\n",
       "      <td>-0.322368</td>\n",
       "    </tr>\n",
       "    <tr>\n",
       "      <th>4</th>\n",
       "      <td>Pemex Struck by Ransomware Attack</td>\n",
       "      <td>pemex struck ransomware attack</td>\n",
       "      <td>2</td>\n",
       "      <td>0.020250</td>\n",
       "      <td>-0.356376</td>\n",
       "    </tr>\n",
       "    <tr>\n",
       "      <th>...</th>\n",
       "      <td>...</td>\n",
       "      <td>...</td>\n",
       "      <td>...</td>\n",
       "      <td>...</td>\n",
       "      <td>...</td>\n",
       "    </tr>\n",
       "    <tr>\n",
       "      <th>679</th>\n",
       "      <td>Detecting and Responding to Ransomware</td>\n",
       "      <td>detecting responding ransomware</td>\n",
       "      <td>3</td>\n",
       "      <td>-0.221532</td>\n",
       "      <td>-0.410843</td>\n",
       "    </tr>\n",
       "    <tr>\n",
       "      <th>680</th>\n",
       "      <td>Emotet malware is back, more dangerous than ever</td>\n",
       "      <td>emotet malware back dangerous ever</td>\n",
       "      <td>1</td>\n",
       "      <td>-0.112642</td>\n",
       "      <td>0.056622</td>\n",
       "    </tr>\n",
       "    <tr>\n",
       "      <th>681</th>\n",
       "      <td>Hosting provider SmarterASP.NET hit by ransomw...</td>\n",
       "      <td>hosting provider smarterasp net hit ransomware...</td>\n",
       "      <td>3</td>\n",
       "      <td>0.026993</td>\n",
       "      <td>-0.407248</td>\n",
       "    </tr>\n",
       "    <tr>\n",
       "      <th>682</th>\n",
       "      <td>Ransomware as a Service (RaaS) – A Contemporar...</td>\n",
       "      <td>ransomware service raas contemporary mal du si...</td>\n",
       "      <td>3</td>\n",
       "      <td>-0.096037</td>\n",
       "      <td>-0.057378</td>\n",
       "    </tr>\n",
       "    <tr>\n",
       "      <th>683</th>\n",
       "      <td>Ransomware as a Service (RaaS) – A Contemporar...</td>\n",
       "      <td>ransomware service raas contemporary mal du si...</td>\n",
       "      <td>3</td>\n",
       "      <td>-0.096037</td>\n",
       "      <td>-0.057378</td>\n",
       "    </tr>\n",
       "  </tbody>\n",
       "</table>\n",
       "<p>684 rows × 5 columns</p>\n",
       "</div>"
      ],
      "text/plain": [
       "                                             Text_data  \\\n",
       "0    Ransomware attack at Mexico's Pemex halts work...   \n",
       "1    #city | #ransomware | Ransomware Attack At Mex...   \n",
       "2    Mexico's Pemex Oil Suffers Ransomware Attack, ...   \n",
       "3    A Mexican oil company was hit by ransomware at...   \n",
       "4                    Pemex Struck by Ransomware Attack   \n",
       "..                                                 ...   \n",
       "679             Detecting and Responding to Ransomware   \n",
       "680   Emotet malware is back, more dangerous than ever   \n",
       "681  Hosting provider SmarterASP.NET hit by ransomw...   \n",
       "682  Ransomware as a Service (RaaS) – A Contemporar...   \n",
       "683  Ransomware as a Service (RaaS) – A Contemporar...   \n",
       "\n",
       "                                          Cleaned_Data  Cluster        x0  \\\n",
       "0    ransomware attack mexico pemex halts work thre...        2 -0.039890   \n",
       "1    city ransomware ransomware attack mexico pemex...        2 -0.061704   \n",
       "2    mexico pemex oil suffers ransomware attack mil...        2 -0.029841   \n",
       "3            mexican oil company hit ransomware attack        2  0.031500   \n",
       "4                       pemex struck ransomware attack        2  0.020250   \n",
       "..                                                 ...      ...       ...   \n",
       "679                    detecting responding ransomware        3 -0.221532   \n",
       "680                 emotet malware back dangerous ever        1 -0.112642   \n",
       "681  hosting provider smarterasp net hit ransomware...        3  0.026993   \n",
       "682  ransomware service raas contemporary mal du si...        3 -0.096037   \n",
       "683  ransomware service raas contemporary mal du si...        3 -0.096037   \n",
       "\n",
       "           x1  \n",
       "0   -0.187519  \n",
       "1   -0.213003  \n",
       "2   -0.216264  \n",
       "3   -0.322368  \n",
       "4   -0.356376  \n",
       "..        ...  \n",
       "679 -0.410843  \n",
       "680  0.056622  \n",
       "681 -0.407248  \n",
       "682 -0.057378  \n",
       "683 -0.057378  \n",
       "\n",
       "[684 rows x 5 columns]"
      ]
     },
     "execution_count": 103,
     "metadata": {},
     "output_type": "execute_result"
    }
   ],
   "source": [
    "df"
   ]
  },
  {
   "cell_type": "code",
   "execution_count": 104,
   "id": "bd37653b",
   "metadata": {
    "ExecuteTime": {
     "end_time": "2022-11-27T12:57:28.912663Z",
     "start_time": "2022-11-27T12:57:28.869373Z"
    }
   },
   "outputs": [
    {
     "name": "stdout",
     "output_type": "stream",
     "text": [
      "\n",
      "Cluster 0\n",
      "social,another,one,capital,chief,facebook,business,purcellville,data,breach\n",
      "\n",
      "Cluster 1\n",
      "threat,bluekeep,emotet,users,cybersecurity,cve,security,attacks,phishing,malware\n",
      "\n",
      "Cluster 2\n",
      "hit,state,mexico,mass,mexican,oil,ransomware,ddos,pemex,attack\n",
      "\n",
      "Cluster 3\n",
      "attack,windows,buran,service,provider,hosting,smarterasp,new,net,ransomware\n",
      "\n",
      "Cluster 4\n",
      "election,hit,sophisticated,uk,large,scale,attack,cyber,party,labour\n"
     ]
    }
   ],
   "source": [
    "def get_top_keywords(n_terms):\n",
    "    \"\"\"This function returns the keywords for each centroid of the KMeans\"\"\"\n",
    "    df = pd.DataFrame(X.todense()).groupby(clusters).mean() # groups the TF-IDF vector by cluster\n",
    "    terms = vectorizer.get_feature_names_out() # access tf-idf terms\n",
    "    for i,r in df.iterrows():\n",
    "        print('\\nCluster {}'.format(i))\n",
    "        print(','.join([terms[t] for t in np.argsort(r)[-n_terms:]])) # for each row of the dataframe, find the n terms that have the highest tf idf score\n",
    "            \n",
    "get_top_keywords(10)"
   ]
  },
  {
   "cell_type": "code",
   "execution_count": 105,
   "id": "f1f2aa9f",
   "metadata": {
    "ExecuteTime": {
     "end_time": "2022-11-27T12:57:29.384162Z",
     "start_time": "2022-11-27T12:57:28.919045Z"
    }
   },
   "outputs": [
    {
     "data": {
      "image/png": "[encoded data removed]",
      "text/plain": [
       "<Figure size 864x504 with 1 Axes>"
      ]
     },
     "metadata": {
      "needs_background": "light"
     },
     "output_type": "display_data"
    }
   ],
   "source": [
    "# set image size\n",
    "plt.figure(figsize=(12, 7))\n",
    "# set a title\n",
    "plt.title(\"TF-IDF + KMeans group clustering\", fontdict={\"fontsize\": 18})\n",
    "# set axes names\n",
    "plt.xlabel(\"X0\", fontdict={\"fontsize\": 16})\n",
    "plt.ylabel(\"X1\", fontdict={\"fontsize\": 16})\n",
    "# create scatter plot with seaborn, where hue is the class used to group the data\n",
    "sns.scatterplot(data=df, x='x0', y='x1', hue='Cluster', palette=\"viridis\")\n",
    "plt.show()"
   ]
  },
  {
   "cell_type": "code",
   "execution_count": 106,
   "id": "6fe3f6df",
   "metadata": {
    "ExecuteTime": {
     "end_time": "2022-11-27T12:57:29.415210Z",
     "start_time": "2022-11-27T12:57:29.387129Z"
    },
    "scrolled": true
   },
   "outputs": [
    {
     "data": {
      "text/html": [
       "<div>\n",
       "<style scoped>\n",
       "    .dataframe tbody tr th:only-of-type {\n",
       "        vertical-align: middle;\n",
       "    }\n",
       "\n",
       "    .dataframe tbody tr th {\n",
       "        vertical-align: top;\n",
       "    }\n",
       "\n",
       "    .dataframe thead th {\n",
       "        text-align: right;\n",
       "    }\n",
       "</style>\n",
       "<table border=\"1\" class=\"dataframe\">\n",
       "  <thead>\n",
       "    <tr style=\"text-align: right;\">\n",
       "      <th></th>\n",
       "      <th>Text_data</th>\n",
       "      <th>Cleaned_Data</th>\n",
       "      <th>Cluster</th>\n",
       "      <th>x0</th>\n",
       "      <th>x1</th>\n",
       "    </tr>\n",
       "  </thead>\n",
       "  <tbody>\n",
       "    <tr>\n",
       "      <th>0</th>\n",
       "      <td>Ransomware attack at Mexico's Pemex halts work...</td>\n",
       "      <td>ransomware attack mexico pemex halts work thre...</td>\n",
       "      <td>2</td>\n",
       "      <td>-0.039890</td>\n",
       "      <td>-0.187519</td>\n",
       "    </tr>\n",
       "    <tr>\n",
       "      <th>1</th>\n",
       "      <td>#city | #ransomware | Ransomware Attack At Mex...</td>\n",
       "      <td>city ransomware ransomware attack mexico pemex...</td>\n",
       "      <td>2</td>\n",
       "      <td>-0.061704</td>\n",
       "      <td>-0.213003</td>\n",
       "    </tr>\n",
       "    <tr>\n",
       "      <th>2</th>\n",
       "      <td>Mexico's Pemex Oil Suffers Ransomware Attack, ...</td>\n",
       "      <td>mexico pemex oil suffers ransomware attack mil...</td>\n",
       "      <td>2</td>\n",
       "      <td>-0.029841</td>\n",
       "      <td>-0.216264</td>\n",
       "    </tr>\n",
       "    <tr>\n",
       "      <th>3</th>\n",
       "      <td>A Mexican oil company was hit by ransomware at...</td>\n",
       "      <td>mexican oil company hit ransomware attack</td>\n",
       "      <td>2</td>\n",
       "      <td>0.031500</td>\n",
       "      <td>-0.322368</td>\n",
       "    </tr>\n",
       "    <tr>\n",
       "      <th>4</th>\n",
       "      <td>Pemex Struck by Ransomware Attack</td>\n",
       "      <td>pemex struck ransomware attack</td>\n",
       "      <td>2</td>\n",
       "      <td>0.020250</td>\n",
       "      <td>-0.356376</td>\n",
       "    </tr>\n",
       "    <tr>\n",
       "      <th>...</th>\n",
       "      <td>...</td>\n",
       "      <td>...</td>\n",
       "      <td>...</td>\n",
       "      <td>...</td>\n",
       "      <td>...</td>\n",
       "    </tr>\n",
       "    <tr>\n",
       "      <th>679</th>\n",
       "      <td>Detecting and Responding to Ransomware</td>\n",
       "      <td>detecting responding ransomware</td>\n",
       "      <td>3</td>\n",
       "      <td>-0.221532</td>\n",
       "      <td>-0.410843</td>\n",
       "    </tr>\n",
       "    <tr>\n",
       "      <th>680</th>\n",
       "      <td>Emotet malware is back, more dangerous than ever</td>\n",
       "      <td>emotet malware back dangerous ever</td>\n",
       "      <td>1</td>\n",
       "      <td>-0.112642</td>\n",
       "      <td>0.056622</td>\n",
       "    </tr>\n",
       "    <tr>\n",
       "      <th>681</th>\n",
       "      <td>Hosting provider SmarterASP.NET hit by ransomw...</td>\n",
       "      <td>hosting provider smarterasp net hit ransomware...</td>\n",
       "      <td>3</td>\n",
       "      <td>0.026993</td>\n",
       "      <td>-0.407248</td>\n",
       "    </tr>\n",
       "    <tr>\n",
       "      <th>682</th>\n",
       "      <td>Ransomware as a Service (RaaS) – A Contemporar...</td>\n",
       "      <td>ransomware service raas contemporary mal du si...</td>\n",
       "      <td>3</td>\n",
       "      <td>-0.096037</td>\n",
       "      <td>-0.057378</td>\n",
       "    </tr>\n",
       "    <tr>\n",
       "      <th>683</th>\n",
       "      <td>Ransomware as a Service (RaaS) – A Contemporar...</td>\n",
       "      <td>ransomware service raas contemporary mal du si...</td>\n",
       "      <td>3</td>\n",
       "      <td>-0.096037</td>\n",
       "      <td>-0.057378</td>\n",
       "    </tr>\n",
       "  </tbody>\n",
       "</table>\n",
       "<p>684 rows × 5 columns</p>\n",
       "</div>"
      ],
      "text/plain": [
       "                                             Text_data  \\\n",
       "0    Ransomware attack at Mexico's Pemex halts work...   \n",
       "1    #city | #ransomware | Ransomware Attack At Mex...   \n",
       "2    Mexico's Pemex Oil Suffers Ransomware Attack, ...   \n",
       "3    A Mexican oil company was hit by ransomware at...   \n",
       "4                    Pemex Struck by Ransomware Attack   \n",
       "..                                                 ...   \n",
       "679             Detecting and Responding to Ransomware   \n",
       "680   Emotet malware is back, more dangerous than ever   \n",
       "681  Hosting provider SmarterASP.NET hit by ransomw...   \n",
       "682  Ransomware as a Service (RaaS) – A Contemporar...   \n",
       "683  Ransomware as a Service (RaaS) – A Contemporar...   \n",
       "\n",
       "                                          Cleaned_Data  Cluster        x0  \\\n",
       "0    ransomware attack mexico pemex halts work thre...        2 -0.039890   \n",
       "1    city ransomware ransomware attack mexico pemex...        2 -0.061704   \n",
       "2    mexico pemex oil suffers ransomware attack mil...        2 -0.029841   \n",
       "3            mexican oil company hit ransomware attack        2  0.031500   \n",
       "4                       pemex struck ransomware attack        2  0.020250   \n",
       "..                                                 ...      ...       ...   \n",
       "679                    detecting responding ransomware        3 -0.221532   \n",
       "680                 emotet malware back dangerous ever        1 -0.112642   \n",
       "681  hosting provider smarterasp net hit ransomware...        3  0.026993   \n",
       "682  ransomware service raas contemporary mal du si...        3 -0.096037   \n",
       "683  ransomware service raas contemporary mal du si...        3 -0.096037   \n",
       "\n",
       "           x1  \n",
       "0   -0.187519  \n",
       "1   -0.213003  \n",
       "2   -0.216264  \n",
       "3   -0.322368  \n",
       "4   -0.356376  \n",
       "..        ...  \n",
       "679 -0.410843  \n",
       "680  0.056622  \n",
       "681 -0.407248  \n",
       "682 -0.057378  \n",
       "683 -0.057378  \n",
       "\n",
       "[684 rows x 5 columns]"
      ]
     },
     "execution_count": 106,
     "metadata": {},
     "output_type": "execute_result"
    }
   ],
   "source": [
    "df"
   ]
  },
  {
   "cell_type": "code",
   "execution_count": 107,
   "id": "b67b3c52",
   "metadata": {
    "ExecuteTime": {
     "end_time": "2022-11-27T13:00:39.962687Z",
     "start_time": "2022-11-27T13:00:39.921132Z"
    }
   },
   "outputs": [
    {
     "data": {
      "text/plain": [
       "0.08679593558933868"
      ]
     },
     "execution_count": 107,
     "metadata": {},
     "output_type": "execute_result"
    }
   ],
   "source": [
    "import sklearn\n",
    "sklearn.metrics.silhouette_score(X, clusters)"
   ]
  },
  {
   "cell_type": "code",
   "execution_count": null,
   "id": "278529d2",
   "metadata": {},
   "outputs": [],
   "source": []
  }
 ],
 "metadata": {
  "kernelspec": {
   "display_name": "Python 3 (ipykernel)",
   "language": "python",
   "name": "python3"
  },
  "language_info": {
   "codemirror_mode": {
    "name": "ipython",
    "version": 3
   },
   "file_extension": ".py",
   "mimetype": "text/x-python",
   "name": "python",
   "nbconvert_exporter": "python",
   "pygments_lexer": "ipython3",
   "version": "3.10.6"
  },
  "varInspector": {
   "cols": {
    "lenName": 16,
    "lenType": 16,
    "lenVar": 40
   },
   "kernels_config": {
    "python": {
     "delete_cmd_postfix": "",
     "delete_cmd_prefix": "del ",
     "library": "var_list.py",
     "varRefreshCmd": "print(var_dic_list())"
    },
    "r": {
     "delete_cmd_postfix": ") ",
     "delete_cmd_prefix": "rm(",
     "library": "var_list.r",
     "varRefreshCmd": "cat(var_dic_list()) "
    }
   },
   "types_to_exclude": [
    "module",
    "function",
    "builtin_function_or_method",
    "instance",
    "_Feature"
   ],
   "window_display": false
  }
 },
 "nbformat": 4,
 "nbformat_minor": 5
}
