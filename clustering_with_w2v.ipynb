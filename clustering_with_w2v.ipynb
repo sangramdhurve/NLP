{
 "cells": [
  {
   "cell_type": "code",
   "execution_count": 24,
   "metadata": {},
   "outputs": [],
   "source": [
    "import re\n",
    "import nltk\n",
    "import string\n",
    "import numpy as np\n",
    "import pandas as pd\n",
    "\n",
    "from typing import List, Dict\n",
    "from nltk import word_tokenize\n",
    "from nltk.corpus import stopwords\n",
    "from gensim.models import Word2Vec\n",
    "from sklearn.cluster import KMeans"
   ]
  },
  {
   "cell_type": "code",
   "execution_count": 3,
   "metadata": {},
   "outputs": [],
   "source": [
    "stop_words = set(stopwords.words(\"english\"))"
   ]
  },
  {
   "cell_type": "code",
   "execution_count": 10,
   "metadata": {},
   "outputs": [],
   "source": [
    "def preprocess_text(text: str) -> List[str]:\n",
    "    text = text.lower()\n",
    "    text = re.sub(\n",
    "        f\"[{re.escape(string.punctuation)}]\", \"\", text\n",
    "    )\n",
    "    text_tokens = word_tokenize(text)\n",
    "    text_without_stopwords = [word for word in text_tokens if word not in stop_words]\n",
    "    return text_without_stopwords"
   ]
  },
  {
   "cell_type": "code",
   "execution_count": 11,
   "metadata": {},
   "outputs": [
    {
     "data": {
      "text/plain": [
       "['hi', 'test', 'text']"
      ]
     },
     "execution_count": 11,
     "metadata": {},
     "output_type": "execute_result"
    }
   ],
   "source": [
    "preprocess_text(\"Hi there, this is a test text !!!\")"
   ]
  },
  {
   "cell_type": "code",
   "execution_count": 13,
   "metadata": {},
   "outputs": [
    {
     "data": {
      "text/html": [
       "<div>\n",
       "<style scoped>\n",
       "    .dataframe tbody tr th:only-of-type {\n",
       "        vertical-align: middle;\n",
       "    }\n",
       "\n",
       "    .dataframe tbody tr th {\n",
       "        vertical-align: top;\n",
       "    }\n",
       "\n",
       "    .dataframe thead th {\n",
       "        text-align: right;\n",
       "    }\n",
       "</style>\n",
       "<table border=\"1\" class=\"dataframe\">\n",
       "  <thead>\n",
       "    <tr style=\"text-align: right;\">\n",
       "      <th></th>\n",
       "      <th>texts</th>\n",
       "    </tr>\n",
       "  </thead>\n",
       "  <tbody>\n",
       "    <tr>\n",
       "      <th>0</th>\n",
       "      <td>Ransomware attack at Mexico's Pemex halts work...</td>\n",
       "    </tr>\n",
       "    <tr>\n",
       "      <th>1</th>\n",
       "      <td>#city | #ransomware | Ransomware Attack At Mex...</td>\n",
       "    </tr>\n",
       "    <tr>\n",
       "      <th>2</th>\n",
       "      <td>Mexico's Pemex Oil Suffers Ransomware Attack, ...</td>\n",
       "    </tr>\n",
       "    <tr>\n",
       "      <th>3</th>\n",
       "      <td>A Mexican oil company was hit by ransomware at...</td>\n",
       "    </tr>\n",
       "    <tr>\n",
       "      <th>4</th>\n",
       "      <td>Pemex Struck by Ransomware Attack\\n</td>\n",
       "    </tr>\n",
       "  </tbody>\n",
       "</table>\n",
       "</div>"
      ],
      "text/plain": [
       "                                               texts\n",
       "0  Ransomware attack at Mexico's Pemex halts work...\n",
       "1  #city | #ransomware | Ransomware Attack At Mex...\n",
       "2  Mexico's Pemex Oil Suffers Ransomware Attack, ...\n",
       "3  A Mexican oil company was hit by ransomware at...\n",
       "4                Pemex Struck by Ransomware Attack\\n"
      ]
     },
     "execution_count": 13,
     "metadata": {},
     "output_type": "execute_result"
    }
   ],
   "source": [
    "texts_filepath = \"text_to_cluster.txt\"\n",
    "\n",
    "with open(texts_filepath) as infile:\n",
    "    data = infile.readlines()\n",
    "    \n",
    "texts_df = pd.DataFrame(data={\"texts\": data}, columns=[\"texts\"])\n",
    "texts_df.head()"
   ]
  },
  {
   "cell_type": "code",
   "execution_count": 14,
   "metadata": {},
   "outputs": [
    {
     "data": {
      "text/html": [
       "<div>\n",
       "<style scoped>\n",
       "    .dataframe tbody tr th:only-of-type {\n",
       "        vertical-align: middle;\n",
       "    }\n",
       "\n",
       "    .dataframe tbody tr th {\n",
       "        vertical-align: top;\n",
       "    }\n",
       "\n",
       "    .dataframe thead th {\n",
       "        text-align: right;\n",
       "    }\n",
       "</style>\n",
       "<table border=\"1\" class=\"dataframe\">\n",
       "  <thead>\n",
       "    <tr style=\"text-align: right;\">\n",
       "      <th></th>\n",
       "      <th>texts</th>\n",
       "      <th>cleaned_text</th>\n",
       "    </tr>\n",
       "  </thead>\n",
       "  <tbody>\n",
       "    <tr>\n",
       "      <th>0</th>\n",
       "      <td>Ransomware attack at Mexico's Pemex halts work...</td>\n",
       "      <td>[ransomware, attack, mexicos, pemex, halts, wo...</td>\n",
       "    </tr>\n",
       "    <tr>\n",
       "      <th>1</th>\n",
       "      <td>#city | #ransomware | Ransomware Attack At Mex...</td>\n",
       "      <td>[city, ransomware, ransomware, attack, mexico,...</td>\n",
       "    </tr>\n",
       "    <tr>\n",
       "      <th>2</th>\n",
       "      <td>Mexico's Pemex Oil Suffers Ransomware Attack, ...</td>\n",
       "      <td>[mexicos, pemex, oil, suffers, ransomware, att...</td>\n",
       "    </tr>\n",
       "    <tr>\n",
       "      <th>3</th>\n",
       "      <td>A Mexican oil company was hit by ransomware at...</td>\n",
       "      <td>[mexican, oil, company, hit, ransomware, attack]</td>\n",
       "    </tr>\n",
       "    <tr>\n",
       "      <th>4</th>\n",
       "      <td>Pemex Struck by Ransomware Attack\\n</td>\n",
       "      <td>[pemex, struck, ransomware, attack]</td>\n",
       "    </tr>\n",
       "  </tbody>\n",
       "</table>\n",
       "</div>"
      ],
      "text/plain": [
       "                                               texts  \\\n",
       "0  Ransomware attack at Mexico's Pemex halts work...   \n",
       "1  #city | #ransomware | Ransomware Attack At Mex...   \n",
       "2  Mexico's Pemex Oil Suffers Ransomware Attack, ...   \n",
       "3  A Mexican oil company was hit by ransomware at...   \n",
       "4                Pemex Struck by Ransomware Attack\\n   \n",
       "\n",
       "                                        cleaned_text  \n",
       "0  [ransomware, attack, mexicos, pemex, halts, wo...  \n",
       "1  [city, ransomware, ransomware, attack, mexico,...  \n",
       "2  [mexicos, pemex, oil, suffers, ransomware, att...  \n",
       "3   [mexican, oil, company, hit, ransomware, attack]  \n",
       "4                [pemex, struck, ransomware, attack]  "
      ]
     },
     "execution_count": 14,
     "metadata": {},
     "output_type": "execute_result"
    }
   ],
   "source": [
    "texts_df[\"cleaned_text\"] = texts_df[\"texts\"].apply(lambda x: preprocess_text(x))\n",
    "texts_df.head()"
   ]
  },
  {
   "cell_type": "code",
   "execution_count": 15,
   "metadata": {},
   "outputs": [
    {
     "data": {
      "text/plain": [
       "['ransomware',\n",
       " 'attack',\n",
       " 'mexicos',\n",
       " 'pemex',\n",
       " 'halts',\n",
       " 'work',\n",
       " 'threatens',\n",
       " 'cripple',\n",
       " 'computers']"
      ]
     },
     "execution_count": 15,
     "metadata": {},
     "output_type": "execute_result"
    }
   ],
   "source": [
    "cleaned_text_tokens = texts_df[\"cleaned_text\"].values.tolist()\n",
    "cleaned_text_tokens[0]"
   ]
  },
  {
   "cell_type": "code",
   "execution_count": 16,
   "metadata": {},
   "outputs": [],
   "source": [
    "w2v_model = Word2Vec(sentences=cleaned_text_tokens, vector_size=100, workers=2)"
   ]
  },
  {
   "cell_type": "code",
   "execution_count": 17,
   "metadata": {},
   "outputs": [
    {
     "data": {
      "text/plain": [
       "[('ransomwareasaservice', 0.845509946346283),\n",
       " ('new', 0.8409730792045593),\n",
       " ('attack', 0.8195723295211792),\n",
       " ('malware', 0.8159984350204468),\n",
       " ('’', 0.8083234429359436),\n",
       " ('attacks', 0.7910552024841309),\n",
       " ('pemex', 0.7884857058525085),\n",
       " ('web', 0.7850452661514282),\n",
       " ('says', 0.7849128246307373),\n",
       " ('windows', 0.7797765731811523)]"
      ]
     },
     "execution_count": 17,
     "metadata": {},
     "output_type": "execute_result"
    }
   ],
   "source": [
    "w2v_model.wv.most_similar(\"ransomware\")"
   ]
  },
  {
   "cell_type": "code",
   "execution_count": 20,
   "metadata": {},
   "outputs": [],
   "source": [
    "def create_vectors(docs: List[List[str]]) -> List[List[float]]:\n",
    "    all_vectors = []\n",
    "\n",
    "    for text_tokens in docs:\n",
    "        zero_vector = np.zeros(w2v_model.vector_size)\n",
    "        vectors = []\n",
    "        for token in text_tokens:\n",
    "            if token in w2v_model.wv:\n",
    "                try:\n",
    "                    vectors.append(w2v_model.wv[token])\n",
    "                except KeyError:\n",
    "                    continue\n",
    "        if vectors:\n",
    "            vectors = np.asarray(vectors)\n",
    "            avg_vector = vectors.mean(axis=0)\n",
    "            all_vectors.append(avg_vector)\n",
    "        else:\n",
    "            all_vectors.append(zero_vector)\n",
    "    return all_vectors"
   ]
  },
  {
   "cell_type": "code",
   "execution_count": 21,
   "metadata": {},
   "outputs": [],
   "source": [
    "all_text_vectors = create_vectors(cleaned_text_tokens)"
   ]
  },
  {
   "cell_type": "code",
   "execution_count": 22,
   "metadata": {},
   "outputs": [
    {
     "data": {
      "text/plain": [
       "array([-5.5727372e-03,  8.3173057e-03, -2.0547304e-06,  5.9127840e-03,\n",
       "        2.8268525e-03, -1.4639927e-02,  5.6710178e-03,  2.2862189e-02,\n",
       "       -9.2939995e-03, -9.5118741e-03, -1.0346512e-03, -7.2166752e-03,\n",
       "       -1.9704122e-03,  3.7084701e-03,  4.5130742e-03, -7.2766491e-03,\n",
       "        1.9144794e-03, -7.2980174e-03, -4.5835874e-03, -2.0325737e-02,\n",
       "        1.7756679e-03,  8.7142759e-04,  9.0232799e-03, -8.0896141e-03,\n",
       "       -1.3344975e-03, -1.9431966e-03, -1.0051595e-02, -7.8808181e-03,\n",
       "       -5.6690080e-03,  5.0887247e-03,  2.2517827e-03, -1.2107082e-03,\n",
       "        9.9226218e-03, -6.0237329e-03, -3.0643758e-03,  1.0659773e-02,\n",
       "        5.5624386e-03, -2.6292414e-03, -2.9476839e-03, -9.4883842e-03,\n",
       "        4.2398134e-03, -9.3127470e-03, -6.3075712e-03, -5.3480186e-04,\n",
       "        8.3259689e-03,  1.8627252e-03, -1.4845835e-04, -6.8645040e-04,\n",
       "        7.3149544e-03,  5.2429810e-03,  6.3971882e-03, -8.6655710e-03,\n",
       "        2.5357906e-04, -1.9455819e-03, -3.5632057e-03,  6.6816951e-03,\n",
       "        1.7871851e-03,  1.5616789e-03, -4.4777226e-03,  8.1019737e-03,\n",
       "        5.0094671e-04,  6.1640921e-03,  2.9759030e-03, -3.5089855e-03,\n",
       "       -7.7228365e-03,  9.0981312e-03,  3.8604911e-03,  1.3130444e-02,\n",
       "       -1.2909406e-02,  1.0699328e-02, -2.9223866e-03,  8.1977211e-03,\n",
       "        1.2705469e-02, -1.7287444e-03,  1.1714889e-02, -1.9574491e-03,\n",
       "        5.7182065e-04,  5.8900681e-04, -1.0756607e-02, -1.2542194e-03,\n",
       "       -7.5430889e-03,  7.7708545e-03, -1.1132529e-02,  1.3596698e-02,\n",
       "       -8.9489399e-03, -3.7386294e-03,  6.4619426e-03,  4.4370312e-03,\n",
       "        1.1215711e-02,  4.8206147e-04,  1.5264607e-02,  6.0697831e-03,\n",
       "       -6.6653267e-04,  6.5304647e-04,  2.1236222e-02,  6.8877847e-03,\n",
       "        4.5248661e-03, -6.4165825e-03, -2.9497901e-03, -5.1137973e-03],\n",
       "      dtype=float32)"
      ]
     },
     "execution_count": 22,
     "metadata": {},
     "output_type": "execute_result"
    }
   ],
   "source": [
    "all_text_vectors[0]"
   ]
  },
  {
   "cell_type": "code",
   "execution_count": 23,
   "metadata": {},
   "outputs": [
    {
     "data": {
      "text/plain": [
       "100"
      ]
     },
     "execution_count": 23,
     "metadata": {},
     "output_type": "execute_result"
    }
   ],
   "source": [
    "len(all_text_vectors[0])"
   ]
  },
  {
   "cell_type": "code",
   "execution_count": 25,
   "metadata": {},
   "outputs": [],
   "source": [
    "kmeans_model = KMeans(n_clusters=6).fit(all_text_vectors)"
   ]
  },
  {
   "cell_type": "code",
   "execution_count": 27,
   "metadata": {},
   "outputs": [],
   "source": [
    "texts_df[\"cluster_label\"] = kmeans_model.labels_"
   ]
  },
  {
   "cell_type": "code",
   "execution_count": 28,
   "metadata": {},
   "outputs": [
    {
     "data": {
      "text/html": [
       "<div>\n",
       "<style scoped>\n",
       "    .dataframe tbody tr th:only-of-type {\n",
       "        vertical-align: middle;\n",
       "    }\n",
       "\n",
       "    .dataframe tbody tr th {\n",
       "        vertical-align: top;\n",
       "    }\n",
       "\n",
       "    .dataframe thead th {\n",
       "        text-align: right;\n",
       "    }\n",
       "</style>\n",
       "<table border=\"1\" class=\"dataframe\">\n",
       "  <thead>\n",
       "    <tr style=\"text-align: right;\">\n",
       "      <th></th>\n",
       "      <th>texts</th>\n",
       "      <th>cleaned_text</th>\n",
       "      <th>cluster_label</th>\n",
       "    </tr>\n",
       "  </thead>\n",
       "  <tbody>\n",
       "    <tr>\n",
       "      <th>0</th>\n",
       "      <td>Ransomware attack at Mexico's Pemex halts work...</td>\n",
       "      <td>[ransomware, attack, mexicos, pemex, halts, wo...</td>\n",
       "      <td>4</td>\n",
       "    </tr>\n",
       "    <tr>\n",
       "      <th>1</th>\n",
       "      <td>#city | #ransomware | Ransomware Attack At Mex...</td>\n",
       "      <td>[city, ransomware, ransomware, attack, mexico,...</td>\n",
       "      <td>4</td>\n",
       "    </tr>\n",
       "    <tr>\n",
       "      <th>2</th>\n",
       "      <td>Mexico's Pemex Oil Suffers Ransomware Attack, ...</td>\n",
       "      <td>[mexicos, pemex, oil, suffers, ransomware, att...</td>\n",
       "      <td>4</td>\n",
       "    </tr>\n",
       "    <tr>\n",
       "      <th>3</th>\n",
       "      <td>A Mexican oil company was hit by ransomware at...</td>\n",
       "      <td>[mexican, oil, company, hit, ransomware, attack]</td>\n",
       "      <td>4</td>\n",
       "    </tr>\n",
       "    <tr>\n",
       "      <th>4</th>\n",
       "      <td>Pemex Struck by Ransomware Attack\\n</td>\n",
       "      <td>[pemex, struck, ransomware, attack]</td>\n",
       "      <td>0</td>\n",
       "    </tr>\n",
       "  </tbody>\n",
       "</table>\n",
       "</div>"
      ],
      "text/plain": [
       "                                               texts  \\\n",
       "0  Ransomware attack at Mexico's Pemex halts work...   \n",
       "1  #city | #ransomware | Ransomware Attack At Mex...   \n",
       "2  Mexico's Pemex Oil Suffers Ransomware Attack, ...   \n",
       "3  A Mexican oil company was hit by ransomware at...   \n",
       "4                Pemex Struck by Ransomware Attack\\n   \n",
       "\n",
       "                                        cleaned_text  cluster_label  \n",
       "0  [ransomware, attack, mexicos, pemex, halts, wo...              4  \n",
       "1  [city, ransomware, ransomware, attack, mexico,...              4  \n",
       "2  [mexicos, pemex, oil, suffers, ransomware, att...              4  \n",
       "3   [mexican, oil, company, hit, ransomware, attack]              4  \n",
       "4                [pemex, struck, ransomware, attack]              0  "
      ]
     },
     "execution_count": 28,
     "metadata": {},
     "output_type": "execute_result"
    }
   ],
   "source": [
    "texts_df.head()"
   ]
  },
  {
   "cell_type": "code",
   "execution_count": null,
   "metadata": {},
   "outputs": [],
   "source": []
  }
 ],
 "metadata": {
  "kernelspec": {
   "display_name": "Python 3 (ipykernel)",
   "language": "python",
   "name": "python3"
  },
  "language_info": {
   "codemirror_mode": {
    "name": "ipython",
    "version": 3
   },
   "file_extension": ".py",
   "mimetype": "text/x-python",
   "name": "python",
   "nbconvert_exporter": "python",
   "pygments_lexer": "ipython3",
   "version": "3.10.6"
  }
 },
 "nbformat": 4,
 "nbformat_minor": 4
}
